{
 "cells": [
  {
   "cell_type": "markdown",
   "metadata": {
    "id": "x1547g0wfX9H"
   },
   "source": [
    "\n",
    "# <center> Preparação e Classificação não supervisionada da grade celular </center>\n",
    "\n",
    "<br/>\n",
    "\n",
    "<div style=\"text-align: center;font-size: 90%;\">\n",
    "    Bruno Dias dos Santos<sup><a href=\"https://orcid.org/0000-0001-6181-2158\"><i class=\"fab fa-lg fa-orcid\" style=\"color: #a6ce39\"></i></a></sup><sup><a href=\"https://orcid.org/0000-0002-0082-9498\"><i class=\"fab fa-lg fa-orcid\" style=\"color: #a6ce39\"></i></a></sup><i class=\"fab fa-lg fa-orcid\" style=\"color: #a6ce39\"></i></a></sup>\n",
    "    <br/><br/>\n",
    "    Programa de Pós-Graduação em Computação Aplicada, Instituto Nacional de Pesquisas Espaciais (INPE)\n",
    "    <br/>\n",
    "    Avenida dos Astronautas, 1758, Jardim da Granja, São José dos Campos, SP 12227-010, Brasil\n",
    "    <br/><br/>\n",
    "    Contato: <div><a href=\"mailto:bruno.santos@inpe.br\">bruno.santos@inpe.br</a></div>\n",
    "    <br/><br/>\n",
    "    Última atualização: 18 de Abril de 2022\n",
    "</div>\n",
    "<br/>\n",
    "\n",
    "<div style=\"text-align: justify;  margin-left: 25%; margin-right: 25%;\">\n",
    "<b>Resumo.</b>  Este Notebook apresenta uma metodologia para tratar variáveis e posterior classificação não supervisionada  algoritmos <i> K-Means, Agglomerative Clustering (AG) e Self-Organizing Maps (SOM) </i>. Dado uma tabela de arquivo shapefile (.shp) os atributos serão tratados a partir do preenchimento de valores faltantes e normalizados. Posteriormente, serão construidos modelos com os três algoritmos não supervisionados selecionados.\n",
    "</div>    \n",
    "\n",
    "<br/>"
   ]
  },
  {
   "cell_type": "markdown",
   "metadata": {},
   "source": [
    "### 1º Etapa: Tratamento e seleção de variáveis"
   ]
  },
  {
   "cell_type": "markdown",
   "metadata": {
    "id": "YJ8yYaoafX9T"
   },
   "source": [
    "Importação das bibliotecas:"
   ]
  },
  {
   "cell_type": "code",
   "execution_count": 1,
   "metadata": {
    "id": "gFJxn1XjfX9V"
   },
   "outputs": [],
   "source": [
    "import pandas as pd\n",
    "import numpy as np\n",
    "import seaborn as sns\n",
    "import matplotlib.pyplot as plt\n",
    "import geopandas as gpd\n",
    "import shapely\n",
    "import plotly.express as px\n",
    "import plotly.graph_objects as go\n",
    "from sklearn.preprocessing import StandardScaler\n",
    "from sklearn.cluster import KMeans, SpectralClustering, AgglomerativeClustering\n",
    "from scipy.cluster.hierarchy import dendrogram, linkage\n",
    "from sklearn_som.som import SOM"
   ]
  },
  {
   "cell_type": "markdown",
   "metadata": {
    "id": "Vtcvr1cbfX9Y"
   },
   "source": [
    "Leitura do shapefile e criação de um GeoDataFrame:"
   ]
  },
  {
   "cell_type": "code",
   "execution_count": 2,
   "metadata": {
    "id": "w34sr0nHfX9Z"
   },
   "outputs": [],
   "source": [
    "obj = gpd.read_file(\"E:\\\\00_INPE\\\\0_DISSERTACAO\\\\0_BASE_VETOR\\\\AMBIENTAL\\\\base_ambiental.shp\")"
   ]
  },
  {
   "cell_type": "code",
   "execution_count": 3,
   "metadata": {
    "colab": {
     "base_uri": "https://localhost:8080/",
     "height": 488
    },
    "id": "o_ieAwI5fX9k",
    "outputId": "c36abef2-603d-41dd-82cb-f7318289ebab"
   },
   "outputs": [
    {
     "data": {
      "text/html": [
       "<div>\n",
       "<style scoped>\n",
       "    .dataframe tbody tr th:only-of-type {\n",
       "        vertical-align: middle;\n",
       "    }\n",
       "\n",
       "    .dataframe tbody tr th {\n",
       "        vertical-align: top;\n",
       "    }\n",
       "\n",
       "    .dataframe thead th {\n",
       "        text-align: right;\n",
       "    }\n",
       "</style>\n",
       "<table border=\"1\" class=\"dataframe\">\n",
       "  <thead>\n",
       "    <tr style=\"text-align: right;\">\n",
       "      <th></th>\n",
       "      <th>ID</th>\n",
       "      <th>SN [MEAN]</th>\n",
       "      <th>VN [MEAN]</th>\n",
       "      <th>HND [MEAN]</th>\n",
       "      <th>CA_AG</th>\n",
       "      <th>CA_SE</th>\n",
       "      <th>CA_VA</th>\n",
       "      <th>CA_VH</th>\n",
       "      <th>PLAND_AG</th>\n",
       "      <th>PLAND_SE</th>\n",
       "      <th>...</th>\n",
       "      <th>SN [RANGE]</th>\n",
       "      <th>SN [SUM]</th>\n",
       "      <th>SN [VARIAN</th>\n",
       "      <th>VN [MIN]</th>\n",
       "      <th>VN [MAX]</th>\n",
       "      <th>VN [RANGE]</th>\n",
       "      <th>VN [SUM]</th>\n",
       "      <th>VN [VARIAN</th>\n",
       "      <th>AG_DIST</th>\n",
       "      <th>geometry</th>\n",
       "    </tr>\n",
       "  </thead>\n",
       "  <tbody>\n",
       "    <tr>\n",
       "      <th>0</th>\n",
       "      <td>0</td>\n",
       "      <td>6.754481</td>\n",
       "      <td>0.009587</td>\n",
       "      <td>18.437500</td>\n",
       "      <td>0.000000</td>\n",
       "      <td>0.000000</td>\n",
       "      <td>0.821097</td>\n",
       "      <td>0.000000</td>\n",
       "      <td>0.0</td>\n",
       "      <td>0.00000</td>\n",
       "      <td>...</td>\n",
       "      <td>4.698410</td>\n",
       "      <td>81.053769</td>\n",
       "      <td>2.108832</td>\n",
       "      <td>0.002091</td>\n",
       "      <td>0.013346</td>\n",
       "      <td>0.011254</td>\n",
       "      <td>0.115039</td>\n",
       "      <td>1.271420e-05</td>\n",
       "      <td>NaN</td>\n",
       "      <td>POLYGON ((752288.17666 9722818.28253, 752288.6...</td>\n",
       "    </tr>\n",
       "    <tr>\n",
       "      <th>1</th>\n",
       "      <td>1</td>\n",
       "      <td>9.407907</td>\n",
       "      <td>0.007406</td>\n",
       "      <td>13.333333</td>\n",
       "      <td>0.000000</td>\n",
       "      <td>0.000000</td>\n",
       "      <td>0.816747</td>\n",
       "      <td>0.000000</td>\n",
       "      <td>0.0</td>\n",
       "      <td>0.00000</td>\n",
       "      <td>...</td>\n",
       "      <td>4.876045</td>\n",
       "      <td>112.894880</td>\n",
       "      <td>1.737626</td>\n",
       "      <td>-0.004193</td>\n",
       "      <td>0.015665</td>\n",
       "      <td>0.019858</td>\n",
       "      <td>0.088869</td>\n",
       "      <td>4.834090e-05</td>\n",
       "      <td>8017.44</td>\n",
       "      <td>POLYGON ((752388.36020 9722817.84804, 752388.7...</td>\n",
       "    </tr>\n",
       "    <tr>\n",
       "      <th>2</th>\n",
       "      <td>2</td>\n",
       "      <td>11.788490</td>\n",
       "      <td>-0.005065</td>\n",
       "      <td>6.166667</td>\n",
       "      <td>0.000000</td>\n",
       "      <td>0.000000</td>\n",
       "      <td>0.812398</td>\n",
       "      <td>0.000000</td>\n",
       "      <td>0.0</td>\n",
       "      <td>0.00000</td>\n",
       "      <td>...</td>\n",
       "      <td>6.011643</td>\n",
       "      <td>141.461881</td>\n",
       "      <td>2.762448</td>\n",
       "      <td>-0.018855</td>\n",
       "      <td>0.012644</td>\n",
       "      <td>0.031499</td>\n",
       "      <td>-0.060775</td>\n",
       "      <td>8.573330e-05</td>\n",
       "      <td>7941.41</td>\n",
       "      <td>POLYGON ((752488.54379 9722817.41380, 752488.9...</td>\n",
       "    </tr>\n",
       "    <tr>\n",
       "      <th>3</th>\n",
       "      <td>3</td>\n",
       "      <td>8.085612</td>\n",
       "      <td>-0.009939</td>\n",
       "      <td>4.000000</td>\n",
       "      <td>0.000000</td>\n",
       "      <td>0.000000</td>\n",
       "      <td>0.808053</td>\n",
       "      <td>0.000000</td>\n",
       "      <td>0.0</td>\n",
       "      <td>0.00000</td>\n",
       "      <td>...</td>\n",
       "      <td>4.440647</td>\n",
       "      <td>97.027342</td>\n",
       "      <td>1.904556</td>\n",
       "      <td>-0.018599</td>\n",
       "      <td>-0.003308</td>\n",
       "      <td>0.015291</td>\n",
       "      <td>-0.119270</td>\n",
       "      <td>2.605000e-05</td>\n",
       "      <td>7865.92</td>\n",
       "      <td>POLYGON ((752588.72746 9722816.97981, 752589.1...</td>\n",
       "    </tr>\n",
       "    <tr>\n",
       "      <th>4</th>\n",
       "      <td>4</td>\n",
       "      <td>6.270410</td>\n",
       "      <td>-0.019960</td>\n",
       "      <td>3.666667</td>\n",
       "      <td>0.000000</td>\n",
       "      <td>0.074585</td>\n",
       "      <td>0.546418</td>\n",
       "      <td>0.035806</td>\n",
       "      <td>0.0</td>\n",
       "      <td>7.45264</td>\n",
       "      <td>...</td>\n",
       "      <td>2.200427</td>\n",
       "      <td>56.433689</td>\n",
       "      <td>0.514981</td>\n",
       "      <td>-0.026471</td>\n",
       "      <td>-0.008160</td>\n",
       "      <td>0.018311</td>\n",
       "      <td>-0.179638</td>\n",
       "      <td>3.504870e-05</td>\n",
       "      <td>7790.98</td>\n",
       "      <td>POLYGON ((752688.91118 9722816.54607, 752689.3...</td>\n",
       "    </tr>\n",
       "    <tr>\n",
       "      <th>...</th>\n",
       "      <td>...</td>\n",
       "      <td>...</td>\n",
       "      <td>...</td>\n",
       "      <td>...</td>\n",
       "      <td>...</td>\n",
       "      <td>...</td>\n",
       "      <td>...</td>\n",
       "      <td>...</td>\n",
       "      <td>...</td>\n",
       "      <td>...</td>\n",
       "      <td>...</td>\n",
       "      <td>...</td>\n",
       "      <td>...</td>\n",
       "      <td>...</td>\n",
       "      <td>...</td>\n",
       "      <td>...</td>\n",
       "      <td>...</td>\n",
       "      <td>...</td>\n",
       "      <td>...</td>\n",
       "      <td>...</td>\n",
       "      <td>...</td>\n",
       "    </tr>\n",
       "    <tr>\n",
       "      <th>14650</th>\n",
       "      <td>14650</td>\n",
       "      <td>2.569417</td>\n",
       "      <td>0.001021</td>\n",
       "      <td>1.750000</td>\n",
       "      <td>1.000779</td>\n",
       "      <td>0.000000</td>\n",
       "      <td>0.000000</td>\n",
       "      <td>0.000000</td>\n",
       "      <td>100.0</td>\n",
       "      <td>0.00000</td>\n",
       "      <td>...</td>\n",
       "      <td>0.884628</td>\n",
       "      <td>23.124752</td>\n",
       "      <td>0.080671</td>\n",
       "      <td>-0.003344</td>\n",
       "      <td>0.004045</td>\n",
       "      <td>0.007389</td>\n",
       "      <td>0.009189</td>\n",
       "      <td>5.189000e-06</td>\n",
       "      <td>NaN</td>\n",
       "      <td>POLYGON ((752435.78613 9733807.56075, 752436.2...</td>\n",
       "    </tr>\n",
       "    <tr>\n",
       "      <th>14651</th>\n",
       "      <td>14651</td>\n",
       "      <td>1.584903</td>\n",
       "      <td>-0.003223</td>\n",
       "      <td>NaN</td>\n",
       "      <td>1.000780</td>\n",
       "      <td>0.000000</td>\n",
       "      <td>0.000000</td>\n",
       "      <td>0.000000</td>\n",
       "      <td>100.0</td>\n",
       "      <td>0.00000</td>\n",
       "      <td>...</td>\n",
       "      <td>1.202439</td>\n",
       "      <td>14.264123</td>\n",
       "      <td>0.119417</td>\n",
       "      <td>-0.005285</td>\n",
       "      <td>-0.000597</td>\n",
       "      <td>0.004688</td>\n",
       "      <td>-0.029008</td>\n",
       "      <td>2.480400e-06</td>\n",
       "      <td>NaN</td>\n",
       "      <td>POLYGON ((752535.94173 9733807.13343, 752536.3...</td>\n",
       "    </tr>\n",
       "    <tr>\n",
       "      <th>14652</th>\n",
       "      <td>14652</td>\n",
       "      <td>0.966356</td>\n",
       "      <td>-0.002464</td>\n",
       "      <td>NaN</td>\n",
       "      <td>1.000781</td>\n",
       "      <td>0.000000</td>\n",
       "      <td>0.000000</td>\n",
       "      <td>0.000000</td>\n",
       "      <td>100.0</td>\n",
       "      <td>0.00000</td>\n",
       "      <td>...</td>\n",
       "      <td>0.874507</td>\n",
       "      <td>11.596267</td>\n",
       "      <td>0.060694</td>\n",
       "      <td>-0.004182</td>\n",
       "      <td>-0.001457</td>\n",
       "      <td>0.002725</td>\n",
       "      <td>-0.029567</td>\n",
       "      <td>6.251000e-07</td>\n",
       "      <td>NaN</td>\n",
       "      <td>POLYGON ((752636.09739 9733806.70637, 752636.5...</td>\n",
       "    </tr>\n",
       "    <tr>\n",
       "      <th>14653</th>\n",
       "      <td>14653</td>\n",
       "      <td>1.724494</td>\n",
       "      <td>-0.001503</td>\n",
       "      <td>1.125000</td>\n",
       "      <td>1.000782</td>\n",
       "      <td>0.000000</td>\n",
       "      <td>0.000000</td>\n",
       "      <td>0.000000</td>\n",
       "      <td>100.0</td>\n",
       "      <td>0.00000</td>\n",
       "      <td>...</td>\n",
       "      <td>0.929490</td>\n",
       "      <td>15.520449</td>\n",
       "      <td>0.083104</td>\n",
       "      <td>-0.001864</td>\n",
       "      <td>-0.000987</td>\n",
       "      <td>0.000877</td>\n",
       "      <td>-0.013528</td>\n",
       "      <td>6.030000e-08</td>\n",
       "      <td>NaN</td>\n",
       "      <td>POLYGON ((752736.25311 9733806.27957, 752736.6...</td>\n",
       "    </tr>\n",
       "    <tr>\n",
       "      <th>14654</th>\n",
       "      <td>14654</td>\n",
       "      <td>2.244253</td>\n",
       "      <td>-0.000103</td>\n",
       "      <td>2.333333</td>\n",
       "      <td>1.000784</td>\n",
       "      <td>0.000000</td>\n",
       "      <td>0.000000</td>\n",
       "      <td>0.000000</td>\n",
       "      <td>100.0</td>\n",
       "      <td>0.00000</td>\n",
       "      <td>...</td>\n",
       "      <td>0.464842</td>\n",
       "      <td>20.198280</td>\n",
       "      <td>0.030232</td>\n",
       "      <td>-0.000898</td>\n",
       "      <td>0.000564</td>\n",
       "      <td>0.001462</td>\n",
       "      <td>-0.000924</td>\n",
       "      <td>2.487000e-07</td>\n",
       "      <td>NaN</td>\n",
       "      <td>POLYGON ((752836.40890 9733805.85302, 752836.8...</td>\n",
       "    </tr>\n",
       "  </tbody>\n",
       "</table>\n",
       "<p>14655 rows × 102 columns</p>\n",
       "</div>"
      ],
      "text/plain": [
       "          ID  SN [MEAN]  VN [MEAN]  HND [MEAN]     CA_AG     CA_SE     CA_VA  \\\n",
       "0          0   6.754481   0.009587   18.437500  0.000000  0.000000  0.821097   \n",
       "1          1   9.407907   0.007406   13.333333  0.000000  0.000000  0.816747   \n",
       "2          2  11.788490  -0.005065    6.166667  0.000000  0.000000  0.812398   \n",
       "3          3   8.085612  -0.009939    4.000000  0.000000  0.000000  0.808053   \n",
       "4          4   6.270410  -0.019960    3.666667  0.000000  0.074585  0.546418   \n",
       "...      ...        ...        ...         ...       ...       ...       ...   \n",
       "14650  14650   2.569417   0.001021    1.750000  1.000779  0.000000  0.000000   \n",
       "14651  14651   1.584903  -0.003223         NaN  1.000780  0.000000  0.000000   \n",
       "14652  14652   0.966356  -0.002464         NaN  1.000781  0.000000  0.000000   \n",
       "14653  14653   1.724494  -0.001503    1.125000  1.000782  0.000000  0.000000   \n",
       "14654  14654   2.244253  -0.000103    2.333333  1.000784  0.000000  0.000000   \n",
       "\n",
       "          CA_VH  PLAND_AG  PLAND_SE  ...  SN [RANGE]    SN [SUM]  SN [VARIAN  \\\n",
       "0      0.000000       0.0   0.00000  ...    4.698410   81.053769    2.108832   \n",
       "1      0.000000       0.0   0.00000  ...    4.876045  112.894880    1.737626   \n",
       "2      0.000000       0.0   0.00000  ...    6.011643  141.461881    2.762448   \n",
       "3      0.000000       0.0   0.00000  ...    4.440647   97.027342    1.904556   \n",
       "4      0.035806       0.0   7.45264  ...    2.200427   56.433689    0.514981   \n",
       "...         ...       ...       ...  ...         ...         ...         ...   \n",
       "14650  0.000000     100.0   0.00000  ...    0.884628   23.124752    0.080671   \n",
       "14651  0.000000     100.0   0.00000  ...    1.202439   14.264123    0.119417   \n",
       "14652  0.000000     100.0   0.00000  ...    0.874507   11.596267    0.060694   \n",
       "14653  0.000000     100.0   0.00000  ...    0.929490   15.520449    0.083104   \n",
       "14654  0.000000     100.0   0.00000  ...    0.464842   20.198280    0.030232   \n",
       "\n",
       "       VN [MIN]  VN [MAX]  VN [RANGE]  VN [SUM]    VN [VARIAN  AG_DIST  \\\n",
       "0      0.002091  0.013346    0.011254  0.115039  1.271420e-05      NaN   \n",
       "1     -0.004193  0.015665    0.019858  0.088869  4.834090e-05  8017.44   \n",
       "2     -0.018855  0.012644    0.031499 -0.060775  8.573330e-05  7941.41   \n",
       "3     -0.018599 -0.003308    0.015291 -0.119270  2.605000e-05  7865.92   \n",
       "4     -0.026471 -0.008160    0.018311 -0.179638  3.504870e-05  7790.98   \n",
       "...         ...       ...         ...       ...           ...      ...   \n",
       "14650 -0.003344  0.004045    0.007389  0.009189  5.189000e-06      NaN   \n",
       "14651 -0.005285 -0.000597    0.004688 -0.029008  2.480400e-06      NaN   \n",
       "14652 -0.004182 -0.001457    0.002725 -0.029567  6.251000e-07      NaN   \n",
       "14653 -0.001864 -0.000987    0.000877 -0.013528  6.030000e-08      NaN   \n",
       "14654 -0.000898  0.000564    0.001462 -0.000924  2.487000e-07      NaN   \n",
       "\n",
       "                                                geometry  \n",
       "0      POLYGON ((752288.17666 9722818.28253, 752288.6...  \n",
       "1      POLYGON ((752388.36020 9722817.84804, 752388.7...  \n",
       "2      POLYGON ((752488.54379 9722817.41380, 752488.9...  \n",
       "3      POLYGON ((752588.72746 9722816.97981, 752589.1...  \n",
       "4      POLYGON ((752688.91118 9722816.54607, 752689.3...  \n",
       "...                                                  ...  \n",
       "14650  POLYGON ((752435.78613 9733807.56075, 752436.2...  \n",
       "14651  POLYGON ((752535.94173 9733807.13343, 752536.3...  \n",
       "14652  POLYGON ((752636.09739 9733806.70637, 752636.5...  \n",
       "14653  POLYGON ((752736.25311 9733806.27957, 752736.6...  \n",
       "14654  POLYGON ((752836.40890 9733805.85302, 752836.8...  \n",
       "\n",
       "[14655 rows x 102 columns]"
      ]
     },
     "execution_count": 3,
     "metadata": {},
     "output_type": "execute_result"
    }
   ],
   "source": [
    "obj"
   ]
  },
  {
   "cell_type": "markdown",
   "metadata": {
    "id": "QQq3gX-2fX9l"
   },
   "source": [
    "Definicação da variável identificadora de cada feição:"
   ]
  },
  {
   "cell_type": "code",
   "execution_count": 4,
   "metadata": {
    "id": "KhmXxHw3fX9l"
   },
   "outputs": [],
   "source": [
    "indice = 'ID'"
   ]
  },
  {
   "cell_type": "markdown",
   "metadata": {},
   "source": [
    "Criando uma base de dados que será utilizada na saída, copiando as informações do 'indice' e o 'TARGET' da base original:"
   ]
  },
  {
   "cell_type": "code",
   "execution_count": 48,
   "metadata": {},
   "outputs": [],
   "source": [
    "geom = obj[[indice,'geometry']]"
   ]
  },
  {
   "cell_type": "code",
   "execution_count": 6,
   "metadata": {},
   "outputs": [
    {
     "data": {
      "text/html": [
       "<div>\n",
       "<style scoped>\n",
       "    .dataframe tbody tr th:only-of-type {\n",
       "        vertical-align: middle;\n",
       "    }\n",
       "\n",
       "    .dataframe tbody tr th {\n",
       "        vertical-align: top;\n",
       "    }\n",
       "\n",
       "    .dataframe thead th {\n",
       "        text-align: right;\n",
       "    }\n",
       "</style>\n",
       "<table border=\"1\" class=\"dataframe\">\n",
       "  <thead>\n",
       "    <tr style=\"text-align: right;\">\n",
       "      <th></th>\n",
       "      <th>ID</th>\n",
       "      <th>geometry</th>\n",
       "    </tr>\n",
       "  </thead>\n",
       "  <tbody>\n",
       "    <tr>\n",
       "      <th>0</th>\n",
       "      <td>0</td>\n",
       "      <td>POLYGON ((752288.17666 9722818.28253, 752288.6...</td>\n",
       "    </tr>\n",
       "    <tr>\n",
       "      <th>1</th>\n",
       "      <td>1</td>\n",
       "      <td>POLYGON ((752388.36020 9722817.84804, 752388.7...</td>\n",
       "    </tr>\n",
       "    <tr>\n",
       "      <th>2</th>\n",
       "      <td>2</td>\n",
       "      <td>POLYGON ((752488.54379 9722817.41380, 752488.9...</td>\n",
       "    </tr>\n",
       "    <tr>\n",
       "      <th>3</th>\n",
       "      <td>3</td>\n",
       "      <td>POLYGON ((752588.72746 9722816.97981, 752589.1...</td>\n",
       "    </tr>\n",
       "    <tr>\n",
       "      <th>4</th>\n",
       "      <td>4</td>\n",
       "      <td>POLYGON ((752688.91118 9722816.54607, 752689.3...</td>\n",
       "    </tr>\n",
       "    <tr>\n",
       "      <th>...</th>\n",
       "      <td>...</td>\n",
       "      <td>...</td>\n",
       "    </tr>\n",
       "    <tr>\n",
       "      <th>14650</th>\n",
       "      <td>14650</td>\n",
       "      <td>POLYGON ((752435.78613 9733807.56075, 752436.2...</td>\n",
       "    </tr>\n",
       "    <tr>\n",
       "      <th>14651</th>\n",
       "      <td>14651</td>\n",
       "      <td>POLYGON ((752535.94173 9733807.13343, 752536.3...</td>\n",
       "    </tr>\n",
       "    <tr>\n",
       "      <th>14652</th>\n",
       "      <td>14652</td>\n",
       "      <td>POLYGON ((752636.09739 9733806.70637, 752636.5...</td>\n",
       "    </tr>\n",
       "    <tr>\n",
       "      <th>14653</th>\n",
       "      <td>14653</td>\n",
       "      <td>POLYGON ((752736.25311 9733806.27957, 752736.6...</td>\n",
       "    </tr>\n",
       "    <tr>\n",
       "      <th>14654</th>\n",
       "      <td>14654</td>\n",
       "      <td>POLYGON ((752836.40890 9733805.85302, 752836.8...</td>\n",
       "    </tr>\n",
       "  </tbody>\n",
       "</table>\n",
       "<p>14655 rows × 2 columns</p>\n",
       "</div>"
      ],
      "text/plain": [
       "          ID                                           geometry\n",
       "0          0  POLYGON ((752288.17666 9722818.28253, 752288.6...\n",
       "1          1  POLYGON ((752388.36020 9722817.84804, 752388.7...\n",
       "2          2  POLYGON ((752488.54379 9722817.41380, 752488.9...\n",
       "3          3  POLYGON ((752588.72746 9722816.97981, 752589.1...\n",
       "4          4  POLYGON ((752688.91118 9722816.54607, 752689.3...\n",
       "...      ...                                                ...\n",
       "14650  14650  POLYGON ((752435.78613 9733807.56075, 752436.2...\n",
       "14651  14651  POLYGON ((752535.94173 9733807.13343, 752536.3...\n",
       "14652  14652  POLYGON ((752636.09739 9733806.70637, 752636.5...\n",
       "14653  14653  POLYGON ((752736.25311 9733806.27957, 752736.6...\n",
       "14654  14654  POLYGON ((752836.40890 9733805.85302, 752836.8...\n",
       "\n",
       "[14655 rows x 2 columns]"
      ]
     },
     "execution_count": 6,
     "metadata": {},
     "output_type": "execute_result"
    }
   ],
   "source": [
    "geom"
   ]
  },
  {
   "cell_type": "markdown",
   "metadata": {
    "id": "f1I43Zs4fX9n"
   },
   "source": [
    "Extraindo as variáveis para tratamento dos dados:"
   ]
  },
  {
   "cell_type": "code",
   "execution_count": 7,
   "metadata": {
    "id": "NRywbNoifX9o"
   },
   "outputs": [],
   "source": [
    "var_num = pd.DataFrame(obj.select_dtypes(include=['float64','int64','int','float']))"
   ]
  },
  {
   "cell_type": "code",
   "execution_count": 8,
   "metadata": {},
   "outputs": [
    {
     "data": {
      "text/html": [
       "<div>\n",
       "<style scoped>\n",
       "    .dataframe tbody tr th:only-of-type {\n",
       "        vertical-align: middle;\n",
       "    }\n",
       "\n",
       "    .dataframe tbody tr th {\n",
       "        vertical-align: top;\n",
       "    }\n",
       "\n",
       "    .dataframe thead th {\n",
       "        text-align: right;\n",
       "    }\n",
       "</style>\n",
       "<table border=\"1\" class=\"dataframe\">\n",
       "  <thead>\n",
       "    <tr style=\"text-align: right;\">\n",
       "      <th></th>\n",
       "      <th>ID</th>\n",
       "      <th>SN [MEAN]</th>\n",
       "      <th>VN [MEAN]</th>\n",
       "      <th>HND [MEAN]</th>\n",
       "      <th>CA_AG</th>\n",
       "      <th>CA_SE</th>\n",
       "      <th>CA_VA</th>\n",
       "      <th>CA_VH</th>\n",
       "      <th>PLAND_AG</th>\n",
       "      <th>PLAND_SE</th>\n",
       "      <th>...</th>\n",
       "      <th>SN [MAX]</th>\n",
       "      <th>SN [RANGE]</th>\n",
       "      <th>SN [SUM]</th>\n",
       "      <th>SN [VARIAN</th>\n",
       "      <th>VN [MIN]</th>\n",
       "      <th>VN [MAX]</th>\n",
       "      <th>VN [RANGE]</th>\n",
       "      <th>VN [SUM]</th>\n",
       "      <th>VN [VARIAN</th>\n",
       "      <th>AG_DIST</th>\n",
       "    </tr>\n",
       "  </thead>\n",
       "  <tbody>\n",
       "    <tr>\n",
       "      <th>0</th>\n",
       "      <td>0</td>\n",
       "      <td>6.754481</td>\n",
       "      <td>0.009587</td>\n",
       "      <td>18.437500</td>\n",
       "      <td>0.000000</td>\n",
       "      <td>0.000000</td>\n",
       "      <td>0.821097</td>\n",
       "      <td>0.000000</td>\n",
       "      <td>0.0</td>\n",
       "      <td>0.00000</td>\n",
       "      <td>...</td>\n",
       "      <td>9.041828</td>\n",
       "      <td>4.698410</td>\n",
       "      <td>81.053769</td>\n",
       "      <td>2.108832</td>\n",
       "      <td>0.002091</td>\n",
       "      <td>0.013346</td>\n",
       "      <td>0.011254</td>\n",
       "      <td>0.115039</td>\n",
       "      <td>1.271420e-05</td>\n",
       "      <td>NaN</td>\n",
       "    </tr>\n",
       "    <tr>\n",
       "      <th>1</th>\n",
       "      <td>1</td>\n",
       "      <td>9.407907</td>\n",
       "      <td>0.007406</td>\n",
       "      <td>13.333333</td>\n",
       "      <td>0.000000</td>\n",
       "      <td>0.000000</td>\n",
       "      <td>0.816747</td>\n",
       "      <td>0.000000</td>\n",
       "      <td>0.0</td>\n",
       "      <td>0.00000</td>\n",
       "      <td>...</td>\n",
       "      <td>11.526811</td>\n",
       "      <td>4.876045</td>\n",
       "      <td>112.894880</td>\n",
       "      <td>1.737626</td>\n",
       "      <td>-0.004193</td>\n",
       "      <td>0.015665</td>\n",
       "      <td>0.019858</td>\n",
       "      <td>0.088869</td>\n",
       "      <td>4.834090e-05</td>\n",
       "      <td>8017.44</td>\n",
       "    </tr>\n",
       "    <tr>\n",
       "      <th>2</th>\n",
       "      <td>2</td>\n",
       "      <td>11.788490</td>\n",
       "      <td>-0.005065</td>\n",
       "      <td>6.166667</td>\n",
       "      <td>0.000000</td>\n",
       "      <td>0.000000</td>\n",
       "      <td>0.812398</td>\n",
       "      <td>0.000000</td>\n",
       "      <td>0.0</td>\n",
       "      <td>0.00000</td>\n",
       "      <td>...</td>\n",
       "      <td>13.678106</td>\n",
       "      <td>6.011643</td>\n",
       "      <td>141.461881</td>\n",
       "      <td>2.762448</td>\n",
       "      <td>-0.018855</td>\n",
       "      <td>0.012644</td>\n",
       "      <td>0.031499</td>\n",
       "      <td>-0.060775</td>\n",
       "      <td>8.573330e-05</td>\n",
       "      <td>7941.41</td>\n",
       "    </tr>\n",
       "    <tr>\n",
       "      <th>3</th>\n",
       "      <td>3</td>\n",
       "      <td>8.085612</td>\n",
       "      <td>-0.009939</td>\n",
       "      <td>4.000000</td>\n",
       "      <td>0.000000</td>\n",
       "      <td>0.000000</td>\n",
       "      <td>0.808053</td>\n",
       "      <td>0.000000</td>\n",
       "      <td>0.0</td>\n",
       "      <td>0.00000</td>\n",
       "      <td>...</td>\n",
       "      <td>10.997881</td>\n",
       "      <td>4.440647</td>\n",
       "      <td>97.027342</td>\n",
       "      <td>1.904556</td>\n",
       "      <td>-0.018599</td>\n",
       "      <td>-0.003308</td>\n",
       "      <td>0.015291</td>\n",
       "      <td>-0.119270</td>\n",
       "      <td>2.605000e-05</td>\n",
       "      <td>7865.92</td>\n",
       "    </tr>\n",
       "    <tr>\n",
       "      <th>4</th>\n",
       "      <td>4</td>\n",
       "      <td>6.270410</td>\n",
       "      <td>-0.019960</td>\n",
       "      <td>3.666667</td>\n",
       "      <td>0.000000</td>\n",
       "      <td>0.074585</td>\n",
       "      <td>0.546418</td>\n",
       "      <td>0.035806</td>\n",
       "      <td>0.0</td>\n",
       "      <td>7.45264</td>\n",
       "      <td>...</td>\n",
       "      <td>7.253409</td>\n",
       "      <td>2.200427</td>\n",
       "      <td>56.433689</td>\n",
       "      <td>0.514981</td>\n",
       "      <td>-0.026471</td>\n",
       "      <td>-0.008160</td>\n",
       "      <td>0.018311</td>\n",
       "      <td>-0.179638</td>\n",
       "      <td>3.504870e-05</td>\n",
       "      <td>7790.98</td>\n",
       "    </tr>\n",
       "    <tr>\n",
       "      <th>...</th>\n",
       "      <td>...</td>\n",
       "      <td>...</td>\n",
       "      <td>...</td>\n",
       "      <td>...</td>\n",
       "      <td>...</td>\n",
       "      <td>...</td>\n",
       "      <td>...</td>\n",
       "      <td>...</td>\n",
       "      <td>...</td>\n",
       "      <td>...</td>\n",
       "      <td>...</td>\n",
       "      <td>...</td>\n",
       "      <td>...</td>\n",
       "      <td>...</td>\n",
       "      <td>...</td>\n",
       "      <td>...</td>\n",
       "      <td>...</td>\n",
       "      <td>...</td>\n",
       "      <td>...</td>\n",
       "      <td>...</td>\n",
       "      <td>...</td>\n",
       "    </tr>\n",
       "    <tr>\n",
       "      <th>14650</th>\n",
       "      <td>14650</td>\n",
       "      <td>2.569417</td>\n",
       "      <td>0.001021</td>\n",
       "      <td>1.750000</td>\n",
       "      <td>1.000779</td>\n",
       "      <td>0.000000</td>\n",
       "      <td>0.000000</td>\n",
       "      <td>0.000000</td>\n",
       "      <td>100.0</td>\n",
       "      <td>0.00000</td>\n",
       "      <td>...</td>\n",
       "      <td>2.939295</td>\n",
       "      <td>0.884628</td>\n",
       "      <td>23.124752</td>\n",
       "      <td>0.080671</td>\n",
       "      <td>-0.003344</td>\n",
       "      <td>0.004045</td>\n",
       "      <td>0.007389</td>\n",
       "      <td>0.009189</td>\n",
       "      <td>5.189000e-06</td>\n",
       "      <td>NaN</td>\n",
       "    </tr>\n",
       "    <tr>\n",
       "      <th>14651</th>\n",
       "      <td>14651</td>\n",
       "      <td>1.584903</td>\n",
       "      <td>-0.003223</td>\n",
       "      <td>NaN</td>\n",
       "      <td>1.000780</td>\n",
       "      <td>0.000000</td>\n",
       "      <td>0.000000</td>\n",
       "      <td>0.000000</td>\n",
       "      <td>100.0</td>\n",
       "      <td>0.00000</td>\n",
       "      <td>...</td>\n",
       "      <td>2.112215</td>\n",
       "      <td>1.202439</td>\n",
       "      <td>14.264123</td>\n",
       "      <td>0.119417</td>\n",
       "      <td>-0.005285</td>\n",
       "      <td>-0.000597</td>\n",
       "      <td>0.004688</td>\n",
       "      <td>-0.029008</td>\n",
       "      <td>2.480400e-06</td>\n",
       "      <td>NaN</td>\n",
       "    </tr>\n",
       "    <tr>\n",
       "      <th>14652</th>\n",
       "      <td>14652</td>\n",
       "      <td>0.966356</td>\n",
       "      <td>-0.002464</td>\n",
       "      <td>NaN</td>\n",
       "      <td>1.000781</td>\n",
       "      <td>0.000000</td>\n",
       "      <td>0.000000</td>\n",
       "      <td>0.000000</td>\n",
       "      <td>100.0</td>\n",
       "      <td>0.00000</td>\n",
       "      <td>...</td>\n",
       "      <td>1.486574</td>\n",
       "      <td>0.874507</td>\n",
       "      <td>11.596267</td>\n",
       "      <td>0.060694</td>\n",
       "      <td>-0.004182</td>\n",
       "      <td>-0.001457</td>\n",
       "      <td>0.002725</td>\n",
       "      <td>-0.029567</td>\n",
       "      <td>6.251000e-07</td>\n",
       "      <td>NaN</td>\n",
       "    </tr>\n",
       "    <tr>\n",
       "      <th>14653</th>\n",
       "      <td>14653</td>\n",
       "      <td>1.724494</td>\n",
       "      <td>-0.001503</td>\n",
       "      <td>1.125000</td>\n",
       "      <td>1.000782</td>\n",
       "      <td>0.000000</td>\n",
       "      <td>0.000000</td>\n",
       "      <td>0.000000</td>\n",
       "      <td>100.0</td>\n",
       "      <td>0.00000</td>\n",
       "      <td>...</td>\n",
       "      <td>2.154931</td>\n",
       "      <td>0.929490</td>\n",
       "      <td>15.520449</td>\n",
       "      <td>0.083104</td>\n",
       "      <td>-0.001864</td>\n",
       "      <td>-0.000987</td>\n",
       "      <td>0.000877</td>\n",
       "      <td>-0.013528</td>\n",
       "      <td>6.030000e-08</td>\n",
       "      <td>NaN</td>\n",
       "    </tr>\n",
       "    <tr>\n",
       "      <th>14654</th>\n",
       "      <td>14654</td>\n",
       "      <td>2.244253</td>\n",
       "      <td>-0.000103</td>\n",
       "      <td>2.333333</td>\n",
       "      <td>1.000784</td>\n",
       "      <td>0.000000</td>\n",
       "      <td>0.000000</td>\n",
       "      <td>0.000000</td>\n",
       "      <td>100.0</td>\n",
       "      <td>0.00000</td>\n",
       "      <td>...</td>\n",
       "      <td>2.499331</td>\n",
       "      <td>0.464842</td>\n",
       "      <td>20.198280</td>\n",
       "      <td>0.030232</td>\n",
       "      <td>-0.000898</td>\n",
       "      <td>0.000564</td>\n",
       "      <td>0.001462</td>\n",
       "      <td>-0.000924</td>\n",
       "      <td>2.487000e-07</td>\n",
       "      <td>NaN</td>\n",
       "    </tr>\n",
       "  </tbody>\n",
       "</table>\n",
       "<p>14655 rows × 101 columns</p>\n",
       "</div>"
      ],
      "text/plain": [
       "          ID  SN [MEAN]  VN [MEAN]  HND [MEAN]     CA_AG     CA_SE     CA_VA  \\\n",
       "0          0   6.754481   0.009587   18.437500  0.000000  0.000000  0.821097   \n",
       "1          1   9.407907   0.007406   13.333333  0.000000  0.000000  0.816747   \n",
       "2          2  11.788490  -0.005065    6.166667  0.000000  0.000000  0.812398   \n",
       "3          3   8.085612  -0.009939    4.000000  0.000000  0.000000  0.808053   \n",
       "4          4   6.270410  -0.019960    3.666667  0.000000  0.074585  0.546418   \n",
       "...      ...        ...        ...         ...       ...       ...       ...   \n",
       "14650  14650   2.569417   0.001021    1.750000  1.000779  0.000000  0.000000   \n",
       "14651  14651   1.584903  -0.003223         NaN  1.000780  0.000000  0.000000   \n",
       "14652  14652   0.966356  -0.002464         NaN  1.000781  0.000000  0.000000   \n",
       "14653  14653   1.724494  -0.001503    1.125000  1.000782  0.000000  0.000000   \n",
       "14654  14654   2.244253  -0.000103    2.333333  1.000784  0.000000  0.000000   \n",
       "\n",
       "          CA_VH  PLAND_AG  PLAND_SE  ...   SN [MAX]  SN [RANGE]    SN [SUM]  \\\n",
       "0      0.000000       0.0   0.00000  ...   9.041828    4.698410   81.053769   \n",
       "1      0.000000       0.0   0.00000  ...  11.526811    4.876045  112.894880   \n",
       "2      0.000000       0.0   0.00000  ...  13.678106    6.011643  141.461881   \n",
       "3      0.000000       0.0   0.00000  ...  10.997881    4.440647   97.027342   \n",
       "4      0.035806       0.0   7.45264  ...   7.253409    2.200427   56.433689   \n",
       "...         ...       ...       ...  ...        ...         ...         ...   \n",
       "14650  0.000000     100.0   0.00000  ...   2.939295    0.884628   23.124752   \n",
       "14651  0.000000     100.0   0.00000  ...   2.112215    1.202439   14.264123   \n",
       "14652  0.000000     100.0   0.00000  ...   1.486574    0.874507   11.596267   \n",
       "14653  0.000000     100.0   0.00000  ...   2.154931    0.929490   15.520449   \n",
       "14654  0.000000     100.0   0.00000  ...   2.499331    0.464842   20.198280   \n",
       "\n",
       "       SN [VARIAN  VN [MIN]  VN [MAX]  VN [RANGE]  VN [SUM]    VN [VARIAN  \\\n",
       "0        2.108832  0.002091  0.013346    0.011254  0.115039  1.271420e-05   \n",
       "1        1.737626 -0.004193  0.015665    0.019858  0.088869  4.834090e-05   \n",
       "2        2.762448 -0.018855  0.012644    0.031499 -0.060775  8.573330e-05   \n",
       "3        1.904556 -0.018599 -0.003308    0.015291 -0.119270  2.605000e-05   \n",
       "4        0.514981 -0.026471 -0.008160    0.018311 -0.179638  3.504870e-05   \n",
       "...           ...       ...       ...         ...       ...           ...   \n",
       "14650    0.080671 -0.003344  0.004045    0.007389  0.009189  5.189000e-06   \n",
       "14651    0.119417 -0.005285 -0.000597    0.004688 -0.029008  2.480400e-06   \n",
       "14652    0.060694 -0.004182 -0.001457    0.002725 -0.029567  6.251000e-07   \n",
       "14653    0.083104 -0.001864 -0.000987    0.000877 -0.013528  6.030000e-08   \n",
       "14654    0.030232 -0.000898  0.000564    0.001462 -0.000924  2.487000e-07   \n",
       "\n",
       "       AG_DIST  \n",
       "0          NaN  \n",
       "1      8017.44  \n",
       "2      7941.41  \n",
       "3      7865.92  \n",
       "4      7790.98  \n",
       "...        ...  \n",
       "14650      NaN  \n",
       "14651      NaN  \n",
       "14652      NaN  \n",
       "14653      NaN  \n",
       "14654      NaN  \n",
       "\n",
       "[14655 rows x 101 columns]"
      ]
     },
     "execution_count": 8,
     "metadata": {},
     "output_type": "execute_result"
    }
   ],
   "source": [
    "var_num"
   ]
  },
  {
   "cell_type": "code",
   "execution_count": 9,
   "metadata": {},
   "outputs": [
    {
     "name": "stdout",
     "output_type": "stream",
     "text": [
      "<class 'pandas.core.frame.DataFrame'>\n",
      "RangeIndex: 14655 entries, 0 to 14654\n",
      "Columns: 101 entries, ID to AG_DIST\n",
      "dtypes: float64(96), int64(5)\n",
      "memory usage: 11.3 MB\n"
     ]
    }
   ],
   "source": [
    "var_num.info()"
   ]
  },
  {
   "cell_type": "markdown",
   "metadata": {
    "id": "UhZluQAgfX9q"
   },
   "source": [
    "Normalizando e preenchendo possíveis valores vazios a partir de um valor dummy:"
   ]
  },
  {
   "cell_type": "code",
   "execution_count": 10,
   "metadata": {
    "colab": {
     "base_uri": "https://localhost:8080/",
     "height": 488
    },
    "id": "98bk0CEofX9q",
    "outputId": "a83e184d-9cae-44ed-c809-1cd349acfeee"
   },
   "outputs": [
    {
     "data": {
      "text/html": [
       "<div>\n",
       "<style scoped>\n",
       "    .dataframe tbody tr th:only-of-type {\n",
       "        vertical-align: middle;\n",
       "    }\n",
       "\n",
       "    .dataframe tbody tr th {\n",
       "        vertical-align: top;\n",
       "    }\n",
       "\n",
       "    .dataframe thead th {\n",
       "        text-align: right;\n",
       "    }\n",
       "</style>\n",
       "<table border=\"1\" class=\"dataframe\">\n",
       "  <thead>\n",
       "    <tr style=\"text-align: right;\">\n",
       "      <th></th>\n",
       "      <th>ID</th>\n",
       "      <th>SN [MEAN]</th>\n",
       "      <th>VN [MEAN]</th>\n",
       "      <th>HND [MEAN]</th>\n",
       "      <th>CA_AG</th>\n",
       "      <th>CA_SE</th>\n",
       "      <th>CA_VA</th>\n",
       "      <th>CA_VH</th>\n",
       "      <th>PLAND_AG</th>\n",
       "      <th>PLAND_SE</th>\n",
       "      <th>...</th>\n",
       "      <th>SN [MAX]</th>\n",
       "      <th>SN [RANGE]</th>\n",
       "      <th>SN [SUM]</th>\n",
       "      <th>SN [VARIAN</th>\n",
       "      <th>VN [MIN]</th>\n",
       "      <th>VN [MAX]</th>\n",
       "      <th>VN [RANGE]</th>\n",
       "      <th>VN [SUM]</th>\n",
       "      <th>VN [VARIAN</th>\n",
       "      <th>AG_DIST</th>\n",
       "    </tr>\n",
       "  </thead>\n",
       "  <tbody>\n",
       "    <tr>\n",
       "      <th>0</th>\n",
       "      <td>0</td>\n",
       "      <td>-0.073030</td>\n",
       "      <td>0.787566</td>\n",
       "      <td>0.205118</td>\n",
       "      <td>-0.403693</td>\n",
       "      <td>-0.309557</td>\n",
       "      <td>0.928459</td>\n",
       "      <td>-0.682653</td>\n",
       "      <td>-0.403692</td>\n",
       "      <td>-0.309555</td>\n",
       "      <td>...</td>\n",
       "      <td>-0.034024</td>\n",
       "      <td>0.146106</td>\n",
       "      <td>0.071024</td>\n",
       "      <td>-0.131205</td>\n",
       "      <td>0.759447</td>\n",
       "      <td>0.447215</td>\n",
       "      <td>-0.288115</td>\n",
       "      <td>0.876944</td>\n",
       "      <td>-0.266540</td>\n",
       "      <td>-1.175413</td>\n",
       "    </tr>\n",
       "    <tr>\n",
       "      <th>1</th>\n",
       "      <td>1</td>\n",
       "      <td>0.339348</td>\n",
       "      <td>0.632469</td>\n",
       "      <td>-0.077947</td>\n",
       "      <td>-0.403693</td>\n",
       "      <td>-0.309557</td>\n",
       "      <td>0.918417</td>\n",
       "      <td>-0.682653</td>\n",
       "      <td>-0.403692</td>\n",
       "      <td>-0.309555</td>\n",
       "      <td>...</td>\n",
       "      <td>0.280041</td>\n",
       "      <td>0.191154</td>\n",
       "      <td>0.524258</td>\n",
       "      <td>-0.173434</td>\n",
       "      <td>0.333727</td>\n",
       "      <td>0.595473</td>\n",
       "      <td>0.299952</td>\n",
       "      <td>0.701905</td>\n",
       "      <td>0.024313</td>\n",
       "      <td>2.437062</td>\n",
       "    </tr>\n",
       "    <tr>\n",
       "      <th>2</th>\n",
       "      <td>2</td>\n",
       "      <td>0.709323</td>\n",
       "      <td>-0.254420</td>\n",
       "      <td>-0.475393</td>\n",
       "      <td>-0.403693</td>\n",
       "      <td>-0.309557</td>\n",
       "      <td>0.908381</td>\n",
       "      <td>-0.682653</td>\n",
       "      <td>-0.403692</td>\n",
       "      <td>-0.309555</td>\n",
       "      <td>...</td>\n",
       "      <td>0.551933</td>\n",
       "      <td>0.479145</td>\n",
       "      <td>0.930887</td>\n",
       "      <td>-0.056848</td>\n",
       "      <td>-0.659534</td>\n",
       "      <td>0.402368</td>\n",
       "      <td>1.095681</td>\n",
       "      <td>-0.299014</td>\n",
       "      <td>0.329582</td>\n",
       "      <td>2.402804</td>\n",
       "    </tr>\n",
       "    <tr>\n",
       "      <th>3</th>\n",
       "      <td>3</td>\n",
       "      <td>0.133846</td>\n",
       "      <td>-0.601097</td>\n",
       "      <td>-0.595551</td>\n",
       "      <td>-0.403693</td>\n",
       "      <td>-0.309557</td>\n",
       "      <td>0.898350</td>\n",
       "      <td>-0.682653</td>\n",
       "      <td>-0.403692</td>\n",
       "      <td>-0.309555</td>\n",
       "      <td>...</td>\n",
       "      <td>0.213192</td>\n",
       "      <td>0.080736</td>\n",
       "      <td>0.298396</td>\n",
       "      <td>-0.154444</td>\n",
       "      <td>-0.642237</td>\n",
       "      <td>-0.617487</td>\n",
       "      <td>-0.012205</td>\n",
       "      <td>-0.690264</td>\n",
       "      <td>-0.157668</td>\n",
       "      <td>2.368790</td>\n",
       "    </tr>\n",
       "    <tr>\n",
       "      <th>4</th>\n",
       "      <td>4</td>\n",
       "      <td>-0.148261</td>\n",
       "      <td>-1.313754</td>\n",
       "      <td>-0.614037</td>\n",
       "      <td>-0.403693</td>\n",
       "      <td>0.368860</td>\n",
       "      <td>0.294439</td>\n",
       "      <td>-0.520657</td>\n",
       "      <td>-0.403692</td>\n",
       "      <td>0.368849</td>\n",
       "      <td>...</td>\n",
       "      <td>-0.260053</td>\n",
       "      <td>-0.487389</td>\n",
       "      <td>-0.279424</td>\n",
       "      <td>-0.312525</td>\n",
       "      <td>-1.175478</td>\n",
       "      <td>-0.927626</td>\n",
       "      <td>0.194231</td>\n",
       "      <td>-1.094039</td>\n",
       "      <td>-0.084203</td>\n",
       "      <td>2.335024</td>\n",
       "    </tr>\n",
       "    <tr>\n",
       "      <th>...</th>\n",
       "      <td>...</td>\n",
       "      <td>...</td>\n",
       "      <td>...</td>\n",
       "      <td>...</td>\n",
       "      <td>...</td>\n",
       "      <td>...</td>\n",
       "      <td>...</td>\n",
       "      <td>...</td>\n",
       "      <td>...</td>\n",
       "      <td>...</td>\n",
       "      <td>...</td>\n",
       "      <td>...</td>\n",
       "      <td>...</td>\n",
       "      <td>...</td>\n",
       "      <td>...</td>\n",
       "      <td>...</td>\n",
       "      <td>...</td>\n",
       "      <td>...</td>\n",
       "      <td>...</td>\n",
       "      <td>...</td>\n",
       "      <td>...</td>\n",
       "    </tr>\n",
       "    <tr>\n",
       "      <th>14650</th>\n",
       "      <td>14650</td>\n",
       "      <td>-0.723446</td>\n",
       "      <td>0.178388</td>\n",
       "      <td>-0.720330</td>\n",
       "      <td>2.703014</td>\n",
       "      <td>-0.309557</td>\n",
       "      <td>-0.966817</td>\n",
       "      <td>-0.682653</td>\n",
       "      <td>2.703107</td>\n",
       "      <td>-0.309555</td>\n",
       "      <td>...</td>\n",
       "      <td>-0.805293</td>\n",
       "      <td>-0.821079</td>\n",
       "      <td>-0.753551</td>\n",
       "      <td>-0.361933</td>\n",
       "      <td>0.391207</td>\n",
       "      <td>-0.147408</td>\n",
       "      <td>-0.552335</td>\n",
       "      <td>0.168954</td>\n",
       "      <td>-0.327975</td>\n",
       "      <td>-1.175413</td>\n",
       "    </tr>\n",
       "    <tr>\n",
       "      <th>14651</th>\n",
       "      <td>14651</td>\n",
       "      <td>-0.876452</td>\n",
       "      <td>-0.123452</td>\n",
       "      <td>-0.817381</td>\n",
       "      <td>2.703018</td>\n",
       "      <td>-0.309557</td>\n",
       "      <td>-0.966817</td>\n",
       "      <td>-0.682653</td>\n",
       "      <td>2.703107</td>\n",
       "      <td>-0.309555</td>\n",
       "      <td>...</td>\n",
       "      <td>-0.909824</td>\n",
       "      <td>-0.740481</td>\n",
       "      <td>-0.879675</td>\n",
       "      <td>-0.357525</td>\n",
       "      <td>0.259745</td>\n",
       "      <td>-0.444168</td>\n",
       "      <td>-0.736988</td>\n",
       "      <td>-0.086532</td>\n",
       "      <td>-0.350088</td>\n",
       "      <td>-1.175413</td>\n",
       "    </tr>\n",
       "    <tr>\n",
       "      <th>14652</th>\n",
       "      <td>14652</td>\n",
       "      <td>-0.972583</td>\n",
       "      <td>-0.069461</td>\n",
       "      <td>-0.817381</td>\n",
       "      <td>2.703022</td>\n",
       "      <td>-0.309557</td>\n",
       "      <td>-0.966817</td>\n",
       "      <td>-0.682653</td>\n",
       "      <td>2.703107</td>\n",
       "      <td>-0.309555</td>\n",
       "      <td>...</td>\n",
       "      <td>-0.988895</td>\n",
       "      <td>-0.823645</td>\n",
       "      <td>-0.917650</td>\n",
       "      <td>-0.364206</td>\n",
       "      <td>0.334462</td>\n",
       "      <td>-0.499142</td>\n",
       "      <td>-0.871155</td>\n",
       "      <td>-0.090274</td>\n",
       "      <td>-0.365234</td>\n",
       "      <td>-1.175413</td>\n",
       "    </tr>\n",
       "    <tr>\n",
       "      <th>14653</th>\n",
       "      <td>14653</td>\n",
       "      <td>-0.854758</td>\n",
       "      <td>-0.001129</td>\n",
       "      <td>-0.754991</td>\n",
       "      <td>2.703025</td>\n",
       "      <td>-0.309557</td>\n",
       "      <td>-0.966817</td>\n",
       "      <td>-0.682653</td>\n",
       "      <td>2.703107</td>\n",
       "      <td>-0.309555</td>\n",
       "      <td>...</td>\n",
       "      <td>-0.904425</td>\n",
       "      <td>-0.809702</td>\n",
       "      <td>-0.861792</td>\n",
       "      <td>-0.361656</td>\n",
       "      <td>0.491512</td>\n",
       "      <td>-0.469081</td>\n",
       "      <td>-0.997476</td>\n",
       "      <td>0.017005</td>\n",
       "      <td>-0.369845</td>\n",
       "      <td>-1.175413</td>\n",
       "    </tr>\n",
       "    <tr>\n",
       "      <th>14654</th>\n",
       "      <td>14654</td>\n",
       "      <td>-0.773980</td>\n",
       "      <td>0.098468</td>\n",
       "      <td>-0.687980</td>\n",
       "      <td>2.703029</td>\n",
       "      <td>-0.309557</td>\n",
       "      <td>-0.966817</td>\n",
       "      <td>-0.682653</td>\n",
       "      <td>2.703107</td>\n",
       "      <td>-0.309555</td>\n",
       "      <td>...</td>\n",
       "      <td>-0.860898</td>\n",
       "      <td>-0.927537</td>\n",
       "      <td>-0.795207</td>\n",
       "      <td>-0.367671</td>\n",
       "      <td>0.556950</td>\n",
       "      <td>-0.369904</td>\n",
       "      <td>-0.957462</td>\n",
       "      <td>0.101307</td>\n",
       "      <td>-0.368307</td>\n",
       "      <td>-1.175413</td>\n",
       "    </tr>\n",
       "  </tbody>\n",
       "</table>\n",
       "<p>14655 rows × 101 columns</p>\n",
       "</div>"
      ],
      "text/plain": [
       "          ID  SN [MEAN]  VN [MEAN]  HND [MEAN]     CA_AG     CA_SE     CA_VA  \\\n",
       "0          0  -0.073030   0.787566    0.205118 -0.403693 -0.309557  0.928459   \n",
       "1          1   0.339348   0.632469   -0.077947 -0.403693 -0.309557  0.918417   \n",
       "2          2   0.709323  -0.254420   -0.475393 -0.403693 -0.309557  0.908381   \n",
       "3          3   0.133846  -0.601097   -0.595551 -0.403693 -0.309557  0.898350   \n",
       "4          4  -0.148261  -1.313754   -0.614037 -0.403693  0.368860  0.294439   \n",
       "...      ...        ...        ...         ...       ...       ...       ...   \n",
       "14650  14650  -0.723446   0.178388   -0.720330  2.703014 -0.309557 -0.966817   \n",
       "14651  14651  -0.876452  -0.123452   -0.817381  2.703018 -0.309557 -0.966817   \n",
       "14652  14652  -0.972583  -0.069461   -0.817381  2.703022 -0.309557 -0.966817   \n",
       "14653  14653  -0.854758  -0.001129   -0.754991  2.703025 -0.309557 -0.966817   \n",
       "14654  14654  -0.773980   0.098468   -0.687980  2.703029 -0.309557 -0.966817   \n",
       "\n",
       "          CA_VH  PLAND_AG  PLAND_SE  ...  SN [MAX]  SN [RANGE]  SN [SUM]  \\\n",
       "0     -0.682653 -0.403692 -0.309555  ... -0.034024    0.146106  0.071024   \n",
       "1     -0.682653 -0.403692 -0.309555  ...  0.280041    0.191154  0.524258   \n",
       "2     -0.682653 -0.403692 -0.309555  ...  0.551933    0.479145  0.930887   \n",
       "3     -0.682653 -0.403692 -0.309555  ...  0.213192    0.080736  0.298396   \n",
       "4     -0.520657 -0.403692  0.368849  ... -0.260053   -0.487389 -0.279424   \n",
       "...         ...       ...       ...  ...       ...         ...       ...   \n",
       "14650 -0.682653  2.703107 -0.309555  ... -0.805293   -0.821079 -0.753551   \n",
       "14651 -0.682653  2.703107 -0.309555  ... -0.909824   -0.740481 -0.879675   \n",
       "14652 -0.682653  2.703107 -0.309555  ... -0.988895   -0.823645 -0.917650   \n",
       "14653 -0.682653  2.703107 -0.309555  ... -0.904425   -0.809702 -0.861792   \n",
       "14654 -0.682653  2.703107 -0.309555  ... -0.860898   -0.927537 -0.795207   \n",
       "\n",
       "       SN [VARIAN  VN [MIN]  VN [MAX]  VN [RANGE]  VN [SUM]  VN [VARIAN  \\\n",
       "0       -0.131205  0.759447  0.447215   -0.288115  0.876944   -0.266540   \n",
       "1       -0.173434  0.333727  0.595473    0.299952  0.701905    0.024313   \n",
       "2       -0.056848 -0.659534  0.402368    1.095681 -0.299014    0.329582   \n",
       "3       -0.154444 -0.642237 -0.617487   -0.012205 -0.690264   -0.157668   \n",
       "4       -0.312525 -1.175478 -0.927626    0.194231 -1.094039   -0.084203   \n",
       "...           ...       ...       ...         ...       ...         ...   \n",
       "14650   -0.361933  0.391207 -0.147408   -0.552335  0.168954   -0.327975   \n",
       "14651   -0.357525  0.259745 -0.444168   -0.736988 -0.086532   -0.350088   \n",
       "14652   -0.364206  0.334462 -0.499142   -0.871155 -0.090274   -0.365234   \n",
       "14653   -0.361656  0.491512 -0.469081   -0.997476  0.017005   -0.369845   \n",
       "14654   -0.367671  0.556950 -0.369904   -0.957462  0.101307   -0.368307   \n",
       "\n",
       "        AG_DIST  \n",
       "0     -1.175413  \n",
       "1      2.437062  \n",
       "2      2.402804  \n",
       "3      2.368790  \n",
       "4      2.335024  \n",
       "...         ...  \n",
       "14650 -1.175413  \n",
       "14651 -1.175413  \n",
       "14652 -1.175413  \n",
       "14653 -1.175413  \n",
       "14654 -1.175413  \n",
       "\n",
       "[14655 rows x 101 columns]"
      ]
     },
     "execution_count": 10,
     "metadata": {},
     "output_type": "execute_result"
    }
   ],
   "source": [
    "dummy = 0 \n",
    "\n",
    "var_num.iloc[:,1:] = var_num.iloc[:,1:].fillna(dummy)\n",
    "\n",
    "scaler = StandardScaler()\n",
    "var_num.iloc[:,1:] = scaler.fit_transform(var_num.iloc[:,1:])\n",
    "var_num"
   ]
  },
  {
   "cell_type": "markdown",
   "metadata": {
    "id": "9tE72sv5fX9s"
   },
   "source": [
    "Visualizando estatísticas descritivas da base de dados já tratada:"
   ]
  },
  {
   "cell_type": "code",
   "execution_count": 11,
   "metadata": {
    "colab": {
     "base_uri": "https://localhost:8080/",
     "height": 394
    },
    "id": "zqIZXFBNfX9t",
    "outputId": "c205a340-2874-456d-853e-7759397bf119"
   },
   "outputs": [
    {
     "data": {
      "text/html": [
       "<div>\n",
       "<style scoped>\n",
       "    .dataframe tbody tr th:only-of-type {\n",
       "        vertical-align: middle;\n",
       "    }\n",
       "\n",
       "    .dataframe tbody tr th {\n",
       "        vertical-align: top;\n",
       "    }\n",
       "\n",
       "    .dataframe thead th {\n",
       "        text-align: right;\n",
       "    }\n",
       "</style>\n",
       "<table border=\"1\" class=\"dataframe\">\n",
       "  <thead>\n",
       "    <tr style=\"text-align: right;\">\n",
       "      <th></th>\n",
       "      <th>ID</th>\n",
       "      <th>SN [MEAN]</th>\n",
       "      <th>VN [MEAN]</th>\n",
       "      <th>HND [MEAN]</th>\n",
       "      <th>CA_AG</th>\n",
       "      <th>CA_SE</th>\n",
       "      <th>CA_VA</th>\n",
       "      <th>CA_VH</th>\n",
       "      <th>PLAND_AG</th>\n",
       "      <th>PLAND_SE</th>\n",
       "      <th>...</th>\n",
       "      <th>SN [MAX]</th>\n",
       "      <th>SN [RANGE]</th>\n",
       "      <th>SN [SUM]</th>\n",
       "      <th>SN [VARIAN</th>\n",
       "      <th>VN [MIN]</th>\n",
       "      <th>VN [MAX]</th>\n",
       "      <th>VN [RANGE]</th>\n",
       "      <th>VN [SUM]</th>\n",
       "      <th>VN [VARIAN</th>\n",
       "      <th>AG_DIST</th>\n",
       "    </tr>\n",
       "  </thead>\n",
       "  <tbody>\n",
       "    <tr>\n",
       "      <th>count</th>\n",
       "      <td>14655.000000</td>\n",
       "      <td>1.465500e+04</td>\n",
       "      <td>1.465500e+04</td>\n",
       "      <td>1.465500e+04</td>\n",
       "      <td>1.465500e+04</td>\n",
       "      <td>1.465500e+04</td>\n",
       "      <td>1.465500e+04</td>\n",
       "      <td>1.465500e+04</td>\n",
       "      <td>1.465500e+04</td>\n",
       "      <td>1.465500e+04</td>\n",
       "      <td>...</td>\n",
       "      <td>1.465500e+04</td>\n",
       "      <td>1.465500e+04</td>\n",
       "      <td>1.465500e+04</td>\n",
       "      <td>1.465500e+04</td>\n",
       "      <td>1.465500e+04</td>\n",
       "      <td>1.465500e+04</td>\n",
       "      <td>1.465500e+04</td>\n",
       "      <td>1.465500e+04</td>\n",
       "      <td>1.465500e+04</td>\n",
       "      <td>1.465500e+04</td>\n",
       "    </tr>\n",
       "    <tr>\n",
       "      <th>mean</th>\n",
       "      <td>7327.000000</td>\n",
       "      <td>7.983227e-16</td>\n",
       "      <td>-4.920152e-17</td>\n",
       "      <td>-1.670297e-16</td>\n",
       "      <td>7.731183e-16</td>\n",
       "      <td>3.470752e-15</td>\n",
       "      <td>3.064770e-14</td>\n",
       "      <td>-4.143014e-16</td>\n",
       "      <td>-6.546490e-14</td>\n",
       "      <td>-2.350779e-15</td>\n",
       "      <td>...</td>\n",
       "      <td>-2.736429e-16</td>\n",
       "      <td>-1.142230e-15</td>\n",
       "      <td>-3.487714e-16</td>\n",
       "      <td>-3.340480e-16</td>\n",
       "      <td>6.122098e-16</td>\n",
       "      <td>-6.247703e-17</td>\n",
       "      <td>-4.348544e-16</td>\n",
       "      <td>-2.616657e-17</td>\n",
       "      <td>-1.465941e-16</td>\n",
       "      <td>-6.896368e-15</td>\n",
       "    </tr>\n",
       "    <tr>\n",
       "      <th>std</th>\n",
       "      <td>4230.678433</td>\n",
       "      <td>1.000034e+00</td>\n",
       "      <td>1.000034e+00</td>\n",
       "      <td>1.000034e+00</td>\n",
       "      <td>1.000034e+00</td>\n",
       "      <td>1.000034e+00</td>\n",
       "      <td>1.000034e+00</td>\n",
       "      <td>1.000034e+00</td>\n",
       "      <td>1.000034e+00</td>\n",
       "      <td>1.000034e+00</td>\n",
       "      <td>...</td>\n",
       "      <td>1.000034e+00</td>\n",
       "      <td>1.000034e+00</td>\n",
       "      <td>1.000034e+00</td>\n",
       "      <td>1.000034e+00</td>\n",
       "      <td>1.000034e+00</td>\n",
       "      <td>1.000034e+00</td>\n",
       "      <td>1.000034e+00</td>\n",
       "      <td>1.000034e+00</td>\n",
       "      <td>1.000034e+00</td>\n",
       "      <td>1.000034e+00</td>\n",
       "    </tr>\n",
       "    <tr>\n",
       "      <th>min</th>\n",
       "      <td>0.000000</td>\n",
       "      <td>-1.099172e+00</td>\n",
       "      <td>-7.525019e+00</td>\n",
       "      <td>-8.173811e-01</td>\n",
       "      <td>-4.036925e-01</td>\n",
       "      <td>-3.095570e-01</td>\n",
       "      <td>-9.668170e-01</td>\n",
       "      <td>-6.826527e-01</td>\n",
       "      <td>-4.036921e-01</td>\n",
       "      <td>-3.095549e-01</td>\n",
       "      <td>...</td>\n",
       "      <td>-1.145222e+00</td>\n",
       "      <td>-1.018520e+00</td>\n",
       "      <td>-1.063264e+00</td>\n",
       "      <td>-3.709537e-01</td>\n",
       "      <td>-7.939907e+00</td>\n",
       "      <td>-5.572107e+00</td>\n",
       "      <td>-1.028394e+00</td>\n",
       "      <td>-8.504414e+00</td>\n",
       "      <td>-3.701892e-01</td>\n",
       "      <td>-1.175413e+00</td>\n",
       "    </tr>\n",
       "    <tr>\n",
       "      <th>25%</th>\n",
       "      <td>3663.500000</td>\n",
       "      <td>-5.562842e-01</td>\n",
       "      <td>-4.012465e-01</td>\n",
       "      <td>-6.140366e-01</td>\n",
       "      <td>-4.036925e-01</td>\n",
       "      <td>-3.095570e-01</td>\n",
       "      <td>-9.668170e-01</td>\n",
       "      <td>-6.826527e-01</td>\n",
       "      <td>-4.036921e-01</td>\n",
       "      <td>-3.095549e-01</td>\n",
       "      <td>...</td>\n",
       "      <td>-5.710291e-01</td>\n",
       "      <td>-5.779074e-01</td>\n",
       "      <td>-5.548362e-01</td>\n",
       "      <td>-3.340489e-01</td>\n",
       "      <td>-3.620908e-01</td>\n",
       "      <td>-4.759820e-01</td>\n",
       "      <td>-6.059402e-01</td>\n",
       "      <td>-3.795004e-01</td>\n",
       "      <td>-3.356027e-01</td>\n",
       "      <td>-9.009864e-01</td>\n",
       "    </tr>\n",
       "    <tr>\n",
       "      <th>50%</th>\n",
       "      <td>7327.000000</td>\n",
       "      <td>-2.959409e-01</td>\n",
       "      <td>1.372852e-02</td>\n",
       "      <td>-3.182628e-01</td>\n",
       "      <td>-4.036925e-01</td>\n",
       "      <td>-3.095570e-01</td>\n",
       "      <td>-4.799820e-01</td>\n",
       "      <td>-4.810062e-01</td>\n",
       "      <td>-4.036921e-01</td>\n",
       "      <td>-3.095549e-01</td>\n",
       "      <td>...</td>\n",
       "      <td>-3.082999e-01</td>\n",
       "      <td>-3.100486e-01</td>\n",
       "      <td>-2.938365e-01</td>\n",
       "      <td>-2.779274e-01</td>\n",
       "      <td>1.690748e-01</td>\n",
       "      <td>-1.539745e-01</td>\n",
       "      <td>-3.075962e-01</td>\n",
       "      <td>1.808074e-02</td>\n",
       "      <td>-2.758216e-01</td>\n",
       "      <td>-1.868195e-01</td>\n",
       "    </tr>\n",
       "    <tr>\n",
       "      <th>75%</th>\n",
       "      <td>10990.500000</td>\n",
       "      <td>1.305065e-01</td>\n",
       "      <td>3.887945e-01</td>\n",
       "      <td>2.178271e-01</td>\n",
       "      <td>-4.036925e-01</td>\n",
       "      <td>-3.095570e-01</td>\n",
       "      <td>1.218936e+00</td>\n",
       "      <td>3.424732e-01</td>\n",
       "      <td>-4.036921e-01</td>\n",
       "      <td>-3.095549e-01</td>\n",
       "      <td>...</td>\n",
       "      <td>1.404692e-01</td>\n",
       "      <td>1.889926e-01</td>\n",
       "      <td>1.348322e-01</td>\n",
       "      <td>-1.042622e-01</td>\n",
       "      <td>5.237773e-01</td>\n",
       "      <td>2.827693e-01</td>\n",
       "      <td>2.239778e-01</td>\n",
       "      <td>3.791422e-01</td>\n",
       "      <td>-8.216661e-02</td>\n",
       "      <td>7.041898e-01</td>\n",
       "    </tr>\n",
       "    <tr>\n",
       "      <th>max</th>\n",
       "      <td>14654.000000</td>\n",
       "      <td>8.697107e+00</td>\n",
       "      <td>8.661754e+00</td>\n",
       "      <td>6.690189e+00</td>\n",
       "      <td>2.749942e+00</td>\n",
       "      <td>8.793529e+00</td>\n",
       "      <td>2.564411e+00</td>\n",
       "      <td>3.845565e+00</td>\n",
       "      <td>2.749929e+00</td>\n",
       "      <td>8.793315e+00</td>\n",
       "      <td>...</td>\n",
       "      <td>7.264192e+00</td>\n",
       "      <td>1.018578e+01</td>\n",
       "      <td>1.001596e+01</td>\n",
       "      <td>2.305669e+01</td>\n",
       "      <td>6.790690e+00</td>\n",
       "      <td>9.039809e+00</td>\n",
       "      <td>1.228958e+01</td>\n",
       "      <td>9.730551e+00</td>\n",
       "      <td>2.623168e+01</td>\n",
       "      <td>2.708863e+00</td>\n",
       "    </tr>\n",
       "  </tbody>\n",
       "</table>\n",
       "<p>8 rows × 101 columns</p>\n",
       "</div>"
      ],
      "text/plain": [
       "                 ID     SN [MEAN]     VN [MEAN]    HND [MEAN]         CA_AG  \\\n",
       "count  14655.000000  1.465500e+04  1.465500e+04  1.465500e+04  1.465500e+04   \n",
       "mean    7327.000000  7.983227e-16 -4.920152e-17 -1.670297e-16  7.731183e-16   \n",
       "std     4230.678433  1.000034e+00  1.000034e+00  1.000034e+00  1.000034e+00   \n",
       "min        0.000000 -1.099172e+00 -7.525019e+00 -8.173811e-01 -4.036925e-01   \n",
       "25%     3663.500000 -5.562842e-01 -4.012465e-01 -6.140366e-01 -4.036925e-01   \n",
       "50%     7327.000000 -2.959409e-01  1.372852e-02 -3.182628e-01 -4.036925e-01   \n",
       "75%    10990.500000  1.305065e-01  3.887945e-01  2.178271e-01 -4.036925e-01   \n",
       "max    14654.000000  8.697107e+00  8.661754e+00  6.690189e+00  2.749942e+00   \n",
       "\n",
       "              CA_SE         CA_VA         CA_VH      PLAND_AG      PLAND_SE  \\\n",
       "count  1.465500e+04  1.465500e+04  1.465500e+04  1.465500e+04  1.465500e+04   \n",
       "mean   3.470752e-15  3.064770e-14 -4.143014e-16 -6.546490e-14 -2.350779e-15   \n",
       "std    1.000034e+00  1.000034e+00  1.000034e+00  1.000034e+00  1.000034e+00   \n",
       "min   -3.095570e-01 -9.668170e-01 -6.826527e-01 -4.036921e-01 -3.095549e-01   \n",
       "25%   -3.095570e-01 -9.668170e-01 -6.826527e-01 -4.036921e-01 -3.095549e-01   \n",
       "50%   -3.095570e-01 -4.799820e-01 -4.810062e-01 -4.036921e-01 -3.095549e-01   \n",
       "75%   -3.095570e-01  1.218936e+00  3.424732e-01 -4.036921e-01 -3.095549e-01   \n",
       "max    8.793529e+00  2.564411e+00  3.845565e+00  2.749929e+00  8.793315e+00   \n",
       "\n",
       "       ...      SN [MAX]    SN [RANGE]      SN [SUM]    SN [VARIAN  \\\n",
       "count  ...  1.465500e+04  1.465500e+04  1.465500e+04  1.465500e+04   \n",
       "mean   ... -2.736429e-16 -1.142230e-15 -3.487714e-16 -3.340480e-16   \n",
       "std    ...  1.000034e+00  1.000034e+00  1.000034e+00  1.000034e+00   \n",
       "min    ... -1.145222e+00 -1.018520e+00 -1.063264e+00 -3.709537e-01   \n",
       "25%    ... -5.710291e-01 -5.779074e-01 -5.548362e-01 -3.340489e-01   \n",
       "50%    ... -3.082999e-01 -3.100486e-01 -2.938365e-01 -2.779274e-01   \n",
       "75%    ...  1.404692e-01  1.889926e-01  1.348322e-01 -1.042622e-01   \n",
       "max    ...  7.264192e+00  1.018578e+01  1.001596e+01  2.305669e+01   \n",
       "\n",
       "           VN [MIN]      VN [MAX]    VN [RANGE]      VN [SUM]    VN [VARIAN  \\\n",
       "count  1.465500e+04  1.465500e+04  1.465500e+04  1.465500e+04  1.465500e+04   \n",
       "mean   6.122098e-16 -6.247703e-17 -4.348544e-16 -2.616657e-17 -1.465941e-16   \n",
       "std    1.000034e+00  1.000034e+00  1.000034e+00  1.000034e+00  1.000034e+00   \n",
       "min   -7.939907e+00 -5.572107e+00 -1.028394e+00 -8.504414e+00 -3.701892e-01   \n",
       "25%   -3.620908e-01 -4.759820e-01 -6.059402e-01 -3.795004e-01 -3.356027e-01   \n",
       "50%    1.690748e-01 -1.539745e-01 -3.075962e-01  1.808074e-02 -2.758216e-01   \n",
       "75%    5.237773e-01  2.827693e-01  2.239778e-01  3.791422e-01 -8.216661e-02   \n",
       "max    6.790690e+00  9.039809e+00  1.228958e+01  9.730551e+00  2.623168e+01   \n",
       "\n",
       "            AG_DIST  \n",
       "count  1.465500e+04  \n",
       "mean  -6.896368e-15  \n",
       "std    1.000034e+00  \n",
       "min   -1.175413e+00  \n",
       "25%   -9.009864e-01  \n",
       "50%   -1.868195e-01  \n",
       "75%    7.041898e-01  \n",
       "max    2.708863e+00  \n",
       "\n",
       "[8 rows x 101 columns]"
      ]
     },
     "execution_count": 11,
     "metadata": {},
     "output_type": "execute_result"
    }
   ],
   "source": [
    "var_num.describe()"
   ]
  },
  {
   "cell_type": "markdown",
   "metadata": {
    "id": "Wmse1RMbfX91"
   },
   "source": [
    "Definição do fator de correlação a ser considerado.\n",
    "\n",
    "Dado duas variáveis [<i>i</i>,<i>j</i>], será calculado a correlação entre <i>i</i> e <i>j</i>. Caso a correlação entre as duas variáveis seja maior do que o <b>fator máximo de correlação</b>, faremos a exclusão daquela com menor poder explicativo a partir do seu R²:"
   ]
  },
  {
   "cell_type": "code",
   "execution_count": 12,
   "metadata": {
    "id": "12H_8XE1fX91"
   },
   "outputs": [],
   "source": [
    "fator = 0.70"
   ]
  },
  {
   "cell_type": "markdown",
   "metadata": {
    "id": "hEUHEBdKfX91"
   },
   "source": [
    "Remoção de variáveis de alta correlação _(Pearson)_:"
   ]
  },
  {
   "cell_type": "code",
   "execution_count": 13,
   "metadata": {
    "id": "Zeluhp-ffX91",
    "scrolled": false
   },
   "outputs": [],
   "source": [
    "colunas = list(var_num.columns)\n",
    "aux = list(var_num.columns)\n",
    "\n",
    "for i in range(len(colunas)):\n",
    "    for j in range(len(colunas)):\n",
    "        if j > i and abs(var_num[colunas[i]].corr(var_num[colunas[j]])) > fator:\n",
    "            if (colunas[j] in aux) and (colunas[j] != indice):\n",
    "                aux.remove(colunas[j])"
   ]
  },
  {
   "cell_type": "markdown",
   "metadata": {
    "id": "6GI39AA6fX92"
   },
   "source": [
    "Quantidade de variáveis do Dataframe que será gerado para a saída:"
   ]
  },
  {
   "cell_type": "code",
   "execution_count": 14,
   "metadata": {
    "colab": {
     "base_uri": "https://localhost:8080/"
    },
    "id": "8x1ZjF5VfX92",
    "outputId": "4dba8b5b-b350-46fc-ce15-1df3b49573f9"
   },
   "outputs": [
    {
     "data": {
      "text/plain": [
       "31"
      ]
     },
     "execution_count": 14,
     "metadata": {},
     "output_type": "execute_result"
    }
   ],
   "source": [
    "len(aux)"
   ]
  },
  {
   "cell_type": "markdown",
   "metadata": {
    "id": "RNc6j8ZnfX92"
   },
   "source": [
    "Visualização das colunas que estarão no Dataframe de saída:"
   ]
  },
  {
   "cell_type": "code",
   "execution_count": 15,
   "metadata": {
    "colab": {
     "base_uri": "https://localhost:8080/"
    },
    "id": "FJNEuO_vfX92",
    "outputId": "51413fa2-b207-4ac5-930a-4bff1b215211",
    "scrolled": true
   },
   "outputs": [
    {
     "data": {
      "text/plain": [
       "['ID',\n",
       " 'SN [MEAN]',\n",
       " 'VN [MEAN]',\n",
       " 'HND [MEAN]',\n",
       " 'CA_AG',\n",
       " 'CA_SE',\n",
       " 'CA_VA',\n",
       " 'CA_VH',\n",
       " 'PD_AG',\n",
       " 'PD_VA',\n",
       " 'PD_VH',\n",
       " 'MPS_VH',\n",
       " 'PSSD_AG',\n",
       " 'PSSD_VA',\n",
       " 'MSI_SE',\n",
       " 'MSI_VH',\n",
       " 'MPFD_AG',\n",
       " 'MPFD_SE',\n",
       " 'MPFD_VA',\n",
       " 'MPFD_VH',\n",
       " 'AWMPFD_VA',\n",
       " 'AWMPFD_VH',\n",
       " 'MPAR_AG',\n",
       " 'MPAR_SE',\n",
       " 'MPAR_VA',\n",
       " 'MPAR_VH',\n",
       " 'IJI_VA',\n",
       " 'TABO_SE',\n",
       " 'TABO_VA',\n",
       " 'TABO_VH',\n",
       " 'PRD']"
      ]
     },
     "execution_count": 15,
     "metadata": {},
     "output_type": "execute_result"
    }
   ],
   "source": [
    "aux"
   ]
  },
  {
   "cell_type": "markdown",
   "metadata": {},
   "source": [
    "Dentre as variáveis que restaram após o processo de seleção, é realizado uma nova seleção manual de variáveis para que determinados fatores não pesem mais do que outros no processo de classificação não supervisionada:"
   ]
  },
  {
   "cell_type": "code",
   "execution_count": 34,
   "metadata": {},
   "outputs": [],
   "source": [
    "aux = ['ID', 'SN [MEAN]', 'VN [MEAN]', 'HND [MEAN]', 'CA_AG', 'CA_SE', 'CA_VA', 'CA_VH', 'PD_VH']"
   ]
  },
  {
   "cell_type": "markdown",
   "metadata": {
    "id": "acvB3i66fX93"
   },
   "source": [
    "Célula de conferência que mostra que as variáveis que sobraram não possuem uma correlação acima do <b>fator máximo de correlação</b> inserido - exceto para a variável de identificação:"
   ]
  },
  {
   "cell_type": "code",
   "execution_count": 35,
   "metadata": {
    "colab": {
     "base_uri": "https://localhost:8080/",
     "height": 1000
    },
    "id": "R3nQbyHhfX93",
    "outputId": "a7a38e1e-7642-491c-8d70-f82d5fd161c2",
    "scrolled": false
   },
   "outputs": [
    {
     "data": {
      "text/html": [
       "<style  type=\"text/css\" >\n",
       "#T_483383cf_e162_11ec_bc09_d45d64537e56row0_col0,#T_483383cf_e162_11ec_bc09_d45d64537e56row1_col1,#T_483383cf_e162_11ec_bc09_d45d64537e56row2_col2,#T_483383cf_e162_11ec_bc09_d45d64537e56row3_col3,#T_483383cf_e162_11ec_bc09_d45d64537e56row4_col4,#T_483383cf_e162_11ec_bc09_d45d64537e56row5_col5,#T_483383cf_e162_11ec_bc09_d45d64537e56row6_col6,#T_483383cf_e162_11ec_bc09_d45d64537e56row7_col7,#T_483383cf_e162_11ec_bc09_d45d64537e56row8_col8{\n",
       "            background-color:  #5e4fa2;\n",
       "            color:  #f1f1f1;\n",
       "        }#T_483383cf_e162_11ec_bc09_d45d64537e56row0_col1,#T_483383cf_e162_11ec_bc09_d45d64537e56row0_col6,#T_483383cf_e162_11ec_bc09_d45d64537e56row4_col3,#T_483383cf_e162_11ec_bc09_d45d64537e56row6_col0,#T_483383cf_e162_11ec_bc09_d45d64537e56row6_col2,#T_483383cf_e162_11ec_bc09_d45d64537e56row6_col4,#T_483383cf_e162_11ec_bc09_d45d64537e56row6_col5,#T_483383cf_e162_11ec_bc09_d45d64537e56row6_col7,#T_483383cf_e162_11ec_bc09_d45d64537e56row6_col8,#T_483383cf_e162_11ec_bc09_d45d64537e56row8_col2{\n",
       "            background-color:  #9e0142;\n",
       "            color:  #f1f1f1;\n",
       "        }#T_483383cf_e162_11ec_bc09_d45d64537e56row0_col2{\n",
       "            background-color:  #ba2049;\n",
       "            color:  #f1f1f1;\n",
       "        }#T_483383cf_e162_11ec_bc09_d45d64537e56row0_col3{\n",
       "            background-color:  #ad1246;\n",
       "            color:  #f1f1f1;\n",
       "        }#T_483383cf_e162_11ec_bc09_d45d64537e56row0_col4{\n",
       "            background-color:  #e6f598;\n",
       "            color:  #000000;\n",
       "        }#T_483383cf_e162_11ec_bc09_d45d64537e56row0_col5,#T_483383cf_e162_11ec_bc09_d45d64537e56row0_col8{\n",
       "            background-color:  #ee6445;\n",
       "            color:  #000000;\n",
       "        }#T_483383cf_e162_11ec_bc09_d45d64537e56row0_col7{\n",
       "            background-color:  #f67f4b;\n",
       "            color:  #000000;\n",
       "        }#T_483383cf_e162_11ec_bc09_d45d64537e56row1_col0{\n",
       "            background-color:  #d63f4f;\n",
       "            color:  #f1f1f1;\n",
       "        }#T_483383cf_e162_11ec_bc09_d45d64537e56row1_col2{\n",
       "            background-color:  #a90d45;\n",
       "            color:  #f1f1f1;\n",
       "        }#T_483383cf_e162_11ec_bc09_d45d64537e56row1_col3,#T_483383cf_e162_11ec_bc09_d45d64537e56row4_col0{\n",
       "            background-color:  #d1ed9c;\n",
       "            color:  #000000;\n",
       "        }#T_483383cf_e162_11ec_bc09_d45d64537e56row1_col4,#T_483383cf_e162_11ec_bc09_d45d64537e56row7_col5{\n",
       "            background-color:  #ed6246;\n",
       "            color:  #000000;\n",
       "        }#T_483383cf_e162_11ec_bc09_d45d64537e56row1_col5{\n",
       "            background-color:  #e3534a;\n",
       "            color:  #000000;\n",
       "        }#T_483383cf_e162_11ec_bc09_d45d64537e56row1_col6,#T_483383cf_e162_11ec_bc09_d45d64537e56row2_col3{\n",
       "            background-color:  #fdfebb;\n",
       "            color:  #000000;\n",
       "        }#T_483383cf_e162_11ec_bc09_d45d64537e56row1_col7{\n",
       "            background-color:  #ea5e47;\n",
       "            color:  #000000;\n",
       "        }#T_483383cf_e162_11ec_bc09_d45d64537e56row1_col8,#T_483383cf_e162_11ec_bc09_d45d64537e56row8_col3{\n",
       "            background-color:  #df4e4b;\n",
       "            color:  #000000;\n",
       "        }#T_483383cf_e162_11ec_bc09_d45d64537e56row2_col0{\n",
       "            background-color:  #fec877;\n",
       "            color:  #000000;\n",
       "        }#T_483383cf_e162_11ec_bc09_d45d64537e56row2_col1{\n",
       "            background-color:  #f99355;\n",
       "            color:  #000000;\n",
       "        }#T_483383cf_e162_11ec_bc09_d45d64537e56row2_col4{\n",
       "            background-color:  #fa9857;\n",
       "            color:  #000000;\n",
       "        }#T_483383cf_e162_11ec_bc09_d45d64537e56row2_col5,#T_483383cf_e162_11ec_bc09_d45d64537e56row4_col1,#T_483383cf_e162_11ec_bc09_d45d64537e56row8_col1{\n",
       "            background-color:  #e85b48;\n",
       "            color:  #000000;\n",
       "        }#T_483383cf_e162_11ec_bc09_d45d64537e56row2_col6{\n",
       "            background-color:  #fdb96a;\n",
       "            color:  #000000;\n",
       "        }#T_483383cf_e162_11ec_bc09_d45d64537e56row2_col7{\n",
       "            background-color:  #f99153;\n",
       "            color:  #000000;\n",
       "        }#T_483383cf_e162_11ec_bc09_d45d64537e56row2_col8{\n",
       "            background-color:  #f57748;\n",
       "            color:  #000000;\n",
       "        }#T_483383cf_e162_11ec_bc09_d45d64537e56row3_col0{\n",
       "            background-color:  #f57245;\n",
       "            color:  #000000;\n",
       "        }#T_483383cf_e162_11ec_bc09_d45d64537e56row3_col1{\n",
       "            background-color:  #bfe5a0;\n",
       "            color:  #000000;\n",
       "        }#T_483383cf_e162_11ec_bc09_d45d64537e56row3_col2{\n",
       "            background-color:  #fee593;\n",
       "            color:  #000000;\n",
       "        }#T_483383cf_e162_11ec_bc09_d45d64537e56row3_col4{\n",
       "            background-color:  #d7414e;\n",
       "            color:  #f1f1f1;\n",
       "        }#T_483383cf_e162_11ec_bc09_d45d64537e56row3_col5{\n",
       "            background-color:  #eb6046;\n",
       "            color:  #000000;\n",
       "        }#T_483383cf_e162_11ec_bc09_d45d64537e56row3_col6{\n",
       "            background-color:  #feea9b;\n",
       "            color:  #000000;\n",
       "        }#T_483383cf_e162_11ec_bc09_d45d64537e56row3_col7{\n",
       "            background-color:  #f67a49;\n",
       "            color:  #000000;\n",
       "        }#T_483383cf_e162_11ec_bc09_d45d64537e56row3_col8,#T_483383cf_e162_11ec_bc09_d45d64537e56row5_col4{\n",
       "            background-color:  #f06744;\n",
       "            color:  #000000;\n",
       "        }#T_483383cf_e162_11ec_bc09_d45d64537e56row4_col2,#T_483383cf_e162_11ec_bc09_d45d64537e56row7_col2{\n",
       "            background-color:  #a40844;\n",
       "            color:  #f1f1f1;\n",
       "        }#T_483383cf_e162_11ec_bc09_d45d64537e56row4_col5{\n",
       "            background-color:  #c52c4b;\n",
       "            color:  #f1f1f1;\n",
       "        }#T_483383cf_e162_11ec_bc09_d45d64537e56row4_col6,#T_483383cf_e162_11ec_bc09_d45d64537e56row4_col7{\n",
       "            background-color:  #cb334d;\n",
       "            color:  #f1f1f1;\n",
       "        }#T_483383cf_e162_11ec_bc09_d45d64537e56row4_col8,#T_483383cf_e162_11ec_bc09_d45d64537e56row5_col2{\n",
       "            background-color:  #a70b44;\n",
       "            color:  #f1f1f1;\n",
       "        }#T_483383cf_e162_11ec_bc09_d45d64537e56row5_col0{\n",
       "            background-color:  #fdc574;\n",
       "            color:  #000000;\n",
       "        }#T_483383cf_e162_11ec_bc09_d45d64537e56row5_col1{\n",
       "            background-color:  #f8864f;\n",
       "            color:  #000000;\n",
       "        }#T_483383cf_e162_11ec_bc09_d45d64537e56row5_col3{\n",
       "            background-color:  #f26944;\n",
       "            color:  #000000;\n",
       "        }#T_483383cf_e162_11ec_bc09_d45d64537e56row5_col6{\n",
       "            background-color:  #f46d43;\n",
       "            color:  #000000;\n",
       "        }#T_483383cf_e162_11ec_bc09_d45d64537e56row5_col7{\n",
       "            background-color:  #fa9b58;\n",
       "            color:  #000000;\n",
       "        }#T_483383cf_e162_11ec_bc09_d45d64537e56row5_col8{\n",
       "            background-color:  #fb9d59;\n",
       "            color:  #000000;\n",
       "        }#T_483383cf_e162_11ec_bc09_d45d64537e56row6_col1{\n",
       "            background-color:  #fff1a8;\n",
       "            color:  #000000;\n",
       "        }#T_483383cf_e162_11ec_bc09_d45d64537e56row6_col3{\n",
       "            background-color:  #fdb163;\n",
       "            color:  #000000;\n",
       "        }#T_483383cf_e162_11ec_bc09_d45d64537e56row7_col0{\n",
       "            background-color:  #fdaf62;\n",
       "            color:  #000000;\n",
       "        }#T_483383cf_e162_11ec_bc09_d45d64537e56row7_col1{\n",
       "            background-color:  #e95c47;\n",
       "            color:  #000000;\n",
       "        }#T_483383cf_e162_11ec_bc09_d45d64537e56row7_col3{\n",
       "            background-color:  #e1504b;\n",
       "            color:  #000000;\n",
       "        }#T_483383cf_e162_11ec_bc09_d45d64537e56row7_col4,#T_483383cf_e162_11ec_bc09_d45d64537e56row7_col6{\n",
       "            background-color:  #d43d4f;\n",
       "            color:  #f1f1f1;\n",
       "        }#T_483383cf_e162_11ec_bc09_d45d64537e56row7_col8{\n",
       "            background-color:  #81cda5;\n",
       "            color:  #000000;\n",
       "        }#T_483383cf_e162_11ec_bc09_d45d64537e56row8_col0{\n",
       "            background-color:  #fca55d;\n",
       "            color:  #000000;\n",
       "        }#T_483383cf_e162_11ec_bc09_d45d64537e56row8_col4{\n",
       "            background-color:  #c1274a;\n",
       "            color:  #f1f1f1;\n",
       "        }#T_483383cf_e162_11ec_bc09_d45d64537e56row8_col5{\n",
       "            background-color:  #f57547;\n",
       "            color:  #000000;\n",
       "        }#T_483383cf_e162_11ec_bc09_d45d64537e56row8_col6{\n",
       "            background-color:  #de4c4b;\n",
       "            color:  #000000;\n",
       "        }#T_483383cf_e162_11ec_bc09_d45d64537e56row8_col7{\n",
       "            background-color:  #7ccaa5;\n",
       "            color:  #000000;\n",
       "        }</style><table id=\"T_483383cf_e162_11ec_bc09_d45d64537e56\" ><thead>    <tr>        <th class=\"blank level0\" ></th>        <th class=\"col_heading level0 col0\" >ID</th>        <th class=\"col_heading level0 col1\" >SN [MEAN]</th>        <th class=\"col_heading level0 col2\" >VN [MEAN]</th>        <th class=\"col_heading level0 col3\" >HND [MEAN]</th>        <th class=\"col_heading level0 col4\" >CA_AG</th>        <th class=\"col_heading level0 col5\" >CA_SE</th>        <th class=\"col_heading level0 col6\" >CA_VA</th>        <th class=\"col_heading level0 col7\" >CA_VH</th>        <th class=\"col_heading level0 col8\" >PD_VH</th>    </tr></thead><tbody>\n",
       "                <tr>\n",
       "                        <th id=\"T_483383cf_e162_11ec_bc09_d45d64537e56level0_row0\" class=\"row_heading level0 row0\" >ID</th>\n",
       "                        <td id=\"T_483383cf_e162_11ec_bc09_d45d64537e56row0_col0\" class=\"data row0 col0\" >1.000000</td>\n",
       "                        <td id=\"T_483383cf_e162_11ec_bc09_d45d64537e56row0_col1\" class=\"data row0 col1\" >-0.340505</td>\n",
       "                        <td id=\"T_483383cf_e162_11ec_bc09_d45d64537e56row0_col2\" class=\"data row0 col2\" >0.034786</td>\n",
       "                        <td id=\"T_483383cf_e162_11ec_bc09_d45d64537e56row0_col3\" class=\"data row0 col3\" >-0.180874</td>\n",
       "                        <td id=\"T_483383cf_e162_11ec_bc09_d45d64537e56row0_col4\" class=\"data row0 col4\" >0.453271</td>\n",
       "                        <td id=\"T_483383cf_e162_11ec_bc09_d45d64537e56row0_col5\" class=\"data row0 col5\" >0.024549</td>\n",
       "                        <td id=\"T_483383cf_e162_11ec_bc09_d45d64537e56row0_col6\" class=\"data row0 col6\" >-0.492201</td>\n",
       "                        <td id=\"T_483383cf_e162_11ec_bc09_d45d64537e56row0_col7\" class=\"data row0 col7\" >-0.038541</td>\n",
       "                        <td id=\"T_483383cf_e162_11ec_bc09_d45d64537e56row0_col8\" class=\"data row0 col8\" >-0.063536</td>\n",
       "            </tr>\n",
       "            <tr>\n",
       "                        <th id=\"T_483383cf_e162_11ec_bc09_d45d64537e56level0_row1\" class=\"row_heading level0 row1\" >SN [MEAN]</th>\n",
       "                        <td id=\"T_483383cf_e162_11ec_bc09_d45d64537e56row1_col0\" class=\"data row1 col0\" >-0.340505</td>\n",
       "                        <td id=\"T_483383cf_e162_11ec_bc09_d45d64537e56row1_col1\" class=\"data row1 col1\" >1.000000</td>\n",
       "                        <td id=\"T_483383cf_e162_11ec_bc09_d45d64537e56row1_col2\" class=\"data row1 col2\" >0.005706</td>\n",
       "                        <td id=\"T_483383cf_e162_11ec_bc09_d45d64537e56row1_col3\" class=\"data row1 col3\" >0.553828</td>\n",
       "                        <td id=\"T_483383cf_e162_11ec_bc09_d45d64537e56row1_col4\" class=\"data row1 col4\" >-0.120631</td>\n",
       "                        <td id=\"T_483383cf_e162_11ec_bc09_d45d64537e56row1_col5\" class=\"data row1 col5\" >-0.016552</td>\n",
       "                        <td id=\"T_483383cf_e162_11ec_bc09_d45d64537e56row1_col6\" class=\"data row1 col6\" >0.269215</td>\n",
       "                        <td id=\"T_483383cf_e162_11ec_bc09_d45d64537e56row1_col7\" class=\"data row1 col7\" >-0.116472</td>\n",
       "                        <td id=\"T_483383cf_e162_11ec_bc09_d45d64537e56row1_col8\" class=\"data row1 col8\" >-0.123260</td>\n",
       "            </tr>\n",
       "            <tr>\n",
       "                        <th id=\"T_483383cf_e162_11ec_bc09_d45d64537e56level0_row2\" class=\"row_heading level0 row2\" >VN [MEAN]</th>\n",
       "                        <td id=\"T_483383cf_e162_11ec_bc09_d45d64537e56row2_col0\" class=\"data row2 col0\" >0.034786</td>\n",
       "                        <td id=\"T_483383cf_e162_11ec_bc09_d45d64537e56row2_col1\" class=\"data row2 col1\" >0.005706</td>\n",
       "                        <td id=\"T_483383cf_e162_11ec_bc09_d45d64537e56row2_col2\" class=\"data row2 col2\" >1.000000</td>\n",
       "                        <td id=\"T_483383cf_e162_11ec_bc09_d45d64537e56row2_col3\" class=\"data row2 col3\" >0.405202</td>\n",
       "                        <td id=\"T_483383cf_e162_11ec_bc09_d45d64537e56row2_col4\" class=\"data row2 col4\" >-0.001836</td>\n",
       "                        <td id=\"T_483383cf_e162_11ec_bc09_d45d64537e56row2_col5\" class=\"data row2 col5\" >0.002250</td>\n",
       "                        <td id=\"T_483383cf_e162_11ec_bc09_d45d64537e56row2_col6\" class=\"data row2 col6\" >-0.014053</td>\n",
       "                        <td id=\"T_483383cf_e162_11ec_bc09_d45d64537e56row2_col7\" class=\"data row2 col7\" >-0.002163</td>\n",
       "                        <td id=\"T_483383cf_e162_11ec_bc09_d45d64537e56row2_col8\" class=\"data row2 col8\" >-0.017436</td>\n",
       "            </tr>\n",
       "            <tr>\n",
       "                        <th id=\"T_483383cf_e162_11ec_bc09_d45d64537e56level0_row3\" class=\"row_heading level0 row3\" >HND [MEAN]</th>\n",
       "                        <td id=\"T_483383cf_e162_11ec_bc09_d45d64537e56row3_col0\" class=\"data row3 col0\" >-0.180874</td>\n",
       "                        <td id=\"T_483383cf_e162_11ec_bc09_d45d64537e56row3_col1\" class=\"data row3 col1\" >0.553828</td>\n",
       "                        <td id=\"T_483383cf_e162_11ec_bc09_d45d64537e56row3_col2\" class=\"data row3 col2\" >0.405202</td>\n",
       "                        <td id=\"T_483383cf_e162_11ec_bc09_d45d64537e56row3_col3\" class=\"data row3 col3\" >1.000000</td>\n",
       "                        <td id=\"T_483383cf_e162_11ec_bc09_d45d64537e56row3_col4\" class=\"data row3 col4\" >-0.217731</td>\n",
       "                        <td id=\"T_483383cf_e162_11ec_bc09_d45d64537e56row3_col5\" class=\"data row3 col5\" >0.016929</td>\n",
       "                        <td id=\"T_483383cf_e162_11ec_bc09_d45d64537e56row3_col6\" class=\"data row3 col6\" >0.153361</td>\n",
       "                        <td id=\"T_483383cf_e162_11ec_bc09_d45d64537e56row3_col7\" class=\"data row3 col7\" >-0.046799</td>\n",
       "                        <td id=\"T_483383cf_e162_11ec_bc09_d45d64537e56row3_col8\" class=\"data row3 col8\" >-0.054152</td>\n",
       "            </tr>\n",
       "            <tr>\n",
       "                        <th id=\"T_483383cf_e162_11ec_bc09_d45d64537e56level0_row4\" class=\"row_heading level0 row4\" >CA_AG</th>\n",
       "                        <td id=\"T_483383cf_e162_11ec_bc09_d45d64537e56row4_col0\" class=\"data row4 col0\" >0.453271</td>\n",
       "                        <td id=\"T_483383cf_e162_11ec_bc09_d45d64537e56row4_col1\" class=\"data row4 col1\" >-0.120631</td>\n",
       "                        <td id=\"T_483383cf_e162_11ec_bc09_d45d64537e56row4_col2\" class=\"data row4 col2\" >-0.001836</td>\n",
       "                        <td id=\"T_483383cf_e162_11ec_bc09_d45d64537e56row4_col3\" class=\"data row4 col3\" >-0.217731</td>\n",
       "                        <td id=\"T_483383cf_e162_11ec_bc09_d45d64537e56row4_col4\" class=\"data row4 col4\" >1.000000</td>\n",
       "                        <td id=\"T_483383cf_e162_11ec_bc09_d45d64537e56row4_col5\" class=\"data row4 col5\" >-0.104321</td>\n",
       "                        <td id=\"T_483383cf_e162_11ec_bc09_d45d64537e56row4_col6\" class=\"data row4 col6\" >-0.365373</td>\n",
       "                        <td id=\"T_483383cf_e162_11ec_bc09_d45d64537e56row4_col7\" class=\"data row4 col7\" >-0.230252</td>\n",
       "                        <td id=\"T_483383cf_e162_11ec_bc09_d45d64537e56row4_col8\" class=\"data row4 col8\" >-0.277571</td>\n",
       "            </tr>\n",
       "            <tr>\n",
       "                        <th id=\"T_483383cf_e162_11ec_bc09_d45d64537e56level0_row5\" class=\"row_heading level0 row5\" >CA_SE</th>\n",
       "                        <td id=\"T_483383cf_e162_11ec_bc09_d45d64537e56row5_col0\" class=\"data row5 col0\" >0.024549</td>\n",
       "                        <td id=\"T_483383cf_e162_11ec_bc09_d45d64537e56row5_col1\" class=\"data row5 col1\" >-0.016552</td>\n",
       "                        <td id=\"T_483383cf_e162_11ec_bc09_d45d64537e56row5_col2\" class=\"data row5 col2\" >0.002250</td>\n",
       "                        <td id=\"T_483383cf_e162_11ec_bc09_d45d64537e56row5_col3\" class=\"data row5 col3\" >0.016929</td>\n",
       "                        <td id=\"T_483383cf_e162_11ec_bc09_d45d64537e56row5_col4\" class=\"data row5 col4\" >-0.104321</td>\n",
       "                        <td id=\"T_483383cf_e162_11ec_bc09_d45d64537e56row5_col5\" class=\"data row5 col5\" >1.000000</td>\n",
       "                        <td id=\"T_483383cf_e162_11ec_bc09_d45d64537e56row5_col6\" class=\"data row5 col6\" >-0.190727</td>\n",
       "                        <td id=\"T_483383cf_e162_11ec_bc09_d45d64537e56row5_col7\" class=\"data row5 col7\" >0.022658</td>\n",
       "                        <td id=\"T_483383cf_e162_11ec_bc09_d45d64537e56row5_col8\" class=\"data row5 col8\" >0.060622</td>\n",
       "            </tr>\n",
       "            <tr>\n",
       "                        <th id=\"T_483383cf_e162_11ec_bc09_d45d64537e56level0_row6\" class=\"row_heading level0 row6\" >CA_VA</th>\n",
       "                        <td id=\"T_483383cf_e162_11ec_bc09_d45d64537e56row6_col0\" class=\"data row6 col0\" >-0.492201</td>\n",
       "                        <td id=\"T_483383cf_e162_11ec_bc09_d45d64537e56row6_col1\" class=\"data row6 col1\" >0.269215</td>\n",
       "                        <td id=\"T_483383cf_e162_11ec_bc09_d45d64537e56row6_col2\" class=\"data row6 col2\" >-0.014053</td>\n",
       "                        <td id=\"T_483383cf_e162_11ec_bc09_d45d64537e56row6_col3\" class=\"data row6 col3\" >0.153361</td>\n",
       "                        <td id=\"T_483383cf_e162_11ec_bc09_d45d64537e56row6_col4\" class=\"data row6 col4\" >-0.365373</td>\n",
       "                        <td id=\"T_483383cf_e162_11ec_bc09_d45d64537e56row6_col5\" class=\"data row6 col5\" >-0.190727</td>\n",
       "                        <td id=\"T_483383cf_e162_11ec_bc09_d45d64537e56row6_col6\" class=\"data row6 col6\" >1.000000</td>\n",
       "                        <td id=\"T_483383cf_e162_11ec_bc09_d45d64537e56row6_col7\" class=\"data row6 col7\" >-0.343799</td>\n",
       "                        <td id=\"T_483383cf_e162_11ec_bc09_d45d64537e56row6_col8\" class=\"data row6 col8\" >-0.298498</td>\n",
       "            </tr>\n",
       "            <tr>\n",
       "                        <th id=\"T_483383cf_e162_11ec_bc09_d45d64537e56level0_row7\" class=\"row_heading level0 row7\" >CA_VH</th>\n",
       "                        <td id=\"T_483383cf_e162_11ec_bc09_d45d64537e56row7_col0\" class=\"data row7 col0\" >-0.038541</td>\n",
       "                        <td id=\"T_483383cf_e162_11ec_bc09_d45d64537e56row7_col1\" class=\"data row7 col1\" >-0.116472</td>\n",
       "                        <td id=\"T_483383cf_e162_11ec_bc09_d45d64537e56row7_col2\" class=\"data row7 col2\" >-0.002163</td>\n",
       "                        <td id=\"T_483383cf_e162_11ec_bc09_d45d64537e56row7_col3\" class=\"data row7 col3\" >-0.046799</td>\n",
       "                        <td id=\"T_483383cf_e162_11ec_bc09_d45d64537e56row7_col4\" class=\"data row7 col4\" >-0.230252</td>\n",
       "                        <td id=\"T_483383cf_e162_11ec_bc09_d45d64537e56row7_col5\" class=\"data row7 col5\" >0.022658</td>\n",
       "                        <td id=\"T_483383cf_e162_11ec_bc09_d45d64537e56row7_col6\" class=\"data row7 col6\" >-0.343799</td>\n",
       "                        <td id=\"T_483383cf_e162_11ec_bc09_d45d64537e56row7_col7\" class=\"data row7 col7\" >1.000000</td>\n",
       "                        <td id=\"T_483383cf_e162_11ec_bc09_d45d64537e56row7_col8\" class=\"data row7 col8\" >0.688742</td>\n",
       "            </tr>\n",
       "            <tr>\n",
       "                        <th id=\"T_483383cf_e162_11ec_bc09_d45d64537e56level0_row8\" class=\"row_heading level0 row8\" >PD_VH</th>\n",
       "                        <td id=\"T_483383cf_e162_11ec_bc09_d45d64537e56row8_col0\" class=\"data row8 col0\" >-0.063536</td>\n",
       "                        <td id=\"T_483383cf_e162_11ec_bc09_d45d64537e56row8_col1\" class=\"data row8 col1\" >-0.123260</td>\n",
       "                        <td id=\"T_483383cf_e162_11ec_bc09_d45d64537e56row8_col2\" class=\"data row8 col2\" >-0.017436</td>\n",
       "                        <td id=\"T_483383cf_e162_11ec_bc09_d45d64537e56row8_col3\" class=\"data row8 col3\" >-0.054152</td>\n",
       "                        <td id=\"T_483383cf_e162_11ec_bc09_d45d64537e56row8_col4\" class=\"data row8 col4\" >-0.277571</td>\n",
       "                        <td id=\"T_483383cf_e162_11ec_bc09_d45d64537e56row8_col5\" class=\"data row8 col5\" >0.060622</td>\n",
       "                        <td id=\"T_483383cf_e162_11ec_bc09_d45d64537e56row8_col6\" class=\"data row8 col6\" >-0.298498</td>\n",
       "                        <td id=\"T_483383cf_e162_11ec_bc09_d45d64537e56row8_col7\" class=\"data row8 col7\" >0.688742</td>\n",
       "                        <td id=\"T_483383cf_e162_11ec_bc09_d45d64537e56row8_col8\" class=\"data row8 col8\" >1.000000</td>\n",
       "            </tr>\n",
       "    </tbody></table>"
      ],
      "text/plain": [
       "<pandas.io.formats.style.Styler at 0x28ccd827190>"
      ]
     },
     "execution_count": 35,
     "metadata": {},
     "output_type": "execute_result"
    }
   ],
   "source": [
    "corr_df = var_num[aux].corr()\n",
    "\n",
    "corr_df.style.background_gradient(cmap='Spectral')"
   ]
  },
  {
   "cell_type": "code",
   "execution_count": 37,
   "metadata": {
    "colab": {
     "base_uri": "https://localhost:8080/",
     "height": 725
    },
    "id": "10iPGVPt9QJM",
    "outputId": "b9af5719-11f3-4e7f-e5c8-43c5edff9282"
   },
   "outputs": [
    {
     "data": {
      "image/png": "[encoded data removed]",
      "text/plain": [
       "<Figure size 432x432 with 2 Axes>"
      ]
     },
     "metadata": {
      "needs_background": "light"
     },
     "output_type": "display_data"
    }
   ],
   "source": [
    "corr_df = var_num[aux].corr(method='pearson')\n",
    "\n",
    "plt.figure(figsize=(6, 6))\n",
    "sns.heatmap(corr_df, annot=False)\n",
    "plt.show()"
   ]
  },
  {
   "cell_type": "markdown",
   "metadata": {},
   "source": [
    "Salvando um shapefile com os dados tratados:"
   ]
  },
  {
   "cell_type": "code",
   "execution_count": 49,
   "metadata": {},
   "outputs": [
    {
     "data": {
      "text/html": [
       "<div>\n",
       "<style scoped>\n",
       "    .dataframe tbody tr th:only-of-type {\n",
       "        vertical-align: middle;\n",
       "    }\n",
       "\n",
       "    .dataframe tbody tr th {\n",
       "        vertical-align: top;\n",
       "    }\n",
       "\n",
       "    .dataframe thead th {\n",
       "        text-align: right;\n",
       "    }\n",
       "</style>\n",
       "<table border=\"1\" class=\"dataframe\">\n",
       "  <thead>\n",
       "    <tr style=\"text-align: right;\">\n",
       "      <th></th>\n",
       "      <th>ID</th>\n",
       "      <th>geometry</th>\n",
       "      <th>SN [MEAN]</th>\n",
       "      <th>VN [MEAN]</th>\n",
       "      <th>HND [MEAN]</th>\n",
       "      <th>CA_AG</th>\n",
       "      <th>CA_SE</th>\n",
       "      <th>CA_VA</th>\n",
       "      <th>CA_VH</th>\n",
       "      <th>PD_VH</th>\n",
       "    </tr>\n",
       "  </thead>\n",
       "  <tbody>\n",
       "    <tr>\n",
       "      <th>0</th>\n",
       "      <td>0</td>\n",
       "      <td>POLYGON ((752288.17666 9722818.28253, 752288.6...</td>\n",
       "      <td>-0.073030</td>\n",
       "      <td>0.787566</td>\n",
       "      <td>0.205118</td>\n",
       "      <td>-0.403693</td>\n",
       "      <td>-0.309557</td>\n",
       "      <td>0.928459</td>\n",
       "      <td>-0.682653</td>\n",
       "      <td>-0.835323</td>\n",
       "    </tr>\n",
       "    <tr>\n",
       "      <th>1</th>\n",
       "      <td>1</td>\n",
       "      <td>POLYGON ((752388.36020 9722817.84804, 752388.7...</td>\n",
       "      <td>0.339348</td>\n",
       "      <td>0.632469</td>\n",
       "      <td>-0.077947</td>\n",
       "      <td>-0.403693</td>\n",
       "      <td>-0.309557</td>\n",
       "      <td>0.918417</td>\n",
       "      <td>-0.682653</td>\n",
       "      <td>-0.835323</td>\n",
       "    </tr>\n",
       "    <tr>\n",
       "      <th>2</th>\n",
       "      <td>2</td>\n",
       "      <td>POLYGON ((752488.54379 9722817.41380, 752488.9...</td>\n",
       "      <td>0.709323</td>\n",
       "      <td>-0.254420</td>\n",
       "      <td>-0.475393</td>\n",
       "      <td>-0.403693</td>\n",
       "      <td>-0.309557</td>\n",
       "      <td>0.908381</td>\n",
       "      <td>-0.682653</td>\n",
       "      <td>-0.835323</td>\n",
       "    </tr>\n",
       "    <tr>\n",
       "      <th>3</th>\n",
       "      <td>3</td>\n",
       "      <td>POLYGON ((752588.72746 9722816.97981, 752589.1...</td>\n",
       "      <td>0.133846</td>\n",
       "      <td>-0.601097</td>\n",
       "      <td>-0.595551</td>\n",
       "      <td>-0.403693</td>\n",
       "      <td>-0.309557</td>\n",
       "      <td>0.898350</td>\n",
       "      <td>-0.682653</td>\n",
       "      <td>-0.835323</td>\n",
       "    </tr>\n",
       "    <tr>\n",
       "      <th>4</th>\n",
       "      <td>4</td>\n",
       "      <td>POLYGON ((752688.91118 9722816.54607, 752689.3...</td>\n",
       "      <td>-0.148261</td>\n",
       "      <td>-1.313754</td>\n",
       "      <td>-0.614037</td>\n",
       "      <td>-0.403693</td>\n",
       "      <td>0.368860</td>\n",
       "      <td>0.294439</td>\n",
       "      <td>-0.520657</td>\n",
       "      <td>-0.114445</td>\n",
       "    </tr>\n",
       "    <tr>\n",
       "      <th>...</th>\n",
       "      <td>...</td>\n",
       "      <td>...</td>\n",
       "      <td>...</td>\n",
       "      <td>...</td>\n",
       "      <td>...</td>\n",
       "      <td>...</td>\n",
       "      <td>...</td>\n",
       "      <td>...</td>\n",
       "      <td>...</td>\n",
       "      <td>...</td>\n",
       "    </tr>\n",
       "    <tr>\n",
       "      <th>14650</th>\n",
       "      <td>14650</td>\n",
       "      <td>POLYGON ((752435.78613 9733807.56075, 752436.2...</td>\n",
       "      <td>-0.723446</td>\n",
       "      <td>0.178388</td>\n",
       "      <td>-0.720330</td>\n",
       "      <td>2.703014</td>\n",
       "      <td>-0.309557</td>\n",
       "      <td>-0.966817</td>\n",
       "      <td>-0.682653</td>\n",
       "      <td>-0.835323</td>\n",
       "    </tr>\n",
       "    <tr>\n",
       "      <th>14651</th>\n",
       "      <td>14651</td>\n",
       "      <td>POLYGON ((752535.94173 9733807.13343, 752536.3...</td>\n",
       "      <td>-0.876452</td>\n",
       "      <td>-0.123452</td>\n",
       "      <td>-0.817381</td>\n",
       "      <td>2.703018</td>\n",
       "      <td>-0.309557</td>\n",
       "      <td>-0.966817</td>\n",
       "      <td>-0.682653</td>\n",
       "      <td>-0.835323</td>\n",
       "    </tr>\n",
       "    <tr>\n",
       "      <th>14652</th>\n",
       "      <td>14652</td>\n",
       "      <td>POLYGON ((752636.09739 9733806.70637, 752636.5...</td>\n",
       "      <td>-0.972583</td>\n",
       "      <td>-0.069461</td>\n",
       "      <td>-0.817381</td>\n",
       "      <td>2.703022</td>\n",
       "      <td>-0.309557</td>\n",
       "      <td>-0.966817</td>\n",
       "      <td>-0.682653</td>\n",
       "      <td>-0.835323</td>\n",
       "    </tr>\n",
       "    <tr>\n",
       "      <th>14653</th>\n",
       "      <td>14653</td>\n",
       "      <td>POLYGON ((752736.25311 9733806.27957, 752736.6...</td>\n",
       "      <td>-0.854758</td>\n",
       "      <td>-0.001129</td>\n",
       "      <td>-0.754991</td>\n",
       "      <td>2.703025</td>\n",
       "      <td>-0.309557</td>\n",
       "      <td>-0.966817</td>\n",
       "      <td>-0.682653</td>\n",
       "      <td>-0.835323</td>\n",
       "    </tr>\n",
       "    <tr>\n",
       "      <th>14654</th>\n",
       "      <td>14654</td>\n",
       "      <td>POLYGON ((752836.40890 9733805.85302, 752836.8...</td>\n",
       "      <td>-0.773980</td>\n",
       "      <td>0.098468</td>\n",
       "      <td>-0.687980</td>\n",
       "      <td>2.703029</td>\n",
       "      <td>-0.309557</td>\n",
       "      <td>-0.966817</td>\n",
       "      <td>-0.682653</td>\n",
       "      <td>-0.835323</td>\n",
       "    </tr>\n",
       "  </tbody>\n",
       "</table>\n",
       "<p>14655 rows × 10 columns</p>\n",
       "</div>"
      ],
      "text/plain": [
       "          ID                                           geometry  SN [MEAN]  \\\n",
       "0          0  POLYGON ((752288.17666 9722818.28253, 752288.6...  -0.073030   \n",
       "1          1  POLYGON ((752388.36020 9722817.84804, 752388.7...   0.339348   \n",
       "2          2  POLYGON ((752488.54379 9722817.41380, 752488.9...   0.709323   \n",
       "3          3  POLYGON ((752588.72746 9722816.97981, 752589.1...   0.133846   \n",
       "4          4  POLYGON ((752688.91118 9722816.54607, 752689.3...  -0.148261   \n",
       "...      ...                                                ...        ...   \n",
       "14650  14650  POLYGON ((752435.78613 9733807.56075, 752436.2...  -0.723446   \n",
       "14651  14651  POLYGON ((752535.94173 9733807.13343, 752536.3...  -0.876452   \n",
       "14652  14652  POLYGON ((752636.09739 9733806.70637, 752636.5...  -0.972583   \n",
       "14653  14653  POLYGON ((752736.25311 9733806.27957, 752736.6...  -0.854758   \n",
       "14654  14654  POLYGON ((752836.40890 9733805.85302, 752836.8...  -0.773980   \n",
       "\n",
       "       VN [MEAN]  HND [MEAN]     CA_AG     CA_SE     CA_VA     CA_VH     PD_VH  \n",
       "0       0.787566    0.205118 -0.403693 -0.309557  0.928459 -0.682653 -0.835323  \n",
       "1       0.632469   -0.077947 -0.403693 -0.309557  0.918417 -0.682653 -0.835323  \n",
       "2      -0.254420   -0.475393 -0.403693 -0.309557  0.908381 -0.682653 -0.835323  \n",
       "3      -0.601097   -0.595551 -0.403693 -0.309557  0.898350 -0.682653 -0.835323  \n",
       "4      -1.313754   -0.614037 -0.403693  0.368860  0.294439 -0.520657 -0.114445  \n",
       "...          ...         ...       ...       ...       ...       ...       ...  \n",
       "14650   0.178388   -0.720330  2.703014 -0.309557 -0.966817 -0.682653 -0.835323  \n",
       "14651  -0.123452   -0.817381  2.703018 -0.309557 -0.966817 -0.682653 -0.835323  \n",
       "14652  -0.069461   -0.817381  2.703022 -0.309557 -0.966817 -0.682653 -0.835323  \n",
       "14653  -0.001129   -0.754991  2.703025 -0.309557 -0.966817 -0.682653 -0.835323  \n",
       "14654   0.098468   -0.687980  2.703029 -0.309557 -0.966817 -0.682653 -0.835323  \n",
       "\n",
       "[14655 rows x 10 columns]"
      ]
     },
     "execution_count": 49,
     "metadata": {},
     "output_type": "execute_result"
    }
   ],
   "source": [
    "geom = geom.merge(var_num[aux], left_on='ID', right_on=indice)\n",
    "geom"
   ]
  },
  {
   "cell_type": "markdown",
   "metadata": {},
   "source": [
    "Renomeando as colunas do GeoDataFrame de saída:"
   ]
  },
  {
   "cell_type": "code",
   "execution_count": 50,
   "metadata": {},
   "outputs": [
    {
     "data": {
      "text/plain": [
       "Index(['ID', 'geometry', 'SN [MEAN]', 'VN [MEAN]', 'HND [MEAN]', 'CA_AG',\n",
       "       'CA_SE', 'CA_VA', 'CA_VH', 'PD_VH'],\n",
       "      dtype='object')"
      ]
     },
     "execution_count": 50,
     "metadata": {},
     "output_type": "execute_result"
    }
   ],
   "source": [
    "geom.columns"
   ]
  },
  {
   "cell_type": "code",
   "execution_count": 23,
   "metadata": {},
   "outputs": [],
   "source": [
    "#geom.columns = ['ID', 'geometry', 'C1_ang_con', 'C1_ch_max', 'C1_lch5KM', 'C3_CA_CE', 'C3_CA_BR', 'C3_CA_FI', 'C4_DATA', 'C5_MEAN',  'C6_MEAN', 'C7_CA_ES', 'C8_ASM_MAX']"
   ]
  },
  {
   "cell_type": "code",
   "execution_count": 24,
   "metadata": {
    "scrolled": true
   },
   "outputs": [
    {
     "data": {
      "text/html": [
       "<div>\n",
       "<style scoped>\n",
       "    .dataframe tbody tr th:only-of-type {\n",
       "        vertical-align: middle;\n",
       "    }\n",
       "\n",
       "    .dataframe tbody tr th {\n",
       "        vertical-align: top;\n",
       "    }\n",
       "\n",
       "    .dataframe thead th {\n",
       "        text-align: right;\n",
       "    }\n",
       "</style>\n",
       "<table border=\"1\" class=\"dataframe\">\n",
       "  <thead>\n",
       "    <tr style=\"text-align: right;\">\n",
       "      <th></th>\n",
       "      <th>ID</th>\n",
       "      <th>geometry</th>\n",
       "      <th>SN [MEAN]</th>\n",
       "      <th>VN [MEAN]</th>\n",
       "      <th>HND [MEAN]</th>\n",
       "      <th>CA_AG</th>\n",
       "      <th>CA_SE</th>\n",
       "      <th>CA_VA</th>\n",
       "      <th>CA_VH</th>\n",
       "      <th>AG_DIST</th>\n",
       "    </tr>\n",
       "  </thead>\n",
       "  <tbody>\n",
       "    <tr>\n",
       "      <th>0</th>\n",
       "      <td>0</td>\n",
       "      <td>POLYGON ((752288.17666 9722818.28253, 752288.6...</td>\n",
       "      <td>-0.073030</td>\n",
       "      <td>0.787566</td>\n",
       "      <td>0.205118</td>\n",
       "      <td>-0.403693</td>\n",
       "      <td>-0.309557</td>\n",
       "      <td>0.928459</td>\n",
       "      <td>-0.682653</td>\n",
       "      <td>-1.175413</td>\n",
       "    </tr>\n",
       "    <tr>\n",
       "      <th>1</th>\n",
       "      <td>1</td>\n",
       "      <td>POLYGON ((752388.36020 9722817.84804, 752388.7...</td>\n",
       "      <td>0.339348</td>\n",
       "      <td>0.632469</td>\n",
       "      <td>-0.077947</td>\n",
       "      <td>-0.403693</td>\n",
       "      <td>-0.309557</td>\n",
       "      <td>0.918417</td>\n",
       "      <td>-0.682653</td>\n",
       "      <td>2.437062</td>\n",
       "    </tr>\n",
       "    <tr>\n",
       "      <th>2</th>\n",
       "      <td>2</td>\n",
       "      <td>POLYGON ((752488.54379 9722817.41380, 752488.9...</td>\n",
       "      <td>0.709323</td>\n",
       "      <td>-0.254420</td>\n",
       "      <td>-0.475393</td>\n",
       "      <td>-0.403693</td>\n",
       "      <td>-0.309557</td>\n",
       "      <td>0.908381</td>\n",
       "      <td>-0.682653</td>\n",
       "      <td>2.402804</td>\n",
       "    </tr>\n",
       "    <tr>\n",
       "      <th>3</th>\n",
       "      <td>3</td>\n",
       "      <td>POLYGON ((752588.72746 9722816.97981, 752589.1...</td>\n",
       "      <td>0.133846</td>\n",
       "      <td>-0.601097</td>\n",
       "      <td>-0.595551</td>\n",
       "      <td>-0.403693</td>\n",
       "      <td>-0.309557</td>\n",
       "      <td>0.898350</td>\n",
       "      <td>-0.682653</td>\n",
       "      <td>2.368790</td>\n",
       "    </tr>\n",
       "    <tr>\n",
       "      <th>4</th>\n",
       "      <td>4</td>\n",
       "      <td>POLYGON ((752688.91118 9722816.54607, 752689.3...</td>\n",
       "      <td>-0.148261</td>\n",
       "      <td>-1.313754</td>\n",
       "      <td>-0.614037</td>\n",
       "      <td>-0.403693</td>\n",
       "      <td>0.368860</td>\n",
       "      <td>0.294439</td>\n",
       "      <td>-0.520657</td>\n",
       "      <td>2.335024</td>\n",
       "    </tr>\n",
       "    <tr>\n",
       "      <th>...</th>\n",
       "      <td>...</td>\n",
       "      <td>...</td>\n",
       "      <td>...</td>\n",
       "      <td>...</td>\n",
       "      <td>...</td>\n",
       "      <td>...</td>\n",
       "      <td>...</td>\n",
       "      <td>...</td>\n",
       "      <td>...</td>\n",
       "      <td>...</td>\n",
       "    </tr>\n",
       "    <tr>\n",
       "      <th>14650</th>\n",
       "      <td>14650</td>\n",
       "      <td>POLYGON ((752435.78613 9733807.56075, 752436.2...</td>\n",
       "      <td>-0.723446</td>\n",
       "      <td>0.178388</td>\n",
       "      <td>-0.720330</td>\n",
       "      <td>2.703014</td>\n",
       "      <td>-0.309557</td>\n",
       "      <td>-0.966817</td>\n",
       "      <td>-0.682653</td>\n",
       "      <td>-1.175413</td>\n",
       "    </tr>\n",
       "    <tr>\n",
       "      <th>14651</th>\n",
       "      <td>14651</td>\n",
       "      <td>POLYGON ((752535.94173 9733807.13343, 752536.3...</td>\n",
       "      <td>-0.876452</td>\n",
       "      <td>-0.123452</td>\n",
       "      <td>-0.817381</td>\n",
       "      <td>2.703018</td>\n",
       "      <td>-0.309557</td>\n",
       "      <td>-0.966817</td>\n",
       "      <td>-0.682653</td>\n",
       "      <td>-1.175413</td>\n",
       "    </tr>\n",
       "    <tr>\n",
       "      <th>14652</th>\n",
       "      <td>14652</td>\n",
       "      <td>POLYGON ((752636.09739 9733806.70637, 752636.5...</td>\n",
       "      <td>-0.972583</td>\n",
       "      <td>-0.069461</td>\n",
       "      <td>-0.817381</td>\n",
       "      <td>2.703022</td>\n",
       "      <td>-0.309557</td>\n",
       "      <td>-0.966817</td>\n",
       "      <td>-0.682653</td>\n",
       "      <td>-1.175413</td>\n",
       "    </tr>\n",
       "    <tr>\n",
       "      <th>14653</th>\n",
       "      <td>14653</td>\n",
       "      <td>POLYGON ((752736.25311 9733806.27957, 752736.6...</td>\n",
       "      <td>-0.854758</td>\n",
       "      <td>-0.001129</td>\n",
       "      <td>-0.754991</td>\n",
       "      <td>2.703025</td>\n",
       "      <td>-0.309557</td>\n",
       "      <td>-0.966817</td>\n",
       "      <td>-0.682653</td>\n",
       "      <td>-1.175413</td>\n",
       "    </tr>\n",
       "    <tr>\n",
       "      <th>14654</th>\n",
       "      <td>14654</td>\n",
       "      <td>POLYGON ((752836.40890 9733805.85302, 752836.8...</td>\n",
       "      <td>-0.773980</td>\n",
       "      <td>0.098468</td>\n",
       "      <td>-0.687980</td>\n",
       "      <td>2.703029</td>\n",
       "      <td>-0.309557</td>\n",
       "      <td>-0.966817</td>\n",
       "      <td>-0.682653</td>\n",
       "      <td>-1.175413</td>\n",
       "    </tr>\n",
       "  </tbody>\n",
       "</table>\n",
       "<p>14655 rows × 10 columns</p>\n",
       "</div>"
      ],
      "text/plain": [
       "          ID                                           geometry  SN [MEAN]  \\\n",
       "0          0  POLYGON ((752288.17666 9722818.28253, 752288.6...  -0.073030   \n",
       "1          1  POLYGON ((752388.36020 9722817.84804, 752388.7...   0.339348   \n",
       "2          2  POLYGON ((752488.54379 9722817.41380, 752488.9...   0.709323   \n",
       "3          3  POLYGON ((752588.72746 9722816.97981, 752589.1...   0.133846   \n",
       "4          4  POLYGON ((752688.91118 9722816.54607, 752689.3...  -0.148261   \n",
       "...      ...                                                ...        ...   \n",
       "14650  14650  POLYGON ((752435.78613 9733807.56075, 752436.2...  -0.723446   \n",
       "14651  14651  POLYGON ((752535.94173 9733807.13343, 752536.3...  -0.876452   \n",
       "14652  14652  POLYGON ((752636.09739 9733806.70637, 752636.5...  -0.972583   \n",
       "14653  14653  POLYGON ((752736.25311 9733806.27957, 752736.6...  -0.854758   \n",
       "14654  14654  POLYGON ((752836.40890 9733805.85302, 752836.8...  -0.773980   \n",
       "\n",
       "       VN [MEAN]  HND [MEAN]     CA_AG     CA_SE     CA_VA     CA_VH   AG_DIST  \n",
       "0       0.787566    0.205118 -0.403693 -0.309557  0.928459 -0.682653 -1.175413  \n",
       "1       0.632469   -0.077947 -0.403693 -0.309557  0.918417 -0.682653  2.437062  \n",
       "2      -0.254420   -0.475393 -0.403693 -0.309557  0.908381 -0.682653  2.402804  \n",
       "3      -0.601097   -0.595551 -0.403693 -0.309557  0.898350 -0.682653  2.368790  \n",
       "4      -1.313754   -0.614037 -0.403693  0.368860  0.294439 -0.520657  2.335024  \n",
       "...          ...         ...       ...       ...       ...       ...       ...  \n",
       "14650   0.178388   -0.720330  2.703014 -0.309557 -0.966817 -0.682653 -1.175413  \n",
       "14651  -0.123452   -0.817381  2.703018 -0.309557 -0.966817 -0.682653 -1.175413  \n",
       "14652  -0.069461   -0.817381  2.703022 -0.309557 -0.966817 -0.682653 -1.175413  \n",
       "14653  -0.001129   -0.754991  2.703025 -0.309557 -0.966817 -0.682653 -1.175413  \n",
       "14654   0.098468   -0.687980  2.703029 -0.309557 -0.966817 -0.682653 -1.175413  \n",
       "\n",
       "[14655 rows x 10 columns]"
      ]
     },
     "execution_count": 24,
     "metadata": {},
     "output_type": "execute_result"
    }
   ],
   "source": [
    "geom"
   ]
  },
  {
   "cell_type": "markdown",
   "metadata": {},
   "source": [
    "### 2º Etapa: Classificação Não Supervisionada da Grade Celular"
   ]
  },
  {
   "cell_type": "markdown",
   "metadata": {},
   "source": [
    "Criando uma base de dados com as variáveis para o processo de classificação não supervisionada:"
   ]
  },
  {
   "cell_type": "code",
   "execution_count": 51,
   "metadata": {},
   "outputs": [
    {
     "data": {
      "text/plain": [
       "array([[-0.07302987,  0.78756648,  0.20511812, ...,  0.92845919,\n",
       "        -0.68265266, -0.83532293],\n",
       "       [ 0.33934848,  0.63246873, -0.07794663, ...,  0.91841704,\n",
       "        -0.68265266, -0.83532293],\n",
       "       [ 0.70932339, -0.25442045, -0.47539263, ...,  0.90838071,\n",
       "        -0.68265266, -0.83532293],\n",
       "       ...,\n",
       "       [-0.97258294, -0.06946106, -0.81738106, ..., -0.96681702,\n",
       "        -0.68265266, -0.83532293],\n",
       "       [-0.85475792, -0.00112886, -0.75499128, ..., -0.96681702,\n",
       "        -0.68265266, -0.83532293],\n",
       "       [-0.77398032,  0.09846788, -0.68798003, ..., -0.96681702,\n",
       "        -0.68265266, -0.83532293]])"
      ]
     },
     "execution_count": 51,
     "metadata": {},
     "output_type": "execute_result"
    }
   ],
   "source": [
    "dados = geom.iloc[:,2:].to_numpy()\n",
    "dados"
   ]
  },
  {
   "cell_type": "markdown",
   "metadata": {},
   "source": [
    "Gerando um gráfico de <i>inertia</i> para identificar um bom número de cluster no K-means:"
   ]
  },
  {
   "cell_type": "code",
   "execution_count": 52,
   "metadata": {},
   "outputs": [],
   "source": [
    "inertia = []\n",
    "\n",
    "for i in range(1, 10):\n",
    "    mod_km = KMeans(n_clusters = i, random_state = 0, n_init = 100, max_iter = 500)\n",
    "    mod_km.fit(dados)\n",
    "    inertia.append(mod_km.inertia_)"
   ]
  },
  {
   "cell_type": "code",
   "execution_count": 53,
   "metadata": {},
   "outputs": [
    {
     "data": {
      "application/vnd.plotly.v1+json": {
       "config": {
        "plotlyServerURL": "https://plot.ly"
       },
       "data": [
        {
         "hovertemplate": "clusters=%{x}<br>inertia=%{y}<extra></extra>",
         "legendgroup": "",
         "line": {
          "color": "#636efa",
          "dash": "solid"
         },
         "mode": "lines",
         "name": "",
         "orientation": "v",
         "showlegend": false,
         "type": "scatter",
         "x": [
          1,
          2,
          3,
          4,
          5,
          6,
          7,
          8,
          9
         ],
         "xaxis": "x",
         "y": [
          117240.00000000004,
          95585.03617706438,
          77533.57013266934,
          62858.79401672895,
          52438.54114837721,
          44683.37341067727,
          39244.25813116331,
          36531.02344705604,
          34339.049681373624
         ],
         "yaxis": "y"
        }
       ],
       "layout": {
        "legend": {
         "tracegroupgap": 0
        },
        "margin": {
         "t": 60
        },
        "template": {
         "data": {
          "bar": [
           {
            "error_x": {
             "color": "#2a3f5f"
            },
            "error_y": {
             "color": "#2a3f5f"
            },
            "marker": {
             "line": {
              "color": "#E5ECF6",
              "width": 0.5
             },
             "pattern": {
              "fillmode": "overlay",
              "size": 10,
              "solidity": 0.2
             }
            },
            "type": "bar"
           }
          ],
          "barpolar": [
           {
            "marker": {
             "line": {
              "color": "#E5ECF6",
              "width": 0.5
             },
             "pattern": {
              "fillmode": "overlay",
              "size": 10,
              "solidity": 0.2
             }
            },
            "type": "barpolar"
           }
          ],
          "carpet": [
           {
            "aaxis": {
             "endlinecolor": "#2a3f5f",
             "gridcolor": "white",
             "linecolor": "white",
             "minorgridcolor": "white",
             "startlinecolor": "#2a3f5f"
            },
            "baxis": {
             "endlinecolor": "#2a3f5f",
             "gridcolor": "white",
             "linecolor": "white",
             "minorgridcolor": "white",
             "startlinecolor": "#2a3f5f"
            },
            "type": "carpet"
           }
          ],
          "choropleth": [
           {
            "colorbar": {
             "outlinewidth": 0,
             "ticks": ""
            },
            "type": "choropleth"
           }
          ],
          "contour": [
           {
            "colorbar": {
             "outlinewidth": 0,
             "ticks": ""
            },
            "colorscale": [
             [
              0,
              "#0d0887"
             ],
             [
              0.1111111111111111,
              "#46039f"
             ],
             [
              0.2222222222222222,
              "#7201a8"
             ],
             [
              0.3333333333333333,
              "#9c179e"
             ],
             [
              0.4444444444444444,
              "#bd3786"
             ],
             [
              0.5555555555555556,
              "#d8576b"
             ],
             [
              0.6666666666666666,
              "#ed7953"
             ],
             [
              0.7777777777777778,
              "#fb9f3a"
             ],
             [
              0.8888888888888888,
              "#fdca26"
             ],
             [
              1,
              "#f0f921"
             ]
            ],
            "type": "contour"
           }
          ],
          "contourcarpet": [
           {
            "colorbar": {
             "outlinewidth": 0,
             "ticks": ""
            },
            "type": "contourcarpet"
           }
          ],
          "heatmap": [
           {
            "colorbar": {
             "outlinewidth": 0,
             "ticks": ""
            },
            "colorscale": [
             [
              0,
              "#0d0887"
             ],
             [
              0.1111111111111111,
              "#46039f"
             ],
             [
              0.2222222222222222,
              "#7201a8"
             ],
             [
              0.3333333333333333,
              "#9c179e"
             ],
             [
              0.4444444444444444,
              "#bd3786"
             ],
             [
              0.5555555555555556,
              "#d8576b"
             ],
             [
              0.6666666666666666,
              "#ed7953"
             ],
             [
              0.7777777777777778,
              "#fb9f3a"
             ],
             [
              0.8888888888888888,
              "#fdca26"
             ],
             [
              1,
              "#f0f921"
             ]
            ],
            "type": "heatmap"
           }
          ],
          "heatmapgl": [
           {
            "colorbar": {
             "outlinewidth": 0,
             "ticks": ""
            },
            "colorscale": [
             [
              0,
              "#0d0887"
             ],
             [
              0.1111111111111111,
              "#46039f"
             ],
             [
              0.2222222222222222,
              "#7201a8"
             ],
             [
              0.3333333333333333,
              "#9c179e"
             ],
             [
              0.4444444444444444,
              "#bd3786"
             ],
             [
              0.5555555555555556,
              "#d8576b"
             ],
             [
              0.6666666666666666,
              "#ed7953"
             ],
             [
              0.7777777777777778,
              "#fb9f3a"
             ],
             [
              0.8888888888888888,
              "#fdca26"
             ],
             [
              1,
              "#f0f921"
             ]
            ],
            "type": "heatmapgl"
           }
          ],
          "histogram": [
           {
            "marker": {
             "pattern": {
              "fillmode": "overlay",
              "size": 10,
              "solidity": 0.2
             }
            },
            "type": "histogram"
           }
          ],
          "histogram2d": [
           {
            "colorbar": {
             "outlinewidth": 0,
             "ticks": ""
            },
            "colorscale": [
             [
              0,
              "#0d0887"
             ],
             [
              0.1111111111111111,
              "#46039f"
             ],
             [
              0.2222222222222222,
              "#7201a8"
             ],
             [
              0.3333333333333333,
              "#9c179e"
             ],
             [
              0.4444444444444444,
              "#bd3786"
             ],
             [
              0.5555555555555556,
              "#d8576b"
             ],
             [
              0.6666666666666666,
              "#ed7953"
             ],
             [
              0.7777777777777778,
              "#fb9f3a"
             ],
             [
              0.8888888888888888,
              "#fdca26"
             ],
             [
              1,
              "#f0f921"
             ]
            ],
            "type": "histogram2d"
           }
          ],
          "histogram2dcontour": [
           {
            "colorbar": {
             "outlinewidth": 0,
             "ticks": ""
            },
            "colorscale": [
             [
              0,
              "#0d0887"
             ],
             [
              0.1111111111111111,
              "#46039f"
             ],
             [
              0.2222222222222222,
              "#7201a8"
             ],
             [
              0.3333333333333333,
              "#9c179e"
             ],
             [
              0.4444444444444444,
              "#bd3786"
             ],
             [
              0.5555555555555556,
              "#d8576b"
             ],
             [
              0.6666666666666666,
              "#ed7953"
             ],
             [
              0.7777777777777778,
              "#fb9f3a"
             ],
             [
              0.8888888888888888,
              "#fdca26"
             ],
             [
              1,
              "#f0f921"
             ]
            ],
            "type": "histogram2dcontour"
           }
          ],
          "mesh3d": [
           {
            "colorbar": {
             "outlinewidth": 0,
             "ticks": ""
            },
            "type": "mesh3d"
           }
          ],
          "parcoords": [
           {
            "line": {
             "colorbar": {
              "outlinewidth": 0,
              "ticks": ""
             }
            },
            "type": "parcoords"
           }
          ],
          "pie": [
           {
            "automargin": true,
            "type": "pie"
           }
          ],
          "scatter": [
           {
            "marker": {
             "colorbar": {
              "outlinewidth": 0,
              "ticks": ""
             }
            },
            "type": "scatter"
           }
          ],
          "scatter3d": [
           {
            "line": {
             "colorbar": {
              "outlinewidth": 0,
              "ticks": ""
             }
            },
            "marker": {
             "colorbar": {
              "outlinewidth": 0,
              "ticks": ""
             }
            },
            "type": "scatter3d"
           }
          ],
          "scattercarpet": [
           {
            "marker": {
             "colorbar": {
              "outlinewidth": 0,
              "ticks": ""
             }
            },
            "type": "scattercarpet"
           }
          ],
          "scattergeo": [
           {
            "marker": {
             "colorbar": {
              "outlinewidth": 0,
              "ticks": ""
             }
            },
            "type": "scattergeo"
           }
          ],
          "scattergl": [
           {
            "marker": {
             "colorbar": {
              "outlinewidth": 0,
              "ticks": ""
             }
            },
            "type": "scattergl"
           }
          ],
          "scattermapbox": [
           {
            "marker": {
             "colorbar": {
              "outlinewidth": 0,
              "ticks": ""
             }
            },
            "type": "scattermapbox"
           }
          ],
          "scatterpolar": [
           {
            "marker": {
             "colorbar": {
              "outlinewidth": 0,
              "ticks": ""
             }
            },
            "type": "scatterpolar"
           }
          ],
          "scatterpolargl": [
           {
            "marker": {
             "colorbar": {
              "outlinewidth": 0,
              "ticks": ""
             }
            },
            "type": "scatterpolargl"
           }
          ],
          "scatterternary": [
           {
            "marker": {
             "colorbar": {
              "outlinewidth": 0,
              "ticks": ""
             }
            },
            "type": "scatterternary"
           }
          ],
          "surface": [
           {
            "colorbar": {
             "outlinewidth": 0,
             "ticks": ""
            },
            "colorscale": [
             [
              0,
              "#0d0887"
             ],
             [
              0.1111111111111111,
              "#46039f"
             ],
             [
              0.2222222222222222,
              "#7201a8"
             ],
             [
              0.3333333333333333,
              "#9c179e"
             ],
             [
              0.4444444444444444,
              "#bd3786"
             ],
             [
              0.5555555555555556,
              "#d8576b"
             ],
             [
              0.6666666666666666,
              "#ed7953"
             ],
             [
              0.7777777777777778,
              "#fb9f3a"
             ],
             [
              0.8888888888888888,
              "#fdca26"
             ],
             [
              1,
              "#f0f921"
             ]
            ],
            "type": "surface"
           }
          ],
          "table": [
           {
            "cells": {
             "fill": {
              "color": "#EBF0F8"
             },
             "line": {
              "color": "white"
             }
            },
            "header": {
             "fill": {
              "color": "#C8D4E3"
             },
             "line": {
              "color": "white"
             }
            },
            "type": "table"
           }
          ]
         },
         "layout": {
          "annotationdefaults": {
           "arrowcolor": "#2a3f5f",
           "arrowhead": 0,
           "arrowwidth": 1
          },
          "autotypenumbers": "strict",
          "coloraxis": {
           "colorbar": {
            "outlinewidth": 0,
            "ticks": ""
           }
          },
          "colorscale": {
           "diverging": [
            [
             0,
             "#8e0152"
            ],
            [
             0.1,
             "#c51b7d"
            ],
            [
             0.2,
             "#de77ae"
            ],
            [
             0.3,
             "#f1b6da"
            ],
            [
             0.4,
             "#fde0ef"
            ],
            [
             0.5,
             "#f7f7f7"
            ],
            [
             0.6,
             "#e6f5d0"
            ],
            [
             0.7,
             "#b8e186"
            ],
            [
             0.8,
             "#7fbc41"
            ],
            [
             0.9,
             "#4d9221"
            ],
            [
             1,
             "#276419"
            ]
           ],
           "sequential": [
            [
             0,
             "#0d0887"
            ],
            [
             0.1111111111111111,
             "#46039f"
            ],
            [
             0.2222222222222222,
             "#7201a8"
            ],
            [
             0.3333333333333333,
             "#9c179e"
            ],
            [
             0.4444444444444444,
             "#bd3786"
            ],
            [
             0.5555555555555556,
             "#d8576b"
            ],
            [
             0.6666666666666666,
             "#ed7953"
            ],
            [
             0.7777777777777778,
             "#fb9f3a"
            ],
            [
             0.8888888888888888,
             "#fdca26"
            ],
            [
             1,
             "#f0f921"
            ]
           ],
           "sequentialminus": [
            [
             0,
             "#0d0887"
            ],
            [
             0.1111111111111111,
             "#46039f"
            ],
            [
             0.2222222222222222,
             "#7201a8"
            ],
            [
             0.3333333333333333,
             "#9c179e"
            ],
            [
             0.4444444444444444,
             "#bd3786"
            ],
            [
             0.5555555555555556,
             "#d8576b"
            ],
            [
             0.6666666666666666,
             "#ed7953"
            ],
            [
             0.7777777777777778,
             "#fb9f3a"
            ],
            [
             0.8888888888888888,
             "#fdca26"
            ],
            [
             1,
             "#f0f921"
            ]
           ]
          },
          "colorway": [
           "#636efa",
           "#EF553B",
           "#00cc96",
           "#ab63fa",
           "#FFA15A",
           "#19d3f3",
           "#FF6692",
           "#B6E880",
           "#FF97FF",
           "#FECB52"
          ],
          "font": {
           "color": "#2a3f5f"
          },
          "geo": {
           "bgcolor": "white",
           "lakecolor": "white",
           "landcolor": "#E5ECF6",
           "showlakes": true,
           "showland": true,
           "subunitcolor": "white"
          },
          "hoverlabel": {
           "align": "left"
          },
          "hovermode": "closest",
          "mapbox": {
           "style": "light"
          },
          "paper_bgcolor": "white",
          "plot_bgcolor": "#E5ECF6",
          "polar": {
           "angularaxis": {
            "gridcolor": "white",
            "linecolor": "white",
            "ticks": ""
           },
           "bgcolor": "#E5ECF6",
           "radialaxis": {
            "gridcolor": "white",
            "linecolor": "white",
            "ticks": ""
           }
          },
          "scene": {
           "xaxis": {
            "backgroundcolor": "#E5ECF6",
            "gridcolor": "white",
            "gridwidth": 2,
            "linecolor": "white",
            "showbackground": true,
            "ticks": "",
            "zerolinecolor": "white"
           },
           "yaxis": {
            "backgroundcolor": "#E5ECF6",
            "gridcolor": "white",
            "gridwidth": 2,
            "linecolor": "white",
            "showbackground": true,
            "ticks": "",
            "zerolinecolor": "white"
           },
           "zaxis": {
            "backgroundcolor": "#E5ECF6",
            "gridcolor": "white",
            "gridwidth": 2,
            "linecolor": "white",
            "showbackground": true,
            "ticks": "",
            "zerolinecolor": "white"
           }
          },
          "shapedefaults": {
           "line": {
            "color": "#2a3f5f"
           }
          },
          "ternary": {
           "aaxis": {
            "gridcolor": "white",
            "linecolor": "white",
            "ticks": ""
           },
           "baxis": {
            "gridcolor": "white",
            "linecolor": "white",
            "ticks": ""
           },
           "bgcolor": "#E5ECF6",
           "caxis": {
            "gridcolor": "white",
            "linecolor": "white",
            "ticks": ""
           }
          },
          "title": {
           "x": 0.05
          },
          "xaxis": {
           "automargin": true,
           "gridcolor": "white",
           "linecolor": "white",
           "ticks": "",
           "title": {
            "standoff": 15
           },
           "zerolinecolor": "white",
           "zerolinewidth": 2
          },
          "yaxis": {
           "automargin": true,
           "gridcolor": "white",
           "linecolor": "white",
           "ticks": "",
           "title": {
            "standoff": 15
           },
           "zerolinecolor": "white",
           "zerolinewidth": 2
          }
         }
        },
        "xaxis": {
         "anchor": "y",
         "domain": [
          0,
          1
         ],
         "title": {
          "text": "clusters"
         }
        },
        "yaxis": {
         "anchor": "x",
         "domain": [
          0,
          1
         ],
         "title": {
          "text": "inertia"
         }
        }
       }
      },
      "text/html": [
       "<div>                            <div id=\"3e16ba41-eecf-4fb8-8ad3-d79d7f94e9ce\" class=\"plotly-graph-div\" style=\"height:525px; width:100%;\"></div>            <script type=\"text/javascript\">                require([\"plotly\"], function(Plotly) {                    window.PLOTLYENV=window.PLOTLYENV || {};                                    if (document.getElementById(\"3e16ba41-eecf-4fb8-8ad3-d79d7f94e9ce\")) {                    Plotly.newPlot(                        \"3e16ba41-eecf-4fb8-8ad3-d79d7f94e9ce\",                        [{\"hovertemplate\":\"clusters=%{x}<br>inertia=%{y}<extra></extra>\",\"legendgroup\":\"\",\"line\":{\"color\":\"#636efa\",\"dash\":\"solid\"},\"mode\":\"lines\",\"name\":\"\",\"orientation\":\"v\",\"showlegend\":false,\"type\":\"scatter\",\"x\":[1,2,3,4,5,6,7,8,9],\"xaxis\":\"x\",\"y\":[117240.00000000004,95585.03617706438,77533.57013266934,62858.79401672895,52438.54114837721,44683.37341067727,39244.25813116331,36531.02344705604,34339.049681373624],\"yaxis\":\"y\"}],                        {\"legend\":{\"tracegroupgap\":0},\"margin\":{\"t\":60},\"template\":{\"data\":{\"bar\":[{\"error_x\":{\"color\":\"#2a3f5f\"},\"error_y\":{\"color\":\"#2a3f5f\"},\"marker\":{\"line\":{\"color\":\"#E5ECF6\",\"width\":0.5},\"pattern\":{\"fillmode\":\"overlay\",\"size\":10,\"solidity\":0.2}},\"type\":\"bar\"}],\"barpolar\":[{\"marker\":{\"line\":{\"color\":\"#E5ECF6\",\"width\":0.5},\"pattern\":{\"fillmode\":\"overlay\",\"size\":10,\"solidity\":0.2}},\"type\":\"barpolar\"}],\"carpet\":[{\"aaxis\":{\"endlinecolor\":\"#2a3f5f\",\"gridcolor\":\"white\",\"linecolor\":\"white\",\"minorgridcolor\":\"white\",\"startlinecolor\":\"#2a3f5f\"},\"baxis\":{\"endlinecolor\":\"#2a3f5f\",\"gridcolor\":\"white\",\"linecolor\":\"white\",\"minorgridcolor\":\"white\",\"startlinecolor\":\"#2a3f5f\"},\"type\":\"carpet\"}],\"choropleth\":[{\"colorbar\":{\"outlinewidth\":0,\"ticks\":\"\"},\"type\":\"choropleth\"}],\"contour\":[{\"colorbar\":{\"outlinewidth\":0,\"ticks\":\"\"},\"colorscale\":[[0.0,\"#0d0887\"],[0.1111111111111111,\"#46039f\"],[0.2222222222222222,\"#7201a8\"],[0.3333333333333333,\"#9c179e\"],[0.4444444444444444,\"#bd3786\"],[0.5555555555555556,\"#d8576b\"],[0.6666666666666666,\"#ed7953\"],[0.7777777777777778,\"#fb9f3a\"],[0.8888888888888888,\"#fdca26\"],[1.0,\"#f0f921\"]],\"type\":\"contour\"}],\"contourcarpet\":[{\"colorbar\":{\"outlinewidth\":0,\"ticks\":\"\"},\"type\":\"contourcarpet\"}],\"heatmap\":[{\"colorbar\":{\"outlinewidth\":0,\"ticks\":\"\"},\"colorscale\":[[0.0,\"#0d0887\"],[0.1111111111111111,\"#46039f\"],[0.2222222222222222,\"#7201a8\"],[0.3333333333333333,\"#9c179e\"],[0.4444444444444444,\"#bd3786\"],[0.5555555555555556,\"#d8576b\"],[0.6666666666666666,\"#ed7953\"],[0.7777777777777778,\"#fb9f3a\"],[0.8888888888888888,\"#fdca26\"],[1.0,\"#f0f921\"]],\"type\":\"heatmap\"}],\"heatmapgl\":[{\"colorbar\":{\"outlinewidth\":0,\"ticks\":\"\"},\"colorscale\":[[0.0,\"#0d0887\"],[0.1111111111111111,\"#46039f\"],[0.2222222222222222,\"#7201a8\"],[0.3333333333333333,\"#9c179e\"],[0.4444444444444444,\"#bd3786\"],[0.5555555555555556,\"#d8576b\"],[0.6666666666666666,\"#ed7953\"],[0.7777777777777778,\"#fb9f3a\"],[0.8888888888888888,\"#fdca26\"],[1.0,\"#f0f921\"]],\"type\":\"heatmapgl\"}],\"histogram\":[{\"marker\":{\"pattern\":{\"fillmode\":\"overlay\",\"size\":10,\"solidity\":0.2}},\"type\":\"histogram\"}],\"histogram2d\":[{\"colorbar\":{\"outlinewidth\":0,\"ticks\":\"\"},\"colorscale\":[[0.0,\"#0d0887\"],[0.1111111111111111,\"#46039f\"],[0.2222222222222222,\"#7201a8\"],[0.3333333333333333,\"#9c179e\"],[0.4444444444444444,\"#bd3786\"],[0.5555555555555556,\"#d8576b\"],[0.6666666666666666,\"#ed7953\"],[0.7777777777777778,\"#fb9f3a\"],[0.8888888888888888,\"#fdca26\"],[1.0,\"#f0f921\"]],\"type\":\"histogram2d\"}],\"histogram2dcontour\":[{\"colorbar\":{\"outlinewidth\":0,\"ticks\":\"\"},\"colorscale\":[[0.0,\"#0d0887\"],[0.1111111111111111,\"#46039f\"],[0.2222222222222222,\"#7201a8\"],[0.3333333333333333,\"#9c179e\"],[0.4444444444444444,\"#bd3786\"],[0.5555555555555556,\"#d8576b\"],[0.6666666666666666,\"#ed7953\"],[0.7777777777777778,\"#fb9f3a\"],[0.8888888888888888,\"#fdca26\"],[1.0,\"#f0f921\"]],\"type\":\"histogram2dcontour\"}],\"mesh3d\":[{\"colorbar\":{\"outlinewidth\":0,\"ticks\":\"\"},\"type\":\"mesh3d\"}],\"parcoords\":[{\"line\":{\"colorbar\":{\"outlinewidth\":0,\"ticks\":\"\"}},\"type\":\"parcoords\"}],\"pie\":[{\"automargin\":true,\"type\":\"pie\"}],\"scatter\":[{\"marker\":{\"colorbar\":{\"outlinewidth\":0,\"ticks\":\"\"}},\"type\":\"scatter\"}],\"scatter3d\":[{\"line\":{\"colorbar\":{\"outlinewidth\":0,\"ticks\":\"\"}},\"marker\":{\"colorbar\":{\"outlinewidth\":0,\"ticks\":\"\"}},\"type\":\"scatter3d\"}],\"scattercarpet\":[{\"marker\":{\"colorbar\":{\"outlinewidth\":0,\"ticks\":\"\"}},\"type\":\"scattercarpet\"}],\"scattergeo\":[{\"marker\":{\"colorbar\":{\"outlinewidth\":0,\"ticks\":\"\"}},\"type\":\"scattergeo\"}],\"scattergl\":[{\"marker\":{\"colorbar\":{\"outlinewidth\":0,\"ticks\":\"\"}},\"type\":\"scattergl\"}],\"scattermapbox\":[{\"marker\":{\"colorbar\":{\"outlinewidth\":0,\"ticks\":\"\"}},\"type\":\"scattermapbox\"}],\"scatterpolar\":[{\"marker\":{\"colorbar\":{\"outlinewidth\":0,\"ticks\":\"\"}},\"type\":\"scatterpolar\"}],\"scatterpolargl\":[{\"marker\":{\"colorbar\":{\"outlinewidth\":0,\"ticks\":\"\"}},\"type\":\"scatterpolargl\"}],\"scatterternary\":[{\"marker\":{\"colorbar\":{\"outlinewidth\":0,\"ticks\":\"\"}},\"type\":\"scatterternary\"}],\"surface\":[{\"colorbar\":{\"outlinewidth\":0,\"ticks\":\"\"},\"colorscale\":[[0.0,\"#0d0887\"],[0.1111111111111111,\"#46039f\"],[0.2222222222222222,\"#7201a8\"],[0.3333333333333333,\"#9c179e\"],[0.4444444444444444,\"#bd3786\"],[0.5555555555555556,\"#d8576b\"],[0.6666666666666666,\"#ed7953\"],[0.7777777777777778,\"#fb9f3a\"],[0.8888888888888888,\"#fdca26\"],[1.0,\"#f0f921\"]],\"type\":\"surface\"}],\"table\":[{\"cells\":{\"fill\":{\"color\":\"#EBF0F8\"},\"line\":{\"color\":\"white\"}},\"header\":{\"fill\":{\"color\":\"#C8D4E3\"},\"line\":{\"color\":\"white\"}},\"type\":\"table\"}]},\"layout\":{\"annotationdefaults\":{\"arrowcolor\":\"#2a3f5f\",\"arrowhead\":0,\"arrowwidth\":1},\"autotypenumbers\":\"strict\",\"coloraxis\":{\"colorbar\":{\"outlinewidth\":0,\"ticks\":\"\"}},\"colorscale\":{\"diverging\":[[0,\"#8e0152\"],[0.1,\"#c51b7d\"],[0.2,\"#de77ae\"],[0.3,\"#f1b6da\"],[0.4,\"#fde0ef\"],[0.5,\"#f7f7f7\"],[0.6,\"#e6f5d0\"],[0.7,\"#b8e186\"],[0.8,\"#7fbc41\"],[0.9,\"#4d9221\"],[1,\"#276419\"]],\"sequential\":[[0.0,\"#0d0887\"],[0.1111111111111111,\"#46039f\"],[0.2222222222222222,\"#7201a8\"],[0.3333333333333333,\"#9c179e\"],[0.4444444444444444,\"#bd3786\"],[0.5555555555555556,\"#d8576b\"],[0.6666666666666666,\"#ed7953\"],[0.7777777777777778,\"#fb9f3a\"],[0.8888888888888888,\"#fdca26\"],[1.0,\"#f0f921\"]],\"sequentialminus\":[[0.0,\"#0d0887\"],[0.1111111111111111,\"#46039f\"],[0.2222222222222222,\"#7201a8\"],[0.3333333333333333,\"#9c179e\"],[0.4444444444444444,\"#bd3786\"],[0.5555555555555556,\"#d8576b\"],[0.6666666666666666,\"#ed7953\"],[0.7777777777777778,\"#fb9f3a\"],[0.8888888888888888,\"#fdca26\"],[1.0,\"#f0f921\"]]},\"colorway\":[\"#636efa\",\"#EF553B\",\"#00cc96\",\"#ab63fa\",\"#FFA15A\",\"#19d3f3\",\"#FF6692\",\"#B6E880\",\"#FF97FF\",\"#FECB52\"],\"font\":{\"color\":\"#2a3f5f\"},\"geo\":{\"bgcolor\":\"white\",\"lakecolor\":\"white\",\"landcolor\":\"#E5ECF6\",\"showlakes\":true,\"showland\":true,\"subunitcolor\":\"white\"},\"hoverlabel\":{\"align\":\"left\"},\"hovermode\":\"closest\",\"mapbox\":{\"style\":\"light\"},\"paper_bgcolor\":\"white\",\"plot_bgcolor\":\"#E5ECF6\",\"polar\":{\"angularaxis\":{\"gridcolor\":\"white\",\"linecolor\":\"white\",\"ticks\":\"\"},\"bgcolor\":\"#E5ECF6\",\"radialaxis\":{\"gridcolor\":\"white\",\"linecolor\":\"white\",\"ticks\":\"\"}},\"scene\":{\"xaxis\":{\"backgroundcolor\":\"#E5ECF6\",\"gridcolor\":\"white\",\"gridwidth\":2,\"linecolor\":\"white\",\"showbackground\":true,\"ticks\":\"\",\"zerolinecolor\":\"white\"},\"yaxis\":{\"backgroundcolor\":\"#E5ECF6\",\"gridcolor\":\"white\",\"gridwidth\":2,\"linecolor\":\"white\",\"showbackground\":true,\"ticks\":\"\",\"zerolinecolor\":\"white\"},\"zaxis\":{\"backgroundcolor\":\"#E5ECF6\",\"gridcolor\":\"white\",\"gridwidth\":2,\"linecolor\":\"white\",\"showbackground\":true,\"ticks\":\"\",\"zerolinecolor\":\"white\"}},\"shapedefaults\":{\"line\":{\"color\":\"#2a3f5f\"}},\"ternary\":{\"aaxis\":{\"gridcolor\":\"white\",\"linecolor\":\"white\",\"ticks\":\"\"},\"baxis\":{\"gridcolor\":\"white\",\"linecolor\":\"white\",\"ticks\":\"\"},\"bgcolor\":\"#E5ECF6\",\"caxis\":{\"gridcolor\":\"white\",\"linecolor\":\"white\",\"ticks\":\"\"}},\"title\":{\"x\":0.05},\"xaxis\":{\"automargin\":true,\"gridcolor\":\"white\",\"linecolor\":\"white\",\"ticks\":\"\",\"title\":{\"standoff\":15},\"zerolinecolor\":\"white\",\"zerolinewidth\":2},\"yaxis\":{\"automargin\":true,\"gridcolor\":\"white\",\"linecolor\":\"white\",\"ticks\":\"\",\"title\":{\"standoff\":15},\"zerolinecolor\":\"white\",\"zerolinewidth\":2}}},\"xaxis\":{\"anchor\":\"y\",\"domain\":[0.0,1.0],\"title\":{\"text\":\"clusters\"}},\"yaxis\":{\"anchor\":\"x\",\"domain\":[0.0,1.0],\"title\":{\"text\":\"inertia\"}}},                        {\"responsive\": true}                    ).then(function(){\n",
       "                            \n",
       "var gd = document.getElementById('3e16ba41-eecf-4fb8-8ad3-d79d7f94e9ce');\n",
       "var x = new MutationObserver(function (mutations, observer) {{\n",
       "        var display = window.getComputedStyle(gd).display;\n",
       "        if (!display || display === 'none') {{\n",
       "            console.log([gd, 'removed!']);\n",
       "            Plotly.purge(gd);\n",
       "            observer.disconnect();\n",
       "        }}\n",
       "}});\n",
       "\n",
       "// Listen for the removal of the full notebook cells\n",
       "var notebookContainer = gd.closest('#notebook-container');\n",
       "if (notebookContainer) {{\n",
       "    x.observe(notebookContainer, {childList: true});\n",
       "}}\n",
       "\n",
       "// Listen for the clearing of the current output cell\n",
       "var outputEl = gd.closest('.output');\n",
       "if (outputEl) {{\n",
       "    x.observe(outputEl, {childList: true});\n",
       "}}\n",
       "\n",
       "                        })                };                });            </script>        </div>"
      ]
     },
     "metadata": {},
     "output_type": "display_data"
    }
   ],
   "source": [
    "grafico = px.line(x = range(1, 10), y = inertia, labels={'y':'inertia','x':'clusters'})\n",
    "\n",
    "grafico.show()"
   ]
  },
  {
   "cell_type": "markdown",
   "metadata": {},
   "source": [
    "Construindo o modelo <b>K-Means</b>:"
   ]
  },
  {
   "cell_type": "code",
   "execution_count": 58,
   "metadata": {},
   "outputs": [
    {
     "data": {
      "text/plain": [
       "KMeans(max_iter=500, n_clusters=6, n_init=100)"
      ]
     },
     "execution_count": 58,
     "metadata": {},
     "output_type": "execute_result"
    }
   ],
   "source": [
    "mod_km_final = KMeans(n_clusters = 6, n_init = 100, max_iter = 500)\n",
    "mod_km_final.fit(dados)"
   ]
  },
  {
   "cell_type": "markdown",
   "metadata": {},
   "source": [
    "Visualizando a quantidade de feições em cada cluster:"
   ]
  },
  {
   "cell_type": "code",
   "execution_count": 59,
   "metadata": {},
   "outputs": [
    {
     "name": "stdout",
     "output_type": "stream",
     "text": [
      "[[   0 5028]\n",
      " [   1 3041]\n",
      " [   2 3442]\n",
      " [   3  514]\n",
      " [   4  779]\n",
      " [   5 1851]]\n"
     ]
    }
   ],
   "source": [
    "unique, counts = np.unique(mod_km_final.labels_, return_counts=True)\n",
    "\n",
    "result = np.column_stack((unique, counts)) \n",
    "print (result)"
   ]
  },
  {
   "cell_type": "markdown",
   "metadata": {},
   "source": [
    "Incluindo o resultado do modelo <b>K-Means</b> na base de dados:"
   ]
  },
  {
   "cell_type": "code",
   "execution_count": 60,
   "metadata": {},
   "outputs": [],
   "source": [
    "geom['KM_6'] = mod_km_final.labels_"
   ]
  },
  {
   "cell_type": "markdown",
   "metadata": {},
   "source": [
    "Visualizando um mapa simples com os clusters do modelo <b>K-Means</b>:"
   ]
  },
  {
   "cell_type": "code",
   "execution_count": 61,
   "metadata": {},
   "outputs": [
    {
     "data": {
      "text/plain": [
       "<AxesSubplot:>"
      ]
     },
     "execution_count": 61,
     "metadata": {},
     "output_type": "execute_result"
    },
    {
     "data": {
      "text/plain": [
       "<Figure size 1440x720 with 0 Axes>"
      ]
     },
     "metadata": {},
     "output_type": "display_data"
    },
    {
     "data": {
      "image/png": "[encoded data removed]",
      "text/plain": [
       "<Figure size 432x288 with 1 Axes>"
      ]
     },
     "metadata": {
      "needs_background": "light"
     },
     "output_type": "display_data"
    }
   ],
   "source": [
    "figure = plt.figure(figsize=(20,10))\n",
    "geom.plot(column= geom['KM_6'], legend=True, categorical=True)"
   ]
  },
  {
   "cell_type": "markdown",
   "metadata": {},
   "source": [
    "Gerando um gráfico de <i>dendrograma</i> para identificar um bom número de cluster no modelo <b>AC</b>:"
   ]
  },
  {
   "cell_type": "code",
   "execution_count": 62,
   "metadata": {
    "scrolled": true
   },
   "outputs": [
    {
     "data": {
      "image/png": "[encoded data removed]",
      "text/plain": [
       "<Figure size 720x576 with 1 Axes>"
      ]
     },
     "metadata": {
      "needs_background": "light"
     },
     "output_type": "display_data"
    }
   ],
   "source": [
    "fig, axes = plt.subplots(1, 1, figsize=(10,8))\n",
    "\n",
    "dendrograma = dendrogram(linkage(dados, method='ward'), ax=axes, p = 3, truncate_mode = 'level')\n",
    "plt.xlabel('Clusters')\n",
    "plt.ylabel('Distância');\n",
    "plt.show()"
   ]
  },
  {
   "cell_type": "markdown",
   "metadata": {},
   "source": [
    "Construindo o modelo <b>AC</b>:"
   ]
  },
  {
   "cell_type": "code",
   "execution_count": 63,
   "metadata": {},
   "outputs": [
    {
     "data": {
      "text/plain": [
       "AgglomerativeClustering(n_clusters=6)"
      ]
     },
     "execution_count": 63,
     "metadata": {},
     "output_type": "execute_result"
    }
   ],
   "source": [
    "ag_model = AgglomerativeClustering(n_clusters = 6, linkage='ward', affinity='euclidean')\n",
    "ag_model.fit(dados)"
   ]
  },
  {
   "cell_type": "markdown",
   "metadata": {},
   "source": [
    "Visualizando a quantidade de feições em cada cluster:"
   ]
  },
  {
   "cell_type": "code",
   "execution_count": 64,
   "metadata": {},
   "outputs": [
    {
     "name": "stdout",
     "output_type": "stream",
     "text": [
      "[[   0 5340]\n",
      " [   1  842]\n",
      " [   2 2810]\n",
      " [   3  680]\n",
      " [   4 3062]\n",
      " [   5 1921]]\n"
     ]
    }
   ],
   "source": [
    "unique, counts = np.unique(ag_model.labels_, return_counts=True)\n",
    "\n",
    "result = np.column_stack((unique, counts)) \n",
    "print (result)"
   ]
  },
  {
   "cell_type": "markdown",
   "metadata": {},
   "source": [
    "Incluindo o resultado do modelo <b>AC</b> na base de dados:"
   ]
  },
  {
   "cell_type": "code",
   "execution_count": 65,
   "metadata": {},
   "outputs": [],
   "source": [
    "geom['HC_6'] = ag_model.labels_"
   ]
  },
  {
   "cell_type": "markdown",
   "metadata": {},
   "source": [
    "Visualizando um mapa simples com os clusters do modelo <b>AC</b>:"
   ]
  },
  {
   "cell_type": "code",
   "execution_count": 66,
   "metadata": {},
   "outputs": [
    {
     "data": {
      "text/plain": [
       "<AxesSubplot:>"
      ]
     },
     "execution_count": 66,
     "metadata": {},
     "output_type": "execute_result"
    },
    {
     "data": {
      "image/png": "[encoded data removed]",
      "text/plain": [
       "<Figure size 432x288 with 1 Axes>"
      ]
     },
     "metadata": {
      "needs_background": "light"
     },
     "output_type": "display_data"
    }
   ],
   "source": [
    "geom.plot(column= geom['HC_6'], legend=True, categorical=True)"
   ]
  },
  {
   "cell_type": "markdown",
   "metadata": {},
   "source": [
    "Construindo o modelo <b>SOM</b>:"
   ]
  },
  {
   "cell_type": "code",
   "execution_count": 67,
   "metadata": {},
   "outputs": [],
   "source": [
    "som_model = SOM(m=2, n=3, dim=8, sigma = 0.001)\n",
    "som_model.fit(dados, epochs = 10000)\n",
    "predicao_som = som_model.predict(dados)"
   ]
  },
  {
   "cell_type": "markdown",
   "metadata": {},
   "source": [
    "Visualizando a quantidade de feições em cada cluster:"
   ]
  },
  {
   "cell_type": "code",
   "execution_count": 68,
   "metadata": {},
   "outputs": [
    {
     "name": "stdout",
     "output_type": "stream",
     "text": [
      "[[   0 1835]\n",
      " [   1 6384]\n",
      " [   2 4593]\n",
      " [   3  755]\n",
      " [   4  546]\n",
      " [   5  542]]\n"
     ]
    }
   ],
   "source": [
    "unique, counts = np.unique(predicao_som, return_counts=True)\n",
    "\n",
    "result = np.column_stack((unique, counts)) \n",
    "print (result)"
   ]
  },
  {
   "cell_type": "markdown",
   "metadata": {},
   "source": [
    "Incluindo o resultado do modelo <b>SOM</b> na base de dados:"
   ]
  },
  {
   "cell_type": "code",
   "execution_count": 70,
   "metadata": {},
   "outputs": [],
   "source": [
    "geom['SOM_23_6'] = predicao_som"
   ]
  },
  {
   "cell_type": "markdown",
   "metadata": {},
   "source": [
    "Visualizando um mapa simples com os clusters do modelo <b>SOM</b>:"
   ]
  },
  {
   "cell_type": "code",
   "execution_count": 73,
   "metadata": {},
   "outputs": [
    {
     "data": {
      "text/plain": [
       "<AxesSubplot:>"
      ]
     },
     "execution_count": 73,
     "metadata": {},
     "output_type": "execute_result"
    },
    {
     "data": {
      "image/png": "[encoded data removed]",
      "text/plain": [
       "<Figure size 432x288 with 1 Axes>"
      ]
     },
     "metadata": {
      "needs_background": "light"
     },
     "output_type": "display_data"
    }
   ],
   "source": [
    "geom.plot(column= geom['SOM_23_6'], legend=True, categorical=True)"
   ]
  },
  {
   "cell_type": "markdown",
   "metadata": {},
   "source": [
    "Visualizando a base de dados e exportando uma chamada shapefile com as informações:"
   ]
  },
  {
   "cell_type": "code",
   "execution_count": 74,
   "metadata": {},
   "outputs": [
    {
     "data": {
      "text/html": [
       "<div>\n",
       "<style scoped>\n",
       "    .dataframe tbody tr th:only-of-type {\n",
       "        vertical-align: middle;\n",
       "    }\n",
       "\n",
       "    .dataframe tbody tr th {\n",
       "        vertical-align: top;\n",
       "    }\n",
       "\n",
       "    .dataframe thead th {\n",
       "        text-align: right;\n",
       "    }\n",
       "</style>\n",
       "<table border=\"1\" class=\"dataframe\">\n",
       "  <thead>\n",
       "    <tr style=\"text-align: right;\">\n",
       "      <th></th>\n",
       "      <th>ID</th>\n",
       "      <th>geometry</th>\n",
       "      <th>SN [MEAN]</th>\n",
       "      <th>VN [MEAN]</th>\n",
       "      <th>HND [MEAN]</th>\n",
       "      <th>CA_AG</th>\n",
       "      <th>CA_SE</th>\n",
       "      <th>CA_VA</th>\n",
       "      <th>CA_VH</th>\n",
       "      <th>PD_VH</th>\n",
       "      <th>KM_7</th>\n",
       "      <th>KM_6</th>\n",
       "      <th>HC_6</th>\n",
       "      <th>SOM_24_8</th>\n",
       "      <th>SOM_23_6</th>\n",
       "    </tr>\n",
       "  </thead>\n",
       "  <tbody>\n",
       "    <tr>\n",
       "      <th>0</th>\n",
       "      <td>0</td>\n",
       "      <td>POLYGON ((752288.17666 9722818.28253, 752288.6...</td>\n",
       "      <td>-0.073030</td>\n",
       "      <td>0.787566</td>\n",
       "      <td>0.205118</td>\n",
       "      <td>-0.403693</td>\n",
       "      <td>-0.309557</td>\n",
       "      <td>0.928459</td>\n",
       "      <td>-0.682653</td>\n",
       "      <td>-0.835323</td>\n",
       "      <td>3</td>\n",
       "      <td>0</td>\n",
       "      <td>0</td>\n",
       "      <td>1</td>\n",
       "      <td>1</td>\n",
       "    </tr>\n",
       "    <tr>\n",
       "      <th>1</th>\n",
       "      <td>1</td>\n",
       "      <td>POLYGON ((752388.36020 9722817.84804, 752388.7...</td>\n",
       "      <td>0.339348</td>\n",
       "      <td>0.632469</td>\n",
       "      <td>-0.077947</td>\n",
       "      <td>-0.403693</td>\n",
       "      <td>-0.309557</td>\n",
       "      <td>0.918417</td>\n",
       "      <td>-0.682653</td>\n",
       "      <td>-0.835323</td>\n",
       "      <td>3</td>\n",
       "      <td>0</td>\n",
       "      <td>0</td>\n",
       "      <td>1</td>\n",
       "      <td>1</td>\n",
       "    </tr>\n",
       "    <tr>\n",
       "      <th>2</th>\n",
       "      <td>2</td>\n",
       "      <td>POLYGON ((752488.54379 9722817.41380, 752488.9...</td>\n",
       "      <td>0.709323</td>\n",
       "      <td>-0.254420</td>\n",
       "      <td>-0.475393</td>\n",
       "      <td>-0.403693</td>\n",
       "      <td>-0.309557</td>\n",
       "      <td>0.908381</td>\n",
       "      <td>-0.682653</td>\n",
       "      <td>-0.835323</td>\n",
       "      <td>3</td>\n",
       "      <td>0</td>\n",
       "      <td>0</td>\n",
       "      <td>1</td>\n",
       "      <td>1</td>\n",
       "    </tr>\n",
       "    <tr>\n",
       "      <th>3</th>\n",
       "      <td>3</td>\n",
       "      <td>POLYGON ((752588.72746 9722816.97981, 752589.1...</td>\n",
       "      <td>0.133846</td>\n",
       "      <td>-0.601097</td>\n",
       "      <td>-0.595551</td>\n",
       "      <td>-0.403693</td>\n",
       "      <td>-0.309557</td>\n",
       "      <td>0.898350</td>\n",
       "      <td>-0.682653</td>\n",
       "      <td>-0.835323</td>\n",
       "      <td>3</td>\n",
       "      <td>0</td>\n",
       "      <td>0</td>\n",
       "      <td>1</td>\n",
       "      <td>1</td>\n",
       "    </tr>\n",
       "    <tr>\n",
       "      <th>4</th>\n",
       "      <td>4</td>\n",
       "      <td>POLYGON ((752688.91118 9722816.54607, 752689.3...</td>\n",
       "      <td>-0.148261</td>\n",
       "      <td>-1.313754</td>\n",
       "      <td>-0.614037</td>\n",
       "      <td>-0.403693</td>\n",
       "      <td>0.368860</td>\n",
       "      <td>0.294439</td>\n",
       "      <td>-0.520657</td>\n",
       "      <td>-0.114445</td>\n",
       "      <td>3</td>\n",
       "      <td>0</td>\n",
       "      <td>0</td>\n",
       "      <td>1</td>\n",
       "      <td>1</td>\n",
       "    </tr>\n",
       "    <tr>\n",
       "      <th>...</th>\n",
       "      <td>...</td>\n",
       "      <td>...</td>\n",
       "      <td>...</td>\n",
       "      <td>...</td>\n",
       "      <td>...</td>\n",
       "      <td>...</td>\n",
       "      <td>...</td>\n",
       "      <td>...</td>\n",
       "      <td>...</td>\n",
       "      <td>...</td>\n",
       "      <td>...</td>\n",
       "      <td>...</td>\n",
       "      <td>...</td>\n",
       "      <td>...</td>\n",
       "      <td>...</td>\n",
       "    </tr>\n",
       "    <tr>\n",
       "      <th>14650</th>\n",
       "      <td>14650</td>\n",
       "      <td>POLYGON ((752435.78613 9733807.56075, 752436.2...</td>\n",
       "      <td>-0.723446</td>\n",
       "      <td>0.178388</td>\n",
       "      <td>-0.720330</td>\n",
       "      <td>2.703014</td>\n",
       "      <td>-0.309557</td>\n",
       "      <td>-0.966817</td>\n",
       "      <td>-0.682653</td>\n",
       "      <td>-0.835323</td>\n",
       "      <td>4</td>\n",
       "      <td>5</td>\n",
       "      <td>5</td>\n",
       "      <td>0</td>\n",
       "      <td>0</td>\n",
       "    </tr>\n",
       "    <tr>\n",
       "      <th>14651</th>\n",
       "      <td>14651</td>\n",
       "      <td>POLYGON ((752535.94173 9733807.13343, 752536.3...</td>\n",
       "      <td>-0.876452</td>\n",
       "      <td>-0.123452</td>\n",
       "      <td>-0.817381</td>\n",
       "      <td>2.703018</td>\n",
       "      <td>-0.309557</td>\n",
       "      <td>-0.966817</td>\n",
       "      <td>-0.682653</td>\n",
       "      <td>-0.835323</td>\n",
       "      <td>4</td>\n",
       "      <td>5</td>\n",
       "      <td>5</td>\n",
       "      <td>0</td>\n",
       "      <td>0</td>\n",
       "    </tr>\n",
       "    <tr>\n",
       "      <th>14652</th>\n",
       "      <td>14652</td>\n",
       "      <td>POLYGON ((752636.09739 9733806.70637, 752636.5...</td>\n",
       "      <td>-0.972583</td>\n",
       "      <td>-0.069461</td>\n",
       "      <td>-0.817381</td>\n",
       "      <td>2.703022</td>\n",
       "      <td>-0.309557</td>\n",
       "      <td>-0.966817</td>\n",
       "      <td>-0.682653</td>\n",
       "      <td>-0.835323</td>\n",
       "      <td>4</td>\n",
       "      <td>5</td>\n",
       "      <td>5</td>\n",
       "      <td>0</td>\n",
       "      <td>0</td>\n",
       "    </tr>\n",
       "    <tr>\n",
       "      <th>14653</th>\n",
       "      <td>14653</td>\n",
       "      <td>POLYGON ((752736.25311 9733806.27957, 752736.6...</td>\n",
       "      <td>-0.854758</td>\n",
       "      <td>-0.001129</td>\n",
       "      <td>-0.754991</td>\n",
       "      <td>2.703025</td>\n",
       "      <td>-0.309557</td>\n",
       "      <td>-0.966817</td>\n",
       "      <td>-0.682653</td>\n",
       "      <td>-0.835323</td>\n",
       "      <td>4</td>\n",
       "      <td>5</td>\n",
       "      <td>5</td>\n",
       "      <td>0</td>\n",
       "      <td>0</td>\n",
       "    </tr>\n",
       "    <tr>\n",
       "      <th>14654</th>\n",
       "      <td>14654</td>\n",
       "      <td>POLYGON ((752836.40890 9733805.85302, 752836.8...</td>\n",
       "      <td>-0.773980</td>\n",
       "      <td>0.098468</td>\n",
       "      <td>-0.687980</td>\n",
       "      <td>2.703029</td>\n",
       "      <td>-0.309557</td>\n",
       "      <td>-0.966817</td>\n",
       "      <td>-0.682653</td>\n",
       "      <td>-0.835323</td>\n",
       "      <td>4</td>\n",
       "      <td>5</td>\n",
       "      <td>5</td>\n",
       "      <td>0</td>\n",
       "      <td>0</td>\n",
       "    </tr>\n",
       "  </tbody>\n",
       "</table>\n",
       "<p>14655 rows × 15 columns</p>\n",
       "</div>"
      ],
      "text/plain": [
       "          ID                                           geometry  SN [MEAN]  \\\n",
       "0          0  POLYGON ((752288.17666 9722818.28253, 752288.6...  -0.073030   \n",
       "1          1  POLYGON ((752388.36020 9722817.84804, 752388.7...   0.339348   \n",
       "2          2  POLYGON ((752488.54379 9722817.41380, 752488.9...   0.709323   \n",
       "3          3  POLYGON ((752588.72746 9722816.97981, 752589.1...   0.133846   \n",
       "4          4  POLYGON ((752688.91118 9722816.54607, 752689.3...  -0.148261   \n",
       "...      ...                                                ...        ...   \n",
       "14650  14650  POLYGON ((752435.78613 9733807.56075, 752436.2...  -0.723446   \n",
       "14651  14651  POLYGON ((752535.94173 9733807.13343, 752536.3...  -0.876452   \n",
       "14652  14652  POLYGON ((752636.09739 9733806.70637, 752636.5...  -0.972583   \n",
       "14653  14653  POLYGON ((752736.25311 9733806.27957, 752736.6...  -0.854758   \n",
       "14654  14654  POLYGON ((752836.40890 9733805.85302, 752836.8...  -0.773980   \n",
       "\n",
       "       VN [MEAN]  HND [MEAN]     CA_AG     CA_SE     CA_VA     CA_VH  \\\n",
       "0       0.787566    0.205118 -0.403693 -0.309557  0.928459 -0.682653   \n",
       "1       0.632469   -0.077947 -0.403693 -0.309557  0.918417 -0.682653   \n",
       "2      -0.254420   -0.475393 -0.403693 -0.309557  0.908381 -0.682653   \n",
       "3      -0.601097   -0.595551 -0.403693 -0.309557  0.898350 -0.682653   \n",
       "4      -1.313754   -0.614037 -0.403693  0.368860  0.294439 -0.520657   \n",
       "...          ...         ...       ...       ...       ...       ...   \n",
       "14650   0.178388   -0.720330  2.703014 -0.309557 -0.966817 -0.682653   \n",
       "14651  -0.123452   -0.817381  2.703018 -0.309557 -0.966817 -0.682653   \n",
       "14652  -0.069461   -0.817381  2.703022 -0.309557 -0.966817 -0.682653   \n",
       "14653  -0.001129   -0.754991  2.703025 -0.309557 -0.966817 -0.682653   \n",
       "14654   0.098468   -0.687980  2.703029 -0.309557 -0.966817 -0.682653   \n",
       "\n",
       "          PD_VH  KM_7  KM_6  HC_6  SOM_24_8  SOM_23_6  \n",
       "0     -0.835323     3     0     0         1         1  \n",
       "1     -0.835323     3     0     0         1         1  \n",
       "2     -0.835323     3     0     0         1         1  \n",
       "3     -0.835323     3     0     0         1         1  \n",
       "4     -0.114445     3     0     0         1         1  \n",
       "...         ...   ...   ...   ...       ...       ...  \n",
       "14650 -0.835323     4     5     5         0         0  \n",
       "14651 -0.835323     4     5     5         0         0  \n",
       "14652 -0.835323     4     5     5         0         0  \n",
       "14653 -0.835323     4     5     5         0         0  \n",
       "14654 -0.835323     4     5     5         0         0  \n",
       "\n",
       "[14655 rows x 15 columns]"
      ]
     },
     "execution_count": 74,
     "metadata": {},
     "output_type": "execute_result"
    }
   ],
   "source": [
    "geom"
   ]
  },
  {
   "cell_type": "code",
   "execution_count": 76,
   "metadata": {},
   "outputs": [],
   "source": [
    "geom.to_file(\"E:\\\\00_INPE\\\\0_DISSERTACAO\\\\0_BASE_VETOR\\\\AMBIENTAL\\\\clusters_ambiental.shp\")"
   ]
  }
 ],
 "metadata": {
  "colab": {
   "name": "Preparação e seleção de variáveis - Disciplina AI - CAP - INPE.ipynb",
   "provenance": []
  },
  "kernelspec": {
   "display_name": "Python 3 (ipykernel)",
   "language": "python",
   "name": "python3"
  },
  "language_info": {
   "codemirror_mode": {
    "name": "ipython",
    "version": 3
   },
   "file_extension": ".py",
   "mimetype": "text/x-python",
   "name": "python",
   "nbconvert_exporter": "python",
   "pygments_lexer": "ipython3",
   "version": "3.9.12"
  }
 },
 "nbformat": 4,
 "nbformat_minor": 1
}
