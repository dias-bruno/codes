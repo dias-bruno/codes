{
 "cells": [
  {
   "cell_type": "markdown",
   "metadata": {},
   "source": [
    "# <center> Cálculo dos atributos de vizinhança para um espaço celular </center>\n",
    "\n",
    "<br/>\n",
    "\n",
    "<div style=\"text-align: center;font-size: 90%;\">\n",
    "    Bruno Dias dos Santos<sup><a href=\"https://orcid.org/0000-0001-6181-2158\"><i class=\"fab fa-lg fa-orcid\" style=\"color: #a6ce39\"></i></a></sup>, Gilberto Eidi Teramoto Oliveira<sup><a href=\"https://orcid.org/0000-0002-0082-9498\"><i class=\"fab fa-lg fa-orcid\" style=\"color: #a6ce39\"></i></a></sup><i class=\"fab fa-lg fa-orcid\" style=\"color: #a6ce39\"></i></a></sup>\n",
    "    <br/><br/>\n",
    "    Mestrado em Sensoriamento Remoto, Instituto Nacional de Pesquisas Espaciais (INPE)\n",
    "    <br/>\n",
    "    Avenida dos Astronautas, 1758, Jardim da Granja, São José dos Campos, SP 12227-010, Brasil\n",
    "    <br/><br/>\n",
    "    Contato: <div><a href=\"mailto:bruno.santos@inpe.br\">bruno.santos@inpe.br</a></div>\n",
    "    <div><a href=\"mailto:gilberto.eidi@inpe.br\">gilberto.terramoto@inpe.br</a></div>\n",
    "    <br/><br/>\n",
    "    Última atualização: 23 de Agosto de 2021\n",
    "</div>\n",
    "<br/>\n",
    "\n",
    "<div style=\"text-align: justify;  margin-left: 25%; margin-right: 25%;\">\n",
    "<b>Resumo.</b> Este Notebook apresenta uma metodologia para se calcular atributos de vizinhança em espaços celulares. Para cada célula é calculado de maneira normalizada (indo de -1 a 1), o quão maior ou quão menor é o valor dos seus atributo em comparação com as células adjacentes e com o restante do espaço celular. Para rodar esse notebook, é nessário: um arquvio .csv com os atributos do espaço celular e uma matriz de distância (.csv) informando quais são os vizinhos de cada célula. Como saída, serão retornados para cada atributo a média das células vizinhas, a diferença normalizada para as células vizinhas e a diferença normalizada em relação ao espaço celular como um todo.    \n",
    "</div>    \n",
    "\n",
    "<br/>"
   ]
  },
  {
   "cell_type": "markdown",
   "metadata": {},
   "source": [
    "Importação das bibliotecas <i>Pandas</i> e <i>Numpy</i>:"
   ]
  },
  {
   "cell_type": "code",
   "execution_count": null,
   "metadata": {},
   "outputs": [],
   "source": [
    "import pandas as pd\n",
    "import numpy as np"
   ]
  },
  {
   "cell_type": "markdown",
   "metadata": {},
   "source": [
    "Leitura da tabela CSV com os atributos da grade regular e criação de um Dataframe:"
   ]
  },
  {
   "cell_type": "code",
   "execution_count": null,
   "metadata": {},
   "outputs": [],
   "source": [
    "grade = pd.read_csv(\"C:\\\\Users\\\\dias-bruno\\\\Desktop\\\\INPE-SER\\\\3PERIODO\\\\ANES\\\\20211012\\\\grade_maraba_com_segreg.csv\", low_memory=False)"
   ]
  },
  {
   "cell_type": "markdown",
   "metadata": {},
   "source": [
    "Visualização das informações da grade regular:"
   ]
  },
  {
   "cell_type": "code",
   "execution_count": null,
   "metadata": {},
   "outputs": [],
   "source": [
    "grade"
   ]
  },
  {
   "cell_type": "markdown",
   "metadata": {},
   "source": [
    "Definicação do campo identificador de cada unidade celular:"
   ]
  },
  {
   "cell_type": "code",
   "execution_count": null,
   "metadata": {},
   "outputs": [],
   "source": [
    "id_grade = 'id'"
   ]
  },
  {
   "cell_type": "markdown",
   "metadata": {},
   "source": [
    "Ordenando a grade pelos campo identificador:"
   ]
  },
  {
   "cell_type": "code",
   "execution_count": null,
   "metadata": {},
   "outputs": [],
   "source": [
    "grade = grade.sort_values(by=[id_grade])\n",
    "grade"
   ]
  },
  {
   "cell_type": "markdown",
   "metadata": {},
   "source": [
    "Caso haja uma variável categórica relacionada ao _target_ (ou amostras/clases), está deverá ser excluída das métricas ser declarada e porteriormente excluída das métricas de vizinhanças:"
   ]
  },
  {
   "cell_type": "code",
   "execution_count": null,
   "metadata": {},
   "outputs": [],
   "source": [
    "amostras = 'TARGET'"
   ]
  },
  {
   "cell_type": "markdown",
   "metadata": {},
   "source": [
    "Criando um DataFrame com as informações relacionadas ao identificador da célula e, caso exista, target:"
   ]
  },
  {
   "cell_type": "code",
   "execution_count": null,
   "metadata": {},
   "outputs": [],
   "source": [
    "var_num = grade.select_dtypes(include=['float64','int64','int','float'])\n",
    "var_cat = grade.select_dtypes(include=['string','object'])\n",
    "\n",
    "try: \n",
    "    var_cat = var_cat.drop(columns = amostras)\n",
    "except:\n",
    "    var_num = var_num.drop(columns = amostras)\n",
    "    \n",
    "var_num = var_num.fillna(0)\n",
    "\n",
    "aux = grade[[id_grade, amostras]]\n",
    "\n",
    "try:\n",
    "    var_cat = pd.get_dummies(var_cat, drop_first=True)\n",
    "    dataframe = (aux.merge(var_num, left_on=id_grade, right_on=id_grade)).merge(var_cat, left_index=True, right_index=True)\n",
    "    \n",
    "except:\n",
    "    dataframe = (aux.merge(var_num, left_on=id_grade, right_on=id_grade))\n",
    "    print(\"Não há variáveis categóricas para aplicar OneHotEncode\")\n",
    "\n",
    "dataframe"
   ]
  },
  {
   "cell_type": "code",
   "execution_count": null,
   "metadata": {},
   "outputs": [],
   "source": [
    "saida = dataframe[[id_grade,amostras]]\n",
    "saida"
   ]
  },
  {
   "cell_type": "markdown",
   "metadata": {},
   "source": [
    "Leitura do cabeçalho do DataFrame grade. Caso haja uma variável relacionada ao <i>target</i> - ou classe que a amostra pertença -, ela será retirada do cabeçalho:"
   ]
  },
  {
   "cell_type": "code",
   "execution_count": null,
   "metadata": {},
   "outputs": [],
   "source": [
    "dataframe.head()"
   ]
  },
  {
   "cell_type": "code",
   "execution_count": null,
   "metadata": {},
   "outputs": [],
   "source": [
    "#rodar esta célula apenas se houver target no seu dataframe\n",
    "\n",
    "dataframe = dataframe.drop(columns = amostras)"
   ]
  },
  {
   "cell_type": "markdown",
   "metadata": {},
   "source": [
    "Leitura da matriz de distância. O processo para a geração de uma matriz de distância pode ser visualizado neste <a href = https://docs.qgis.org/2.8/en/docs/user_manual/processing_algs/qgis/vector_analysis_tools/distancematrix.html> link</a>. \n",
    "\n",
    "<i><b>obs:</b> Para uma grade formada por quadrados, considere 8 vizinhos. Para uma grade formada por hexágonos, considere 6 vizinhos.</i>"
   ]
  },
  {
   "cell_type": "code",
   "execution_count": null,
   "metadata": {},
   "outputs": [],
   "source": [
    "matriz = pd.read_csv(\"C:\\\\Users\\\\dias-bruno\\\\Desktop\\\\INPE-SER\\\\3PERIODO\\\\ANES\\\\matriz_distancia_maraba.csv\", low_memory=False)"
   ]
  },
  {
   "cell_type": "markdown",
   "metadata": {},
   "source": [
    "Visualização da matriz. Como resultado, são apresentados a distância entre uma célula de origem e seus vizinhos adjacentes:"
   ]
  },
  {
   "cell_type": "code",
   "execution_count": null,
   "metadata": {},
   "outputs": [],
   "source": [
    "matriz"
   ]
  },
  {
   "cell_type": "markdown",
   "metadata": {},
   "source": [
    "Definicação da variável identificadora de cada unidade de origem da matriz:"
   ]
  },
  {
   "cell_type": "code",
   "execution_count": null,
   "metadata": {},
   "outputs": [],
   "source": [
    "id_origem = 'InputID'"
   ]
  },
  {
   "cell_type": "markdown",
   "metadata": {},
   "source": [
    "Definicação da variável identificadora de cada unidade de destino da matriz:"
   ]
  },
  {
   "cell_type": "code",
   "execution_count": null,
   "metadata": {},
   "outputs": [],
   "source": [
    "id_destin = 'TargetID'"
   ]
  },
  {
   "cell_type": "markdown",
   "metadata": {},
   "source": [
    "Preenchimento da matriz de distância com as informações dos vizinhos:  "
   ]
  },
  {
   "cell_type": "code",
   "execution_count": null,
   "metadata": {},
   "outputs": [],
   "source": [
    "dados = matriz.merge(dataframe, left_on =id_destin, right_on=id_grade)\n",
    "dados "
   ]
  },
  {
   "cell_type": "markdown",
   "metadata": {},
   "source": [
    "Obtendo as médias da vizinhança (MV) para cada variável e agrupando pela célula de origem:"
   ]
  },
  {
   "cell_type": "code",
   "execution_count": null,
   "metadata": {},
   "outputs": [],
   "source": [
    "MV = (dados.groupby(id_origem, sort=True).mean())\n",
    "MV.insert(0,'InputID',MV.index)\n",
    "MV.index = dataframe.index"
   ]
  },
  {
   "cell_type": "markdown",
   "metadata": {},
   "source": [
    "Visualização dos valores médios para cada variável agrupado pela célula de origem:"
   ]
  },
  {
   "cell_type": "code",
   "execution_count": null,
   "metadata": {},
   "outputs": [],
   "source": [
    "MV"
   ]
  },
  {
   "cell_type": "markdown",
   "metadata": {},
   "source": [
    "Passando a identificação de origem para a variável correspondente à *id_grade*:"
   ]
  },
  {
   "cell_type": "code",
   "execution_count": null,
   "metadata": {},
   "outputs": [],
   "source": [
    "MV[id_grade] = MV[id_origem]\n",
    "MV"
   ]
  },
  {
   "cell_type": "markdown",
   "metadata": {},
   "source": [
    "Ajustando *mean_viz* para ter a mesma quantidade de colunas e linhas que a grade regular:"
   ]
  },
  {
   "cell_type": "code",
   "execution_count": null,
   "metadata": {},
   "outputs": [],
   "source": [
    "MV = MV[dataframe.columns]\n",
    "MV"
   ]
  },
  {
   "cell_type": "markdown",
   "metadata": {},
   "source": [
    "Calculo da diferença normalizada entre cada célula e seus vizinhos adjacentes:"
   ]
  },
  {
   "cell_type": "code",
   "execution_count": null,
   "metadata": {},
   "outputs": [],
   "source": [
    "DV = (dataframe - MV)/(dataframe + MV)"
   ]
  },
  {
   "cell_type": "markdown",
   "metadata": {},
   "source": [
    "Ajuste de possíveis valores 'Nan' através de um valor _dummy_ a sua escolha:"
   ]
  },
  {
   "cell_type": "code",
   "execution_count": null,
   "metadata": {},
   "outputs": [],
   "source": [
    "dummy = 0 #alterar para algum outro valor a sua escolha\n",
    "\n",
    "DV = DV.fillna(dummy)"
   ]
  },
  {
   "cell_type": "markdown",
   "metadata": {},
   "source": [
    "Visualização da diferença normalizada:"
   ]
  },
  {
   "cell_type": "code",
   "execution_count": null,
   "metadata": {
    "scrolled": true
   },
   "outputs": [],
   "source": [
    "DV"
   ]
  },
  {
   "cell_type": "markdown",
   "metadata": {},
   "source": [
    "Ajuste da variável de identificação:"
   ]
  },
  {
   "cell_type": "code",
   "execution_count": null,
   "metadata": {},
   "outputs": [],
   "source": [
    "DV[id_grade] = dataframe[id_grade]"
   ]
  },
  {
   "cell_type": "code",
   "execution_count": null,
   "metadata": {
    "scrolled": true
   },
   "outputs": [],
   "source": [
    "DV"
   ]
  },
  {
   "cell_type": "markdown",
   "metadata": {},
   "source": [
    "Alterando a identificação das colunas da média da vizinhança (mean_viz): "
   ]
  },
  {
   "cell_type": "code",
   "execution_count": null,
   "metadata": {},
   "outputs": [],
   "source": [
    "MV.columns = 'MV_' + MV.columns"
   ]
  },
  {
   "cell_type": "code",
   "execution_count": null,
   "metadata": {},
   "outputs": [],
   "source": [
    "MV"
   ]
  },
  {
   "cell_type": "markdown",
   "metadata": {},
   "source": [
    "Alterando a identificação das colunas da diferença normalizada (DV): "
   ]
  },
  {
   "cell_type": "code",
   "execution_count": null,
   "metadata": {},
   "outputs": [],
   "source": [
    "DV.columns = 'DV_' + DV.columns"
   ]
  },
  {
   "cell_type": "code",
   "execution_count": null,
   "metadata": {},
   "outputs": [],
   "source": [
    "DV"
   ]
  },
  {
   "cell_type": "markdown",
   "metadata": {},
   "source": [
    "Calculo da diferença normalizada entre cada célula e a média geral (DG):"
   ]
  },
  {
   "cell_type": "code",
   "execution_count": null,
   "metadata": {},
   "outputs": [],
   "source": [
    "DG = (dataframe - dataframe.mean())/(dataframe + dataframe.mean())"
   ]
  },
  {
   "cell_type": "markdown",
   "metadata": {},
   "source": [
    "Visualização da diferença normalizada:"
   ]
  },
  {
   "cell_type": "code",
   "execution_count": null,
   "metadata": {
    "scrolled": true
   },
   "outputs": [],
   "source": [
    "DG"
   ]
  },
  {
   "cell_type": "markdown",
   "metadata": {},
   "source": [
    "Ajuste da variável de identificação:"
   ]
  },
  {
   "cell_type": "code",
   "execution_count": null,
   "metadata": {},
   "outputs": [],
   "source": [
    "DG[id_grade] = dataframe[id_grade]"
   ]
  },
  {
   "cell_type": "code",
   "execution_count": null,
   "metadata": {
    "scrolled": true
   },
   "outputs": [],
   "source": [
    "DG"
   ]
  },
  {
   "cell_type": "markdown",
   "metadata": {},
   "source": [
    "Alterando a identificação das colunas da diferença normalizada (DG): "
   ]
  },
  {
   "cell_type": "code",
   "execution_count": null,
   "metadata": {},
   "outputs": [],
   "source": [
    "DG.columns = 'DG_' + DG.columns"
   ]
  },
  {
   "cell_type": "code",
   "execution_count": null,
   "metadata": {},
   "outputs": [],
   "source": [
    "DG"
   ]
  },
  {
   "cell_type": "markdown",
   "metadata": {},
   "source": [
    "Merge entre as tabelas de *MV*, *DV* e *DG*:"
   ]
  },
  {
   "cell_type": "code",
   "execution_count": null,
   "metadata": {},
   "outputs": [],
   "source": [
    "aux = dataframe.merge(MV, left_on =id_grade, right_on='MV_'+id_grade)\n",
    "aux2 = aux.merge(DV, left_on =id_grade, right_on='DV_'+id_grade)\n",
    "result = aux2.merge(DG, left_on = id_grade, right_on='DG_'+id_grade)"
   ]
  },
  {
   "cell_type": "code",
   "execution_count": null,
   "metadata": {},
   "outputs": [],
   "source": [
    "result"
   ]
  },
  {
   "cell_type": "markdown",
   "metadata": {},
   "source": [
    "Incluindo a variável categórica (apenas caso esta tenha sido excluída anteriormente):"
   ]
  },
  {
   "cell_type": "code",
   "execution_count": null,
   "metadata": {},
   "outputs": [],
   "source": [
    "result = result.merge(saida, left_on =id_grade, right_on=id_grade)\n",
    "result"
   ]
  },
  {
   "cell_type": "markdown",
   "metadata": {},
   "source": [
    "Exportando arquivo CSV como todos os novos atributos:"
   ]
  },
  {
   "cell_type": "code",
   "execution_count": null,
   "metadata": {},
   "outputs": [],
   "source": [
    "result.to_csv(\"C:\\\\Users\\\\dias-bruno\\\\Desktop\\\\INPE-SER\\\\3PERIODO\\\\ANES\\\\20211012\\\\grade_maraba_com_segreg_viz.csv\")"
   ]
  }
 ],
 "metadata": {
  "kernelspec": {
   "display_name": "Python 3 (ipykernel)",
   "language": "python",
   "name": "python3"
  },
  "language_info": {
   "codemirror_mode": {
    "name": "ipython",
    "version": 3
   },
   "file_extension": ".py",
   "mimetype": "text/x-python",
   "name": "python",
   "nbconvert_exporter": "python",
   "pygments_lexer": "ipython3",
   "version": "3.9.12"
  }
 },
 "nbformat": 4,
 "nbformat_minor": 4
}
