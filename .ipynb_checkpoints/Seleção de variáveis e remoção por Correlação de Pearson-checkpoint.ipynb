{
 "cells": [
  {
   "cell_type": "markdown",
   "metadata": {},
   "source": [
    "# <center> Seleção de variáveis e remoção por Correlação de _Pearson_</center>\n",
    "\n",
    "<br/>\n",
    "\n",
    "<div style=\"text-align: center;font-size: 90%;\">\n",
    "    Bruno Dias dos Santos<sup><a href=\"https://orcid.org/0000-0001-6181-2158\"><i class=\"fab fa-lg fa-orcid\" style=\"color: #a6ce39\"></i></a></sup>, Gilberto Eidi Teramoto Oliveira<sup><a href=\"https://orcid.org/0000-0002-0082-9498\"><i class=\"fab fa-lg fa-orcid\" style=\"color: #a6ce39\"></i></a></sup><i class=\"fab fa-lg fa-orcid\" style=\"color: #a6ce39\"></i></a></sup>\n",
    "    <br/><br/>\n",
    "    Mestrado em Sensoriamento Remoto, Instituto Nacional de Pesquisas Espaciais (INPE)\n",
    "    <br/>\n",
    "    Avenida dos Astronautas, 1758, Jardim da Granja, São José dos Campos, SP 12227-010, Brasil\n",
    "    <br/><br/>\n",
    "    Contato: <div><a href=\"mailto:bruno.santos@inpe.br\">bruno.santos@inpe.br</a></div>\n",
    "    <div><a href=\"mailto:gilberto.eidi@inpe.br\">gilberto.terramoto@inpe.br</a></div>\n",
    "    <br/><br/>\n",
    "    Última atualização: 22 de Agosto de 2021\n",
    "</div>\n",
    "<br/>\n",
    "\n",
    "<div style=\"text-align: justify;  margin-left: 25%; margin-right: 25%;\">\n",
    "<b>Resumo.</b> Este Notebook apresenta uma metodologia para selecionar variáveis. Dado uma tabela de atributos (.csv) contendo uma variável categorica que represente classes amostrais, os atributos serão ordenados em relação ao seu poder explicativo a partir do cálculo do R². Posteriormente, os atributos serão comparados dois a dois e caso a correlação (de Pearson) ultrapasse um valor máximo adotado, será realizada a remoção da variável com menor poder explicativo. Como saída, serão retornadas num arquivo .csv apenas as variáveis com um valor R² acima do desejado e não correlacionadas.     \n",
    "</div>    \n",
    "\n",
    "<br/>"
   ]
  },
  {
   "cell_type": "markdown",
   "metadata": {},
   "source": [
    "Importação das bibliotecas <i>Pandas</i> e <i>Numpy</i>:"
   ]
  },
  {
   "cell_type": "code",
   "execution_count": null,
   "metadata": {},
   "outputs": [],
   "source": [
    "import pandas as pd\n",
    "import numpy as np\n",
    "import seaborn as sns\n",
    "import math as math\n",
    "import matplotlib.pyplot as plt "
   ]
  },
  {
   "cell_type": "markdown",
   "metadata": {},
   "source": [
    "Leitura da tabela CSV e criação de um Dataframe:"
   ]
  },
  {
   "cell_type": "code",
   "execution_count": null,
   "metadata": {},
   "outputs": [],
   "source": [
    "obj = pd.read_csv(\"C:\\\\Users\\\\dias-bruno\\\\Desktop\\\\INPE-SER\\\\2PERIODO\\\\PDI\\\\cameta\\\\celulas_com_vizinhanca.csv\")"
   ]
  },
  {
   "cell_type": "code",
   "execution_count": null,
   "metadata": {},
   "outputs": [],
   "source": [
    "obj"
   ]
  },
  {
   "cell_type": "markdown",
   "metadata": {},
   "source": [
    "Definicação da variável identificadora de cada feição:"
   ]
  },
  {
   "cell_type": "code",
   "execution_count": null,
   "metadata": {},
   "outputs": [],
   "source": [
    "indice = 'DN'"
   ]
  },
  {
   "cell_type": "markdown",
   "metadata": {},
   "source": [
    "Definicação da variável com as classes amostrais. Esta variável dever ser categórica (com o nome das classes amostradas) ou discreta:"
   ]
  },
  {
   "cell_type": "code",
   "execution_count": null,
   "metadata": {},
   "outputs": [],
   "source": [
    "TARGET = 'TARGET'\n",
    "\n",
    "target = []\n",
    "cont = 0\n",
    "\n",
    "for classe in obj[TARGET].unique():\n",
    "    if not pd.isnull(classe):\n",
    "        target.append(classe)\n",
    "\n",
    "target"
   ]
  },
  {
   "cell_type": "markdown",
   "metadata": {},
   "source": [
    "Criando uma cópia do DataFrame e preenchendo (possíveis) valores vazios com o valor um dummy a sua escolha:"
   ]
  },
  {
   "cell_type": "code",
   "execution_count": null,
   "metadata": {},
   "outputs": [],
   "source": [
    "saida =  obj.iloc[:,:-1].fillna(0)\n",
    "saida[TARGET] = obj[TARGET]\n",
    "saida"
   ]
  },
  {
   "cell_type": "markdown",
   "metadata": {},
   "source": [
    "Selecionando apenas as feições que possuem amostras coletadas para extrair as estatística:"
   ]
  },
  {
   "cell_type": "code",
   "execution_count": null,
   "metadata": {
    "scrolled": true
   },
   "outputs": [],
   "source": [
    "obj = obj[obj[TARGET].isin(target)]\n",
    "obj"
   ]
  },
  {
   "cell_type": "markdown",
   "metadata": {},
   "source": [
    "Ajuste de possíveis valores 'Nan' nos atributos através de um valor _dummy_ a sua escolha:"
   ]
  },
  {
   "cell_type": "code",
   "execution_count": null,
   "metadata": {},
   "outputs": [],
   "source": [
    "dummy = 0 #alterar para algum outro valor a sua escolha\n",
    "\n",
    "obj = obj.fillna(dummy)\n",
    "obj"
   ]
  },
  {
   "cell_type": "markdown",
   "metadata": {},
   "source": [
    "Calculo do R² da Anova de cada coluna do Dataframe em relação à coluna Target:"
   ]
  },
  {
   "cell_type": "code",
   "execution_count": null,
   "metadata": {},
   "outputs": [],
   "source": [
    "iv = {}\n",
    "\n",
    "for coluna in obj.columns:  \n",
    "    if coluna != TARGET:\n",
    "        counts = obj.groupby(TARGET, sort=True)[coluna].count() #Contagem de elementos de cada classe amostral\n",
    "        medias = obj.groupby(TARGET, sort=True)[coluna].mean() #Média de cada caluna por classe amostral \n",
    "        aux = 0        \n",
    "        for i in range(len(counts)):\n",
    "            try:\n",
    "                aux = aux + counts[i]*((medias[i] - obj[coluna].mean())**2)\n",
    "            except:\n",
    "                aux = 0\n",
    "        \n",
    "        if (sum(counts))*((obj[coluna].std())**2) == 0:\n",
    "            iv[coluna] = aux/0.00001\n",
    "        else:                \n",
    "            iv[coluna] = aux/((sum(counts))*((obj[coluna].std())**2))\n",
    "        \n",
    "        print(\"Rodou: \", coluna)\n",
    "\n",
    "iv = sorted(iv.items(), key=lambda x: x[1], reverse=True)"
   ]
  },
  {
   "cell_type": "code",
   "execution_count": null,
   "metadata": {
    "scrolled": false
   },
   "outputs": [],
   "source": [
    "iv"
   ]
  },
  {
   "cell_type": "markdown",
   "metadata": {},
   "source": [
    "Grafico bloxpot da variável com o melhor poder explicativo em relação às classes amostrais:"
   ]
  },
  {
   "cell_type": "code",
   "execution_count": null,
   "metadata": {},
   "outputs": [],
   "source": [
    "sns.boxplot(x=TARGET , y= obj[iv[0][0]], order= obj[TARGET].sort_values().unique(), data = obj)"
   ]
  },
  {
   "cell_type": "markdown",
   "metadata": {},
   "source": [
    "Grafico bloxpot da variável com o pior poder explicativo em relação às classes amostrais:"
   ]
  },
  {
   "cell_type": "code",
   "execution_count": null,
   "metadata": {},
   "outputs": [],
   "source": [
    "sns.boxplot(x=TARGET, y= obj[iv[-1][0]],  order= obj[TARGET].sort_values().unique(),  data = obj)"
   ]
  },
  {
   "cell_type": "markdown",
   "metadata": {},
   "source": [
    "Removendo variáveis pouco explicativas, a partir de um limite inferior e variáveis com possíveis valores 'NaN':"
   ]
  },
  {
   "cell_type": "code",
   "execution_count": null,
   "metadata": {},
   "outputs": [],
   "source": [
    "lim_min = 0.2\n",
    "aux = []\n",
    "\n",
    "print(f'Total de variáveis antes da remoção: {len(iv)}')\n",
    "\n",
    "for i in range(len(iv)):\n",
    "    if math.isnan(iv[i][1]):\n",
    "        aux.append(iv[i])\n",
    "    elif iv[i][0] != indice:\n",
    "        if iv[i][1] < lim_min:\n",
    "            aux.append(iv[i])\n",
    "\n",
    "for i in aux:\n",
    "    iv.remove(i)\n",
    "\n",
    "print(f'Total de variáveis depois da remoção: {len(iv)}')"
   ]
  },
  {
   "cell_type": "markdown",
   "metadata": {},
   "source": [
    "Visualização das informações das variáveis mais explicativas:"
   ]
  },
  {
   "cell_type": "code",
   "execution_count": null,
   "metadata": {},
   "outputs": [],
   "source": [
    "iv"
   ]
  },
  {
   "cell_type": "markdown",
   "metadata": {},
   "source": [
    "Definição do fator de correlação a ser considerado.\n",
    "\n",
    "Dado duas variáveis [<i>i</i>,<i>j</i>], será calculado a correlação entre <i>i</i> e <i>j</i>. Caso a correlação entre as duas variáveis seja maior do que o <b>fator máximo de correlação</b>, faremos a exclusão daquela com menor poder explicativo a partir do seu R²:"
   ]
  },
  {
   "cell_type": "code",
   "execution_count": null,
   "metadata": {},
   "outputs": [],
   "source": [
    "fator = 0.75"
   ]
  },
  {
   "cell_type": "markdown",
   "metadata": {},
   "source": [
    "Remoção de variáveis de alta correlação _(Pearson)_:"
   ]
  },
  {
   "cell_type": "code",
   "execution_count": null,
   "metadata": {
    "scrolled": false
   },
   "outputs": [],
   "source": [
    "colunas = []\n",
    "aux = []\n",
    "\n",
    "for i, j in iv:\n",
    "    colunas.append(i)\n",
    "    aux.append(i)\n",
    "\n",
    "for i in range(len(colunas)):\n",
    "    for j in range(len(colunas)):\n",
    "        if j > i and abs(saida[colunas[i]].corr(saida[colunas[j]])) > fator:\n",
    "            if (colunas[j] in aux) and (colunas[j] != indice):\n",
    "                aux.remove(colunas[j])"
   ]
  },
  {
   "cell_type": "markdown",
   "metadata": {},
   "source": [
    "Quantidade de variáveis do Dataframe que será gerado para a saída:"
   ]
  },
  {
   "cell_type": "code",
   "execution_count": null,
   "metadata": {},
   "outputs": [],
   "source": [
    "len(aux)"
   ]
  },
  {
   "cell_type": "markdown",
   "metadata": {},
   "source": [
    "Visualização das colunas que estarão no Dataframe de saída:"
   ]
  },
  {
   "cell_type": "code",
   "execution_count": null,
   "metadata": {
    "scrolled": true
   },
   "outputs": [],
   "source": [
    "aux"
   ]
  },
  {
   "cell_type": "markdown",
   "metadata": {},
   "source": [
    "Célula de conferência que mostra que as variáveis que sobraram não possuem uma correlação acima do <b>fator máximo de correlação</b> inserido - exceto para a variável de identificação:"
   ]
  },
  {
   "cell_type": "code",
   "execution_count": null,
   "metadata": {
    "scrolled": false
   },
   "outputs": [],
   "source": [
    "corr_df = saida[aux].corr()\n",
    "\n",
    "corr_df.style.background_gradient(cmap='Spectral')"
   ]
  },
  {
   "cell_type": "code",
   "execution_count": null,
   "metadata": {},
   "outputs": [],
   "source": [
    "aux.append(TARGET)"
   ]
  },
  {
   "cell_type": "markdown",
   "metadata": {},
   "source": [
    "Salvando o CSV apenas com as colunas não correlacionadas e com um mínimo de poder explicativo:"
   ]
  },
  {
   "cell_type": "code",
   "execution_count": null,
   "metadata": {},
   "outputs": [],
   "source": [
    "saida[aux].to_csv(\"C:\\\\Users\\\\dias-bruno\\\\Desktop\\\\INPE-SER\\\\2PERIODO\\\\PADROES\\\\gui_saida.csv\")"
   ]
  },
  {
   "cell_type": "code",
   "execution_count": null,
   "metadata": {
    "scrolled": true
   },
   "outputs": [],
   "source": [
    "saida[aux]"
   ]
  }
 ],
 "metadata": {
  "kernelspec": {
   "display_name": "Python 3",
   "language": "python",
   "name": "python3"
  },
  "language_info": {
   "codemirror_mode": {
    "name": "ipython",
    "version": 3
   },
   "file_extension": ".py",
   "mimetype": "text/x-python",
   "name": "python",
   "nbconvert_exporter": "python",
   "pygments_lexer": "ipython3",
   "version": "3.8.5"
  }
 },
 "nbformat": 4,
 "nbformat_minor": 4
}
