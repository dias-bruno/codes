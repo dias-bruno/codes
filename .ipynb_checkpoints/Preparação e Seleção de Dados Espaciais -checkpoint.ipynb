{
 "cells": [
  {
   "cell_type": "markdown",
   "metadata": {},
   "source": [
    "\n",
    "\n",
    "# <center> Preparação e seleção de variáveis </center>\n",
    "\n",
    "<br/>\n",
    "\n",
    "<div style=\"text-align: center;font-size: 90%;\">\n",
    "    Bruno Dias dos Santos<sup><a href=\"https://orcid.org/0000-0001-6181-2158\"><i class=\"fab fa-lg fa-orcid\" style=\"color: #a6ce39\"></i></a></sup> <sup><a href=\"https://orcid.org/0000-0002-0082-9498\"><i class=\"fab fa-lg fa-orcid\" style=\"color: #a6ce39\"></i></a></sup><i class=\"fab fa-lg fa-orcid\" style=\"color: #a6ce39\"></i></a></sup>\n",
    "    <br/><br/>\n",
    "    Programa de Pós-Graduação em Computação Aplicada, Instituto Nacional de Pesquisas Espaciais (INPE)\n",
    "    <br/>\n",
    "    Avenida dos Astronautas, 1758, Jardim da Granja, São José dos Campos, SP 12227-010, Brasil\n",
    "    <br/><br/>\n",
    "    Contato: <div><a href=\"mailto:bruno.santos@inpe.br\">bruno.santos@inpe.br</a></div>\n",
    "    <br/><br/>\n",
    "    Última atualização: 26 de Abril de 2022\n",
    "</div>\n",
    "<br/>\n",
    "\n",
    "<div style=\"text-align: justify;  margin-left: 25%; margin-right: 25%;\">\n",
    "<b>Resumo.</b> Este Notebook apresenta uma metodologia para tratar e selecionar variáveis. Dado uma tabela de atributos (.csv) contendo uma variável com as classes amostrais, os atributos serão tratados a partir da remoção de valores faltantes, normalizados e ordenados em relação ao seu poder explicativo a partir do cálculo do R² da ANOVA. Posteriormente, os atributos serão comparados dois a dois e caso a correlação (de Pearson) ultrapasse um valor máximo adotado, será realizada a remoção da variável com menor poder explicativo. Como saída, serão retornadas num arquivo .csv apenas as variáveis tratadas, com um valor R² acima do desejado, não correlacionadas e prontas para um posterior processo de classificação.     \n",
    "</div>    \n",
    "\n",
    "<br/>"
   ]
  },
  {
   "cell_type": "markdown",
   "metadata": {},
   "source": [
    "Importação das bibliotecas <i>Pandas</i> e <i>Numpy</i>:"
   ]
  },
  {
   "cell_type": "code",
   "execution_count": 1,
   "metadata": {},
   "outputs": [],
   "source": [
    "import pandas as pd\n",
    "import numpy as np\n",
    "import seaborn as sns\n",
    "import math as math\n",
    "import matplotlib.pyplot as plt\n",
    "import geopandas as gpd\n",
    "import shapely"
   ]
  },
  {
   "cell_type": "markdown",
   "metadata": {},
   "source": [
    "Leitura das tabelas CSV como DataFrames, criação e visualização dos DataFrames:"
   ]
  },
  {
   "cell_type": "code",
   "execution_count": 3,
   "metadata": {
    "scrolled": true
   },
   "outputs": [],
   "source": [
    "obj = gpd.read_file(\"C:\\\\Users\\\\dias-bruno\\\\Desktop\\\\INPE-SER\\\\DISSERTACAO\\\\SHAPEFILES\\\\segmentos_cobertura.shp\")"
   ]
  },
  {
   "cell_type": "code",
   "execution_count": 4,
   "metadata": {},
   "outputs": [
    {
     "data": {
      "text/html": [
       "<div>\n",
       "<style scoped>\n",
       "    .dataframe tbody tr th:only-of-type {\n",
       "        vertical-align: middle;\n",
       "    }\n",
       "\n",
       "    .dataframe tbody tr th {\n",
       "        vertical-align: top;\n",
       "    }\n",
       "\n",
       "    .dataframe thead th {\n",
       "        text-align: right;\n",
       "    }\n",
       "</style>\n",
       "<table border=\"1\" class=\"dataframe\">\n",
       "  <thead>\n",
       "    <tr style=\"text-align: right;\">\n",
       "      <th></th>\n",
       "      <th>DN</th>\n",
       "      <th>ASM_MIN</th>\n",
       "      <th>ASM_MAX</th>\n",
       "      <th>ASM_RANGE</th>\n",
       "      <th>ASM_SUM</th>\n",
       "      <th>ASM_MEAN</th>\n",
       "      <th>ASM_VARIA</th>\n",
       "      <th>BAI_MIN</th>\n",
       "      <th>BAI_MAX</th>\n",
       "      <th>BAI_RANGE</th>\n",
       "      <th>...</th>\n",
       "      <th>PGYRATIUS</th>\n",
       "      <th>POLRADIUS</th>\n",
       "      <th>PCIRCLE</th>\n",
       "      <th>PSAHPEIDX</th>\n",
       "      <th>PDENSITY</th>\n",
       "      <th>PRECTFIT</th>\n",
       "      <th>LIMIAR</th>\n",
       "      <th>am_DN</th>\n",
       "      <th>am_CLASSE</th>\n",
       "      <th>geometry</th>\n",
       "    </tr>\n",
       "  </thead>\n",
       "  <tbody>\n",
       "    <tr>\n",
       "      <th>0</th>\n",
       "      <td>1</td>\n",
       "      <td>0.104167</td>\n",
       "      <td>0.162326</td>\n",
       "      <td>0.058160</td>\n",
       "      <td>12.282986</td>\n",
       "      <td>0.115877</td>\n",
       "      <td>0.000149</td>\n",
       "      <td>-0.067218</td>\n",
       "      <td>-0.013937</td>\n",
       "      <td>0.053281</td>\n",
       "      <td>...</td>\n",
       "      <td>23.069589</td>\n",
       "      <td>60.760723</td>\n",
       "      <td>0.963443</td>\n",
       "      <td>2.913858</td>\n",
       "      <td>6.978192</td>\n",
       "      <td>0.328336</td>\n",
       "      <td>None</td>\n",
       "      <td>1</td>\n",
       "      <td>OUTROS</td>\n",
       "      <td>POLYGON ((739940.000 9732728.000, 739950.000 9...</td>\n",
       "    </tr>\n",
       "    <tr>\n",
       "      <th>1</th>\n",
       "      <td>2</td>\n",
       "      <td>0.104167</td>\n",
       "      <td>0.177083</td>\n",
       "      <td>0.072917</td>\n",
       "      <td>33.243056</td>\n",
       "      <td>0.118303</td>\n",
       "      <td>0.000218</td>\n",
       "      <td>-0.108557</td>\n",
       "      <td>-0.010772</td>\n",
       "      <td>0.097785</td>\n",
       "      <td>...</td>\n",
       "      <td>57.650600</td>\n",
       "      <td>92.024145</td>\n",
       "      <td>0.957751</td>\n",
       "      <td>3.489817</td>\n",
       "      <td>12.214186</td>\n",
       "      <td>0.311128</td>\n",
       "      <td>AGUA</td>\n",
       "      <td>2</td>\n",
       "      <td>OUTROS</td>\n",
       "      <td>POLYGON ((739942.000 9732736.000, 739944.000 9...</td>\n",
       "    </tr>\n",
       "    <tr>\n",
       "      <th>2</th>\n",
       "      <td>3</td>\n",
       "      <td>0.104167</td>\n",
       "      <td>0.161458</td>\n",
       "      <td>0.057292</td>\n",
       "      <td>15.741320</td>\n",
       "      <td>0.115745</td>\n",
       "      <td>0.000241</td>\n",
       "      <td>-0.036556</td>\n",
       "      <td>-0.001385</td>\n",
       "      <td>0.035171</td>\n",
       "      <td>...</td>\n",
       "      <td>40.839872</td>\n",
       "      <td>92.366234</td>\n",
       "      <td>0.979703</td>\n",
       "      <td>3.644345</td>\n",
       "      <td>5.889598</td>\n",
       "      <td>0.327246</td>\n",
       "      <td>None</td>\n",
       "      <td>3</td>\n",
       "      <td>OUTROS</td>\n",
       "      <td>POLYGON ((739930.000 9732722.000, 740034.000 9...</td>\n",
       "    </tr>\n",
       "    <tr>\n",
       "      <th>3</th>\n",
       "      <td>4</td>\n",
       "      <td>0.104167</td>\n",
       "      <td>0.223958</td>\n",
       "      <td>0.119792</td>\n",
       "      <td>19.033855</td>\n",
       "      <td>0.118962</td>\n",
       "      <td>0.000376</td>\n",
       "      <td>-0.042466</td>\n",
       "      <td>0.004531</td>\n",
       "      <td>0.046996</td>\n",
       "      <td>...</td>\n",
       "      <td>47.839765</td>\n",
       "      <td>85.012154</td>\n",
       "      <td>0.971812</td>\n",
       "      <td>3.478505</td>\n",
       "      <td>7.528335</td>\n",
       "      <td>0.316523</td>\n",
       "      <td>None</td>\n",
       "      <td>4</td>\n",
       "      <td>OUTROS</td>\n",
       "      <td>POLYGON ((739930.000 9732720.000, 739998.000 9...</td>\n",
       "    </tr>\n",
       "    <tr>\n",
       "      <th>4</th>\n",
       "      <td>5</td>\n",
       "      <td>0.104167</td>\n",
       "      <td>0.154514</td>\n",
       "      <td>0.050347</td>\n",
       "      <td>14.699653</td>\n",
       "      <td>0.111361</td>\n",
       "      <td>0.000106</td>\n",
       "      <td>-0.051948</td>\n",
       "      <td>0.000844</td>\n",
       "      <td>0.052792</td>\n",
       "      <td>...</td>\n",
       "      <td>17.542073</td>\n",
       "      <td>34.290356</td>\n",
       "      <td>0.857065</td>\n",
       "      <td>1.871335</td>\n",
       "      <td>15.397915</td>\n",
       "      <td>0.484242</td>\n",
       "      <td>AGUA</td>\n",
       "      <td>5</td>\n",
       "      <td>OUTROS</td>\n",
       "      <td>POLYGON ((740076.000 9732714.000, 740096.000 9...</td>\n",
       "    </tr>\n",
       "    <tr>\n",
       "      <th>...</th>\n",
       "      <td>...</td>\n",
       "      <td>...</td>\n",
       "      <td>...</td>\n",
       "      <td>...</td>\n",
       "      <td>...</td>\n",
       "      <td>...</td>\n",
       "      <td>...</td>\n",
       "      <td>...</td>\n",
       "      <td>...</td>\n",
       "      <td>...</td>\n",
       "      <td>...</td>\n",
       "      <td>...</td>\n",
       "      <td>...</td>\n",
       "      <td>...</td>\n",
       "      <td>...</td>\n",
       "      <td>...</td>\n",
       "      <td>...</td>\n",
       "      <td>...</td>\n",
       "      <td>...</td>\n",
       "      <td>...</td>\n",
       "      <td>...</td>\n",
       "    </tr>\n",
       "    <tr>\n",
       "      <th>65817</th>\n",
       "      <td>64072</td>\n",
       "      <td>0.104167</td>\n",
       "      <td>0.223090</td>\n",
       "      <td>0.118924</td>\n",
       "      <td>36.619793</td>\n",
       "      <td>0.117749</td>\n",
       "      <td>0.000239</td>\n",
       "      <td>-0.171303</td>\n",
       "      <td>-0.087398</td>\n",
       "      <td>0.083905</td>\n",
       "      <td>...</td>\n",
       "      <td>24.301214</td>\n",
       "      <td>52.035815</td>\n",
       "      <td>0.853760</td>\n",
       "      <td>2.381602</td>\n",
       "      <td>23.906611</td>\n",
       "      <td>0.344015</td>\n",
       "      <td>VEG_ARBUSTIVA</td>\n",
       "      <td>64072</td>\n",
       "      <td>OUTROS</td>\n",
       "      <td>POLYGON ((760930.000 9723718.000, 760936.000 9...</td>\n",
       "    </tr>\n",
       "    <tr>\n",
       "      <th>65818</th>\n",
       "      <td>64056</td>\n",
       "      <td>0.104167</td>\n",
       "      <td>0.180556</td>\n",
       "      <td>0.076389</td>\n",
       "      <td>63.664065</td>\n",
       "      <td>0.112085</td>\n",
       "      <td>0.000133</td>\n",
       "      <td>-0.359375</td>\n",
       "      <td>1.038095</td>\n",
       "      <td>1.397470</td>\n",
       "      <td>...</td>\n",
       "      <td>50.292007</td>\n",
       "      <td>101.715020</td>\n",
       "      <td>0.930098</td>\n",
       "      <td>3.000073</td>\n",
       "      <td>22.336917</td>\n",
       "      <td>0.483292</td>\n",
       "      <td>VEG_HERBACEA</td>\n",
       "      <td>64056</td>\n",
       "      <td>OUTROS</td>\n",
       "      <td>POLYGON ((761808.000 9723760.000, 761812.000 9...</td>\n",
       "    </tr>\n",
       "    <tr>\n",
       "      <th>65819</th>\n",
       "      <td>64057</td>\n",
       "      <td>0.104167</td>\n",
       "      <td>0.223090</td>\n",
       "      <td>0.118924</td>\n",
       "      <td>32.250001</td>\n",
       "      <td>0.117273</td>\n",
       "      <td>0.000322</td>\n",
       "      <td>-0.183413</td>\n",
       "      <td>-0.068136</td>\n",
       "      <td>0.115277</td>\n",
       "      <td>...</td>\n",
       "      <td>22.047170</td>\n",
       "      <td>37.607517</td>\n",
       "      <td>0.752433</td>\n",
       "      <td>2.020126</td>\n",
       "      <td>29.249472</td>\n",
       "      <td>0.462963</td>\n",
       "      <td>VEG_ARBUSTIVA</td>\n",
       "      <td>64057</td>\n",
       "      <td>OUTROS</td>\n",
       "      <td>POLYGON ((760520.000 9723704.000, 760524.000 9...</td>\n",
       "    </tr>\n",
       "    <tr>\n",
       "      <th>65820</th>\n",
       "      <td>64063</td>\n",
       "      <td>0.104167</td>\n",
       "      <td>0.398438</td>\n",
       "      <td>0.294271</td>\n",
       "      <td>85.526912</td>\n",
       "      <td>0.123060</td>\n",
       "      <td>0.000713</td>\n",
       "      <td>-0.221453</td>\n",
       "      <td>-0.076249</td>\n",
       "      <td>0.145204</td>\n",
       "      <td>...</td>\n",
       "      <td>40.260140</td>\n",
       "      <td>66.947936</td>\n",
       "      <td>0.802567</td>\n",
       "      <td>2.389726</td>\n",
       "      <td>41.524805</td>\n",
       "      <td>0.399425</td>\n",
       "      <td>VEG_ARBUSTIVA</td>\n",
       "      <td>64063</td>\n",
       "      <td>OUTROS</td>\n",
       "      <td>POLYGON ((760596.000 9723716.000, 760600.000 9...</td>\n",
       "    </tr>\n",
       "    <tr>\n",
       "      <th>65821</th>\n",
       "      <td>64066</td>\n",
       "      <td>0.104167</td>\n",
       "      <td>0.245660</td>\n",
       "      <td>0.141493</td>\n",
       "      <td>48.740453</td>\n",
       "      <td>0.113880</td>\n",
       "      <td>0.000198</td>\n",
       "      <td>-0.277419</td>\n",
       "      <td>0.368771</td>\n",
       "      <td>0.646190</td>\n",
       "      <td>...</td>\n",
       "      <td>60.834657</td>\n",
       "      <td>139.528962</td>\n",
       "      <td>0.972009</td>\n",
       "      <td>4.277809</td>\n",
       "      <td>12.269854</td>\n",
       "      <td>0.313818</td>\n",
       "      <td>None</td>\n",
       "      <td>64066</td>\n",
       "      <td>OUTROS</td>\n",
       "      <td>POLYGON ((761826.000 9723798.000, 761832.000 9...</td>\n",
       "    </tr>\n",
       "  </tbody>\n",
       "</table>\n",
       "<p>65822 rows × 198 columns</p>\n",
       "</div>"
      ],
      "text/plain": [
       "          DN   ASM_MIN   ASM_MAX  ASM_RANGE    ASM_SUM  ASM_MEAN  ASM_VARIA  \\\n",
       "0          1  0.104167  0.162326   0.058160  12.282986  0.115877   0.000149   \n",
       "1          2  0.104167  0.177083   0.072917  33.243056  0.118303   0.000218   \n",
       "2          3  0.104167  0.161458   0.057292  15.741320  0.115745   0.000241   \n",
       "3          4  0.104167  0.223958   0.119792  19.033855  0.118962   0.000376   \n",
       "4          5  0.104167  0.154514   0.050347  14.699653  0.111361   0.000106   \n",
       "...      ...       ...       ...        ...        ...       ...        ...   \n",
       "65817  64072  0.104167  0.223090   0.118924  36.619793  0.117749   0.000239   \n",
       "65818  64056  0.104167  0.180556   0.076389  63.664065  0.112085   0.000133   \n",
       "65819  64057  0.104167  0.223090   0.118924  32.250001  0.117273   0.000322   \n",
       "65820  64063  0.104167  0.398438   0.294271  85.526912  0.123060   0.000713   \n",
       "65821  64066  0.104167  0.245660   0.141493  48.740453  0.113880   0.000198   \n",
       "\n",
       "        BAI_MIN   BAI_MAX  BAI_RANGE  ...  PGYRATIUS   POLRADIUS   PCIRCLE  \\\n",
       "0     -0.067218 -0.013937   0.053281  ...  23.069589   60.760723  0.963443   \n",
       "1     -0.108557 -0.010772   0.097785  ...  57.650600   92.024145  0.957751   \n",
       "2     -0.036556 -0.001385   0.035171  ...  40.839872   92.366234  0.979703   \n",
       "3     -0.042466  0.004531   0.046996  ...  47.839765   85.012154  0.971812   \n",
       "4     -0.051948  0.000844   0.052792  ...  17.542073   34.290356  0.857065   \n",
       "...         ...       ...        ...  ...        ...         ...       ...   \n",
       "65817 -0.171303 -0.087398   0.083905  ...  24.301214   52.035815  0.853760   \n",
       "65818 -0.359375  1.038095   1.397470  ...  50.292007  101.715020  0.930098   \n",
       "65819 -0.183413 -0.068136   0.115277  ...  22.047170   37.607517  0.752433   \n",
       "65820 -0.221453 -0.076249   0.145204  ...  40.260140   66.947936  0.802567   \n",
       "65821 -0.277419  0.368771   0.646190  ...  60.834657  139.528962  0.972009   \n",
       "\n",
       "       PSAHPEIDX   PDENSITY  PRECTFIT         LIMIAR  am_DN  am_CLASSE  \\\n",
       "0       2.913858   6.978192  0.328336           None      1     OUTROS   \n",
       "1       3.489817  12.214186  0.311128           AGUA      2     OUTROS   \n",
       "2       3.644345   5.889598  0.327246           None      3     OUTROS   \n",
       "3       3.478505   7.528335  0.316523           None      4     OUTROS   \n",
       "4       1.871335  15.397915  0.484242           AGUA      5     OUTROS   \n",
       "...          ...        ...       ...            ...    ...        ...   \n",
       "65817   2.381602  23.906611  0.344015  VEG_ARBUSTIVA  64072     OUTROS   \n",
       "65818   3.000073  22.336917  0.483292   VEG_HERBACEA  64056     OUTROS   \n",
       "65819   2.020126  29.249472  0.462963  VEG_ARBUSTIVA  64057     OUTROS   \n",
       "65820   2.389726  41.524805  0.399425  VEG_ARBUSTIVA  64063     OUTROS   \n",
       "65821   4.277809  12.269854  0.313818           None  64066     OUTROS   \n",
       "\n",
       "                                                geometry  \n",
       "0      POLYGON ((739940.000 9732728.000, 739950.000 9...  \n",
       "1      POLYGON ((739942.000 9732736.000, 739944.000 9...  \n",
       "2      POLYGON ((739930.000 9732722.000, 740034.000 9...  \n",
       "3      POLYGON ((739930.000 9732720.000, 739998.000 9...  \n",
       "4      POLYGON ((740076.000 9732714.000, 740096.000 9...  \n",
       "...                                                  ...  \n",
       "65817  POLYGON ((760930.000 9723718.000, 760936.000 9...  \n",
       "65818  POLYGON ((761808.000 9723760.000, 761812.000 9...  \n",
       "65819  POLYGON ((760520.000 9723704.000, 760524.000 9...  \n",
       "65820  POLYGON ((760596.000 9723716.000, 760600.000 9...  \n",
       "65821  POLYGON ((761826.000 9723798.000, 761832.000 9...  \n",
       "\n",
       "[65822 rows x 198 columns]"
      ]
     },
     "execution_count": 4,
     "metadata": {},
     "output_type": "execute_result"
    }
   ],
   "source": [
    "obj"
   ]
  },
  {
   "cell_type": "code",
   "execution_count": 14,
   "metadata": {},
   "outputs": [
    {
     "data": {
      "text/plain": [
       "<AxesSubplot:>"
      ]
     },
     "execution_count": 14,
     "metadata": {},
     "output_type": "execute_result"
    },
    {
     "data": {
      "image/png": "[encoded data removed]",
      "text/plain": [
       "<Figure size 432x288 with 1 Axes>"
      ]
     },
     "metadata": {
      "needs_background": "light"
     },
     "output_type": "display_data"
    }
   ],
   "source": [
    "obj.plot(column ='LIMIAR', legend=True, categorical=True, legend_kwds={'loc': 'center left', 'bbox_to_anchor':(1,0.5)})"
   ]
  },
  {
   "cell_type": "code",
   "execution_count": 7,
   "metadata": {},
   "outputs": [],
   "source": [
    "obj = obj.drop(['am_DN','am_CLASSE'],1)"
   ]
  },
  {
   "cell_type": "code",
   "execution_count": 8,
   "metadata": {},
   "outputs": [
    {
     "data": {
      "text/html": [
       "<div>\n",
       "<style scoped>\n",
       "    .dataframe tbody tr th:only-of-type {\n",
       "        vertical-align: middle;\n",
       "    }\n",
       "\n",
       "    .dataframe tbody tr th {\n",
       "        vertical-align: top;\n",
       "    }\n",
       "\n",
       "    .dataframe thead th {\n",
       "        text-align: right;\n",
       "    }\n",
       "</style>\n",
       "<table border=\"1\" class=\"dataframe\">\n",
       "  <thead>\n",
       "    <tr style=\"text-align: right;\">\n",
       "      <th></th>\n",
       "      <th>DN</th>\n",
       "      <th>ASM_MIN</th>\n",
       "      <th>ASM_MAX</th>\n",
       "      <th>ASM_RANGE</th>\n",
       "      <th>ASM_SUM</th>\n",
       "      <th>ASM_MEAN</th>\n",
       "      <th>ASM_VARIA</th>\n",
       "      <th>BAI_MIN</th>\n",
       "      <th>BAI_MAX</th>\n",
       "      <th>BAI_RANGE</th>\n",
       "      <th>...</th>\n",
       "      <th>POL_ANGLE</th>\n",
       "      <th>PELLIP_FIT</th>\n",
       "      <th>PGYRATIUS</th>\n",
       "      <th>POLRADIUS</th>\n",
       "      <th>PCIRCLE</th>\n",
       "      <th>PSAHPEIDX</th>\n",
       "      <th>PDENSITY</th>\n",
       "      <th>PRECTFIT</th>\n",
       "      <th>LIMIAR</th>\n",
       "      <th>geometry</th>\n",
       "    </tr>\n",
       "  </thead>\n",
       "  <tbody>\n",
       "    <tr>\n",
       "      <th>0</th>\n",
       "      <td>1</td>\n",
       "      <td>0.104167</td>\n",
       "      <td>0.162326</td>\n",
       "      <td>0.058160</td>\n",
       "      <td>12.282986</td>\n",
       "      <td>0.115877</td>\n",
       "      <td>0.000149</td>\n",
       "      <td>-0.067218</td>\n",
       "      <td>-0.013937</td>\n",
       "      <td>0.053281</td>\n",
       "      <td>...</td>\n",
       "      <td>0.115208</td>\n",
       "      <td>0.280966</td>\n",
       "      <td>23.069589</td>\n",
       "      <td>60.760723</td>\n",
       "      <td>0.963443</td>\n",
       "      <td>2.913858</td>\n",
       "      <td>6.978192</td>\n",
       "      <td>0.328336</td>\n",
       "      <td>None</td>\n",
       "      <td>POLYGON ((739940.000 9732728.000, 739950.000 9...</td>\n",
       "    </tr>\n",
       "    <tr>\n",
       "      <th>1</th>\n",
       "      <td>2</td>\n",
       "      <td>0.104167</td>\n",
       "      <td>0.177083</td>\n",
       "      <td>0.072917</td>\n",
       "      <td>33.243056</td>\n",
       "      <td>0.118303</td>\n",
       "      <td>0.000218</td>\n",
       "      <td>-0.108557</td>\n",
       "      <td>-0.010772</td>\n",
       "      <td>0.097785</td>\n",
       "      <td>...</td>\n",
       "      <td>-0.028114</td>\n",
       "      <td>0.252064</td>\n",
       "      <td>57.650600</td>\n",
       "      <td>92.024145</td>\n",
       "      <td>0.957751</td>\n",
       "      <td>3.489817</td>\n",
       "      <td>12.214186</td>\n",
       "      <td>0.311128</td>\n",
       "      <td>AGUA</td>\n",
       "      <td>POLYGON ((739942.000 9732736.000, 739944.000 9...</td>\n",
       "    </tr>\n",
       "    <tr>\n",
       "      <th>2</th>\n",
       "      <td>3</td>\n",
       "      <td>0.104167</td>\n",
       "      <td>0.161458</td>\n",
       "      <td>0.057292</td>\n",
       "      <td>15.741320</td>\n",
       "      <td>0.115745</td>\n",
       "      <td>0.000241</td>\n",
       "      <td>-0.036556</td>\n",
       "      <td>-0.001385</td>\n",
       "      <td>0.035171</td>\n",
       "      <td>...</td>\n",
       "      <td>-0.063438</td>\n",
       "      <td>0.289129</td>\n",
       "      <td>40.839872</td>\n",
       "      <td>92.366234</td>\n",
       "      <td>0.979703</td>\n",
       "      <td>3.644345</td>\n",
       "      <td>5.889598</td>\n",
       "      <td>0.327246</td>\n",
       "      <td>None</td>\n",
       "      <td>POLYGON ((739930.000 9732722.000, 740034.000 9...</td>\n",
       "    </tr>\n",
       "    <tr>\n",
       "      <th>3</th>\n",
       "      <td>4</td>\n",
       "      <td>0.104167</td>\n",
       "      <td>0.223958</td>\n",
       "      <td>0.119792</td>\n",
       "      <td>19.033855</td>\n",
       "      <td>0.118962</td>\n",
       "      <td>0.000376</td>\n",
       "      <td>-0.042466</td>\n",
       "      <td>0.004531</td>\n",
       "      <td>0.046996</td>\n",
       "      <td>...</td>\n",
       "      <td>0.016812</td>\n",
       "      <td>0.276389</td>\n",
       "      <td>47.839765</td>\n",
       "      <td>85.012154</td>\n",
       "      <td>0.971812</td>\n",
       "      <td>3.478505</td>\n",
       "      <td>7.528335</td>\n",
       "      <td>0.316523</td>\n",
       "      <td>None</td>\n",
       "      <td>POLYGON ((739930.000 9732720.000, 739998.000 9...</td>\n",
       "    </tr>\n",
       "    <tr>\n",
       "      <th>4</th>\n",
       "      <td>5</td>\n",
       "      <td>0.104167</td>\n",
       "      <td>0.154514</td>\n",
       "      <td>0.050347</td>\n",
       "      <td>14.699653</td>\n",
       "      <td>0.111361</td>\n",
       "      <td>0.000106</td>\n",
       "      <td>-0.051948</td>\n",
       "      <td>0.000844</td>\n",
       "      <td>0.052792</td>\n",
       "      <td>...</td>\n",
       "      <td>-0.320660</td>\n",
       "      <td>0.508515</td>\n",
       "      <td>17.542073</td>\n",
       "      <td>34.290356</td>\n",
       "      <td>0.857065</td>\n",
       "      <td>1.871335</td>\n",
       "      <td>15.397915</td>\n",
       "      <td>0.484242</td>\n",
       "      <td>AGUA</td>\n",
       "      <td>POLYGON ((740076.000 9732714.000, 740096.000 9...</td>\n",
       "    </tr>\n",
       "    <tr>\n",
       "      <th>...</th>\n",
       "      <td>...</td>\n",
       "      <td>...</td>\n",
       "      <td>...</td>\n",
       "      <td>...</td>\n",
       "      <td>...</td>\n",
       "      <td>...</td>\n",
       "      <td>...</td>\n",
       "      <td>...</td>\n",
       "      <td>...</td>\n",
       "      <td>...</td>\n",
       "      <td>...</td>\n",
       "      <td>...</td>\n",
       "      <td>...</td>\n",
       "      <td>...</td>\n",
       "      <td>...</td>\n",
       "      <td>...</td>\n",
       "      <td>...</td>\n",
       "      <td>...</td>\n",
       "      <td>...</td>\n",
       "      <td>...</td>\n",
       "      <td>...</td>\n",
       "    </tr>\n",
       "    <tr>\n",
       "      <th>65817</th>\n",
       "      <td>64072</td>\n",
       "      <td>0.104167</td>\n",
       "      <td>0.223090</td>\n",
       "      <td>0.118924</td>\n",
       "      <td>36.619793</td>\n",
       "      <td>0.117749</td>\n",
       "      <td>0.000239</td>\n",
       "      <td>-0.171303</td>\n",
       "      <td>-0.087398</td>\n",
       "      <td>0.083905</td>\n",
       "      <td>...</td>\n",
       "      <td>-1.401150</td>\n",
       "      <td>0.330241</td>\n",
       "      <td>24.301214</td>\n",
       "      <td>52.035815</td>\n",
       "      <td>0.853760</td>\n",
       "      <td>2.381602</td>\n",
       "      <td>23.906611</td>\n",
       "      <td>0.344015</td>\n",
       "      <td>VEG_ARBUSTIVA</td>\n",
       "      <td>POLYGON ((760930.000 9723718.000, 760936.000 9...</td>\n",
       "    </tr>\n",
       "    <tr>\n",
       "      <th>65818</th>\n",
       "      <td>64056</td>\n",
       "      <td>0.104167</td>\n",
       "      <td>0.180556</td>\n",
       "      <td>0.076389</td>\n",
       "      <td>63.664065</td>\n",
       "      <td>0.112085</td>\n",
       "      <td>0.000133</td>\n",
       "      <td>-0.359375</td>\n",
       "      <td>1.038095</td>\n",
       "      <td>1.397470</td>\n",
       "      <td>...</td>\n",
       "      <td>1.393624</td>\n",
       "      <td>0.407557</td>\n",
       "      <td>50.292007</td>\n",
       "      <td>101.715020</td>\n",
       "      <td>0.930098</td>\n",
       "      <td>3.000073</td>\n",
       "      <td>22.336917</td>\n",
       "      <td>0.483292</td>\n",
       "      <td>VEG_HERBACEA</td>\n",
       "      <td>POLYGON ((761808.000 9723760.000, 761812.000 9...</td>\n",
       "    </tr>\n",
       "    <tr>\n",
       "      <th>65819</th>\n",
       "      <td>64057</td>\n",
       "      <td>0.104167</td>\n",
       "      <td>0.223090</td>\n",
       "      <td>0.118924</td>\n",
       "      <td>32.250001</td>\n",
       "      <td>0.117273</td>\n",
       "      <td>0.000322</td>\n",
       "      <td>-0.183413</td>\n",
       "      <td>-0.068136</td>\n",
       "      <td>0.115277</td>\n",
       "      <td>...</td>\n",
       "      <td>0.186332</td>\n",
       "      <td>0.505544</td>\n",
       "      <td>22.047170</td>\n",
       "      <td>37.607517</td>\n",
       "      <td>0.752433</td>\n",
       "      <td>2.020126</td>\n",
       "      <td>29.249472</td>\n",
       "      <td>0.462963</td>\n",
       "      <td>VEG_ARBUSTIVA</td>\n",
       "      <td>POLYGON ((760520.000 9723704.000, 760524.000 9...</td>\n",
       "    </tr>\n",
       "    <tr>\n",
       "      <th>65820</th>\n",
       "      <td>64063</td>\n",
       "      <td>0.104167</td>\n",
       "      <td>0.398438</td>\n",
       "      <td>0.294271</td>\n",
       "      <td>85.526912</td>\n",
       "      <td>0.123060</td>\n",
       "      <td>0.000713</td>\n",
       "      <td>-0.221453</td>\n",
       "      <td>-0.076249</td>\n",
       "      <td>0.145204</td>\n",
       "      <td>...</td>\n",
       "      <td>-1.521051</td>\n",
       "      <td>0.342232</td>\n",
       "      <td>40.260140</td>\n",
       "      <td>66.947936</td>\n",
       "      <td>0.802567</td>\n",
       "      <td>2.389726</td>\n",
       "      <td>41.524805</td>\n",
       "      <td>0.399425</td>\n",
       "      <td>VEG_ARBUSTIVA</td>\n",
       "      <td>POLYGON ((760596.000 9723716.000, 760600.000 9...</td>\n",
       "    </tr>\n",
       "    <tr>\n",
       "      <th>65821</th>\n",
       "      <td>64066</td>\n",
       "      <td>0.104167</td>\n",
       "      <td>0.245660</td>\n",
       "      <td>0.141493</td>\n",
       "      <td>48.740453</td>\n",
       "      <td>0.113880</td>\n",
       "      <td>0.000198</td>\n",
       "      <td>-0.277419</td>\n",
       "      <td>0.368771</td>\n",
       "      <td>0.646190</td>\n",
       "      <td>...</td>\n",
       "      <td>1.365637</td>\n",
       "      <td>0.298476</td>\n",
       "      <td>60.834657</td>\n",
       "      <td>139.528962</td>\n",
       "      <td>0.972009</td>\n",
       "      <td>4.277809</td>\n",
       "      <td>12.269854</td>\n",
       "      <td>0.313818</td>\n",
       "      <td>None</td>\n",
       "      <td>POLYGON ((761826.000 9723798.000, 761832.000 9...</td>\n",
       "    </tr>\n",
       "  </tbody>\n",
       "</table>\n",
       "<p>65822 rows × 196 columns</p>\n",
       "</div>"
      ],
      "text/plain": [
       "          DN   ASM_MIN   ASM_MAX  ASM_RANGE    ASM_SUM  ASM_MEAN  ASM_VARIA  \\\n",
       "0          1  0.104167  0.162326   0.058160  12.282986  0.115877   0.000149   \n",
       "1          2  0.104167  0.177083   0.072917  33.243056  0.118303   0.000218   \n",
       "2          3  0.104167  0.161458   0.057292  15.741320  0.115745   0.000241   \n",
       "3          4  0.104167  0.223958   0.119792  19.033855  0.118962   0.000376   \n",
       "4          5  0.104167  0.154514   0.050347  14.699653  0.111361   0.000106   \n",
       "...      ...       ...       ...        ...        ...       ...        ...   \n",
       "65817  64072  0.104167  0.223090   0.118924  36.619793  0.117749   0.000239   \n",
       "65818  64056  0.104167  0.180556   0.076389  63.664065  0.112085   0.000133   \n",
       "65819  64057  0.104167  0.223090   0.118924  32.250001  0.117273   0.000322   \n",
       "65820  64063  0.104167  0.398438   0.294271  85.526912  0.123060   0.000713   \n",
       "65821  64066  0.104167  0.245660   0.141493  48.740453  0.113880   0.000198   \n",
       "\n",
       "        BAI_MIN   BAI_MAX  BAI_RANGE  ...  POL_ANGLE  PELLIP_FIT  PGYRATIUS  \\\n",
       "0     -0.067218 -0.013937   0.053281  ...   0.115208    0.280966  23.069589   \n",
       "1     -0.108557 -0.010772   0.097785  ...  -0.028114    0.252064  57.650600   \n",
       "2     -0.036556 -0.001385   0.035171  ...  -0.063438    0.289129  40.839872   \n",
       "3     -0.042466  0.004531   0.046996  ...   0.016812    0.276389  47.839765   \n",
       "4     -0.051948  0.000844   0.052792  ...  -0.320660    0.508515  17.542073   \n",
       "...         ...       ...        ...  ...        ...         ...        ...   \n",
       "65817 -0.171303 -0.087398   0.083905  ...  -1.401150    0.330241  24.301214   \n",
       "65818 -0.359375  1.038095   1.397470  ...   1.393624    0.407557  50.292007   \n",
       "65819 -0.183413 -0.068136   0.115277  ...   0.186332    0.505544  22.047170   \n",
       "65820 -0.221453 -0.076249   0.145204  ...  -1.521051    0.342232  40.260140   \n",
       "65821 -0.277419  0.368771   0.646190  ...   1.365637    0.298476  60.834657   \n",
       "\n",
       "        POLRADIUS   PCIRCLE  PSAHPEIDX   PDENSITY  PRECTFIT         LIMIAR  \\\n",
       "0       60.760723  0.963443   2.913858   6.978192  0.328336           None   \n",
       "1       92.024145  0.957751   3.489817  12.214186  0.311128           AGUA   \n",
       "2       92.366234  0.979703   3.644345   5.889598  0.327246           None   \n",
       "3       85.012154  0.971812   3.478505   7.528335  0.316523           None   \n",
       "4       34.290356  0.857065   1.871335  15.397915  0.484242           AGUA   \n",
       "...           ...       ...        ...        ...       ...            ...   \n",
       "65817   52.035815  0.853760   2.381602  23.906611  0.344015  VEG_ARBUSTIVA   \n",
       "65818  101.715020  0.930098   3.000073  22.336917  0.483292   VEG_HERBACEA   \n",
       "65819   37.607517  0.752433   2.020126  29.249472  0.462963  VEG_ARBUSTIVA   \n",
       "65820   66.947936  0.802567   2.389726  41.524805  0.399425  VEG_ARBUSTIVA   \n",
       "65821  139.528962  0.972009   4.277809  12.269854  0.313818           None   \n",
       "\n",
       "                                                geometry  \n",
       "0      POLYGON ((739940.000 9732728.000, 739950.000 9...  \n",
       "1      POLYGON ((739942.000 9732736.000, 739944.000 9...  \n",
       "2      POLYGON ((739930.000 9732722.000, 740034.000 9...  \n",
       "3      POLYGON ((739930.000 9732720.000, 739998.000 9...  \n",
       "4      POLYGON ((740076.000 9732714.000, 740096.000 9...  \n",
       "...                                                  ...  \n",
       "65817  POLYGON ((760930.000 9723718.000, 760936.000 9...  \n",
       "65818  POLYGON ((761808.000 9723760.000, 761812.000 9...  \n",
       "65819  POLYGON ((760520.000 9723704.000, 760524.000 9...  \n",
       "65820  POLYGON ((760596.000 9723716.000, 760600.000 9...  \n",
       "65821  POLYGON ((761826.000 9723798.000, 761832.000 9...  \n",
       "\n",
       "[65822 rows x 196 columns]"
      ]
     },
     "execution_count": 8,
     "metadata": {},
     "output_type": "execute_result"
    }
   ],
   "source": [
    "obj"
   ]
  },
  {
   "cell_type": "markdown",
   "metadata": {},
   "source": [
    "Definicação da variável identificadora de cada feição:"
   ]
  },
  {
   "cell_type": "code",
   "execution_count": null,
   "metadata": {},
   "outputs": [],
   "source": [
    "indice = 'DN'"
   ]
  },
  {
   "cell_type": "markdown",
   "metadata": {},
   "source": [
    "Definicação da variável com as classes amostrais. Esta variável dever ser categórica (com o nome das classes amostradas) ou discreta:"
   ]
  },
  {
   "cell_type": "code",
   "execution_count": null,
   "metadata": {},
   "outputs": [],
   "source": [
    "TARGET = 'am_CLASSE'\n",
    "\n",
    "target = []\n",
    "cont = 0\n",
    "\n",
    "for classe in obj[TARGET].unique():\n",
    "    if not pd.isnull(classe):\n",
    "        target.append(classe)\n",
    "\n",
    "target"
   ]
  },
  {
   "cell_type": "markdown",
   "metadata": {},
   "source": [
    "Extraindo as variáveis categóricas e numéricas para tratamento dos dados:"
   ]
  },
  {
   "cell_type": "code",
   "execution_count": 9,
   "metadata": {},
   "outputs": [],
   "source": [
    "var_num = obj.select_dtypes(include=['float64','int64','int','float'])\n",
    "var_cat = obj.select_dtypes(include=['string','object'])"
   ]
  },
  {
   "cell_type": "markdown",
   "metadata": {},
   "source": [
    "Removendo a coluna com as amostras para o tratamento dos dados:"
   ]
  },
  {
   "cell_type": "code",
   "execution_count": null,
   "metadata": {},
   "outputs": [],
   "source": [
    "try: \n",
    "    var_cat = var_cat.drop(columns = TARGET)\n",
    "except:\n",
    "    var_num = var_num.drop(columns = TARGET)"
   ]
  },
  {
   "cell_type": "code",
   "execution_count": null,
   "metadata": {},
   "outputs": [],
   "source": [
    "var_cat"
   ]
  },
  {
   "cell_type": "markdown",
   "metadata": {},
   "source": [
    "Normalizando e preenchendo possíveis valores vazios nos campos numéricos:"
   ]
  },
  {
   "cell_type": "code",
   "execution_count": null,
   "metadata": {},
   "outputs": [],
   "source": [
    "dummy = 0 #alterar para algum outro valor a sua escolha\n",
    "\n",
    "var_num.iloc[:,1:] =(var_num.iloc[:,1:] - var_num.iloc[:,1:].min())/(var_num.iloc[:,1:].max() - var_num.iloc[:,1:].min())\n",
    "var_num.iloc[:,1:] = var_num.iloc[:,1:].fillna(dummy)\n",
    "var_num"
   ]
  },
  {
   "cell_type": "markdown",
   "metadata": {},
   "source": [
    "Aplicando OneHotEncoder nas variáveis de natureza categórica e criando um DataFrame dos dados:"
   ]
  },
  {
   "cell_type": "code",
   "execution_count": null,
   "metadata": {
    "scrolled": true
   },
   "outputs": [],
   "source": [
    "aux = obj[[indice, TARGET]]\n",
    "\n",
    "try:\n",
    "    var_cat = pd.get_dummies(var_cat[:-1], drop_first=True)\n",
    "    obj = (aux.merge(var_num, left_on=indice, right_on=indice)).merge(var_cat, left_index=True, right_index=True)\n",
    "    \n",
    "except:\n",
    "    obj = (aux.merge(var_num, left_on=indice, right_on=indice))\n",
    "    print(\"Não há variáveis categóricas para aplicar OneHotEncode\")\n",
    "\n",
    "obj"
   ]
  },
  {
   "cell_type": "code",
   "execution_count": null,
   "metadata": {},
   "outputs": [],
   "source": [
    "aux = obj[[indice, TARGET]]\n",
    "obj = (aux.merge(var_num, left_on=indice, right_on=indice))\n",
    "obj"
   ]
  },
  {
   "cell_type": "markdown",
   "metadata": {},
   "source": [
    "Visualizando estatísticas descritivas da base de dados já tratada:"
   ]
  },
  {
   "cell_type": "code",
   "execution_count": null,
   "metadata": {},
   "outputs": [],
   "source": [
    "obj.describe()"
   ]
  },
  {
   "cell_type": "markdown",
   "metadata": {},
   "source": [
    "Salvando a base de dados tratadas:"
   ]
  },
  {
   "cell_type": "code",
   "execution_count": null,
   "metadata": {},
   "outputs": [],
   "source": [
    "obj.to_csv(\"C:\\\\Users\\\\dias-bruno\\\\Desktop\\\\INPE-SER\\\\4PERIODO\\\\AI\\\\\\DADOS_ATV1\\\\dados_tratados.csv\")"
   ]
  },
  {
   "cell_type": "markdown",
   "metadata": {},
   "source": [
    "Criando uma cópia do DataFrame:"
   ]
  },
  {
   "cell_type": "code",
   "execution_count": null,
   "metadata": {},
   "outputs": [],
   "source": [
    "saida =  obj\n",
    "saida"
   ]
  },
  {
   "cell_type": "markdown",
   "metadata": {},
   "source": [
    "Selecionando apenas as feições que possuem amostras coletadas para extrair a estatística:"
   ]
  },
  {
   "cell_type": "code",
   "execution_count": null,
   "metadata": {
    "scrolled": true
   },
   "outputs": [],
   "source": [
    "obj = obj[obj[TARGET].isin(target)]\n",
    "obj"
   ]
  },
  {
   "cell_type": "markdown",
   "metadata": {},
   "source": [
    "Calculo do R² da Anova de cada coluna do Dataframe em relação à coluna Target:"
   ]
  },
  {
   "cell_type": "code",
   "execution_count": null,
   "metadata": {},
   "outputs": [],
   "source": [
    "iv = {}\n",
    "\n",
    "for coluna in obj.columns:  \n",
    "    if coluna != TARGET:\n",
    "        counts = obj.groupby(TARGET, sort=True)[coluna].count() #Contagem de elementos de cada classe amostral\n",
    "        medias = obj.groupby(TARGET, sort=True)[coluna].mean() #Média de cada caluna por classe amostral \n",
    "        aux = 0        \n",
    "        for i in range(len(counts)):\n",
    "            try:\n",
    "                aux = aux + counts.iloc[i]*((medias.iloc[i] - obj[coluna].mean())**2)\n",
    "            except:\n",
    "                aux = 0\n",
    "        \n",
    "        if (sum(counts))*((obj[coluna].std())**2) == 0:\n",
    "            iv[coluna] = aux/0.00001\n",
    "        else:                \n",
    "            iv[coluna] = aux/((sum(counts))*((obj[coluna].std())**2))\n",
    "        \n",
    "        print(\"Rodou: \", coluna)\n",
    "\n",
    "iv = sorted(iv.items(), key=lambda x: x[1], reverse=True)"
   ]
  },
  {
   "cell_type": "code",
   "execution_count": null,
   "metadata": {
    "scrolled": false
   },
   "outputs": [],
   "source": [
    "iv = sorted(iv.items(), key=lambda x: x[1], reverse=True)"
   ]
  },
  {
   "cell_type": "code",
   "execution_count": null,
   "metadata": {},
   "outputs": [],
   "source": [
    "iv"
   ]
  },
  {
   "cell_type": "markdown",
   "metadata": {},
   "source": [
    "Grafico bloxpot da variável com o melhor poder explicativo em relação às classes amostrais:"
   ]
  },
  {
   "cell_type": "code",
   "execution_count": null,
   "metadata": {},
   "outputs": [],
   "source": [
    "sns.boxplot(x=TARGET , y= obj[iv[0][0]], order= obj[TARGET].sort_values().unique(), data = obj)"
   ]
  },
  {
   "cell_type": "code",
   "execution_count": null,
   "metadata": {},
   "outputs": [],
   "source": [
    "iv"
   ]
  },
  {
   "cell_type": "code",
   "execution_count": null,
   "metadata": {},
   "outputs": [],
   "source": [
    "obj[iv[0][0]]"
   ]
  },
  {
   "cell_type": "markdown",
   "metadata": {},
   "source": [
    "Grafico bloxpot da variável com o pior poder explicativo em relação às classes amostrais:"
   ]
  },
  {
   "cell_type": "code",
   "execution_count": null,
   "metadata": {},
   "outputs": [],
   "source": [
    "sns.boxplot(x=TARGET, y= obj[iv[-1][0]],  order= obj[TARGET].sort_values().unique(),  data = obj)"
   ]
  },
  {
   "cell_type": "markdown",
   "metadata": {},
   "source": [
    "Removendo variáveis pouco explicativas, a partir de um limite inferior e variáveis com possíveis valores 'NaN':"
   ]
  },
  {
   "cell_type": "code",
   "execution_count": null,
   "metadata": {},
   "outputs": [],
   "source": [
    "lim_min = 0.10 #Alterar limite inferior para remoção das variáveis\n",
    "aux = []\n",
    "\n",
    "print(f'Total de variáveis antes da remoção: {len(iv)}')\n",
    "\n",
    "for i in range(len(iv)):\n",
    "    if math.isnan(iv[i][1]):\n",
    "        aux.append(iv[i])\n",
    "    elif iv[i][0] != indice:\n",
    "        if iv[i][1] < lim_min:\n",
    "            aux.append(iv[i])\n",
    "\n",
    "for i in aux:\n",
    "    iv.remove(i)\n",
    "\n",
    "print(f'Total de variáveis depois da remoção: {len(iv)}')"
   ]
  },
  {
   "cell_type": "markdown",
   "metadata": {},
   "source": [
    "Visualização das informações das variáveis mais explicativas:"
   ]
  },
  {
   "cell_type": "code",
   "execution_count": null,
   "metadata": {},
   "outputs": [],
   "source": [
    "iv"
   ]
  },
  {
   "cell_type": "markdown",
   "metadata": {},
   "source": [
    "Definição do fator de correlação a ser considerado.\n",
    "\n",
    "Dado duas variáveis [<i>i</i>,<i>j</i>], será calculado a correlação entre <i>i</i> e <i>j</i>. Caso a correlação entre as duas variáveis seja maior do que o <b>fator máximo de correlação</b>, faremos a exclusão daquela com menor poder explicativo a partir do seu R²:"
   ]
  },
  {
   "cell_type": "code",
   "execution_count": null,
   "metadata": {},
   "outputs": [],
   "source": [
    "fator = 0.95"
   ]
  },
  {
   "cell_type": "markdown",
   "metadata": {},
   "source": [
    "Remoção de variáveis de alta correlação _(Pearson)_:"
   ]
  },
  {
   "cell_type": "code",
   "execution_count": null,
   "metadata": {
    "scrolled": false
   },
   "outputs": [],
   "source": [
    "colunas = []\n",
    "aux = []\n",
    "\n",
    "for i, j in iv:\n",
    "    colunas.append(i)\n",
    "    aux.append(i)\n",
    "\n",
    "for i in range(len(colunas)):\n",
    "    for j in range(len(colunas)):\n",
    "        if j > i and abs(saida[colunas[i]].corr(saida[colunas[j]])) > fator:\n",
    "            if (colunas[j] in aux) and (colunas[j] != indice):\n",
    "                aux.remove(colunas[j])"
   ]
  },
  {
   "cell_type": "markdown",
   "metadata": {},
   "source": [
    "Quantidade de variáveis do Dataframe que será gerado para a saída:"
   ]
  },
  {
   "cell_type": "code",
   "execution_count": null,
   "metadata": {},
   "outputs": [],
   "source": [
    "len(aux)"
   ]
  },
  {
   "cell_type": "markdown",
   "metadata": {},
   "source": [
    "Visualização das colunas que estarão no Dataframe de saída:"
   ]
  },
  {
   "cell_type": "code",
   "execution_count": null,
   "metadata": {
    "scrolled": true
   },
   "outputs": [],
   "source": [
    "aux"
   ]
  },
  {
   "cell_type": "markdown",
   "metadata": {},
   "source": [
    "Célula de conferência que mostra que as variáveis que sobraram não possuem uma correlação acima do <b>fator máximo de correlação</b> inserido - exceto para a variável de identificação:"
   ]
  },
  {
   "cell_type": "code",
   "execution_count": null,
   "metadata": {
    "scrolled": false
   },
   "outputs": [],
   "source": [
    "corr_df = saida[aux].corr()\n",
    "\n",
    "corr_df.style.background_gradient(cmap='Spectral')"
   ]
  },
  {
   "cell_type": "code",
   "execution_count": null,
   "metadata": {},
   "outputs": [],
   "source": [
    "aux.append(TARGET)"
   ]
  },
  {
   "cell_type": "markdown",
   "metadata": {},
   "source": [
    "Salvando o CSV apenas com as colunas não correlacionadas e com um mínimo de poder explicativo:"
   ]
  },
  {
   "cell_type": "code",
   "execution_count": null,
   "metadata": {},
   "outputs": [],
   "source": [
    "saida[aux].to_csv(\"C:\\\\Users\\\\dias-bruno\\\\Desktop\\\\INPE-SER\\\\4PERIODO\\\\AI\\\\DADOS_ATV1\\\\dados_finais.csv\")"
   ]
  },
  {
   "cell_type": "code",
   "execution_count": null,
   "metadata": {
    "scrolled": true
   },
   "outputs": [],
   "source": [
    "saida[aux]"
   ]
  }
 ],
 "metadata": {
  "kernelspec": {
   "display_name": "Python 3",
   "language": "python",
   "name": "python3"
  },
  "language_info": {
   "codemirror_mode": {
    "name": "ipython",
    "version": 3
   },
   "file_extension": ".py",
   "mimetype": "text/x-python",
   "name": "python",
   "nbconvert_exporter": "python",
   "pygments_lexer": "ipython3",
   "version": "3.8.5"
  }
 },
 "nbformat": 4,
 "nbformat_minor": 4
}
