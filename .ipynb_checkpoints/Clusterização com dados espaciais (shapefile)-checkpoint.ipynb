{
 "cells": [
  {
   "cell_type": "markdown",
   "metadata": {
    "id": "x1547g0wfX9H"
   },
   "source": [
    "\n",
    "\n",
    "# <center> Preparação e seleção de variáveis </center>\n",
    "\n",
    "<br/>\n",
    "\n",
    "<div style=\"text-align: center;font-size: 90%;\">\n",
    "    Bruno Dias dos Santos<sup><a href=\"https://orcid.org/0000-0001-6181-2158\"><i class=\"fab fa-lg fa-orcid\" style=\"color: #a6ce39\"></i></a></sup><sup><a href=\"https://orcid.org/0000-0002-0082-9498\"><i class=\"fab fa-lg fa-orcid\" style=\"color: #a6ce39\"></i></a></sup><i class=\"fab fa-lg fa-orcid\" style=\"color: #a6ce39\"></i></a></sup>\n",
    "    <br/><br/>\n",
    "    Programa de Pós-Graduação em Computação Aplicada, Instituto Nacional de Pesquisas Espaciais (INPE)\n",
    "    <br/>\n",
    "    Avenida dos Astronautas, 1758, Jardim da Granja, São José dos Campos, SP 12227-010, Brasil\n",
    "    <br/><br/>\n",
    "    Contato: <div><a href=\"mailto:bruno.santos@inpe.br\">bruno.santos@inpe.br</a></div>\n",
    "    <br/><br/>\n",
    "    Última atualização: 18 de Abril de 2022\n",
    "</div>\n",
    "<br/>\n",
    "\n",
    "<div style=\"text-align: justify;  margin-left: 25%; margin-right: 25%;\">\n",
    "<b>Resumo.</b> Este Notebook apresenta uma metodologia para tratar e selecionar variáveis. Dado uma tabela de atributos (.csv) contendo uma variável com as classes amostrais, os atributos serão tratados a partir da remoção de valores faltantes, normalizados e ordenados em relação ao seu poder explicativo a partir do cálculo do R² da ANOVA. Posteriormente, os atributos serão comparados dois a dois e caso a correlação (de Pearson) ultrapasse um valor máximo adotado, será realizada a remoção da variável com menor poder explicativo. Como saída, serão retornadas num arquivo .csv apenas as variáveis tratadas, com um valor R² acima do desejado, não correlacionadas e prontas para um posterior processo de classificação.     \n",
    "</div>    \n",
    "\n",
    "<br/>"
   ]
  },
  {
   "cell_type": "markdown",
   "metadata": {
    "id": "YJ8yYaoafX9T"
   },
   "source": [
    "Importação das bibliotecas:"
   ]
  },
  {
   "cell_type": "code",
   "execution_count": 132,
   "metadata": {
    "id": "gFJxn1XjfX9V"
   },
   "outputs": [],
   "source": [
    "import pandas as pd\n",
    "import numpy as np\n",
    "import seaborn as sns\n",
    "import math as math\n",
    "import matplotlib.pyplot as plt\n",
    "import geopandas as gpd\n",
    "import shapely\n",
    "import plotly.express as px\n",
    "import plotly.graph_objects as go\n",
    "from sklearn.cluster import KMeans, SpectralClustering, AgglomerativeClustering\n",
    "from scipy.cluster.hierarchy import dendrogram, linkage"
   ]
  },
  {
   "cell_type": "markdown",
   "metadata": {
    "id": "Vtcvr1cbfX9Y"
   },
   "source": [
    "Leitura das tabelas CSV como DataFrames, criação e visualização dos DataFrames:"
   ]
  },
  {
   "cell_type": "code",
   "execution_count": 133,
   "metadata": {
    "id": "w34sr0nHfX9Z"
   },
   "outputs": [],
   "source": [
    "obj = gpd.read_file(\"C:\\\\Users\\\\dias-bruno\\\\Desktop\\\\INPE-SER\\\\DISSERTACAO\\\\SHAPEFILES\\\\AMBIENTAL\\\\base_ambie_tratada.shp\")"
   ]
  },
  {
   "cell_type": "code",
   "execution_count": 199,
   "metadata": {
    "colab": {
     "base_uri": "https://localhost:8080/",
     "height": 488
    },
    "id": "o_ieAwI5fX9k",
    "outputId": "c36abef2-603d-41dd-82cb-f7318289ebab"
   },
   "outputs": [
    {
     "data": {
      "text/html": [
       "<div>\n",
       "<style scoped>\n",
       "    .dataframe tbody tr th:only-of-type {\n",
       "        vertical-align: middle;\n",
       "    }\n",
       "\n",
       "    .dataframe tbody tr th {\n",
       "        vertical-align: top;\n",
       "    }\n",
       "\n",
       "    .dataframe thead th {\n",
       "        text-align: right;\n",
       "    }\n",
       "</style>\n",
       "<table border=\"1\" class=\"dataframe\">\n",
       "  <thead>\n",
       "    <tr style=\"text-align: right;\">\n",
       "      <th></th>\n",
       "      <th>ID</th>\n",
       "      <th>SN [MEAN]</th>\n",
       "      <th>VN [MEAN]</th>\n",
       "      <th>HND [MEAN]</th>\n",
       "      <th>CA_AG</th>\n",
       "      <th>CA_SE</th>\n",
       "      <th>CA_VA</th>\n",
       "      <th>CA_VH</th>\n",
       "      <th>geometry</th>\n",
       "    </tr>\n",
       "  </thead>\n",
       "  <tbody>\n",
       "    <tr>\n",
       "      <th>0</th>\n",
       "      <td>1</td>\n",
       "      <td>-0.073030</td>\n",
       "      <td>0.787566</td>\n",
       "      <td>0.205118</td>\n",
       "      <td>-0.403693</td>\n",
       "      <td>-0.309557</td>\n",
       "      <td>0.928459</td>\n",
       "      <td>-0.682653</td>\n",
       "      <td>POLYGON ((752288.17666 9722818.28253, 752288.6...</td>\n",
       "    </tr>\n",
       "    <tr>\n",
       "      <th>1</th>\n",
       "      <td>2</td>\n",
       "      <td>0.339348</td>\n",
       "      <td>0.632469</td>\n",
       "      <td>-0.077947</td>\n",
       "      <td>-0.403693</td>\n",
       "      <td>-0.309557</td>\n",
       "      <td>0.918417</td>\n",
       "      <td>-0.682653</td>\n",
       "      <td>POLYGON ((752388.36020 9722817.84804, 752388.7...</td>\n",
       "    </tr>\n",
       "    <tr>\n",
       "      <th>2</th>\n",
       "      <td>3</td>\n",
       "      <td>0.709323</td>\n",
       "      <td>-0.254420</td>\n",
       "      <td>-0.475393</td>\n",
       "      <td>-0.403693</td>\n",
       "      <td>-0.309557</td>\n",
       "      <td>0.908381</td>\n",
       "      <td>-0.682653</td>\n",
       "      <td>POLYGON ((752488.54379 9722817.41380, 752488.9...</td>\n",
       "    </tr>\n",
       "    <tr>\n",
       "      <th>3</th>\n",
       "      <td>4</td>\n",
       "      <td>0.133846</td>\n",
       "      <td>-0.601097</td>\n",
       "      <td>-0.595551</td>\n",
       "      <td>-0.403693</td>\n",
       "      <td>-0.309557</td>\n",
       "      <td>0.898350</td>\n",
       "      <td>-0.682653</td>\n",
       "      <td>POLYGON ((752588.72746 9722816.97981, 752589.1...</td>\n",
       "    </tr>\n",
       "    <tr>\n",
       "      <th>4</th>\n",
       "      <td>5</td>\n",
       "      <td>-0.148261</td>\n",
       "      <td>-1.313754</td>\n",
       "      <td>-0.614037</td>\n",
       "      <td>-0.403693</td>\n",
       "      <td>0.368860</td>\n",
       "      <td>0.294439</td>\n",
       "      <td>-0.520657</td>\n",
       "      <td>POLYGON ((752688.91118 9722816.54607, 752689.3...</td>\n",
       "    </tr>\n",
       "    <tr>\n",
       "      <th>...</th>\n",
       "      <td>...</td>\n",
       "      <td>...</td>\n",
       "      <td>...</td>\n",
       "      <td>...</td>\n",
       "      <td>...</td>\n",
       "      <td>...</td>\n",
       "      <td>...</td>\n",
       "      <td>...</td>\n",
       "      <td>...</td>\n",
       "    </tr>\n",
       "    <tr>\n",
       "      <th>14650</th>\n",
       "      <td>14651</td>\n",
       "      <td>-0.723446</td>\n",
       "      <td>0.178388</td>\n",
       "      <td>-0.720330</td>\n",
       "      <td>2.703014</td>\n",
       "      <td>-0.309557</td>\n",
       "      <td>-0.966817</td>\n",
       "      <td>-0.682653</td>\n",
       "      <td>POLYGON ((752435.78613 9733807.56075, 752436.2...</td>\n",
       "    </tr>\n",
       "    <tr>\n",
       "      <th>14651</th>\n",
       "      <td>14652</td>\n",
       "      <td>-0.876452</td>\n",
       "      <td>-0.123452</td>\n",
       "      <td>-0.817381</td>\n",
       "      <td>2.703018</td>\n",
       "      <td>-0.309557</td>\n",
       "      <td>-0.966817</td>\n",
       "      <td>-0.682653</td>\n",
       "      <td>POLYGON ((752535.94173 9733807.13343, 752536.3...</td>\n",
       "    </tr>\n",
       "    <tr>\n",
       "      <th>14652</th>\n",
       "      <td>14653</td>\n",
       "      <td>-0.972583</td>\n",
       "      <td>-0.069461</td>\n",
       "      <td>-0.817381</td>\n",
       "      <td>2.703022</td>\n",
       "      <td>-0.309557</td>\n",
       "      <td>-0.966817</td>\n",
       "      <td>-0.682653</td>\n",
       "      <td>POLYGON ((752636.09739 9733806.70637, 752636.5...</td>\n",
       "    </tr>\n",
       "    <tr>\n",
       "      <th>14653</th>\n",
       "      <td>14654</td>\n",
       "      <td>-0.854758</td>\n",
       "      <td>-0.001129</td>\n",
       "      <td>-0.754991</td>\n",
       "      <td>2.703025</td>\n",
       "      <td>-0.309557</td>\n",
       "      <td>-0.966817</td>\n",
       "      <td>-0.682653</td>\n",
       "      <td>POLYGON ((752736.25311 9733806.27957, 752736.6...</td>\n",
       "    </tr>\n",
       "    <tr>\n",
       "      <th>14654</th>\n",
       "      <td>14655</td>\n",
       "      <td>-0.773980</td>\n",
       "      <td>0.098468</td>\n",
       "      <td>-0.687980</td>\n",
       "      <td>2.703029</td>\n",
       "      <td>-0.309557</td>\n",
       "      <td>-0.966817</td>\n",
       "      <td>-0.682653</td>\n",
       "      <td>POLYGON ((752836.40890 9733805.85302, 752836.8...</td>\n",
       "    </tr>\n",
       "  </tbody>\n",
       "</table>\n",
       "<p>14655 rows × 9 columns</p>\n",
       "</div>"
      ],
      "text/plain": [
       "          ID  SN [MEAN]  VN [MEAN]  HND [MEAN]     CA_AG     CA_SE     CA_VA  \\\n",
       "0          1  -0.073030   0.787566    0.205118 -0.403693 -0.309557  0.928459   \n",
       "1          2   0.339348   0.632469   -0.077947 -0.403693 -0.309557  0.918417   \n",
       "2          3   0.709323  -0.254420   -0.475393 -0.403693 -0.309557  0.908381   \n",
       "3          4   0.133846  -0.601097   -0.595551 -0.403693 -0.309557  0.898350   \n",
       "4          5  -0.148261  -1.313754   -0.614037 -0.403693  0.368860  0.294439   \n",
       "...      ...        ...        ...         ...       ...       ...       ...   \n",
       "14650  14651  -0.723446   0.178388   -0.720330  2.703014 -0.309557 -0.966817   \n",
       "14651  14652  -0.876452  -0.123452   -0.817381  2.703018 -0.309557 -0.966817   \n",
       "14652  14653  -0.972583  -0.069461   -0.817381  2.703022 -0.309557 -0.966817   \n",
       "14653  14654  -0.854758  -0.001129   -0.754991  2.703025 -0.309557 -0.966817   \n",
       "14654  14655  -0.773980   0.098468   -0.687980  2.703029 -0.309557 -0.966817   \n",
       "\n",
       "          CA_VH                                           geometry  \n",
       "0     -0.682653  POLYGON ((752288.17666 9722818.28253, 752288.6...  \n",
       "1     -0.682653  POLYGON ((752388.36020 9722817.84804, 752388.7...  \n",
       "2     -0.682653  POLYGON ((752488.54379 9722817.41380, 752488.9...  \n",
       "3     -0.682653  POLYGON ((752588.72746 9722816.97981, 752589.1...  \n",
       "4     -0.520657  POLYGON ((752688.91118 9722816.54607, 752689.3...  \n",
       "...         ...                                                ...  \n",
       "14650 -0.682653  POLYGON ((752435.78613 9733807.56075, 752436.2...  \n",
       "14651 -0.682653  POLYGON ((752535.94173 9733807.13343, 752536.3...  \n",
       "14652 -0.682653  POLYGON ((752636.09739 9733806.70637, 752636.5...  \n",
       "14653 -0.682653  POLYGON ((752736.25311 9733806.27957, 752736.6...  \n",
       "14654 -0.682653  POLYGON ((752836.40890 9733805.85302, 752836.8...  \n",
       "\n",
       "[14655 rows x 9 columns]"
      ]
     },
     "execution_count": 199,
     "metadata": {},
     "output_type": "execute_result"
    }
   ],
   "source": [
    "obj"
   ]
  },
  {
   "cell_type": "code",
   "execution_count": 200,
   "metadata": {},
   "outputs": [
    {
     "data": {
      "text/plain": [
       "Index(['ID', 'SN [MEAN]', 'VN [MEAN]', 'HND [MEAN]', 'CA_AG', 'CA_SE', 'CA_VA',\n",
       "       'CA_VH', 'geometry'],\n",
       "      dtype='object')"
      ]
     },
     "execution_count": 200,
     "metadata": {},
     "output_type": "execute_result"
    }
   ],
   "source": [
    "obj.columns"
   ]
  },
  {
   "cell_type": "code",
   "execution_count": 201,
   "metadata": {},
   "outputs": [],
   "source": [
    "# ocupado = obj[obj['C8_CA_AS'] + obj['C3_CA_BR'] + obj['C3_CA_CE'] + obj['C8_CA_ES'] +  obj['C3_CA_FI'] > 0 ]\n",
    "ocupado = obj"
   ]
  },
  {
   "cell_type": "code",
   "execution_count": 202,
   "metadata": {},
   "outputs": [
    {
     "data": {
      "text/html": [
       "<div>\n",
       "<style scoped>\n",
       "    .dataframe tbody tr th:only-of-type {\n",
       "        vertical-align: middle;\n",
       "    }\n",
       "\n",
       "    .dataframe tbody tr th {\n",
       "        vertical-align: top;\n",
       "    }\n",
       "\n",
       "    .dataframe thead th {\n",
       "        text-align: right;\n",
       "    }\n",
       "</style>\n",
       "<table border=\"1\" class=\"dataframe\">\n",
       "  <thead>\n",
       "    <tr style=\"text-align: right;\">\n",
       "      <th></th>\n",
       "      <th>ID</th>\n",
       "      <th>SN [MEAN]</th>\n",
       "      <th>VN [MEAN]</th>\n",
       "      <th>HND [MEAN]</th>\n",
       "      <th>CA_AG</th>\n",
       "      <th>CA_SE</th>\n",
       "      <th>CA_VA</th>\n",
       "      <th>CA_VH</th>\n",
       "      <th>geometry</th>\n",
       "    </tr>\n",
       "  </thead>\n",
       "  <tbody>\n",
       "    <tr>\n",
       "      <th>0</th>\n",
       "      <td>1</td>\n",
       "      <td>-0.073030</td>\n",
       "      <td>0.787566</td>\n",
       "      <td>0.205118</td>\n",
       "      <td>-0.403693</td>\n",
       "      <td>-0.309557</td>\n",
       "      <td>0.928459</td>\n",
       "      <td>-0.682653</td>\n",
       "      <td>POLYGON ((752288.17666 9722818.28253, 752288.6...</td>\n",
       "    </tr>\n",
       "    <tr>\n",
       "      <th>1</th>\n",
       "      <td>2</td>\n",
       "      <td>0.339348</td>\n",
       "      <td>0.632469</td>\n",
       "      <td>-0.077947</td>\n",
       "      <td>-0.403693</td>\n",
       "      <td>-0.309557</td>\n",
       "      <td>0.918417</td>\n",
       "      <td>-0.682653</td>\n",
       "      <td>POLYGON ((752388.36020 9722817.84804, 752388.7...</td>\n",
       "    </tr>\n",
       "    <tr>\n",
       "      <th>2</th>\n",
       "      <td>3</td>\n",
       "      <td>0.709323</td>\n",
       "      <td>-0.254420</td>\n",
       "      <td>-0.475393</td>\n",
       "      <td>-0.403693</td>\n",
       "      <td>-0.309557</td>\n",
       "      <td>0.908381</td>\n",
       "      <td>-0.682653</td>\n",
       "      <td>POLYGON ((752488.54379 9722817.41380, 752488.9...</td>\n",
       "    </tr>\n",
       "    <tr>\n",
       "      <th>3</th>\n",
       "      <td>4</td>\n",
       "      <td>0.133846</td>\n",
       "      <td>-0.601097</td>\n",
       "      <td>-0.595551</td>\n",
       "      <td>-0.403693</td>\n",
       "      <td>-0.309557</td>\n",
       "      <td>0.898350</td>\n",
       "      <td>-0.682653</td>\n",
       "      <td>POLYGON ((752588.72746 9722816.97981, 752589.1...</td>\n",
       "    </tr>\n",
       "    <tr>\n",
       "      <th>4</th>\n",
       "      <td>5</td>\n",
       "      <td>-0.148261</td>\n",
       "      <td>-1.313754</td>\n",
       "      <td>-0.614037</td>\n",
       "      <td>-0.403693</td>\n",
       "      <td>0.368860</td>\n",
       "      <td>0.294439</td>\n",
       "      <td>-0.520657</td>\n",
       "      <td>POLYGON ((752688.91118 9722816.54607, 752689.3...</td>\n",
       "    </tr>\n",
       "    <tr>\n",
       "      <th>...</th>\n",
       "      <td>...</td>\n",
       "      <td>...</td>\n",
       "      <td>...</td>\n",
       "      <td>...</td>\n",
       "      <td>...</td>\n",
       "      <td>...</td>\n",
       "      <td>...</td>\n",
       "      <td>...</td>\n",
       "      <td>...</td>\n",
       "    </tr>\n",
       "    <tr>\n",
       "      <th>14650</th>\n",
       "      <td>14651</td>\n",
       "      <td>-0.723446</td>\n",
       "      <td>0.178388</td>\n",
       "      <td>-0.720330</td>\n",
       "      <td>2.703014</td>\n",
       "      <td>-0.309557</td>\n",
       "      <td>-0.966817</td>\n",
       "      <td>-0.682653</td>\n",
       "      <td>POLYGON ((752435.78613 9733807.56075, 752436.2...</td>\n",
       "    </tr>\n",
       "    <tr>\n",
       "      <th>14651</th>\n",
       "      <td>14652</td>\n",
       "      <td>-0.876452</td>\n",
       "      <td>-0.123452</td>\n",
       "      <td>-0.817381</td>\n",
       "      <td>2.703018</td>\n",
       "      <td>-0.309557</td>\n",
       "      <td>-0.966817</td>\n",
       "      <td>-0.682653</td>\n",
       "      <td>POLYGON ((752535.94173 9733807.13343, 752536.3...</td>\n",
       "    </tr>\n",
       "    <tr>\n",
       "      <th>14652</th>\n",
       "      <td>14653</td>\n",
       "      <td>-0.972583</td>\n",
       "      <td>-0.069461</td>\n",
       "      <td>-0.817381</td>\n",
       "      <td>2.703022</td>\n",
       "      <td>-0.309557</td>\n",
       "      <td>-0.966817</td>\n",
       "      <td>-0.682653</td>\n",
       "      <td>POLYGON ((752636.09739 9733806.70637, 752636.5...</td>\n",
       "    </tr>\n",
       "    <tr>\n",
       "      <th>14653</th>\n",
       "      <td>14654</td>\n",
       "      <td>-0.854758</td>\n",
       "      <td>-0.001129</td>\n",
       "      <td>-0.754991</td>\n",
       "      <td>2.703025</td>\n",
       "      <td>-0.309557</td>\n",
       "      <td>-0.966817</td>\n",
       "      <td>-0.682653</td>\n",
       "      <td>POLYGON ((752736.25311 9733806.27957, 752736.6...</td>\n",
       "    </tr>\n",
       "    <tr>\n",
       "      <th>14654</th>\n",
       "      <td>14655</td>\n",
       "      <td>-0.773980</td>\n",
       "      <td>0.098468</td>\n",
       "      <td>-0.687980</td>\n",
       "      <td>2.703029</td>\n",
       "      <td>-0.309557</td>\n",
       "      <td>-0.966817</td>\n",
       "      <td>-0.682653</td>\n",
       "      <td>POLYGON ((752836.40890 9733805.85302, 752836.8...</td>\n",
       "    </tr>\n",
       "  </tbody>\n",
       "</table>\n",
       "<p>14655 rows × 9 columns</p>\n",
       "</div>"
      ],
      "text/plain": [
       "          ID  SN [MEAN]  VN [MEAN]  HND [MEAN]     CA_AG     CA_SE     CA_VA  \\\n",
       "0          1  -0.073030   0.787566    0.205118 -0.403693 -0.309557  0.928459   \n",
       "1          2   0.339348   0.632469   -0.077947 -0.403693 -0.309557  0.918417   \n",
       "2          3   0.709323  -0.254420   -0.475393 -0.403693 -0.309557  0.908381   \n",
       "3          4   0.133846  -0.601097   -0.595551 -0.403693 -0.309557  0.898350   \n",
       "4          5  -0.148261  -1.313754   -0.614037 -0.403693  0.368860  0.294439   \n",
       "...      ...        ...        ...         ...       ...       ...       ...   \n",
       "14650  14651  -0.723446   0.178388   -0.720330  2.703014 -0.309557 -0.966817   \n",
       "14651  14652  -0.876452  -0.123452   -0.817381  2.703018 -0.309557 -0.966817   \n",
       "14652  14653  -0.972583  -0.069461   -0.817381  2.703022 -0.309557 -0.966817   \n",
       "14653  14654  -0.854758  -0.001129   -0.754991  2.703025 -0.309557 -0.966817   \n",
       "14654  14655  -0.773980   0.098468   -0.687980  2.703029 -0.309557 -0.966817   \n",
       "\n",
       "          CA_VH                                           geometry  \n",
       "0     -0.682653  POLYGON ((752288.17666 9722818.28253, 752288.6...  \n",
       "1     -0.682653  POLYGON ((752388.36020 9722817.84804, 752388.7...  \n",
       "2     -0.682653  POLYGON ((752488.54379 9722817.41380, 752488.9...  \n",
       "3     -0.682653  POLYGON ((752588.72746 9722816.97981, 752589.1...  \n",
       "4     -0.520657  POLYGON ((752688.91118 9722816.54607, 752689.3...  \n",
       "...         ...                                                ...  \n",
       "14650 -0.682653  POLYGON ((752435.78613 9733807.56075, 752436.2...  \n",
       "14651 -0.682653  POLYGON ((752535.94173 9733807.13343, 752536.3...  \n",
       "14652 -0.682653  POLYGON ((752636.09739 9733806.70637, 752636.5...  \n",
       "14653 -0.682653  POLYGON ((752736.25311 9733806.27957, 752736.6...  \n",
       "14654 -0.682653  POLYGON ((752836.40890 9733805.85302, 752836.8...  \n",
       "\n",
       "[14655 rows x 9 columns]"
      ]
     },
     "execution_count": 202,
     "metadata": {},
     "output_type": "execute_result"
    }
   ],
   "source": [
    "ocupado"
   ]
  },
  {
   "cell_type": "markdown",
   "metadata": {
    "id": "QQq3gX-2fX9l"
   },
   "source": [
    "Definicação da variável identificadora de cada feição:"
   ]
  },
  {
   "cell_type": "code",
   "execution_count": 203,
   "metadata": {
    "id": "KhmXxHw3fX9l"
   },
   "outputs": [],
   "source": [
    "indice = 'ID'"
   ]
  },
  {
   "cell_type": "code",
   "execution_count": 204,
   "metadata": {},
   "outputs": [],
   "source": [
    "geom = ocupado[[indice,'geometry']]"
   ]
  },
  {
   "cell_type": "code",
   "execution_count": 205,
   "metadata": {},
   "outputs": [
    {
     "data": {
      "text/html": [
       "<div>\n",
       "<style scoped>\n",
       "    .dataframe tbody tr th:only-of-type {\n",
       "        vertical-align: middle;\n",
       "    }\n",
       "\n",
       "    .dataframe tbody tr th {\n",
       "        vertical-align: top;\n",
       "    }\n",
       "\n",
       "    .dataframe thead th {\n",
       "        text-align: right;\n",
       "    }\n",
       "</style>\n",
       "<table border=\"1\" class=\"dataframe\">\n",
       "  <thead>\n",
       "    <tr style=\"text-align: right;\">\n",
       "      <th></th>\n",
       "      <th>ID</th>\n",
       "      <th>geometry</th>\n",
       "    </tr>\n",
       "  </thead>\n",
       "  <tbody>\n",
       "    <tr>\n",
       "      <th>0</th>\n",
       "      <td>1</td>\n",
       "      <td>POLYGON ((752288.17666 9722818.28253, 752288.6...</td>\n",
       "    </tr>\n",
       "    <tr>\n",
       "      <th>1</th>\n",
       "      <td>2</td>\n",
       "      <td>POLYGON ((752388.36020 9722817.84804, 752388.7...</td>\n",
       "    </tr>\n",
       "    <tr>\n",
       "      <th>2</th>\n",
       "      <td>3</td>\n",
       "      <td>POLYGON ((752488.54379 9722817.41380, 752488.9...</td>\n",
       "    </tr>\n",
       "    <tr>\n",
       "      <th>3</th>\n",
       "      <td>4</td>\n",
       "      <td>POLYGON ((752588.72746 9722816.97981, 752589.1...</td>\n",
       "    </tr>\n",
       "    <tr>\n",
       "      <th>4</th>\n",
       "      <td>5</td>\n",
       "      <td>POLYGON ((752688.91118 9722816.54607, 752689.3...</td>\n",
       "    </tr>\n",
       "    <tr>\n",
       "      <th>...</th>\n",
       "      <td>...</td>\n",
       "      <td>...</td>\n",
       "    </tr>\n",
       "    <tr>\n",
       "      <th>14650</th>\n",
       "      <td>14651</td>\n",
       "      <td>POLYGON ((752435.78613 9733807.56075, 752436.2...</td>\n",
       "    </tr>\n",
       "    <tr>\n",
       "      <th>14651</th>\n",
       "      <td>14652</td>\n",
       "      <td>POLYGON ((752535.94173 9733807.13343, 752536.3...</td>\n",
       "    </tr>\n",
       "    <tr>\n",
       "      <th>14652</th>\n",
       "      <td>14653</td>\n",
       "      <td>POLYGON ((752636.09739 9733806.70637, 752636.5...</td>\n",
       "    </tr>\n",
       "    <tr>\n",
       "      <th>14653</th>\n",
       "      <td>14654</td>\n",
       "      <td>POLYGON ((752736.25311 9733806.27957, 752736.6...</td>\n",
       "    </tr>\n",
       "    <tr>\n",
       "      <th>14654</th>\n",
       "      <td>14655</td>\n",
       "      <td>POLYGON ((752836.40890 9733805.85302, 752836.8...</td>\n",
       "    </tr>\n",
       "  </tbody>\n",
       "</table>\n",
       "<p>14655 rows × 2 columns</p>\n",
       "</div>"
      ],
      "text/plain": [
       "          ID                                           geometry\n",
       "0          1  POLYGON ((752288.17666 9722818.28253, 752288.6...\n",
       "1          2  POLYGON ((752388.36020 9722817.84804, 752388.7...\n",
       "2          3  POLYGON ((752488.54379 9722817.41380, 752488.9...\n",
       "3          4  POLYGON ((752588.72746 9722816.97981, 752589.1...\n",
       "4          5  POLYGON ((752688.91118 9722816.54607, 752689.3...\n",
       "...      ...                                                ...\n",
       "14650  14651  POLYGON ((752435.78613 9733807.56075, 752436.2...\n",
       "14651  14652  POLYGON ((752535.94173 9733807.13343, 752536.3...\n",
       "14652  14653  POLYGON ((752636.09739 9733806.70637, 752636.5...\n",
       "14653  14654  POLYGON ((752736.25311 9733806.27957, 752736.6...\n",
       "14654  14655  POLYGON ((752836.40890 9733805.85302, 752836.8...\n",
       "\n",
       "[14655 rows x 2 columns]"
      ]
     },
     "execution_count": 205,
     "metadata": {},
     "output_type": "execute_result"
    }
   ],
   "source": [
    "geom"
   ]
  },
  {
   "cell_type": "code",
   "execution_count": 171,
   "metadata": {},
   "outputs": [
    {
     "data": {
      "text/html": [
       "<div>\n",
       "<style scoped>\n",
       "    .dataframe tbody tr th:only-of-type {\n",
       "        vertical-align: middle;\n",
       "    }\n",
       "\n",
       "    .dataframe tbody tr th {\n",
       "        vertical-align: top;\n",
       "    }\n",
       "\n",
       "    .dataframe thead th {\n",
       "        text-align: right;\n",
       "    }\n",
       "</style>\n",
       "<table border=\"1\" class=\"dataframe\">\n",
       "  <thead>\n",
       "    <tr style=\"text-align: right;\">\n",
       "      <th></th>\n",
       "      <th>SN [MEAN]</th>\n",
       "      <th>VN [MEAN]</th>\n",
       "      <th>HND [MEAN]</th>\n",
       "    </tr>\n",
       "  </thead>\n",
       "  <tbody>\n",
       "    <tr>\n",
       "      <th>0</th>\n",
       "      <td>-0.073030</td>\n",
       "      <td>0.787566</td>\n",
       "      <td>0.205118</td>\n",
       "    </tr>\n",
       "    <tr>\n",
       "      <th>1</th>\n",
       "      <td>0.339348</td>\n",
       "      <td>0.632469</td>\n",
       "      <td>-0.077947</td>\n",
       "    </tr>\n",
       "    <tr>\n",
       "      <th>2</th>\n",
       "      <td>0.709323</td>\n",
       "      <td>-0.254420</td>\n",
       "      <td>-0.475393</td>\n",
       "    </tr>\n",
       "    <tr>\n",
       "      <th>3</th>\n",
       "      <td>0.133846</td>\n",
       "      <td>-0.601097</td>\n",
       "      <td>-0.595551</td>\n",
       "    </tr>\n",
       "    <tr>\n",
       "      <th>4</th>\n",
       "      <td>-0.148261</td>\n",
       "      <td>-1.313754</td>\n",
       "      <td>-0.614037</td>\n",
       "    </tr>\n",
       "    <tr>\n",
       "      <th>...</th>\n",
       "      <td>...</td>\n",
       "      <td>...</td>\n",
       "      <td>...</td>\n",
       "    </tr>\n",
       "    <tr>\n",
       "      <th>14650</th>\n",
       "      <td>-0.723446</td>\n",
       "      <td>0.178388</td>\n",
       "      <td>-0.720330</td>\n",
       "    </tr>\n",
       "    <tr>\n",
       "      <th>14651</th>\n",
       "      <td>-0.876452</td>\n",
       "      <td>-0.123452</td>\n",
       "      <td>-0.817381</td>\n",
       "    </tr>\n",
       "    <tr>\n",
       "      <th>14652</th>\n",
       "      <td>-0.972583</td>\n",
       "      <td>-0.069461</td>\n",
       "      <td>-0.817381</td>\n",
       "    </tr>\n",
       "    <tr>\n",
       "      <th>14653</th>\n",
       "      <td>-0.854758</td>\n",
       "      <td>-0.001129</td>\n",
       "      <td>-0.754991</td>\n",
       "    </tr>\n",
       "    <tr>\n",
       "      <th>14654</th>\n",
       "      <td>-0.773980</td>\n",
       "      <td>0.098468</td>\n",
       "      <td>-0.687980</td>\n",
       "    </tr>\n",
       "  </tbody>\n",
       "</table>\n",
       "<p>14655 rows × 3 columns</p>\n",
       "</div>"
      ],
      "text/plain": [
       "       SN [MEAN]  VN [MEAN]  HND [MEAN]\n",
       "0      -0.073030   0.787566    0.205118\n",
       "1       0.339348   0.632469   -0.077947\n",
       "2       0.709323  -0.254420   -0.475393\n",
       "3       0.133846  -0.601097   -0.595551\n",
       "4      -0.148261  -1.313754   -0.614037\n",
       "...          ...        ...         ...\n",
       "14650  -0.723446   0.178388   -0.720330\n",
       "14651  -0.876452  -0.123452   -0.817381\n",
       "14652  -0.972583  -0.069461   -0.817381\n",
       "14653  -0.854758  -0.001129   -0.754991\n",
       "14654  -0.773980   0.098468   -0.687980\n",
       "\n",
       "[14655 rows x 3 columns]"
      ]
     },
     "execution_count": 171,
     "metadata": {},
     "output_type": "execute_result"
    }
   ],
   "source": [
    "ocupado.iloc[:,1:4]"
   ]
  },
  {
   "cell_type": "code",
   "execution_count": 172,
   "metadata": {},
   "outputs": [
    {
     "data": {
      "text/html": [
       "<div>\n",
       "<style scoped>\n",
       "    .dataframe tbody tr th:only-of-type {\n",
       "        vertical-align: middle;\n",
       "    }\n",
       "\n",
       "    .dataframe tbody tr th {\n",
       "        vertical-align: top;\n",
       "    }\n",
       "\n",
       "    .dataframe thead th {\n",
       "        text-align: right;\n",
       "    }\n",
       "</style>\n",
       "<table border=\"1\" class=\"dataframe\">\n",
       "  <thead>\n",
       "    <tr style=\"text-align: right;\">\n",
       "      <th></th>\n",
       "      <th>SN [MEAN]</th>\n",
       "      <th>VN [MEAN]</th>\n",
       "      <th>HND [MEAN]</th>\n",
       "    </tr>\n",
       "  </thead>\n",
       "  <tbody>\n",
       "    <tr>\n",
       "      <th>0</th>\n",
       "      <td>-0.073030</td>\n",
       "      <td>0.787566</td>\n",
       "      <td>0.205118</td>\n",
       "    </tr>\n",
       "    <tr>\n",
       "      <th>1</th>\n",
       "      <td>0.339348</td>\n",
       "      <td>0.632469</td>\n",
       "      <td>-0.077947</td>\n",
       "    </tr>\n",
       "    <tr>\n",
       "      <th>2</th>\n",
       "      <td>0.709323</td>\n",
       "      <td>-0.254420</td>\n",
       "      <td>-0.475393</td>\n",
       "    </tr>\n",
       "    <tr>\n",
       "      <th>3</th>\n",
       "      <td>0.133846</td>\n",
       "      <td>-0.601097</td>\n",
       "      <td>-0.595551</td>\n",
       "    </tr>\n",
       "    <tr>\n",
       "      <th>4</th>\n",
       "      <td>-0.148261</td>\n",
       "      <td>-1.313754</td>\n",
       "      <td>-0.614037</td>\n",
       "    </tr>\n",
       "    <tr>\n",
       "      <th>...</th>\n",
       "      <td>...</td>\n",
       "      <td>...</td>\n",
       "      <td>...</td>\n",
       "    </tr>\n",
       "    <tr>\n",
       "      <th>14650</th>\n",
       "      <td>-0.723446</td>\n",
       "      <td>0.178388</td>\n",
       "      <td>-0.720330</td>\n",
       "    </tr>\n",
       "    <tr>\n",
       "      <th>14651</th>\n",
       "      <td>-0.876452</td>\n",
       "      <td>-0.123452</td>\n",
       "      <td>-0.817381</td>\n",
       "    </tr>\n",
       "    <tr>\n",
       "      <th>14652</th>\n",
       "      <td>-0.972583</td>\n",
       "      <td>-0.069461</td>\n",
       "      <td>-0.817381</td>\n",
       "    </tr>\n",
       "    <tr>\n",
       "      <th>14653</th>\n",
       "      <td>-0.854758</td>\n",
       "      <td>-0.001129</td>\n",
       "      <td>-0.754991</td>\n",
       "    </tr>\n",
       "    <tr>\n",
       "      <th>14654</th>\n",
       "      <td>-0.773980</td>\n",
       "      <td>0.098468</td>\n",
       "      <td>-0.687980</td>\n",
       "    </tr>\n",
       "  </tbody>\n",
       "</table>\n",
       "<p>14655 rows × 3 columns</p>\n",
       "</div>"
      ],
      "text/plain": [
       "       SN [MEAN]  VN [MEAN]  HND [MEAN]\n",
       "0      -0.073030   0.787566    0.205118\n",
       "1       0.339348   0.632469   -0.077947\n",
       "2       0.709323  -0.254420   -0.475393\n",
       "3       0.133846  -0.601097   -0.595551\n",
       "4      -0.148261  -1.313754   -0.614037\n",
       "...          ...        ...         ...\n",
       "14650  -0.723446   0.178388   -0.720330\n",
       "14651  -0.876452  -0.123452   -0.817381\n",
       "14652  -0.972583  -0.069461   -0.817381\n",
       "14653  -0.854758  -0.001129   -0.754991\n",
       "14654  -0.773980   0.098468   -0.687980\n",
       "\n",
       "[14655 rows x 3 columns]"
      ]
     },
     "execution_count": 172,
     "metadata": {},
     "output_type": "execute_result"
    }
   ],
   "source": [
    "ocupado = ocupado.iloc[:,1:4]\n",
    "ocupado"
   ]
  },
  {
   "cell_type": "code",
   "execution_count": 173,
   "metadata": {},
   "outputs": [],
   "source": [
    "wcss = []\n",
    "\n",
    "for i in range(1, 10):\n",
    "    mod_km = KMeans(n_clusters = i, random_state = 0, n_init = 100, max_iter = 500)\n",
    "    mod_km.fit(ocupado)\n",
    "    wcss.append(mod_km.inertia_)"
   ]
  },
  {
   "cell_type": "code",
   "execution_count": 175,
   "metadata": {},
   "outputs": [
    {
     "data": {
      "application/vnd.plotly.v1+json": {
       "config": {
        "plotlyServerURL": "https://plot.ly"
       },
       "data": [
        {
         "hovertemplate": "x=%{x}<br>y=%{y}<extra></extra>",
         "legendgroup": "",
         "line": {
          "color": "#636efa",
          "dash": "solid"
         },
         "mode": "lines",
         "name": "",
         "orientation": "v",
         "showlegend": false,
         "type": "scatter",
         "x": [
          1,
          2,
          3,
          4,
          5,
          6,
          7,
          8,
          9,
          10,
          11,
          12,
          13,
          14,
          15,
          16,
          17,
          18,
          19
         ],
         "xaxis": "x",
         "y": [
          43965.000000000095,
          27376.894077641806,
          20782.973282991326,
          16430.81804649019,
          14232.370478506231,
          12662.189902400698,
          11343.674147487724,
          10307.598340846958,
          9436.472286607517,
          8709.926040320279,
          8096.914984616013,
          7595.642670504961,
          7101.929925985597,
          6708.107716740099,
          6372.551174723596,
          6062.2326161660785,
          5793.7283731757525,
          5545.216948810083,
          5344.979056040685
         ],
         "yaxis": "y"
        }
       ],
       "layout": {
        "legend": {
         "tracegroupgap": 0
        },
        "margin": {
         "t": 60
        },
        "template": {
         "data": {
          "bar": [
           {
            "error_x": {
             "color": "#2a3f5f"
            },
            "error_y": {
             "color": "#2a3f5f"
            },
            "marker": {
             "line": {
              "color": "#E5ECF6",
              "width": 0.5
             },
             "pattern": {
              "fillmode": "overlay",
              "size": 10,
              "solidity": 0.2
             }
            },
            "type": "bar"
           }
          ],
          "barpolar": [
           {
            "marker": {
             "line": {
              "color": "#E5ECF6",
              "width": 0.5
             },
             "pattern": {
              "fillmode": "overlay",
              "size": 10,
              "solidity": 0.2
             }
            },
            "type": "barpolar"
           }
          ],
          "carpet": [
           {
            "aaxis": {
             "endlinecolor": "#2a3f5f",
             "gridcolor": "white",
             "linecolor": "white",
             "minorgridcolor": "white",
             "startlinecolor": "#2a3f5f"
            },
            "baxis": {
             "endlinecolor": "#2a3f5f",
             "gridcolor": "white",
             "linecolor": "white",
             "minorgridcolor": "white",
             "startlinecolor": "#2a3f5f"
            },
            "type": "carpet"
           }
          ],
          "choropleth": [
           {
            "colorbar": {
             "outlinewidth": 0,
             "ticks": ""
            },
            "type": "choropleth"
           }
          ],
          "contour": [
           {
            "colorbar": {
             "outlinewidth": 0,
             "ticks": ""
            },
            "colorscale": [
             [
              0,
              "#0d0887"
             ],
             [
              0.1111111111111111,
              "#46039f"
             ],
             [
              0.2222222222222222,
              "#7201a8"
             ],
             [
              0.3333333333333333,
              "#9c179e"
             ],
             [
              0.4444444444444444,
              "#bd3786"
             ],
             [
              0.5555555555555556,
              "#d8576b"
             ],
             [
              0.6666666666666666,
              "#ed7953"
             ],
             [
              0.7777777777777778,
              "#fb9f3a"
             ],
             [
              0.8888888888888888,
              "#fdca26"
             ],
             [
              1,
              "#f0f921"
             ]
            ],
            "type": "contour"
           }
          ],
          "contourcarpet": [
           {
            "colorbar": {
             "outlinewidth": 0,
             "ticks": ""
            },
            "type": "contourcarpet"
           }
          ],
          "heatmap": [
           {
            "colorbar": {
             "outlinewidth": 0,
             "ticks": ""
            },
            "colorscale": [
             [
              0,
              "#0d0887"
             ],
             [
              0.1111111111111111,
              "#46039f"
             ],
             [
              0.2222222222222222,
              "#7201a8"
             ],
             [
              0.3333333333333333,
              "#9c179e"
             ],
             [
              0.4444444444444444,
              "#bd3786"
             ],
             [
              0.5555555555555556,
              "#d8576b"
             ],
             [
              0.6666666666666666,
              "#ed7953"
             ],
             [
              0.7777777777777778,
              "#fb9f3a"
             ],
             [
              0.8888888888888888,
              "#fdca26"
             ],
             [
              1,
              "#f0f921"
             ]
            ],
            "type": "heatmap"
           }
          ],
          "heatmapgl": [
           {
            "colorbar": {
             "outlinewidth": 0,
             "ticks": ""
            },
            "colorscale": [
             [
              0,
              "#0d0887"
             ],
             [
              0.1111111111111111,
              "#46039f"
             ],
             [
              0.2222222222222222,
              "#7201a8"
             ],
             [
              0.3333333333333333,
              "#9c179e"
             ],
             [
              0.4444444444444444,
              "#bd3786"
             ],
             [
              0.5555555555555556,
              "#d8576b"
             ],
             [
              0.6666666666666666,
              "#ed7953"
             ],
             [
              0.7777777777777778,
              "#fb9f3a"
             ],
             [
              0.8888888888888888,
              "#fdca26"
             ],
             [
              1,
              "#f0f921"
             ]
            ],
            "type": "heatmapgl"
           }
          ],
          "histogram": [
           {
            "marker": {
             "pattern": {
              "fillmode": "overlay",
              "size": 10,
              "solidity": 0.2
             }
            },
            "type": "histogram"
           }
          ],
          "histogram2d": [
           {
            "colorbar": {
             "outlinewidth": 0,
             "ticks": ""
            },
            "colorscale": [
             [
              0,
              "#0d0887"
             ],
             [
              0.1111111111111111,
              "#46039f"
             ],
             [
              0.2222222222222222,
              "#7201a8"
             ],
             [
              0.3333333333333333,
              "#9c179e"
             ],
             [
              0.4444444444444444,
              "#bd3786"
             ],
             [
              0.5555555555555556,
              "#d8576b"
             ],
             [
              0.6666666666666666,
              "#ed7953"
             ],
             [
              0.7777777777777778,
              "#fb9f3a"
             ],
             [
              0.8888888888888888,
              "#fdca26"
             ],
             [
              1,
              "#f0f921"
             ]
            ],
            "type": "histogram2d"
           }
          ],
          "histogram2dcontour": [
           {
            "colorbar": {
             "outlinewidth": 0,
             "ticks": ""
            },
            "colorscale": [
             [
              0,
              "#0d0887"
             ],
             [
              0.1111111111111111,
              "#46039f"
             ],
             [
              0.2222222222222222,
              "#7201a8"
             ],
             [
              0.3333333333333333,
              "#9c179e"
             ],
             [
              0.4444444444444444,
              "#bd3786"
             ],
             [
              0.5555555555555556,
              "#d8576b"
             ],
             [
              0.6666666666666666,
              "#ed7953"
             ],
             [
              0.7777777777777778,
              "#fb9f3a"
             ],
             [
              0.8888888888888888,
              "#fdca26"
             ],
             [
              1,
              "#f0f921"
             ]
            ],
            "type": "histogram2dcontour"
           }
          ],
          "mesh3d": [
           {
            "colorbar": {
             "outlinewidth": 0,
             "ticks": ""
            },
            "type": "mesh3d"
           }
          ],
          "parcoords": [
           {
            "line": {
             "colorbar": {
              "outlinewidth": 0,
              "ticks": ""
             }
            },
            "type": "parcoords"
           }
          ],
          "pie": [
           {
            "automargin": true,
            "type": "pie"
           }
          ],
          "scatter": [
           {
            "marker": {
             "colorbar": {
              "outlinewidth": 0,
              "ticks": ""
             }
            },
            "type": "scatter"
           }
          ],
          "scatter3d": [
           {
            "line": {
             "colorbar": {
              "outlinewidth": 0,
              "ticks": ""
             }
            },
            "marker": {
             "colorbar": {
              "outlinewidth": 0,
              "ticks": ""
             }
            },
            "type": "scatter3d"
           }
          ],
          "scattercarpet": [
           {
            "marker": {
             "colorbar": {
              "outlinewidth": 0,
              "ticks": ""
             }
            },
            "type": "scattercarpet"
           }
          ],
          "scattergeo": [
           {
            "marker": {
             "colorbar": {
              "outlinewidth": 0,
              "ticks": ""
             }
            },
            "type": "scattergeo"
           }
          ],
          "scattergl": [
           {
            "marker": {
             "colorbar": {
              "outlinewidth": 0,
              "ticks": ""
             }
            },
            "type": "scattergl"
           }
          ],
          "scattermapbox": [
           {
            "marker": {
             "colorbar": {
              "outlinewidth": 0,
              "ticks": ""
             }
            },
            "type": "scattermapbox"
           }
          ],
          "scatterpolar": [
           {
            "marker": {
             "colorbar": {
              "outlinewidth": 0,
              "ticks": ""
             }
            },
            "type": "scatterpolar"
           }
          ],
          "scatterpolargl": [
           {
            "marker": {
             "colorbar": {
              "outlinewidth": 0,
              "ticks": ""
             }
            },
            "type": "scatterpolargl"
           }
          ],
          "scatterternary": [
           {
            "marker": {
             "colorbar": {
              "outlinewidth": 0,
              "ticks": ""
             }
            },
            "type": "scatterternary"
           }
          ],
          "surface": [
           {
            "colorbar": {
             "outlinewidth": 0,
             "ticks": ""
            },
            "colorscale": [
             [
              0,
              "#0d0887"
             ],
             [
              0.1111111111111111,
              "#46039f"
             ],
             [
              0.2222222222222222,
              "#7201a8"
             ],
             [
              0.3333333333333333,
              "#9c179e"
             ],
             [
              0.4444444444444444,
              "#bd3786"
             ],
             [
              0.5555555555555556,
              "#d8576b"
             ],
             [
              0.6666666666666666,
              "#ed7953"
             ],
             [
              0.7777777777777778,
              "#fb9f3a"
             ],
             [
              0.8888888888888888,
              "#fdca26"
             ],
             [
              1,
              "#f0f921"
             ]
            ],
            "type": "surface"
           }
          ],
          "table": [
           {
            "cells": {
             "fill": {
              "color": "#EBF0F8"
             },
             "line": {
              "color": "white"
             }
            },
            "header": {
             "fill": {
              "color": "#C8D4E3"
             },
             "line": {
              "color": "white"
             }
            },
            "type": "table"
           }
          ]
         },
         "layout": {
          "annotationdefaults": {
           "arrowcolor": "#2a3f5f",
           "arrowhead": 0,
           "arrowwidth": 1
          },
          "autotypenumbers": "strict",
          "coloraxis": {
           "colorbar": {
            "outlinewidth": 0,
            "ticks": ""
           }
          },
          "colorscale": {
           "diverging": [
            [
             0,
             "#8e0152"
            ],
            [
             0.1,
             "#c51b7d"
            ],
            [
             0.2,
             "#de77ae"
            ],
            [
             0.3,
             "#f1b6da"
            ],
            [
             0.4,
             "#fde0ef"
            ],
            [
             0.5,
             "#f7f7f7"
            ],
            [
             0.6,
             "#e6f5d0"
            ],
            [
             0.7,
             "#b8e186"
            ],
            [
             0.8,
             "#7fbc41"
            ],
            [
             0.9,
             "#4d9221"
            ],
            [
             1,
             "#276419"
            ]
           ],
           "sequential": [
            [
             0,
             "#0d0887"
            ],
            [
             0.1111111111111111,
             "#46039f"
            ],
            [
             0.2222222222222222,
             "#7201a8"
            ],
            [
             0.3333333333333333,
             "#9c179e"
            ],
            [
             0.4444444444444444,
             "#bd3786"
            ],
            [
             0.5555555555555556,
             "#d8576b"
            ],
            [
             0.6666666666666666,
             "#ed7953"
            ],
            [
             0.7777777777777778,
             "#fb9f3a"
            ],
            [
             0.8888888888888888,
             "#fdca26"
            ],
            [
             1,
             "#f0f921"
            ]
           ],
           "sequentialminus": [
            [
             0,
             "#0d0887"
            ],
            [
             0.1111111111111111,
             "#46039f"
            ],
            [
             0.2222222222222222,
             "#7201a8"
            ],
            [
             0.3333333333333333,
             "#9c179e"
            ],
            [
             0.4444444444444444,
             "#bd3786"
            ],
            [
             0.5555555555555556,
             "#d8576b"
            ],
            [
             0.6666666666666666,
             "#ed7953"
            ],
            [
             0.7777777777777778,
             "#fb9f3a"
            ],
            [
             0.8888888888888888,
             "#fdca26"
            ],
            [
             1,
             "#f0f921"
            ]
           ]
          },
          "colorway": [
           "#636efa",
           "#EF553B",
           "#00cc96",
           "#ab63fa",
           "#FFA15A",
           "#19d3f3",
           "#FF6692",
           "#B6E880",
           "#FF97FF",
           "#FECB52"
          ],
          "font": {
           "color": "#2a3f5f"
          },
          "geo": {
           "bgcolor": "white",
           "lakecolor": "white",
           "landcolor": "#E5ECF6",
           "showlakes": true,
           "showland": true,
           "subunitcolor": "white"
          },
          "hoverlabel": {
           "align": "left"
          },
          "hovermode": "closest",
          "mapbox": {
           "style": "light"
          },
          "paper_bgcolor": "white",
          "plot_bgcolor": "#E5ECF6",
          "polar": {
           "angularaxis": {
            "gridcolor": "white",
            "linecolor": "white",
            "ticks": ""
           },
           "bgcolor": "#E5ECF6",
           "radialaxis": {
            "gridcolor": "white",
            "linecolor": "white",
            "ticks": ""
           }
          },
          "scene": {
           "xaxis": {
            "backgroundcolor": "#E5ECF6",
            "gridcolor": "white",
            "gridwidth": 2,
            "linecolor": "white",
            "showbackground": true,
            "ticks": "",
            "zerolinecolor": "white"
           },
           "yaxis": {
            "backgroundcolor": "#E5ECF6",
            "gridcolor": "white",
            "gridwidth": 2,
            "linecolor": "white",
            "showbackground": true,
            "ticks": "",
            "zerolinecolor": "white"
           },
           "zaxis": {
            "backgroundcolor": "#E5ECF6",
            "gridcolor": "white",
            "gridwidth": 2,
            "linecolor": "white",
            "showbackground": true,
            "ticks": "",
            "zerolinecolor": "white"
           }
          },
          "shapedefaults": {
           "line": {
            "color": "#2a3f5f"
           }
          },
          "ternary": {
           "aaxis": {
            "gridcolor": "white",
            "linecolor": "white",
            "ticks": ""
           },
           "baxis": {
            "gridcolor": "white",
            "linecolor": "white",
            "ticks": ""
           },
           "bgcolor": "#E5ECF6",
           "caxis": {
            "gridcolor": "white",
            "linecolor": "white",
            "ticks": ""
           }
          },
          "title": {
           "x": 0.05
          },
          "xaxis": {
           "automargin": true,
           "gridcolor": "white",
           "linecolor": "white",
           "ticks": "",
           "title": {
            "standoff": 15
           },
           "zerolinecolor": "white",
           "zerolinewidth": 2
          },
          "yaxis": {
           "automargin": true,
           "gridcolor": "white",
           "linecolor": "white",
           "ticks": "",
           "title": {
            "standoff": 15
           },
           "zerolinecolor": "white",
           "zerolinewidth": 2
          }
         }
        },
        "xaxis": {
         "anchor": "y",
         "domain": [
          0,
          1
         ],
         "title": {
          "text": "x"
         }
        },
        "yaxis": {
         "anchor": "x",
         "domain": [
          0,
          1
         ],
         "title": {
          "text": "y"
         }
        }
       }
      },
      "text/html": [
       "<div>                            <div id=\"70ca80a3-f4b7-4b33-85fb-0807550eec89\" class=\"plotly-graph-div\" style=\"height:525px; width:100%;\"></div>            <script type=\"text/javascript\">                require([\"plotly\"], function(Plotly) {                    window.PLOTLYENV=window.PLOTLYENV || {};                                    if (document.getElementById(\"70ca80a3-f4b7-4b33-85fb-0807550eec89\")) {                    Plotly.newPlot(                        \"70ca80a3-f4b7-4b33-85fb-0807550eec89\",                        [{\"hovertemplate\":\"x=%{x}<br>y=%{y}<extra></extra>\",\"legendgroup\":\"\",\"line\":{\"color\":\"#636efa\",\"dash\":\"solid\"},\"mode\":\"lines\",\"name\":\"\",\"orientation\":\"v\",\"showlegend\":false,\"type\":\"scatter\",\"x\":[1,2,3,4,5,6,7,8,9,10,11,12,13,14,15,16,17,18,19],\"xaxis\":\"x\",\"y\":[43965.000000000095,27376.894077641806,20782.973282991326,16430.81804649019,14232.370478506231,12662.189902400698,11343.674147487724,10307.598340846958,9436.472286607517,8709.926040320279,8096.914984616013,7595.642670504961,7101.929925985597,6708.107716740099,6372.551174723596,6062.2326161660785,5793.7283731757525,5545.216948810083,5344.979056040685],\"yaxis\":\"y\"}],                        {\"legend\":{\"tracegroupgap\":0},\"margin\":{\"t\":60},\"template\":{\"data\":{\"bar\":[{\"error_x\":{\"color\":\"#2a3f5f\"},\"error_y\":{\"color\":\"#2a3f5f\"},\"marker\":{\"line\":{\"color\":\"#E5ECF6\",\"width\":0.5},\"pattern\":{\"fillmode\":\"overlay\",\"size\":10,\"solidity\":0.2}},\"type\":\"bar\"}],\"barpolar\":[{\"marker\":{\"line\":{\"color\":\"#E5ECF6\",\"width\":0.5},\"pattern\":{\"fillmode\":\"overlay\",\"size\":10,\"solidity\":0.2}},\"type\":\"barpolar\"}],\"carpet\":[{\"aaxis\":{\"endlinecolor\":\"#2a3f5f\",\"gridcolor\":\"white\",\"linecolor\":\"white\",\"minorgridcolor\":\"white\",\"startlinecolor\":\"#2a3f5f\"},\"baxis\":{\"endlinecolor\":\"#2a3f5f\",\"gridcolor\":\"white\",\"linecolor\":\"white\",\"minorgridcolor\":\"white\",\"startlinecolor\":\"#2a3f5f\"},\"type\":\"carpet\"}],\"choropleth\":[{\"colorbar\":{\"outlinewidth\":0,\"ticks\":\"\"},\"type\":\"choropleth\"}],\"contour\":[{\"colorbar\":{\"outlinewidth\":0,\"ticks\":\"\"},\"colorscale\":[[0.0,\"#0d0887\"],[0.1111111111111111,\"#46039f\"],[0.2222222222222222,\"#7201a8\"],[0.3333333333333333,\"#9c179e\"],[0.4444444444444444,\"#bd3786\"],[0.5555555555555556,\"#d8576b\"],[0.6666666666666666,\"#ed7953\"],[0.7777777777777778,\"#fb9f3a\"],[0.8888888888888888,\"#fdca26\"],[1.0,\"#f0f921\"]],\"type\":\"contour\"}],\"contourcarpet\":[{\"colorbar\":{\"outlinewidth\":0,\"ticks\":\"\"},\"type\":\"contourcarpet\"}],\"heatmap\":[{\"colorbar\":{\"outlinewidth\":0,\"ticks\":\"\"},\"colorscale\":[[0.0,\"#0d0887\"],[0.1111111111111111,\"#46039f\"],[0.2222222222222222,\"#7201a8\"],[0.3333333333333333,\"#9c179e\"],[0.4444444444444444,\"#bd3786\"],[0.5555555555555556,\"#d8576b\"],[0.6666666666666666,\"#ed7953\"],[0.7777777777777778,\"#fb9f3a\"],[0.8888888888888888,\"#fdca26\"],[1.0,\"#f0f921\"]],\"type\":\"heatmap\"}],\"heatmapgl\":[{\"colorbar\":{\"outlinewidth\":0,\"ticks\":\"\"},\"colorscale\":[[0.0,\"#0d0887\"],[0.1111111111111111,\"#46039f\"],[0.2222222222222222,\"#7201a8\"],[0.3333333333333333,\"#9c179e\"],[0.4444444444444444,\"#bd3786\"],[0.5555555555555556,\"#d8576b\"],[0.6666666666666666,\"#ed7953\"],[0.7777777777777778,\"#fb9f3a\"],[0.8888888888888888,\"#fdca26\"],[1.0,\"#f0f921\"]],\"type\":\"heatmapgl\"}],\"histogram\":[{\"marker\":{\"pattern\":{\"fillmode\":\"overlay\",\"size\":10,\"solidity\":0.2}},\"type\":\"histogram\"}],\"histogram2d\":[{\"colorbar\":{\"outlinewidth\":0,\"ticks\":\"\"},\"colorscale\":[[0.0,\"#0d0887\"],[0.1111111111111111,\"#46039f\"],[0.2222222222222222,\"#7201a8\"],[0.3333333333333333,\"#9c179e\"],[0.4444444444444444,\"#bd3786\"],[0.5555555555555556,\"#d8576b\"],[0.6666666666666666,\"#ed7953\"],[0.7777777777777778,\"#fb9f3a\"],[0.8888888888888888,\"#fdca26\"],[1.0,\"#f0f921\"]],\"type\":\"histogram2d\"}],\"histogram2dcontour\":[{\"colorbar\":{\"outlinewidth\":0,\"ticks\":\"\"},\"colorscale\":[[0.0,\"#0d0887\"],[0.1111111111111111,\"#46039f\"],[0.2222222222222222,\"#7201a8\"],[0.3333333333333333,\"#9c179e\"],[0.4444444444444444,\"#bd3786\"],[0.5555555555555556,\"#d8576b\"],[0.6666666666666666,\"#ed7953\"],[0.7777777777777778,\"#fb9f3a\"],[0.8888888888888888,\"#fdca26\"],[1.0,\"#f0f921\"]],\"type\":\"histogram2dcontour\"}],\"mesh3d\":[{\"colorbar\":{\"outlinewidth\":0,\"ticks\":\"\"},\"type\":\"mesh3d\"}],\"parcoords\":[{\"line\":{\"colorbar\":{\"outlinewidth\":0,\"ticks\":\"\"}},\"type\":\"parcoords\"}],\"pie\":[{\"automargin\":true,\"type\":\"pie\"}],\"scatter\":[{\"marker\":{\"colorbar\":{\"outlinewidth\":0,\"ticks\":\"\"}},\"type\":\"scatter\"}],\"scatter3d\":[{\"line\":{\"colorbar\":{\"outlinewidth\":0,\"ticks\":\"\"}},\"marker\":{\"colorbar\":{\"outlinewidth\":0,\"ticks\":\"\"}},\"type\":\"scatter3d\"}],\"scattercarpet\":[{\"marker\":{\"colorbar\":{\"outlinewidth\":0,\"ticks\":\"\"}},\"type\":\"scattercarpet\"}],\"scattergeo\":[{\"marker\":{\"colorbar\":{\"outlinewidth\":0,\"ticks\":\"\"}},\"type\":\"scattergeo\"}],\"scattergl\":[{\"marker\":{\"colorbar\":{\"outlinewidth\":0,\"ticks\":\"\"}},\"type\":\"scattergl\"}],\"scattermapbox\":[{\"marker\":{\"colorbar\":{\"outlinewidth\":0,\"ticks\":\"\"}},\"type\":\"scattermapbox\"}],\"scatterpolar\":[{\"marker\":{\"colorbar\":{\"outlinewidth\":0,\"ticks\":\"\"}},\"type\":\"scatterpolar\"}],\"scatterpolargl\":[{\"marker\":{\"colorbar\":{\"outlinewidth\":0,\"ticks\":\"\"}},\"type\":\"scatterpolargl\"}],\"scatterternary\":[{\"marker\":{\"colorbar\":{\"outlinewidth\":0,\"ticks\":\"\"}},\"type\":\"scatterternary\"}],\"surface\":[{\"colorbar\":{\"outlinewidth\":0,\"ticks\":\"\"},\"colorscale\":[[0.0,\"#0d0887\"],[0.1111111111111111,\"#46039f\"],[0.2222222222222222,\"#7201a8\"],[0.3333333333333333,\"#9c179e\"],[0.4444444444444444,\"#bd3786\"],[0.5555555555555556,\"#d8576b\"],[0.6666666666666666,\"#ed7953\"],[0.7777777777777778,\"#fb9f3a\"],[0.8888888888888888,\"#fdca26\"],[1.0,\"#f0f921\"]],\"type\":\"surface\"}],\"table\":[{\"cells\":{\"fill\":{\"color\":\"#EBF0F8\"},\"line\":{\"color\":\"white\"}},\"header\":{\"fill\":{\"color\":\"#C8D4E3\"},\"line\":{\"color\":\"white\"}},\"type\":\"table\"}]},\"layout\":{\"annotationdefaults\":{\"arrowcolor\":\"#2a3f5f\",\"arrowhead\":0,\"arrowwidth\":1},\"autotypenumbers\":\"strict\",\"coloraxis\":{\"colorbar\":{\"outlinewidth\":0,\"ticks\":\"\"}},\"colorscale\":{\"diverging\":[[0,\"#8e0152\"],[0.1,\"#c51b7d\"],[0.2,\"#de77ae\"],[0.3,\"#f1b6da\"],[0.4,\"#fde0ef\"],[0.5,\"#f7f7f7\"],[0.6,\"#e6f5d0\"],[0.7,\"#b8e186\"],[0.8,\"#7fbc41\"],[0.9,\"#4d9221\"],[1,\"#276419\"]],\"sequential\":[[0.0,\"#0d0887\"],[0.1111111111111111,\"#46039f\"],[0.2222222222222222,\"#7201a8\"],[0.3333333333333333,\"#9c179e\"],[0.4444444444444444,\"#bd3786\"],[0.5555555555555556,\"#d8576b\"],[0.6666666666666666,\"#ed7953\"],[0.7777777777777778,\"#fb9f3a\"],[0.8888888888888888,\"#fdca26\"],[1.0,\"#f0f921\"]],\"sequentialminus\":[[0.0,\"#0d0887\"],[0.1111111111111111,\"#46039f\"],[0.2222222222222222,\"#7201a8\"],[0.3333333333333333,\"#9c179e\"],[0.4444444444444444,\"#bd3786\"],[0.5555555555555556,\"#d8576b\"],[0.6666666666666666,\"#ed7953\"],[0.7777777777777778,\"#fb9f3a\"],[0.8888888888888888,\"#fdca26\"],[1.0,\"#f0f921\"]]},\"colorway\":[\"#636efa\",\"#EF553B\",\"#00cc96\",\"#ab63fa\",\"#FFA15A\",\"#19d3f3\",\"#FF6692\",\"#B6E880\",\"#FF97FF\",\"#FECB52\"],\"font\":{\"color\":\"#2a3f5f\"},\"geo\":{\"bgcolor\":\"white\",\"lakecolor\":\"white\",\"landcolor\":\"#E5ECF6\",\"showlakes\":true,\"showland\":true,\"subunitcolor\":\"white\"},\"hoverlabel\":{\"align\":\"left\"},\"hovermode\":\"closest\",\"mapbox\":{\"style\":\"light\"},\"paper_bgcolor\":\"white\",\"plot_bgcolor\":\"#E5ECF6\",\"polar\":{\"angularaxis\":{\"gridcolor\":\"white\",\"linecolor\":\"white\",\"ticks\":\"\"},\"bgcolor\":\"#E5ECF6\",\"radialaxis\":{\"gridcolor\":\"white\",\"linecolor\":\"white\",\"ticks\":\"\"}},\"scene\":{\"xaxis\":{\"backgroundcolor\":\"#E5ECF6\",\"gridcolor\":\"white\",\"gridwidth\":2,\"linecolor\":\"white\",\"showbackground\":true,\"ticks\":\"\",\"zerolinecolor\":\"white\"},\"yaxis\":{\"backgroundcolor\":\"#E5ECF6\",\"gridcolor\":\"white\",\"gridwidth\":2,\"linecolor\":\"white\",\"showbackground\":true,\"ticks\":\"\",\"zerolinecolor\":\"white\"},\"zaxis\":{\"backgroundcolor\":\"#E5ECF6\",\"gridcolor\":\"white\",\"gridwidth\":2,\"linecolor\":\"white\",\"showbackground\":true,\"ticks\":\"\",\"zerolinecolor\":\"white\"}},\"shapedefaults\":{\"line\":{\"color\":\"#2a3f5f\"}},\"ternary\":{\"aaxis\":{\"gridcolor\":\"white\",\"linecolor\":\"white\",\"ticks\":\"\"},\"baxis\":{\"gridcolor\":\"white\",\"linecolor\":\"white\",\"ticks\":\"\"},\"bgcolor\":\"#E5ECF6\",\"caxis\":{\"gridcolor\":\"white\",\"linecolor\":\"white\",\"ticks\":\"\"}},\"title\":{\"x\":0.05},\"xaxis\":{\"automargin\":true,\"gridcolor\":\"white\",\"linecolor\":\"white\",\"ticks\":\"\",\"title\":{\"standoff\":15},\"zerolinecolor\":\"white\",\"zerolinewidth\":2},\"yaxis\":{\"automargin\":true,\"gridcolor\":\"white\",\"linecolor\":\"white\",\"ticks\":\"\",\"title\":{\"standoff\":15},\"zerolinecolor\":\"white\",\"zerolinewidth\":2}}},\"xaxis\":{\"anchor\":\"y\",\"domain\":[0.0,1.0],\"title\":{\"text\":\"x\"}},\"yaxis\":{\"anchor\":\"x\",\"domain\":[0.0,1.0],\"title\":{\"text\":\"y\"}}},                        {\"responsive\": true}                    ).then(function(){\n",
       "                            \n",
       "var gd = document.getElementById('70ca80a3-f4b7-4b33-85fb-0807550eec89');\n",
       "var x = new MutationObserver(function (mutations, observer) {{\n",
       "        var display = window.getComputedStyle(gd).display;\n",
       "        if (!display || display === 'none') {{\n",
       "            console.log([gd, 'removed!']);\n",
       "            Plotly.purge(gd);\n",
       "            observer.disconnect();\n",
       "        }}\n",
       "}});\n",
       "\n",
       "// Listen for the removal of the full notebook cells\n",
       "var notebookContainer = gd.closest('#notebook-container');\n",
       "if (notebookContainer) {{\n",
       "    x.observe(notebookContainer, {childList: true});\n",
       "}}\n",
       "\n",
       "// Listen for the clearing of the current output cell\n",
       "var outputEl = gd.closest('.output');\n",
       "if (outputEl) {{\n",
       "    x.observe(outputEl, {childList: true});\n",
       "}}\n",
       "\n",
       "                        })                };                });            </script>        </div>"
      ]
     },
     "metadata": {},
     "output_type": "display_data"
    }
   ],
   "source": [
    "grafico = px.line(x = range(1,20), y = wcss)\n",
    "grafico.show()"
   ]
  },
  {
   "cell_type": "code",
   "execution_count": 185,
   "metadata": {},
   "outputs": [
    {
     "data": {
      "text/plain": [
       "KMeans(max_iter=500, n_clusters=3, n_init=100, random_state=0)"
      ]
     },
     "execution_count": 185,
     "metadata": {},
     "output_type": "execute_result"
    }
   ],
   "source": [
    "mod_km_final = KMeans(n_clusters = 3, random_state = 0, n_init = 100, max_iter = 500)\n",
    "mod_km_final.fit(ocupado)"
   ]
  },
  {
   "cell_type": "code",
   "execution_count": 186,
   "metadata": {},
   "outputs": [
    {
     "name": "stderr",
     "output_type": "stream",
     "text": [
      "C:\\Users\\dias-bruno\\anaconda3\\lib\\site-packages\\geopandas\\geodataframe.py:1351: SettingWithCopyWarning:\n",
      "\n",
      "\n",
      "A value is trying to be set on a copy of a slice from a DataFrame.\n",
      "Try using .loc[row_indexer,col_indexer] = value instead\n",
      "\n",
      "See the caveats in the documentation: https://pandas.pydata.org/pandas-docs/stable/user_guide/indexing.html#returning-a-view-versus-a-copy\n",
      "\n"
     ]
    }
   ],
   "source": [
    "geom['KM3_TERRAIN'] = mod_km_final.labels_"
   ]
  },
  {
   "cell_type": "code",
   "execution_count": 180,
   "metadata": {},
   "outputs": [
    {
     "data": {
      "text/html": [
       "<div>\n",
       "<style scoped>\n",
       "    .dataframe tbody tr th:only-of-type {\n",
       "        vertical-align: middle;\n",
       "    }\n",
       "\n",
       "    .dataframe tbody tr th {\n",
       "        vertical-align: top;\n",
       "    }\n",
       "\n",
       "    .dataframe thead th {\n",
       "        text-align: right;\n",
       "    }\n",
       "</style>\n",
       "<table border=\"1\" class=\"dataframe\">\n",
       "  <thead>\n",
       "    <tr style=\"text-align: right;\">\n",
       "      <th></th>\n",
       "      <th>ID</th>\n",
       "      <th>geometry</th>\n",
       "      <th>KM4_TERRAIN</th>\n",
       "    </tr>\n",
       "  </thead>\n",
       "  <tbody>\n",
       "    <tr>\n",
       "      <th>0</th>\n",
       "      <td>1</td>\n",
       "      <td>POLYGON ((752288.17666 9722818.28253, 752288.6...</td>\n",
       "      <td>0</td>\n",
       "    </tr>\n",
       "    <tr>\n",
       "      <th>1</th>\n",
       "      <td>2</td>\n",
       "      <td>POLYGON ((752388.36020 9722817.84804, 752388.7...</td>\n",
       "      <td>0</td>\n",
       "    </tr>\n",
       "    <tr>\n",
       "      <th>2</th>\n",
       "      <td>3</td>\n",
       "      <td>POLYGON ((752488.54379 9722817.41380, 752488.9...</td>\n",
       "      <td>3</td>\n",
       "    </tr>\n",
       "    <tr>\n",
       "      <th>3</th>\n",
       "      <td>4</td>\n",
       "      <td>POLYGON ((752588.72746 9722816.97981, 752589.1...</td>\n",
       "      <td>3</td>\n",
       "    </tr>\n",
       "    <tr>\n",
       "      <th>4</th>\n",
       "      <td>5</td>\n",
       "      <td>POLYGON ((752688.91118 9722816.54607, 752689.3...</td>\n",
       "      <td>3</td>\n",
       "    </tr>\n",
       "    <tr>\n",
       "      <th>...</th>\n",
       "      <td>...</td>\n",
       "      <td>...</td>\n",
       "      <td>...</td>\n",
       "    </tr>\n",
       "    <tr>\n",
       "      <th>14650</th>\n",
       "      <td>14651</td>\n",
       "      <td>POLYGON ((752435.78613 9733807.56075, 752436.2...</td>\n",
       "      <td>3</td>\n",
       "    </tr>\n",
       "    <tr>\n",
       "      <th>14651</th>\n",
       "      <td>14652</td>\n",
       "      <td>POLYGON ((752535.94173 9733807.13343, 752536.3...</td>\n",
       "      <td>3</td>\n",
       "    </tr>\n",
       "    <tr>\n",
       "      <th>14652</th>\n",
       "      <td>14653</td>\n",
       "      <td>POLYGON ((752636.09739 9733806.70637, 752636.5...</td>\n",
       "      <td>3</td>\n",
       "    </tr>\n",
       "    <tr>\n",
       "      <th>14653</th>\n",
       "      <td>14654</td>\n",
       "      <td>POLYGON ((752736.25311 9733806.27957, 752736.6...</td>\n",
       "      <td>3</td>\n",
       "    </tr>\n",
       "    <tr>\n",
       "      <th>14654</th>\n",
       "      <td>14655</td>\n",
       "      <td>POLYGON ((752836.40890 9733805.85302, 752836.8...</td>\n",
       "      <td>3</td>\n",
       "    </tr>\n",
       "  </tbody>\n",
       "</table>\n",
       "<p>14655 rows × 3 columns</p>\n",
       "</div>"
      ],
      "text/plain": [
       "          ID                                           geometry  KM4_TERRAIN\n",
       "0          1  POLYGON ((752288.17666 9722818.28253, 752288.6...            0\n",
       "1          2  POLYGON ((752388.36020 9722817.84804, 752388.7...            0\n",
       "2          3  POLYGON ((752488.54379 9722817.41380, 752488.9...            3\n",
       "3          4  POLYGON ((752588.72746 9722816.97981, 752589.1...            3\n",
       "4          5  POLYGON ((752688.91118 9722816.54607, 752689.3...            3\n",
       "...      ...                                                ...          ...\n",
       "14650  14651  POLYGON ((752435.78613 9733807.56075, 752436.2...            3\n",
       "14651  14652  POLYGON ((752535.94173 9733807.13343, 752536.3...            3\n",
       "14652  14653  POLYGON ((752636.09739 9733806.70637, 752636.5...            3\n",
       "14653  14654  POLYGON ((752736.25311 9733806.27957, 752736.6...            3\n",
       "14654  14655  POLYGON ((752836.40890 9733805.85302, 752836.8...            3\n",
       "\n",
       "[14655 rows x 3 columns]"
      ]
     },
     "execution_count": 180,
     "metadata": {},
     "output_type": "execute_result"
    }
   ],
   "source": [
    "geom"
   ]
  },
  {
   "cell_type": "code",
   "execution_count": 150,
   "metadata": {},
   "outputs": [
    {
     "data": {
      "image/png": "[encoded data removed]",
      "text/plain": [
       "<Figure size 432x288 with 1 Axes>"
      ]
     },
     "metadata": {
      "needs_background": "light"
     },
     "output_type": "display_data"
    }
   ],
   "source": [
    "dendrograma = dendrogram(linkage(ocupado, method='ward'))\n",
    "plt.title('Dendrograma')\n",
    "plt.xlabel('Clusters')\n",
    "plt.ylabel('Distância');"
   ]
  },
  {
   "cell_type": "code",
   "execution_count": 153,
   "metadata": {},
   "outputs": [
    {
     "data": {
      "text/plain": [
       "AgglomerativeClustering(n_clusters=5)"
      ]
     },
     "execution_count": 153,
     "metadata": {},
     "output_type": "execute_result"
    }
   ],
   "source": [
    "ag_model = AgglomerativeClustering(n_clusters=5, linkage='ward', affinity='euclidean')\n",
    "ag_model.fit(ocupado)"
   ]
  },
  {
   "cell_type": "code",
   "execution_count": 154,
   "metadata": {},
   "outputs": [
    {
     "name": "stderr",
     "output_type": "stream",
     "text": [
      "C:\\Users\\dias-bruno\\anaconda3\\lib\\site-packages\\geopandas\\geodataframe.py:1351: SettingWithCopyWarning:\n",
      "\n",
      "\n",
      "A value is trying to be set on a copy of a slice from a DataFrame.\n",
      "Try using .loc[row_indexer,col_indexer] = value instead\n",
      "\n",
      "See the caveats in the documentation: https://pandas.pydata.org/pandas-docs/stable/user_guide/indexing.html#returning-a-view-versus-a-copy\n",
      "\n"
     ]
    }
   ],
   "source": [
    "geom['HC5'] = ag_model.labels_"
   ]
  },
  {
   "cell_type": "code",
   "execution_count": 197,
   "metadata": {},
   "outputs": [
    {
     "data": {
      "text/plain": [
       "<AxesSubplot:>"
      ]
     },
     "execution_count": 197,
     "metadata": {},
     "output_type": "execute_result"
    },
    {
     "data": {
      "image/png": "[encoded data removed]",
      "text/plain": [
       "<Figure size 1440x720 with 1 Axes>"
      ]
     },
     "metadata": {
      "needs_background": "light"
     },
     "output_type": "display_data"
    }
   ],
   "source": [
    "fig, ax = plt.subplots(1, 1)\n",
    "geom.plot(column = 'KM4_TERRAIN', legend=True, categorical = True, ax=ax)"
   ]
  },
  {
   "cell_type": "code",
   "execution_count": 198,
   "metadata": {},
   "outputs": [
    {
     "data": {
      "text/html": [
       "<div>\n",
       "<style scoped>\n",
       "    .dataframe tbody tr th:only-of-type {\n",
       "        vertical-align: middle;\n",
       "    }\n",
       "\n",
       "    .dataframe tbody tr th {\n",
       "        vertical-align: top;\n",
       "    }\n",
       "\n",
       "    .dataframe thead th {\n",
       "        text-align: right;\n",
       "    }\n",
       "</style>\n",
       "<table border=\"1\" class=\"dataframe\">\n",
       "  <thead>\n",
       "    <tr style=\"text-align: right;\">\n",
       "      <th></th>\n",
       "      <th>ID</th>\n",
       "      <th>geometry</th>\n",
       "      <th>KM4_TERRAIN</th>\n",
       "      <th>KM3_TERRAIN</th>\n",
       "    </tr>\n",
       "  </thead>\n",
       "  <tbody>\n",
       "    <tr>\n",
       "      <th>0</th>\n",
       "      <td>1</td>\n",
       "      <td>POLYGON ((752288.17666 9722818.28253, 752288.6...</td>\n",
       "      <td>0</td>\n",
       "      <td>2</td>\n",
       "    </tr>\n",
       "    <tr>\n",
       "      <th>1</th>\n",
       "      <td>2</td>\n",
       "      <td>POLYGON ((752388.36020 9722817.84804, 752388.7...</td>\n",
       "      <td>0</td>\n",
       "      <td>2</td>\n",
       "    </tr>\n",
       "    <tr>\n",
       "      <th>2</th>\n",
       "      <td>3</td>\n",
       "      <td>POLYGON ((752488.54379 9722817.41380, 752488.9...</td>\n",
       "      <td>3</td>\n",
       "      <td>2</td>\n",
       "    </tr>\n",
       "    <tr>\n",
       "      <th>3</th>\n",
       "      <td>4</td>\n",
       "      <td>POLYGON ((752588.72746 9722816.97981, 752589.1...</td>\n",
       "      <td>3</td>\n",
       "      <td>2</td>\n",
       "    </tr>\n",
       "    <tr>\n",
       "      <th>4</th>\n",
       "      <td>5</td>\n",
       "      <td>POLYGON ((752688.91118 9722816.54607, 752689.3...</td>\n",
       "      <td>3</td>\n",
       "      <td>2</td>\n",
       "    </tr>\n",
       "    <tr>\n",
       "      <th>...</th>\n",
       "      <td>...</td>\n",
       "      <td>...</td>\n",
       "      <td>...</td>\n",
       "      <td>...</td>\n",
       "    </tr>\n",
       "    <tr>\n",
       "      <th>14650</th>\n",
       "      <td>14651</td>\n",
       "      <td>POLYGON ((752435.78613 9733807.56075, 752436.2...</td>\n",
       "      <td>3</td>\n",
       "      <td>2</td>\n",
       "    </tr>\n",
       "    <tr>\n",
       "      <th>14651</th>\n",
       "      <td>14652</td>\n",
       "      <td>POLYGON ((752535.94173 9733807.13343, 752536.3...</td>\n",
       "      <td>3</td>\n",
       "      <td>2</td>\n",
       "    </tr>\n",
       "    <tr>\n",
       "      <th>14652</th>\n",
       "      <td>14653</td>\n",
       "      <td>POLYGON ((752636.09739 9733806.70637, 752636.5...</td>\n",
       "      <td>3</td>\n",
       "      <td>2</td>\n",
       "    </tr>\n",
       "    <tr>\n",
       "      <th>14653</th>\n",
       "      <td>14654</td>\n",
       "      <td>POLYGON ((752736.25311 9733806.27957, 752736.6...</td>\n",
       "      <td>3</td>\n",
       "      <td>2</td>\n",
       "    </tr>\n",
       "    <tr>\n",
       "      <th>14654</th>\n",
       "      <td>14655</td>\n",
       "      <td>POLYGON ((752836.40890 9733805.85302, 752836.8...</td>\n",
       "      <td>3</td>\n",
       "      <td>2</td>\n",
       "    </tr>\n",
       "  </tbody>\n",
       "</table>\n",
       "<p>14655 rows × 4 columns</p>\n",
       "</div>"
      ],
      "text/plain": [
       "          ID                                           geometry  KM4_TERRAIN  \\\n",
       "0          1  POLYGON ((752288.17666 9722818.28253, 752288.6...            0   \n",
       "1          2  POLYGON ((752388.36020 9722817.84804, 752388.7...            0   \n",
       "2          3  POLYGON ((752488.54379 9722817.41380, 752488.9...            3   \n",
       "3          4  POLYGON ((752588.72746 9722816.97981, 752589.1...            3   \n",
       "4          5  POLYGON ((752688.91118 9722816.54607, 752689.3...            3   \n",
       "...      ...                                                ...          ...   \n",
       "14650  14651  POLYGON ((752435.78613 9733807.56075, 752436.2...            3   \n",
       "14651  14652  POLYGON ((752535.94173 9733807.13343, 752536.3...            3   \n",
       "14652  14653  POLYGON ((752636.09739 9733806.70637, 752636.5...            3   \n",
       "14653  14654  POLYGON ((752736.25311 9733806.27957, 752736.6...            3   \n",
       "14654  14655  POLYGON ((752836.40890 9733805.85302, 752836.8...            3   \n",
       "\n",
       "       KM3_TERRAIN  \n",
       "0                2  \n",
       "1                2  \n",
       "2                2  \n",
       "3                2  \n",
       "4                2  \n",
       "...            ...  \n",
       "14650            2  \n",
       "14651            2  \n",
       "14652            2  \n",
       "14653            2  \n",
       "14654            2  \n",
       "\n",
       "[14655 rows x 4 columns]"
      ]
     },
     "execution_count": 198,
     "metadata": {},
     "output_type": "execute_result"
    }
   ],
   "source": [
    "geom"
   ]
  },
  {
   "cell_type": "code",
   "execution_count": 157,
   "metadata": {},
   "outputs": [],
   "source": [
    "geom.to_file(\"C:\\\\Users\\\\dias-bruno\\\\Desktop\\\\INPE-SER\\\\DISSERTACAO\\\\SHAPEFILES\\\\AMBIENTAL\\\\clusters_amb.shp\")"
   ]
  }
 ],
 "metadata": {
  "colab": {
   "name": "Preparação e seleção de variáveis - Disciplina AI - CAP - INPE.ipynb",
   "provenance": []
  },
  "kernelspec": {
   "display_name": "Python 3",
   "language": "python",
   "name": "python3"
  },
  "language_info": {
   "codemirror_mode": {
    "name": "ipython",
    "version": 3
   },
   "file_extension": ".py",
   "mimetype": "text/x-python",
   "name": "python",
   "nbconvert_exporter": "python",
   "pygments_lexer": "ipython3",
   "version": "3.8.5"
  }
 },
 "nbformat": 4,
 "nbformat_minor": 1
}
