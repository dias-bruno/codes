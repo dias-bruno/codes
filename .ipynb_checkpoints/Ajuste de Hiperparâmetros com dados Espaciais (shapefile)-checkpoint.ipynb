{
 "cells": [
  {
   "cell_type": "markdown",
   "metadata": {
    "id": "1i9n4mmcVybX"
   },
   "source": [
    "# <center> Ajuste de Hiperparâmetros </center>\n",
    "\n",
    "<br/>\n",
    "\n",
    "<div style=\"text-align: center;font-size: 90%;\">\n",
    "    Bruno Dias dos Santos<sup><a href=\"https://orcid.org/0000-0001-6181-2158\"><i class=\"fab fa-lg fa-orcid\" style=\"color: #a6ce39\"></i></a></sup><sup><a href=\"https://orcid.org/0000-0002-0082-9498\"><i class=\"fab fa-lg fa-orcid\" style=\"color: #a6ce39\"></i></a></sup><i class=\"fab fa-lg fa-orcid\" style=\"color: #a6ce39\"></i></a></sup>\n",
    "    <br/><br/>\n",
    "    Programa de Pós-Graduação em Computação Aplicada, Instituto Nacional de Pesquisas Espaciais (INPE)\n",
    "    <br/>\n",
    "    Avenida dos Astronautas, 1758, Jardim da Granja, São José dos Campos, SP 12227-010, Brasil\n",
    "    <br/><br/>\n",
    "    Contato: <div><a href=\"mailto:bruno.santos@inpe.br\">bruno.santos@inpe.br</a></div>\n",
    "    <br/><br/>\n",
    "    Última atualização: 29 de Abril de 2022\n",
    "</div>\n",
    "<br/>\n",
    "\n",
    "<div style=\"text-align: justify;  margin-left: 25%; margin-right: 25%;\">\n",
    "<b>Resumo.</b> Este Notebook apresenta uma metodologia para selecionar hiperparâmetros do algoritmo de classificação <i>Random Forest</i>. Dado uma tabela de atributos (.csv) contendo uma variável com as classes amostrais,  será testado o melhor modelo possível gerado pelo <i>Random Forest </i>, dado um conjunto de hiperparametros. Os hiperparâmetros são escolhidos utilizando a técnica <i>GridSearchCV</i>, adotando um <i>K-Fold</i> com 5 grupos e medindo o desempenho de cada combinação com o <i> F1-Score </i>.     \n",
    "</div>    \n",
    "\n",
    "<br/>\n"
   ]
  },
  {
   "cell_type": "markdown",
   "metadata": {
    "id": "JhTjzKKv-tfU"
   },
   "source": [
    "Chamando as Bibliotecas:"
   ]
  },
  {
   "cell_type": "code",
   "execution_count": 1,
   "metadata": {
    "id": "QQoSlJ0MbLXr"
   },
   "outputs": [],
   "source": [
    "import pandas as pd\n",
    "import numpy as np\n",
    "from sklearn.model_selection import RandomizedSearchCV, train_test_split\n",
    "from sklearn.ensemble import RandomForestClassifier\n",
    "from sklearn.metrics import f1_score, accuracy_score,ConfusionMatrixDisplay,classification_report,confusion_matrix\n",
    "import matplotlib.pyplot as plt \n",
    "import seaborn as sns\n",
    "import geopandas as gpd\n",
    "import shapely"
   ]
  },
  {
   "cell_type": "markdown",
   "metadata": {
    "id": "uFE-RdapAWmW"
   },
   "source": [
    "Carregando a base de dados já tratada anteriormente:"
   ]
  },
  {
   "cell_type": "code",
   "execution_count": 2,
   "metadata": {
    "id": "C31a73lIuxYK"
   },
   "outputs": [],
   "source": [
    "obj = gpd.read_file(\"C:\\\\Users\\\\dias-bruno\\\\Desktop\\\\INPE-SER\\\\DISSERTACAO\\\\SHAPEFILES\\\\segmentos_cobertura_tratados2.shp\")"
   ]
  },
  {
   "cell_type": "code",
   "execution_count": 3,
   "metadata": {
    "colab": {
     "base_uri": "https://localhost:8080/",
     "height": 488
    },
    "id": "1jr8-0cndlEQ",
    "outputId": "c50c59f9-111c-49d4-c620-d57a4161a596",
    "scrolled": true
   },
   "outputs": [
    {
     "data": {
      "text/html": [
       "<div>\n",
       "<style scoped>\n",
       "    .dataframe tbody tr th:only-of-type {\n",
       "        vertical-align: middle;\n",
       "    }\n",
       "\n",
       "    .dataframe tbody tr th {\n",
       "        vertical-align: top;\n",
       "    }\n",
       "\n",
       "    .dataframe thead th {\n",
       "        text-align: right;\n",
       "    }\n",
       "</style>\n",
       "<table border=\"1\" class=\"dataframe\">\n",
       "  <thead>\n",
       "    <tr style=\"text-align: right;\">\n",
       "      <th></th>\n",
       "      <th>DN</th>\n",
       "      <th>IFVE_MEAN</th>\n",
       "      <th>B3_Mean</th>\n",
       "      <th>IFAG_MEAN</th>\n",
       "      <th>IFSE_MEAN</th>\n",
       "      <th>B3_Max_Val</th>\n",
       "      <th>fid_percen</th>\n",
       "      <th>COT_VARIA</th>\n",
       "      <th>B2_Contras</th>\n",
       "      <th>IFSE_MIN</th>\n",
       "      <th>...</th>\n",
       "      <th>PSAHPEIDX</th>\n",
       "      <th>DV_MAX</th>\n",
       "      <th>COR_MIN</th>\n",
       "      <th>PBOX_AREA</th>\n",
       "      <th>B3_Kurtosi</th>\n",
       "      <th>DE_MIN</th>\n",
       "      <th>DE_MAX</th>\n",
       "      <th>COR_MAX</th>\n",
       "      <th>TARGET</th>\n",
       "      <th>geometry</th>\n",
       "    </tr>\n",
       "  </thead>\n",
       "  <tbody>\n",
       "    <tr>\n",
       "      <th>0</th>\n",
       "      <td>1</td>\n",
       "      <td>0.033137</td>\n",
       "      <td>0.634287</td>\n",
       "      <td>1.000000</td>\n",
       "      <td>0.425901</td>\n",
       "      <td>0.636713</td>\n",
       "      <td>0.0</td>\n",
       "      <td>0.000000</td>\n",
       "      <td>0.486425</td>\n",
       "      <td>0.618315</td>\n",
       "      <td>...</td>\n",
       "      <td>0.788005</td>\n",
       "      <td>0.046165</td>\n",
       "      <td>1.000000</td>\n",
       "      <td>0.000685</td>\n",
       "      <td>0.453338</td>\n",
       "      <td>8.654224e-08</td>\n",
       "      <td>0.801776</td>\n",
       "      <td>0.764825</td>\n",
       "      <td>None</td>\n",
       "      <td>POLYGON ((739940.000 9732728.000, 739950.000 9...</td>\n",
       "    </tr>\n",
       "    <tr>\n",
       "      <th>1</th>\n",
       "      <td>2</td>\n",
       "      <td>0.033137</td>\n",
       "      <td>0.000000</td>\n",
       "      <td>1.000000</td>\n",
       "      <td>0.172157</td>\n",
       "      <td>0.000000</td>\n",
       "      <td>0.0</td>\n",
       "      <td>0.000313</td>\n",
       "      <td>0.210418</td>\n",
       "      <td>0.296634</td>\n",
       "      <td>...</td>\n",
       "      <td>0.943763</td>\n",
       "      <td>0.186153</td>\n",
       "      <td>0.504139</td>\n",
       "      <td>0.001473</td>\n",
       "      <td>0.476609</td>\n",
       "      <td>1.153896e-07</td>\n",
       "      <td>0.886834</td>\n",
       "      <td>0.783749</td>\n",
       "      <td>Rios e lagos</td>\n",
       "      <td>POLYGON ((739942.000 9732736.000, 739944.000 9...</td>\n",
       "    </tr>\n",
       "    <tr>\n",
       "      <th>2</th>\n",
       "      <td>3</td>\n",
       "      <td>0.033137</td>\n",
       "      <td>0.662995</td>\n",
       "      <td>1.000000</td>\n",
       "      <td>0.461586</td>\n",
       "      <td>0.639785</td>\n",
       "      <td>0.0</td>\n",
       "      <td>0.002784</td>\n",
       "      <td>0.536289</td>\n",
       "      <td>0.603314</td>\n",
       "      <td>...</td>\n",
       "      <td>0.985553</td>\n",
       "      <td>0.031388</td>\n",
       "      <td>1.000000</td>\n",
       "      <td>0.000820</td>\n",
       "      <td>0.433178</td>\n",
       "      <td>1.153896e-07</td>\n",
       "      <td>0.000000</td>\n",
       "      <td>0.000000</td>\n",
       "      <td>None</td>\n",
       "      <td>POLYGON ((739930.000 9732722.000, 740034.000 9...</td>\n",
       "    </tr>\n",
       "    <tr>\n",
       "      <th>3</th>\n",
       "      <td>4</td>\n",
       "      <td>0.033137</td>\n",
       "      <td>0.764718</td>\n",
       "      <td>0.789035</td>\n",
       "      <td>0.554612</td>\n",
       "      <td>0.734255</td>\n",
       "      <td>0.0</td>\n",
       "      <td>0.000000</td>\n",
       "      <td>0.000000</td>\n",
       "      <td>0.849480</td>\n",
       "      <td>...</td>\n",
       "      <td>0.940704</td>\n",
       "      <td>0.085048</td>\n",
       "      <td>1.000000</td>\n",
       "      <td>0.000820</td>\n",
       "      <td>0.451098</td>\n",
       "      <td>1.153896e-07</td>\n",
       "      <td>0.834874</td>\n",
       "      <td>0.000000</td>\n",
       "      <td>None</td>\n",
       "      <td>POLYGON ((739930.000 9732720.000, 739998.000 9...</td>\n",
       "    </tr>\n",
       "    <tr>\n",
       "      <th>4</th>\n",
       "      <td>5</td>\n",
       "      <td>0.033137</td>\n",
       "      <td>0.000000</td>\n",
       "      <td>1.000000</td>\n",
       "      <td>0.231065</td>\n",
       "      <td>0.000000</td>\n",
       "      <td>0.0</td>\n",
       "      <td>0.005049</td>\n",
       "      <td>0.233645</td>\n",
       "      <td>0.260426</td>\n",
       "      <td>...</td>\n",
       "      <td>0.506072</td>\n",
       "      <td>0.052276</td>\n",
       "      <td>1.000000</td>\n",
       "      <td>0.000519</td>\n",
       "      <td>0.419609</td>\n",
       "      <td>8.654224e-08</td>\n",
       "      <td>0.886834</td>\n",
       "      <td>0.858335</td>\n",
       "      <td>Rios e lagos</td>\n",
       "      <td>POLYGON ((740076.000 9732714.000, 740096.000 9...</td>\n",
       "    </tr>\n",
       "    <tr>\n",
       "      <th>...</th>\n",
       "      <td>...</td>\n",
       "      <td>...</td>\n",
       "      <td>...</td>\n",
       "      <td>...</td>\n",
       "      <td>...</td>\n",
       "      <td>...</td>\n",
       "      <td>...</td>\n",
       "      <td>...</td>\n",
       "      <td>...</td>\n",
       "      <td>...</td>\n",
       "      <td>...</td>\n",
       "      <td>...</td>\n",
       "      <td>...</td>\n",
       "      <td>...</td>\n",
       "      <td>...</td>\n",
       "      <td>...</td>\n",
       "      <td>...</td>\n",
       "      <td>...</td>\n",
       "      <td>...</td>\n",
       "      <td>...</td>\n",
       "      <td>...</td>\n",
       "    </tr>\n",
       "    <tr>\n",
       "      <th>65817</th>\n",
       "      <td>64072</td>\n",
       "      <td>0.828111</td>\n",
       "      <td>0.783347</td>\n",
       "      <td>0.391486</td>\n",
       "      <td>0.192856</td>\n",
       "      <td>0.764977</td>\n",
       "      <td>0.0</td>\n",
       "      <td>0.001498</td>\n",
       "      <td>0.058357</td>\n",
       "      <td>0.379626</td>\n",
       "      <td>...</td>\n",
       "      <td>0.644065</td>\n",
       "      <td>0.195988</td>\n",
       "      <td>0.220690</td>\n",
       "      <td>0.001470</td>\n",
       "      <td>0.500596</td>\n",
       "      <td>8.796972e-01</td>\n",
       "      <td>0.962278</td>\n",
       "      <td>0.899264</td>\n",
       "      <td>Veg. Arbustiva</td>\n",
       "      <td>POLYGON ((760930.000 9723718.000, 760936.000 9...</td>\n",
       "    </tr>\n",
       "    <tr>\n",
       "      <th>65818</th>\n",
       "      <td>64056</td>\n",
       "      <td>0.561046</td>\n",
       "      <td>0.709323</td>\n",
       "      <td>1.000000</td>\n",
       "      <td>0.215089</td>\n",
       "      <td>0.768049</td>\n",
       "      <td>0.0</td>\n",
       "      <td>0.017892</td>\n",
       "      <td>0.157874</td>\n",
       "      <td>0.333470</td>\n",
       "      <td>...</td>\n",
       "      <td>0.811320</td>\n",
       "      <td>0.110104</td>\n",
       "      <td>0.130738</td>\n",
       "      <td>0.003432</td>\n",
       "      <td>0.521434</td>\n",
       "      <td>1.153896e-07</td>\n",
       "      <td>0.962278</td>\n",
       "      <td>0.940263</td>\n",
       "      <td>None</td>\n",
       "      <td>POLYGON ((761808.000 9723760.000, 761812.000 9...</td>\n",
       "    </tr>\n",
       "    <tr>\n",
       "      <th>65819</th>\n",
       "      <td>64057</td>\n",
       "      <td>0.834991</td>\n",
       "      <td>0.783680</td>\n",
       "      <td>0.370870</td>\n",
       "      <td>0.181409</td>\n",
       "      <td>0.748080</td>\n",
       "      <td>0.0</td>\n",
       "      <td>0.001555</td>\n",
       "      <td>0.118653</td>\n",
       "      <td>0.320691</td>\n",
       "      <td>...</td>\n",
       "      <td>0.546310</td>\n",
       "      <td>0.285322</td>\n",
       "      <td>0.130808</td>\n",
       "      <td>0.000904</td>\n",
       "      <td>0.509777</td>\n",
       "      <td>8.881883e-01</td>\n",
       "      <td>0.924556</td>\n",
       "      <td>0.880850</td>\n",
       "      <td>Veg. Arbustiva</td>\n",
       "      <td>POLYGON ((760520.000 9723704.000, 760524.000 9...</td>\n",
       "    </tr>\n",
       "    <tr>\n",
       "      <th>65820</th>\n",
       "      <td>64063</td>\n",
       "      <td>0.824751</td>\n",
       "      <td>0.766941</td>\n",
       "      <td>0.383361</td>\n",
       "      <td>0.208067</td>\n",
       "      <td>0.765745</td>\n",
       "      <td>0.0</td>\n",
       "      <td>0.001342</td>\n",
       "      <td>0.070844</td>\n",
       "      <td>0.387608</td>\n",
       "      <td>...</td>\n",
       "      <td>0.646262</td>\n",
       "      <td>0.919753</td>\n",
       "      <td>0.190582</td>\n",
       "      <td>0.002647</td>\n",
       "      <td>0.443462</td>\n",
       "      <td>1.153896e-07</td>\n",
       "      <td>0.948040</td>\n",
       "      <td>0.911903</td>\n",
       "      <td>Veg. Arbustiva</td>\n",
       "      <td>POLYGON ((760596.000 9723716.000, 760600.000 9...</td>\n",
       "    </tr>\n",
       "    <tr>\n",
       "      <th>65821</th>\n",
       "      <td>64066</td>\n",
       "      <td>0.258826</td>\n",
       "      <td>0.000000</td>\n",
       "      <td>0.660040</td>\n",
       "      <td>0.258500</td>\n",
       "      <td>0.638249</td>\n",
       "      <td>0.0</td>\n",
       "      <td>0.002654</td>\n",
       "      <td>0.079484</td>\n",
       "      <td>0.333470</td>\n",
       "      <td>...</td>\n",
       "      <td>0.000000</td>\n",
       "      <td>0.128086</td>\n",
       "      <td>0.186932</td>\n",
       "      <td>0.005665</td>\n",
       "      <td>0.367091</td>\n",
       "      <td>1.153896e-07</td>\n",
       "      <td>0.924556</td>\n",
       "      <td>0.928404</td>\n",
       "      <td>None</td>\n",
       "      <td>POLYGON ((761826.000 9723798.000, 761832.000 9...</td>\n",
       "    </tr>\n",
       "  </tbody>\n",
       "</table>\n",
       "<p>65822 rows × 70 columns</p>\n",
       "</div>"
      ],
      "text/plain": [
       "          DN  IFVE_MEAN   B3_Mean  IFAG_MEAN  IFSE_MEAN  B3_Max_Val  \\\n",
       "0          1   0.033137  0.634287   1.000000   0.425901    0.636713   \n",
       "1          2   0.033137  0.000000   1.000000   0.172157    0.000000   \n",
       "2          3   0.033137  0.662995   1.000000   0.461586    0.639785   \n",
       "3          4   0.033137  0.764718   0.789035   0.554612    0.734255   \n",
       "4          5   0.033137  0.000000   1.000000   0.231065    0.000000   \n",
       "...      ...        ...       ...        ...        ...         ...   \n",
       "65817  64072   0.828111  0.783347   0.391486   0.192856    0.764977   \n",
       "65818  64056   0.561046  0.709323   1.000000   0.215089    0.768049   \n",
       "65819  64057   0.834991  0.783680   0.370870   0.181409    0.748080   \n",
       "65820  64063   0.824751  0.766941   0.383361   0.208067    0.765745   \n",
       "65821  64066   0.258826  0.000000   0.660040   0.258500    0.638249   \n",
       "\n",
       "       fid_percen  COT_VARIA  B2_Contras  IFSE_MIN  ...  PSAHPEIDX    DV_MAX  \\\n",
       "0             0.0   0.000000    0.486425  0.618315  ...   0.788005  0.046165   \n",
       "1             0.0   0.000313    0.210418  0.296634  ...   0.943763  0.186153   \n",
       "2             0.0   0.002784    0.536289  0.603314  ...   0.985553  0.031388   \n",
       "3             0.0   0.000000    0.000000  0.849480  ...   0.940704  0.085048   \n",
       "4             0.0   0.005049    0.233645  0.260426  ...   0.506072  0.052276   \n",
       "...           ...        ...         ...       ...  ...        ...       ...   \n",
       "65817         0.0   0.001498    0.058357  0.379626  ...   0.644065  0.195988   \n",
       "65818         0.0   0.017892    0.157874  0.333470  ...   0.811320  0.110104   \n",
       "65819         0.0   0.001555    0.118653  0.320691  ...   0.546310  0.285322   \n",
       "65820         0.0   0.001342    0.070844  0.387608  ...   0.646262  0.919753   \n",
       "65821         0.0   0.002654    0.079484  0.333470  ...   0.000000  0.128086   \n",
       "\n",
       "        COR_MIN  PBOX_AREA  B3_Kurtosi        DE_MIN    DE_MAX   COR_MAX  \\\n",
       "0      1.000000   0.000685    0.453338  8.654224e-08  0.801776  0.764825   \n",
       "1      0.504139   0.001473    0.476609  1.153896e-07  0.886834  0.783749   \n",
       "2      1.000000   0.000820    0.433178  1.153896e-07  0.000000  0.000000   \n",
       "3      1.000000   0.000820    0.451098  1.153896e-07  0.834874  0.000000   \n",
       "4      1.000000   0.000519    0.419609  8.654224e-08  0.886834  0.858335   \n",
       "...         ...        ...         ...           ...       ...       ...   \n",
       "65817  0.220690   0.001470    0.500596  8.796972e-01  0.962278  0.899264   \n",
       "65818  0.130738   0.003432    0.521434  1.153896e-07  0.962278  0.940263   \n",
       "65819  0.130808   0.000904    0.509777  8.881883e-01  0.924556  0.880850   \n",
       "65820  0.190582   0.002647    0.443462  1.153896e-07  0.948040  0.911903   \n",
       "65821  0.186932   0.005665    0.367091  1.153896e-07  0.924556  0.928404   \n",
       "\n",
       "               TARGET                                           geometry  \n",
       "0                None  POLYGON ((739940.000 9732728.000, 739950.000 9...  \n",
       "1        Rios e lagos  POLYGON ((739942.000 9732736.000, 739944.000 9...  \n",
       "2                None  POLYGON ((739930.000 9732722.000, 740034.000 9...  \n",
       "3                None  POLYGON ((739930.000 9732720.000, 739998.000 9...  \n",
       "4        Rios e lagos  POLYGON ((740076.000 9732714.000, 740096.000 9...  \n",
       "...               ...                                                ...  \n",
       "65817  Veg. Arbustiva  POLYGON ((760930.000 9723718.000, 760936.000 9...  \n",
       "65818            None  POLYGON ((761808.000 9723760.000, 761812.000 9...  \n",
       "65819  Veg. Arbustiva  POLYGON ((760520.000 9723704.000, 760524.000 9...  \n",
       "65820  Veg. Arbustiva  POLYGON ((760596.000 9723716.000, 760600.000 9...  \n",
       "65821            None  POLYGON ((761826.000 9723798.000, 761832.000 9...  \n",
       "\n",
       "[65822 rows x 70 columns]"
      ]
     },
     "execution_count": 3,
     "metadata": {},
     "output_type": "execute_result"
    }
   ],
   "source": [
    "obj"
   ]
  },
  {
   "cell_type": "code",
   "execution_count": 4,
   "metadata": {},
   "outputs": [],
   "source": [
    "geom = obj"
   ]
  },
  {
   "cell_type": "markdown",
   "metadata": {},
   "source": [
    "Visualizando estatísticas descritivas da base de dados já tratada:"
   ]
  },
  {
   "cell_type": "code",
   "execution_count": 5,
   "metadata": {
    "colab": {
     "base_uri": "https://localhost:8080/",
     "height": 394
    },
    "id": "0aqIUDGIu_ep",
    "outputId": "aff6ccb4-0eb5-4755-db74-074ccc4c69ff"
   },
   "outputs": [
    {
     "data": {
      "text/html": [
       "<div>\n",
       "<style scoped>\n",
       "    .dataframe tbody tr th:only-of-type {\n",
       "        vertical-align: middle;\n",
       "    }\n",
       "\n",
       "    .dataframe tbody tr th {\n",
       "        vertical-align: top;\n",
       "    }\n",
       "\n",
       "    .dataframe thead th {\n",
       "        text-align: right;\n",
       "    }\n",
       "</style>\n",
       "<table border=\"1\" class=\"dataframe\">\n",
       "  <thead>\n",
       "    <tr style=\"text-align: right;\">\n",
       "      <th></th>\n",
       "      <th>DN</th>\n",
       "      <th>IFVE_MEAN</th>\n",
       "      <th>B3_Mean</th>\n",
       "      <th>IFAG_MEAN</th>\n",
       "      <th>IFSE_MEAN</th>\n",
       "      <th>B3_Max_Val</th>\n",
       "      <th>fid_percen</th>\n",
       "      <th>COT_VARIA</th>\n",
       "      <th>B2_Contras</th>\n",
       "      <th>IFSE_MIN</th>\n",
       "      <th>...</th>\n",
       "      <th>SE_RANGE</th>\n",
       "      <th>B2_Kurtosi</th>\n",
       "      <th>PSAHPEIDX</th>\n",
       "      <th>DV_MAX</th>\n",
       "      <th>COR_MIN</th>\n",
       "      <th>PBOX_AREA</th>\n",
       "      <th>B3_Kurtosi</th>\n",
       "      <th>DE_MIN</th>\n",
       "      <th>DE_MAX</th>\n",
       "      <th>COR_MAX</th>\n",
       "    </tr>\n",
       "  </thead>\n",
       "  <tbody>\n",
       "    <tr>\n",
       "      <th>count</th>\n",
       "      <td>65822.000000</td>\n",
       "      <td>65822.000000</td>\n",
       "      <td>65822.000000</td>\n",
       "      <td>65822.000000</td>\n",
       "      <td>65822.000000</td>\n",
       "      <td>65822.000000</td>\n",
       "      <td>65822.000000</td>\n",
       "      <td>65822.000000</td>\n",
       "      <td>65822.000000</td>\n",
       "      <td>65822.000000</td>\n",
       "      <td>...</td>\n",
       "      <td>65822.000000</td>\n",
       "      <td>65822.000000</td>\n",
       "      <td>65822.000000</td>\n",
       "      <td>65822.000000</td>\n",
       "      <td>65822.000000</td>\n",
       "      <td>65822.000000</td>\n",
       "      <td>65822.000000</td>\n",
       "      <td>6.582200e+04</td>\n",
       "      <td>65822.000000</td>\n",
       "      <td>65822.000000</td>\n",
       "    </tr>\n",
       "    <tr>\n",
       "      <th>mean</th>\n",
       "      <td>33807.231078</td>\n",
       "      <td>0.510326</td>\n",
       "      <td>0.784424</td>\n",
       "      <td>0.452125</td>\n",
       "      <td>0.481504</td>\n",
       "      <td>0.787608</td>\n",
       "      <td>0.071508</td>\n",
       "      <td>0.030562</td>\n",
       "      <td>0.297192</td>\n",
       "      <td>0.492241</td>\n",
       "      <td>...</td>\n",
       "      <td>0.538099</td>\n",
       "      <td>0.477607</td>\n",
       "      <td>0.548209</td>\n",
       "      <td>0.266922</td>\n",
       "      <td>0.222606</td>\n",
       "      <td>0.001902</td>\n",
       "      <td>0.485599</td>\n",
       "      <td>1.503846e-01</td>\n",
       "      <td>0.890890</td>\n",
       "      <td>0.887726</td>\n",
       "    </tr>\n",
       "    <tr>\n",
       "      <th>std</th>\n",
       "      <td>19578.108268</td>\n",
       "      <td>0.188986</td>\n",
       "      <td>0.131367</td>\n",
       "      <td>0.167249</td>\n",
       "      <td>0.188366</td>\n",
       "      <td>0.117803</td>\n",
       "      <td>0.166597</td>\n",
       "      <td>0.068543</td>\n",
       "      <td>0.206239</td>\n",
       "      <td>0.168630</td>\n",
       "      <td>...</td>\n",
       "      <td>0.158850</td>\n",
       "      <td>0.136658</td>\n",
       "      <td>0.144392</td>\n",
       "      <td>0.220814</td>\n",
       "      <td>0.150390</td>\n",
       "      <td>0.014842</td>\n",
       "      <td>0.155546</td>\n",
       "      <td>2.941441e-01</td>\n",
       "      <td>0.129640</td>\n",
       "      <td>0.106994</td>\n",
       "    </tr>\n",
       "    <tr>\n",
       "      <th>min</th>\n",
       "      <td>1.000000</td>\n",
       "      <td>0.000000</td>\n",
       "      <td>0.000000</td>\n",
       "      <td>0.000000</td>\n",
       "      <td>0.000000</td>\n",
       "      <td>0.000000</td>\n",
       "      <td>0.000000</td>\n",
       "      <td>0.000000</td>\n",
       "      <td>0.000000</td>\n",
       "      <td>0.000000</td>\n",
       "      <td>...</td>\n",
       "      <td>0.000000</td>\n",
       "      <td>0.000000</td>\n",
       "      <td>0.000000</td>\n",
       "      <td>0.000000</td>\n",
       "      <td>0.000000</td>\n",
       "      <td>0.000000</td>\n",
       "      <td>0.000000</td>\n",
       "      <td>0.000000e+00</td>\n",
       "      <td>0.000000</td>\n",
       "      <td>0.000000</td>\n",
       "    </tr>\n",
       "    <tr>\n",
       "      <th>25%</th>\n",
       "      <td>16859.250000</td>\n",
       "      <td>0.372147</td>\n",
       "      <td>0.761770</td>\n",
       "      <td>0.335399</td>\n",
       "      <td>0.329223</td>\n",
       "      <td>0.751920</td>\n",
       "      <td>0.000000</td>\n",
       "      <td>0.002048</td>\n",
       "      <td>0.137706</td>\n",
       "      <td>0.372140</td>\n",
       "      <td>...</td>\n",
       "      <td>0.459850</td>\n",
       "      <td>0.410623</td>\n",
       "      <td>0.449776</td>\n",
       "      <td>0.097264</td>\n",
       "      <td>0.137258</td>\n",
       "      <td>0.000514</td>\n",
       "      <td>0.410595</td>\n",
       "      <td>8.654224e-08</td>\n",
       "      <td>0.886834</td>\n",
       "      <td>0.863340</td>\n",
       "    </tr>\n",
       "    <tr>\n",
       "      <th>50%</th>\n",
       "      <td>33770.500000</td>\n",
       "      <td>0.489234</td>\n",
       "      <td>0.802943</td>\n",
       "      <td>0.422850</td>\n",
       "      <td>0.485289</td>\n",
       "      <td>0.795699</td>\n",
       "      <td>0.000000</td>\n",
       "      <td>0.009227</td>\n",
       "      <td>0.256958</td>\n",
       "      <td>0.459012</td>\n",
       "      <td>...</td>\n",
       "      <td>0.534381</td>\n",
       "      <td>0.458531</td>\n",
       "      <td>0.534108</td>\n",
       "      <td>0.195988</td>\n",
       "      <td>0.185264</td>\n",
       "      <td>0.000828</td>\n",
       "      <td>0.475000</td>\n",
       "      <td>1.153896e-07</td>\n",
       "      <td>0.910318</td>\n",
       "      <td>0.901601</td>\n",
       "    </tr>\n",
       "    <tr>\n",
       "      <th>75%</th>\n",
       "      <td>50747.750000</td>\n",
       "      <td>0.641316</td>\n",
       "      <td>0.838341</td>\n",
       "      <td>0.537602</td>\n",
       "      <td>0.615201</td>\n",
       "      <td>0.844086</td>\n",
       "      <td>0.011860</td>\n",
       "      <td>0.026840</td>\n",
       "      <td>0.411333</td>\n",
       "      <td>0.599967</td>\n",
       "      <td>...</td>\n",
       "      <td>0.621577</td>\n",
       "      <td>0.531705</td>\n",
       "      <td>0.634873</td>\n",
       "      <td>0.378601</td>\n",
       "      <td>0.257575</td>\n",
       "      <td>0.001424</td>\n",
       "      <td>0.560181</td>\n",
       "      <td>1.153896e-07</td>\n",
       "      <td>0.924556</td>\n",
       "      <td>0.934896</td>\n",
       "    </tr>\n",
       "    <tr>\n",
       "      <th>max</th>\n",
       "      <td>67873.000000</td>\n",
       "      <td>1.000000</td>\n",
       "      <td>1.000000</td>\n",
       "      <td>1.000000</td>\n",
       "      <td>1.000000</td>\n",
       "      <td>1.000000</td>\n",
       "      <td>1.000000</td>\n",
       "      <td>1.000000</td>\n",
       "      <td>1.000000</td>\n",
       "      <td>1.000000</td>\n",
       "      <td>...</td>\n",
       "      <td>1.000000</td>\n",
       "      <td>1.000000</td>\n",
       "      <td>1.000000</td>\n",
       "      <td>1.000000</td>\n",
       "      <td>1.000000</td>\n",
       "      <td>1.000000</td>\n",
       "      <td>1.000000</td>\n",
       "      <td>1.000000e+00</td>\n",
       "      <td>1.000000</td>\n",
       "      <td>1.000000</td>\n",
       "    </tr>\n",
       "  </tbody>\n",
       "</table>\n",
       "<p>8 rows × 68 columns</p>\n",
       "</div>"
      ],
      "text/plain": [
       "                 DN     IFVE_MEAN       B3_Mean     IFAG_MEAN     IFSE_MEAN  \\\n",
       "count  65822.000000  65822.000000  65822.000000  65822.000000  65822.000000   \n",
       "mean   33807.231078      0.510326      0.784424      0.452125      0.481504   \n",
       "std    19578.108268      0.188986      0.131367      0.167249      0.188366   \n",
       "min        1.000000      0.000000      0.000000      0.000000      0.000000   \n",
       "25%    16859.250000      0.372147      0.761770      0.335399      0.329223   \n",
       "50%    33770.500000      0.489234      0.802943      0.422850      0.485289   \n",
       "75%    50747.750000      0.641316      0.838341      0.537602      0.615201   \n",
       "max    67873.000000      1.000000      1.000000      1.000000      1.000000   \n",
       "\n",
       "         B3_Max_Val    fid_percen     COT_VARIA    B2_Contras      IFSE_MIN  \\\n",
       "count  65822.000000  65822.000000  65822.000000  65822.000000  65822.000000   \n",
       "mean       0.787608      0.071508      0.030562      0.297192      0.492241   \n",
       "std        0.117803      0.166597      0.068543      0.206239      0.168630   \n",
       "min        0.000000      0.000000      0.000000      0.000000      0.000000   \n",
       "25%        0.751920      0.000000      0.002048      0.137706      0.372140   \n",
       "50%        0.795699      0.000000      0.009227      0.256958      0.459012   \n",
       "75%        0.844086      0.011860      0.026840      0.411333      0.599967   \n",
       "max        1.000000      1.000000      1.000000      1.000000      1.000000   \n",
       "\n",
       "       ...      SE_RANGE    B2_Kurtosi     PSAHPEIDX        DV_MAX  \\\n",
       "count  ...  65822.000000  65822.000000  65822.000000  65822.000000   \n",
       "mean   ...      0.538099      0.477607      0.548209      0.266922   \n",
       "std    ...      0.158850      0.136658      0.144392      0.220814   \n",
       "min    ...      0.000000      0.000000      0.000000      0.000000   \n",
       "25%    ...      0.459850      0.410623      0.449776      0.097264   \n",
       "50%    ...      0.534381      0.458531      0.534108      0.195988   \n",
       "75%    ...      0.621577      0.531705      0.634873      0.378601   \n",
       "max    ...      1.000000      1.000000      1.000000      1.000000   \n",
       "\n",
       "            COR_MIN     PBOX_AREA    B3_Kurtosi        DE_MIN        DE_MAX  \\\n",
       "count  65822.000000  65822.000000  65822.000000  6.582200e+04  65822.000000   \n",
       "mean       0.222606      0.001902      0.485599  1.503846e-01      0.890890   \n",
       "std        0.150390      0.014842      0.155546  2.941441e-01      0.129640   \n",
       "min        0.000000      0.000000      0.000000  0.000000e+00      0.000000   \n",
       "25%        0.137258      0.000514      0.410595  8.654224e-08      0.886834   \n",
       "50%        0.185264      0.000828      0.475000  1.153896e-07      0.910318   \n",
       "75%        0.257575      0.001424      0.560181  1.153896e-07      0.924556   \n",
       "max        1.000000      1.000000      1.000000  1.000000e+00      1.000000   \n",
       "\n",
       "            COR_MAX  \n",
       "count  65822.000000  \n",
       "mean       0.887726  \n",
       "std        0.106994  \n",
       "min        0.000000  \n",
       "25%        0.863340  \n",
       "50%        0.901601  \n",
       "75%        0.934896  \n",
       "max        1.000000  \n",
       "\n",
       "[8 rows x 68 columns]"
      ]
     },
     "execution_count": 5,
     "metadata": {},
     "output_type": "execute_result"
    }
   ],
   "source": [
    "obj.describe()"
   ]
  },
  {
   "cell_type": "markdown",
   "metadata": {},
   "source": [
    "Definicação da variável identificadora de cada feição e da variável com as classes amostrais:"
   ]
  },
  {
   "cell_type": "code",
   "execution_count": 6,
   "metadata": {
    "id": "akeueeQBvWRG"
   },
   "outputs": [],
   "source": [
    "indice = 'DN'\n",
    "TARGET = 'TARGET'"
   ]
  },
  {
   "cell_type": "code",
   "execution_count": 7,
   "metadata": {},
   "outputs": [
    {
     "data": {
      "text/plain": [
       "['Rios e lagos',\n",
       " 'Veg. Arbustiva',\n",
       " 'Veg. Herbácea',\n",
       " 'Solo exposto',\n",
       " 'Asfalto',\n",
       " 'Brilhosos',\n",
       " 'Estradas',\n",
       " 'Fibrocimentos',\n",
       " 'Cerâmicas',\n",
       " 'Nuvem',\n",
       " 'Sombra']"
      ]
     },
     "execution_count": 7,
     "metadata": {},
     "output_type": "execute_result"
    }
   ],
   "source": [
    "target = []\n",
    "\n",
    "for classe in obj[TARGET].unique():\n",
    "    if not pd.isnull(classe):\n",
    "        target.append(classe)\n",
    "\n",
    "target"
   ]
  },
  {
   "cell_type": "code",
   "execution_count": 8,
   "metadata": {},
   "outputs": [
    {
     "data": {
      "text/html": [
       "<div>\n",
       "<style scoped>\n",
       "    .dataframe tbody tr th:only-of-type {\n",
       "        vertical-align: middle;\n",
       "    }\n",
       "\n",
       "    .dataframe tbody tr th {\n",
       "        vertical-align: top;\n",
       "    }\n",
       "\n",
       "    .dataframe thead th {\n",
       "        text-align: right;\n",
       "    }\n",
       "</style>\n",
       "<table border=\"1\" class=\"dataframe\">\n",
       "  <thead>\n",
       "    <tr style=\"text-align: right;\">\n",
       "      <th></th>\n",
       "      <th>DN</th>\n",
       "      <th>IFVE_MEAN</th>\n",
       "      <th>B3_Mean</th>\n",
       "      <th>IFAG_MEAN</th>\n",
       "      <th>IFSE_MEAN</th>\n",
       "      <th>B3_Max_Val</th>\n",
       "      <th>fid_percen</th>\n",
       "      <th>COT_VARIA</th>\n",
       "      <th>B2_Contras</th>\n",
       "      <th>IFSE_MIN</th>\n",
       "      <th>...</th>\n",
       "      <th>PSAHPEIDX</th>\n",
       "      <th>DV_MAX</th>\n",
       "      <th>COR_MIN</th>\n",
       "      <th>PBOX_AREA</th>\n",
       "      <th>B3_Kurtosi</th>\n",
       "      <th>DE_MIN</th>\n",
       "      <th>DE_MAX</th>\n",
       "      <th>COR_MAX</th>\n",
       "      <th>TARGET</th>\n",
       "      <th>geometry</th>\n",
       "    </tr>\n",
       "  </thead>\n",
       "  <tbody>\n",
       "    <tr>\n",
       "      <th>1</th>\n",
       "      <td>2</td>\n",
       "      <td>0.033137</td>\n",
       "      <td>0.000000</td>\n",
       "      <td>1.000000</td>\n",
       "      <td>0.172157</td>\n",
       "      <td>0.000000</td>\n",
       "      <td>0.0</td>\n",
       "      <td>0.000313</td>\n",
       "      <td>0.210418</td>\n",
       "      <td>0.296634</td>\n",
       "      <td>...</td>\n",
       "      <td>0.943763</td>\n",
       "      <td>0.186153</td>\n",
       "      <td>0.504139</td>\n",
       "      <td>0.001473</td>\n",
       "      <td>0.476609</td>\n",
       "      <td>1.153896e-07</td>\n",
       "      <td>0.886834</td>\n",
       "      <td>0.783749</td>\n",
       "      <td>Rios e lagos</td>\n",
       "      <td>POLYGON ((739942.000 9732736.000, 739944.000 9...</td>\n",
       "    </tr>\n",
       "    <tr>\n",
       "      <th>4</th>\n",
       "      <td>5</td>\n",
       "      <td>0.033137</td>\n",
       "      <td>0.000000</td>\n",
       "      <td>1.000000</td>\n",
       "      <td>0.231065</td>\n",
       "      <td>0.000000</td>\n",
       "      <td>0.0</td>\n",
       "      <td>0.005049</td>\n",
       "      <td>0.233645</td>\n",
       "      <td>0.260426</td>\n",
       "      <td>...</td>\n",
       "      <td>0.506072</td>\n",
       "      <td>0.052276</td>\n",
       "      <td>1.000000</td>\n",
       "      <td>0.000519</td>\n",
       "      <td>0.419609</td>\n",
       "      <td>8.654224e-08</td>\n",
       "      <td>0.886834</td>\n",
       "      <td>0.858335</td>\n",
       "      <td>Rios e lagos</td>\n",
       "      <td>POLYGON ((740076.000 9732714.000, 740096.000 9...</td>\n",
       "    </tr>\n",
       "    <tr>\n",
       "      <th>9</th>\n",
       "      <td>10</td>\n",
       "      <td>0.033137</td>\n",
       "      <td>0.000000</td>\n",
       "      <td>1.000000</td>\n",
       "      <td>0.163007</td>\n",
       "      <td>0.596774</td>\n",
       "      <td>0.0</td>\n",
       "      <td>0.003652</td>\n",
       "      <td>0.146116</td>\n",
       "      <td>0.210986</td>\n",
       "      <td>...</td>\n",
       "      <td>0.508384</td>\n",
       "      <td>0.080474</td>\n",
       "      <td>0.369439</td>\n",
       "      <td>0.000822</td>\n",
       "      <td>0.992811</td>\n",
       "      <td>8.654224e-08</td>\n",
       "      <td>0.905695</td>\n",
       "      <td>0.946904</td>\n",
       "      <td>Rios e lagos</td>\n",
       "      <td>POLYGON ((740148.000 9732702.000, 740150.000 9...</td>\n",
       "    </tr>\n",
       "    <tr>\n",
       "      <th>16</th>\n",
       "      <td>17</td>\n",
       "      <td>0.033137</td>\n",
       "      <td>0.000000</td>\n",
       "      <td>1.000000</td>\n",
       "      <td>0.058097</td>\n",
       "      <td>0.000000</td>\n",
       "      <td>0.0</td>\n",
       "      <td>0.000809</td>\n",
       "      <td>0.038934</td>\n",
       "      <td>0.150349</td>\n",
       "      <td>...</td>\n",
       "      <td>0.841543</td>\n",
       "      <td>0.200617</td>\n",
       "      <td>0.333396</td>\n",
       "      <td>0.002334</td>\n",
       "      <td>0.531508</td>\n",
       "      <td>1.153896e-07</td>\n",
       "      <td>0.910318</td>\n",
       "      <td>0.877187</td>\n",
       "      <td>Rios e lagos</td>\n",
       "      <td>POLYGON ((740202.000 9732678.000, 740208.000 9...</td>\n",
       "    </tr>\n",
       "    <tr>\n",
       "      <th>21</th>\n",
       "      <td>22</td>\n",
       "      <td>0.682604</td>\n",
       "      <td>0.889196</td>\n",
       "      <td>0.254270</td>\n",
       "      <td>0.502477</td>\n",
       "      <td>0.928571</td>\n",
       "      <td>0.0</td>\n",
       "      <td>0.021767</td>\n",
       "      <td>0.138505</td>\n",
       "      <td>0.352161</td>\n",
       "      <td>...</td>\n",
       "      <td>0.677926</td>\n",
       "      <td>0.315501</td>\n",
       "      <td>0.122823</td>\n",
       "      <td>0.002741</td>\n",
       "      <td>0.444098</td>\n",
       "      <td>1.153896e-07</td>\n",
       "      <td>0.924556</td>\n",
       "      <td>0.965098</td>\n",
       "      <td>Veg. Arbustiva</td>\n",
       "      <td>POLYGON ((740072.000 9732678.000, 740084.000 9...</td>\n",
       "    </tr>\n",
       "    <tr>\n",
       "      <th>...</th>\n",
       "      <td>...</td>\n",
       "      <td>...</td>\n",
       "      <td>...</td>\n",
       "      <td>...</td>\n",
       "      <td>...</td>\n",
       "      <td>...</td>\n",
       "      <td>...</td>\n",
       "      <td>...</td>\n",
       "      <td>...</td>\n",
       "      <td>...</td>\n",
       "      <td>...</td>\n",
       "      <td>...</td>\n",
       "      <td>...</td>\n",
       "      <td>...</td>\n",
       "      <td>...</td>\n",
       "      <td>...</td>\n",
       "      <td>...</td>\n",
       "      <td>...</td>\n",
       "      <td>...</td>\n",
       "      <td>...</td>\n",
       "      <td>...</td>\n",
       "    </tr>\n",
       "    <tr>\n",
       "      <th>65814</th>\n",
       "      <td>64068</td>\n",
       "      <td>0.873403</td>\n",
       "      <td>0.795764</td>\n",
       "      <td>0.325485</td>\n",
       "      <td>0.199185</td>\n",
       "      <td>0.790323</td>\n",
       "      <td>0.0</td>\n",
       "      <td>0.001581</td>\n",
       "      <td>0.066904</td>\n",
       "      <td>0.326065</td>\n",
       "      <td>...</td>\n",
       "      <td>0.593274</td>\n",
       "      <td>0.820988</td>\n",
       "      <td>0.085879</td>\n",
       "      <td>0.003546</td>\n",
       "      <td>0.556700</td>\n",
       "      <td>0.000000e+00</td>\n",
       "      <td>0.962278</td>\n",
       "      <td>0.943981</td>\n",
       "      <td>Veg. Arbustiva</td>\n",
       "      <td>POLYGON ((760452.000 9723748.000, 760456.000 9...</td>\n",
       "    </tr>\n",
       "    <tr>\n",
       "      <th>65815</th>\n",
       "      <td>64059</td>\n",
       "      <td>0.860002</td>\n",
       "      <td>0.792544</td>\n",
       "      <td>0.345339</td>\n",
       "      <td>0.198045</td>\n",
       "      <td>0.767281</td>\n",
       "      <td>0.0</td>\n",
       "      <td>0.001345</td>\n",
       "      <td>0.077175</td>\n",
       "      <td>0.381562</td>\n",
       "      <td>...</td>\n",
       "      <td>0.550506</td>\n",
       "      <td>0.345679</td>\n",
       "      <td>0.147468</td>\n",
       "      <td>0.002726</td>\n",
       "      <td>0.466081</td>\n",
       "      <td>7.082116e-01</td>\n",
       "      <td>0.924556</td>\n",
       "      <td>0.951301</td>\n",
       "      <td>Veg. Arbustiva</td>\n",
       "      <td>POLYGON ((760896.000 9723722.000, 760898.000 9...</td>\n",
       "    </tr>\n",
       "    <tr>\n",
       "      <th>65817</th>\n",
       "      <td>64072</td>\n",
       "      <td>0.828111</td>\n",
       "      <td>0.783347</td>\n",
       "      <td>0.391486</td>\n",
       "      <td>0.192856</td>\n",
       "      <td>0.764977</td>\n",
       "      <td>0.0</td>\n",
       "      <td>0.001498</td>\n",
       "      <td>0.058357</td>\n",
       "      <td>0.379626</td>\n",
       "      <td>...</td>\n",
       "      <td>0.644065</td>\n",
       "      <td>0.195988</td>\n",
       "      <td>0.220690</td>\n",
       "      <td>0.001470</td>\n",
       "      <td>0.500596</td>\n",
       "      <td>8.796972e-01</td>\n",
       "      <td>0.962278</td>\n",
       "      <td>0.899264</td>\n",
       "      <td>Veg. Arbustiva</td>\n",
       "      <td>POLYGON ((760930.000 9723718.000, 760936.000 9...</td>\n",
       "    </tr>\n",
       "    <tr>\n",
       "      <th>65819</th>\n",
       "      <td>64057</td>\n",
       "      <td>0.834991</td>\n",
       "      <td>0.783680</td>\n",
       "      <td>0.370870</td>\n",
       "      <td>0.181409</td>\n",
       "      <td>0.748080</td>\n",
       "      <td>0.0</td>\n",
       "      <td>0.001555</td>\n",
       "      <td>0.118653</td>\n",
       "      <td>0.320691</td>\n",
       "      <td>...</td>\n",
       "      <td>0.546310</td>\n",
       "      <td>0.285322</td>\n",
       "      <td>0.130808</td>\n",
       "      <td>0.000904</td>\n",
       "      <td>0.509777</td>\n",
       "      <td>8.881883e-01</td>\n",
       "      <td>0.924556</td>\n",
       "      <td>0.880850</td>\n",
       "      <td>Veg. Arbustiva</td>\n",
       "      <td>POLYGON ((760520.000 9723704.000, 760524.000 9...</td>\n",
       "    </tr>\n",
       "    <tr>\n",
       "      <th>65820</th>\n",
       "      <td>64063</td>\n",
       "      <td>0.824751</td>\n",
       "      <td>0.766941</td>\n",
       "      <td>0.383361</td>\n",
       "      <td>0.208067</td>\n",
       "      <td>0.765745</td>\n",
       "      <td>0.0</td>\n",
       "      <td>0.001342</td>\n",
       "      <td>0.070844</td>\n",
       "      <td>0.387608</td>\n",
       "      <td>...</td>\n",
       "      <td>0.646262</td>\n",
       "      <td>0.919753</td>\n",
       "      <td>0.190582</td>\n",
       "      <td>0.002647</td>\n",
       "      <td>0.443462</td>\n",
       "      <td>1.153896e-07</td>\n",
       "      <td>0.948040</td>\n",
       "      <td>0.911903</td>\n",
       "      <td>Veg. Arbustiva</td>\n",
       "      <td>POLYGON ((760596.000 9723716.000, 760600.000 9...</td>\n",
       "    </tr>\n",
       "  </tbody>\n",
       "</table>\n",
       "<p>21536 rows × 70 columns</p>\n",
       "</div>"
      ],
      "text/plain": [
       "          DN  IFVE_MEAN   B3_Mean  IFAG_MEAN  IFSE_MEAN  B3_Max_Val  \\\n",
       "1          2   0.033137  0.000000   1.000000   0.172157    0.000000   \n",
       "4          5   0.033137  0.000000   1.000000   0.231065    0.000000   \n",
       "9         10   0.033137  0.000000   1.000000   0.163007    0.596774   \n",
       "16        17   0.033137  0.000000   1.000000   0.058097    0.000000   \n",
       "21        22   0.682604  0.889196   0.254270   0.502477    0.928571   \n",
       "...      ...        ...       ...        ...        ...         ...   \n",
       "65814  64068   0.873403  0.795764   0.325485   0.199185    0.790323   \n",
       "65815  64059   0.860002  0.792544   0.345339   0.198045    0.767281   \n",
       "65817  64072   0.828111  0.783347   0.391486   0.192856    0.764977   \n",
       "65819  64057   0.834991  0.783680   0.370870   0.181409    0.748080   \n",
       "65820  64063   0.824751  0.766941   0.383361   0.208067    0.765745   \n",
       "\n",
       "       fid_percen  COT_VARIA  B2_Contras  IFSE_MIN  ...  PSAHPEIDX    DV_MAX  \\\n",
       "1             0.0   0.000313    0.210418  0.296634  ...   0.943763  0.186153   \n",
       "4             0.0   0.005049    0.233645  0.260426  ...   0.506072  0.052276   \n",
       "9             0.0   0.003652    0.146116  0.210986  ...   0.508384  0.080474   \n",
       "16            0.0   0.000809    0.038934  0.150349  ...   0.841543  0.200617   \n",
       "21            0.0   0.021767    0.138505  0.352161  ...   0.677926  0.315501   \n",
       "...           ...        ...         ...       ...  ...        ...       ...   \n",
       "65814         0.0   0.001581    0.066904  0.326065  ...   0.593274  0.820988   \n",
       "65815         0.0   0.001345    0.077175  0.381562  ...   0.550506  0.345679   \n",
       "65817         0.0   0.001498    0.058357  0.379626  ...   0.644065  0.195988   \n",
       "65819         0.0   0.001555    0.118653  0.320691  ...   0.546310  0.285322   \n",
       "65820         0.0   0.001342    0.070844  0.387608  ...   0.646262  0.919753   \n",
       "\n",
       "        COR_MIN  PBOX_AREA  B3_Kurtosi        DE_MIN    DE_MAX   COR_MAX  \\\n",
       "1      0.504139   0.001473    0.476609  1.153896e-07  0.886834  0.783749   \n",
       "4      1.000000   0.000519    0.419609  8.654224e-08  0.886834  0.858335   \n",
       "9      0.369439   0.000822    0.992811  8.654224e-08  0.905695  0.946904   \n",
       "16     0.333396   0.002334    0.531508  1.153896e-07  0.910318  0.877187   \n",
       "21     0.122823   0.002741    0.444098  1.153896e-07  0.924556  0.965098   \n",
       "...         ...        ...         ...           ...       ...       ...   \n",
       "65814  0.085879   0.003546    0.556700  0.000000e+00  0.962278  0.943981   \n",
       "65815  0.147468   0.002726    0.466081  7.082116e-01  0.924556  0.951301   \n",
       "65817  0.220690   0.001470    0.500596  8.796972e-01  0.962278  0.899264   \n",
       "65819  0.130808   0.000904    0.509777  8.881883e-01  0.924556  0.880850   \n",
       "65820  0.190582   0.002647    0.443462  1.153896e-07  0.948040  0.911903   \n",
       "\n",
       "               TARGET                                           geometry  \n",
       "1        Rios e lagos  POLYGON ((739942.000 9732736.000, 739944.000 9...  \n",
       "4        Rios e lagos  POLYGON ((740076.000 9732714.000, 740096.000 9...  \n",
       "9        Rios e lagos  POLYGON ((740148.000 9732702.000, 740150.000 9...  \n",
       "16       Rios e lagos  POLYGON ((740202.000 9732678.000, 740208.000 9...  \n",
       "21     Veg. Arbustiva  POLYGON ((740072.000 9732678.000, 740084.000 9...  \n",
       "...               ...                                                ...  \n",
       "65814  Veg. Arbustiva  POLYGON ((760452.000 9723748.000, 760456.000 9...  \n",
       "65815  Veg. Arbustiva  POLYGON ((760896.000 9723722.000, 760898.000 9...  \n",
       "65817  Veg. Arbustiva  POLYGON ((760930.000 9723718.000, 760936.000 9...  \n",
       "65819  Veg. Arbustiva  POLYGON ((760520.000 9723704.000, 760524.000 9...  \n",
       "65820  Veg. Arbustiva  POLYGON ((760596.000 9723716.000, 760600.000 9...  \n",
       "\n",
       "[21536 rows x 70 columns]"
      ]
     },
     "execution_count": 8,
     "metadata": {},
     "output_type": "execute_result"
    }
   ],
   "source": [
    "obj = obj.replace(to_replace='None', value=np.nan).dropna()\n",
    "obj"
   ]
  },
  {
   "cell_type": "markdown",
   "metadata": {},
   "source": [
    "Separandos os dados de treinamento e teste:"
   ]
  },
  {
   "cell_type": "code",
   "execution_count": 9,
   "metadata": {},
   "outputs": [],
   "source": [
    "X = pd.DataFrame(obj.iloc[:,1:-2])\n",
    "Y = pd.DataFrame(obj[TARGET]).to_numpy()"
   ]
  },
  {
   "cell_type": "code",
   "execution_count": 10,
   "metadata": {
    "id": "Yei6Xu5wa7PR"
   },
   "outputs": [],
   "source": [
    "x_train, x_test, y_train, y_test = train_test_split(X, Y, test_size = 0.3, stratify = Y, random_state=42)"
   ]
  },
  {
   "cell_type": "code",
   "execution_count": 11,
   "metadata": {
    "colab": {
     "base_uri": "https://localhost:8080/"
    },
    "id": "Fnq9fB_Fegc4",
    "outputId": "44dfa591-6e8d-4215-86b7-54d1afde9342"
   },
   "outputs": [
    {
     "data": {
      "text/plain": [
       "(15075, 67)"
      ]
     },
     "execution_count": 11,
     "metadata": {},
     "output_type": "execute_result"
    }
   ],
   "source": [
    "x_train.shape"
   ]
  },
  {
   "cell_type": "code",
   "execution_count": 12,
   "metadata": {},
   "outputs": [
    {
     "data": {
      "text/plain": [
       "(15075, 1)"
      ]
     },
     "execution_count": 12,
     "metadata": {},
     "output_type": "execute_result"
    }
   ],
   "source": [
    "y_train.shape"
   ]
  },
  {
   "cell_type": "code",
   "execution_count": 13,
   "metadata": {
    "colab": {
     "base_uri": "https://localhost:8080/"
    },
    "id": "RZHg-ypbezV0",
    "outputId": "52dbdf7a-bec5-4f3f-ddb3-04cf278d17a3"
   },
   "outputs": [
    {
     "data": {
      "text/plain": [
       "(6461, 67)"
      ]
     },
     "execution_count": 13,
     "metadata": {},
     "output_type": "execute_result"
    }
   ],
   "source": [
    "x_test.shape"
   ]
  },
  {
   "cell_type": "code",
   "execution_count": 14,
   "metadata": {},
   "outputs": [
    {
     "data": {
      "text/plain": [
       "(6461, 1)"
      ]
     },
     "execution_count": 14,
     "metadata": {},
     "output_type": "execute_result"
    }
   ],
   "source": [
    "y_test.shape"
   ]
  },
  {
   "cell_type": "markdown",
   "metadata": {},
   "source": [
    "Visualizando as classes amostrais:"
   ]
  },
  {
   "cell_type": "code",
   "execution_count": 15,
   "metadata": {
    "colab": {
     "base_uri": "https://localhost:8080/"
    },
    "id": "geuM_UQlZT4R",
    "outputId": "80510fca-3c85-45ed-aa08-fee85956156a"
   },
   "outputs": [
    {
     "data": {
      "text/plain": [
       "array(['Rios e lagos', 'Veg. Arbustiva', 'Veg. Herbácea', 'Solo exposto',\n",
       "       'Asfalto', 'Brilhosos', 'Estradas', 'Fibrocimentos', 'Cerâmicas',\n",
       "       'Nuvem', 'Sombra'], dtype=object)"
      ]
     },
     "execution_count": 15,
     "metadata": {},
     "output_type": "execute_result"
    }
   ],
   "source": [
    "obj[TARGET].unique()"
   ]
  },
  {
   "cell_type": "code",
   "execution_count": 16,
   "metadata": {
    "scrolled": true
   },
   "outputs": [
    {
     "data": {
      "text/plain": [
       "TARGET\n",
       "Asfalto             665\n",
       "Brilhosos           239\n",
       "Cerâmicas           423\n",
       "Estradas            663\n",
       "Fibrocimentos       212\n",
       "Nuvem               104\n",
       "Rios e lagos        527\n",
       "Solo exposto        338\n",
       "Sombra               61\n",
       "Veg. Arbustiva    14741\n",
       "Veg. Herbácea      3563\n",
       "Name: DN, dtype: int64"
      ]
     },
     "execution_count": 16,
     "metadata": {},
     "output_type": "execute_result"
    }
   ],
   "source": [
    "obj.groupby(TARGET)[indice].nunique()"
   ]
  },
  {
   "cell_type": "markdown",
   "metadata": {},
   "source": [
    "Seleção os hiperparametros e dos valores a serem testados no método RandomizedSearchCV:"
   ]
  },
  {
   "cell_type": "code",
   "execution_count": 17,
   "metadata": {},
   "outputs": [],
   "source": [
    "parametros = {'n_estimators':[1,20,50,100,150,200,250,300,350,400,450,500,550,600,700,800,900,1000,1500,2000],\n",
    "              'criterion':['gini','entropy'],\n",
    "              'max_depth':[5,10,20, None],\n",
    "              'min_samples_split':[2,5,10],\n",
    "              'min_samples_leaf': [1, 2, 4],\n",
    "              'bootstrap': [True, False]}"
   ]
  },
  {
   "cell_type": "markdown",
   "metadata": {},
   "source": [
    "Definindo o GridSearchCV:"
   ]
  },
  {
   "cell_type": "code",
   "execution_count": 18,
   "metadata": {},
   "outputs": [],
   "source": [
    "modelo = RandomizedSearchCV(estimator = RandomForestClassifier(), n_iter = 100, verbose=2, random_state=42, param_distributions = parametros, scoring='f1_macro', n_jobs=-1, cv=5)"
   ]
  },
  {
   "cell_type": "markdown",
   "metadata": {},
   "source": [
    "Gerando o modelo de classificação Random Forest:"
   ]
  },
  {
   "cell_type": "code",
   "execution_count": 19,
   "metadata": {},
   "outputs": [
    {
     "name": "stdout",
     "output_type": "stream",
     "text": [
      "Fitting 5 folds for each of 100 candidates, totalling 500 fits\n"
     ]
    },
    {
     "name": "stderr",
     "output_type": "stream",
     "text": [
      "[Parallel(n_jobs=-1)]: Using backend LokyBackend with 4 concurrent workers.\n",
      "[Parallel(n_jobs=-1)]: Done  33 tasks      | elapsed: 24.0min\n",
      "[Parallel(n_jobs=-1)]: Done 154 tasks      | elapsed: 91.0min\n",
      "[Parallel(n_jobs=-1)]: Done 357 tasks      | elapsed: 223.4min\n",
      "[Parallel(n_jobs=-1)]: Done 500 out of 500 | elapsed: 296.1min finished\n",
      "C:\\Users\\dias-bruno\\anaconda3\\lib\\site-packages\\sklearn\\model_selection\\_search.py:765: DataConversionWarning: A column-vector y was passed when a 1d array was expected. Please change the shape of y to (n_samples,), for example using ravel().\n",
      "  self.best_estimator_.fit(X, y, **fit_params)\n"
     ]
    },
    {
     "data": {
      "text/plain": [
       "RandomizedSearchCV(cv=5, estimator=RandomForestClassifier(), n_iter=100,\n",
       "                   n_jobs=-1,\n",
       "                   param_distributions={'bootstrap': [True, False],\n",
       "                                        'criterion': ['gini', 'entropy'],\n",
       "                                        'max_depth': [5, 10, 20, None],\n",
       "                                        'min_samples_leaf': [1, 2, 4],\n",
       "                                        'min_samples_split': [2, 5, 10],\n",
       "                                        'n_estimators': [1, 20, 50, 100, 150,\n",
       "                                                         200, 250, 300, 350,\n",
       "                                                         400, 450, 500, 550,\n",
       "                                                         600, 700, 800, 900,\n",
       "                                                         1000, 1500, 2000]},\n",
       "                   random_state=42, scoring='f1_macro', verbose=2)"
      ]
     },
     "execution_count": 19,
     "metadata": {},
     "output_type": "execute_result"
    }
   ],
   "source": [
    "modelo.fit(x_train, y_train)"
   ]
  },
  {
   "cell_type": "markdown",
   "metadata": {},
   "source": [
    "Visualizando a melhor combinação de hiperparâmetros:"
   ]
  },
  {
   "cell_type": "code",
   "execution_count": 20,
   "metadata": {},
   "outputs": [
    {
     "data": {
      "text/plain": [
       "{'n_estimators': 600,\n",
       " 'min_samples_split': 2,\n",
       " 'min_samples_leaf': 1,\n",
       " 'max_depth': None,\n",
       " 'criterion': 'entropy',\n",
       " 'bootstrap': False}"
      ]
     },
     "execution_count": 20,
     "metadata": {},
     "output_type": "execute_result"
    }
   ],
   "source": [
    "modelo.best_params_"
   ]
  },
  {
   "cell_type": "code",
   "execution_count": 21,
   "metadata": {},
   "outputs": [
    {
     "data": {
      "text/plain": [
       "0.919198287884951"
      ]
     },
     "execution_count": 21,
     "metadata": {},
     "output_type": "execute_result"
    }
   ],
   "source": [
    "modelo.best_score_"
   ]
  },
  {
   "cell_type": "code",
   "execution_count": 22,
   "metadata": {},
   "outputs": [
    {
     "data": {
      "text/plain": [
       "RandomForestClassifier(bootstrap=False, criterion='entropy', n_estimators=600)"
      ]
     },
     "execution_count": 22,
     "metadata": {},
     "output_type": "execute_result"
    }
   ],
   "source": [
    "modelo.best_estimator_"
   ]
  },
  {
   "cell_type": "markdown",
   "metadata": {},
   "source": [
    "Utilizando o modelo treinado para prever a base de dados de teste:"
   ]
  },
  {
   "cell_type": "code",
   "execution_count": 23,
   "metadata": {},
   "outputs": [],
   "source": [
    "y_pred = modelo.predict(x_test)"
   ]
  },
  {
   "cell_type": "markdown",
   "metadata": {},
   "source": [
    "Visualizando as variáveis mais utilizadas no modelo Random Forest:"
   ]
  },
  {
   "cell_type": "code",
   "execution_count": 26,
   "metadata": {},
   "outputs": [
    {
     "data": {
      "text/plain": [
       "<BarContainer object of 67 artists>"
      ]
     },
     "execution_count": 26,
     "metadata": {},
     "output_type": "execute_result"
    },
    {
     "data": {
      "image/png": "[encoded data removed]",
      "text/plain": [
       "<Figure size 432x288 with 1 Axes>"
      ]
     },
     "metadata": {
      "needs_background": "light"
     },
     "output_type": "display_data"
    }
   ],
   "source": [
    "plt.barh(x_test.columns, modelo.best_estimator_.feature_importances_ )"
   ]
  },
  {
   "cell_type": "markdown",
   "metadata": {},
   "source": [
    "Visualizando métricas de desempenho do modelo de classificação na base de teste:"
   ]
  },
  {
   "cell_type": "code",
   "execution_count": 27,
   "metadata": {},
   "outputs": [
    {
     "data": {
      "text/html": [
       "<div>\n",
       "<style scoped>\n",
       "    .dataframe tbody tr th:only-of-type {\n",
       "        vertical-align: middle;\n",
       "    }\n",
       "\n",
       "    .dataframe tbody tr th {\n",
       "        vertical-align: top;\n",
       "    }\n",
       "\n",
       "    .dataframe thead th {\n",
       "        text-align: right;\n",
       "    }\n",
       "</style>\n",
       "<table border=\"1\" class=\"dataframe\">\n",
       "  <thead>\n",
       "    <tr style=\"text-align: right;\">\n",
       "      <th></th>\n",
       "      <th>Métricas</th>\n",
       "    </tr>\n",
       "  </thead>\n",
       "  <tbody>\n",
       "    <tr>\n",
       "      <th>F1_Score_Macro</th>\n",
       "      <td>0.926817</td>\n",
       "    </tr>\n",
       "    <tr>\n",
       "      <th>F1_Score_Weighted</th>\n",
       "      <td>0.987634</td>\n",
       "    </tr>\n",
       "    <tr>\n",
       "      <th>Global Acuraccy</th>\n",
       "      <td>0.988082</td>\n",
       "    </tr>\n",
       "  </tbody>\n",
       "</table>\n",
       "</div>"
      ],
      "text/plain": [
       "                   Métricas\n",
       "F1_Score_Macro     0.926817\n",
       "F1_Score_Weighted  0.987634\n",
       "Global Acuraccy    0.988082"
      ]
     },
     "execution_count": 27,
     "metadata": {},
     "output_type": "execute_result"
    }
   ],
   "source": [
    "macro = f1_score(y_test, y_pred, average = 'macro')\n",
    "wei = f1_score(y_test, y_pred, average = 'weighted')\n",
    "accuracy = accuracy_score(y_test, y_pred)\n",
    "\n",
    "results = {'F1_Score_Macro': macro,\n",
    "             'F1_Score_Weighted': wei,\n",
    "             'Global Acuraccy': accuracy \n",
    "            }\n",
    "\n",
    "pd.DataFrame.from_dict(results, orient='index', dtype=None, columns=['Métricas'])"
   ]
  },
  {
   "cell_type": "markdown",
   "metadata": {},
   "source": [
    "Matriz de confusão aplicado sobre a base de teste:"
   ]
  },
  {
   "cell_type": "code",
   "execution_count": 28,
   "metadata": {},
   "outputs": [
    {
     "name": "stdout",
     "output_type": "stream",
     "text": [
      "[[ 198    0    0    2    0    0    0    0    0    0    0]\n",
      " [   0   69    0    0    0    1    0    2    0    0    0]\n",
      " [   1    1  100   19    3    1    0    2    0    0    0]\n",
      " [   1    1    0  195    0    2    0    0    0    0    0]\n",
      " [   8    2    4    6   41    0    0    0    0    0    3]\n",
      " [   0    0    0    0    0   27    0    0    0    0    4]\n",
      " [   0    0    0    0    0    0  158    0    0    0    0]\n",
      " [   1    2    3    3    0    0    0   89    0    0    3]\n",
      " [   0    0    0    0    0    0    0    0   17    0    1]\n",
      " [   0    0    0    0    0    0    0    0    0 4422    0]\n",
      " [   0    0    0    0    0    0    0    0    0    1 1068]]\n",
      "                precision    recall  f1-score   support\n",
      "\n",
      "       Asfalto       0.95      0.99      0.97       200\n",
      "     Brilhosos       0.92      0.96      0.94        72\n",
      "     Cerâmicas       0.93      0.79      0.85       127\n",
      "      Estradas       0.87      0.98      0.92       199\n",
      " Fibrocimentos       0.93      0.64      0.76        64\n",
      "         Nuvem       0.87      0.87      0.87        31\n",
      "  Rios e lagos       1.00      1.00      1.00       158\n",
      "  Solo exposto       0.96      0.88      0.92       101\n",
      "        Sombra       1.00      0.94      0.97        18\n",
      "Veg. Arbustiva       1.00      1.00      1.00      4422\n",
      " Veg. Herbácea       0.99      1.00      0.99      1069\n",
      "\n",
      "      accuracy                           0.99      6461\n",
      "     macro avg       0.95      0.91      0.93      6461\n",
      "  weighted avg       0.99      0.99      0.99      6461\n",
      "\n"
     ]
    }
   ],
   "source": [
    "print(confusion_matrix(y_test, y_pred))\n",
    "print(classification_report(y_test, y_pred))"
   ]
  },
  {
   "cell_type": "code",
   "execution_count": 29,
   "metadata": {},
   "outputs": [],
   "source": [
    "data = {'Reference': y_test.flatten(), 'Predicted': y_pred}\n",
    "df = pd.DataFrame(data, columns = ['Reference','Predicted'])\n",
    "mc = pd.crosstab(df['Reference'], df['Predicted'], rownames=['Reference'], colnames=['Predicted'])"
   ]
  },
  {
   "cell_type": "code",
   "execution_count": 30,
   "metadata": {},
   "outputs": [
    {
     "data": {
      "image/png": "[encoded data removed]",
      "text/plain": [
       "<Figure size 720x720 with 2 Axes>"
      ]
     },
     "metadata": {
      "needs_background": "light"
     },
     "output_type": "display_data"
    }
   ],
   "source": [
    "plt.figure(figsize=(10,10))\n",
    "sns.heatmap(mc, annot=True,fmt='g',  cmap = 'YlGnBu',linewidths=.5)\n",
    "plt.title('Matriz de Confusão', fontweight='bold', fontsize=14)\n",
    "plt.xlabel('Classificação', fontsize=12)\n",
    "plt.ylabel('Referência',fontsize=12)\n",
    "plt.show()"
   ]
  },
  {
   "cell_type": "code",
   "execution_count": 31,
   "metadata": {},
   "outputs": [
    {
     "data": {
      "text/html": [
       "<div>\n",
       "<style scoped>\n",
       "    .dataframe tbody tr th:only-of-type {\n",
       "        vertical-align: middle;\n",
       "    }\n",
       "\n",
       "    .dataframe tbody tr th {\n",
       "        vertical-align: top;\n",
       "    }\n",
       "\n",
       "    .dataframe thead th {\n",
       "        text-align: right;\n",
       "    }\n",
       "</style>\n",
       "<table border=\"1\" class=\"dataframe\">\n",
       "  <thead>\n",
       "    <tr style=\"text-align: right;\">\n",
       "      <th></th>\n",
       "      <th>classe</th>\n",
       "      <th>Precision</th>\n",
       "      <th>Recall</th>\n",
       "      <th>F1_Score</th>\n",
       "      <th>Acuraccy</th>\n",
       "    </tr>\n",
       "  </thead>\n",
       "  <tbody>\n",
       "    <tr>\n",
       "      <th>0</th>\n",
       "      <td>Asfalto</td>\n",
       "      <td>0.990000</td>\n",
       "      <td>0.947368</td>\n",
       "      <td>0.968215</td>\n",
       "      <td>0.997988</td>\n",
       "    </tr>\n",
       "    <tr>\n",
       "      <th>1</th>\n",
       "      <td>Brilhosos</td>\n",
       "      <td>0.958333</td>\n",
       "      <td>0.920000</td>\n",
       "      <td>0.938776</td>\n",
       "      <td>0.998607</td>\n",
       "    </tr>\n",
       "    <tr>\n",
       "      <th>2</th>\n",
       "      <td>Cerâmicas</td>\n",
       "      <td>0.787402</td>\n",
       "      <td>0.934579</td>\n",
       "      <td>0.854701</td>\n",
       "      <td>0.994738</td>\n",
       "    </tr>\n",
       "    <tr>\n",
       "      <th>3</th>\n",
       "      <td>Estradas</td>\n",
       "      <td>0.979899</td>\n",
       "      <td>0.866667</td>\n",
       "      <td>0.919811</td>\n",
       "      <td>0.994738</td>\n",
       "    </tr>\n",
       "    <tr>\n",
       "      <th>4</th>\n",
       "      <td>Fibrocimentos</td>\n",
       "      <td>0.640625</td>\n",
       "      <td>0.931818</td>\n",
       "      <td>0.759259</td>\n",
       "      <td>0.995976</td>\n",
       "    </tr>\n",
       "    <tr>\n",
       "      <th>5</th>\n",
       "      <td>Nuvem</td>\n",
       "      <td>0.870968</td>\n",
       "      <td>0.870968</td>\n",
       "      <td>0.870968</td>\n",
       "      <td>0.998762</td>\n",
       "    </tr>\n",
       "    <tr>\n",
       "      <th>6</th>\n",
       "      <td>Rios e lagos</td>\n",
       "      <td>1.000000</td>\n",
       "      <td>1.000000</td>\n",
       "      <td>1.000000</td>\n",
       "      <td>1.000000</td>\n",
       "    </tr>\n",
       "    <tr>\n",
       "      <th>7</th>\n",
       "      <td>Solo exposto</td>\n",
       "      <td>0.881188</td>\n",
       "      <td>0.956989</td>\n",
       "      <td>0.917526</td>\n",
       "      <td>0.997524</td>\n",
       "    </tr>\n",
       "    <tr>\n",
       "      <th>8</th>\n",
       "      <td>Sombra</td>\n",
       "      <td>0.944444</td>\n",
       "      <td>1.000000</td>\n",
       "      <td>0.971429</td>\n",
       "      <td>0.999845</td>\n",
       "    </tr>\n",
       "    <tr>\n",
       "      <th>9</th>\n",
       "      <td>Veg. Arbustiva</td>\n",
       "      <td>1.000000</td>\n",
       "      <td>0.999774</td>\n",
       "      <td>0.999887</td>\n",
       "      <td>0.999845</td>\n",
       "    </tr>\n",
       "    <tr>\n",
       "      <th>10</th>\n",
       "      <td>Veg. Herbácea</td>\n",
       "      <td>0.999065</td>\n",
       "      <td>0.989805</td>\n",
       "      <td>0.994413</td>\n",
       "      <td>0.998143</td>\n",
       "    </tr>\n",
       "  </tbody>\n",
       "</table>\n",
       "</div>"
      ],
      "text/plain": [
       "            classe  Precision    Recall  F1_Score  Acuraccy\n",
       "0          Asfalto   0.990000  0.947368  0.968215  0.997988\n",
       "1        Brilhosos   0.958333  0.920000  0.938776  0.998607\n",
       "2        Cerâmicas   0.787402  0.934579  0.854701  0.994738\n",
       "3         Estradas   0.979899  0.866667  0.919811  0.994738\n",
       "4    Fibrocimentos   0.640625  0.931818  0.759259  0.995976\n",
       "5            Nuvem   0.870968  0.870968  0.870968  0.998762\n",
       "6     Rios e lagos   1.000000  1.000000  1.000000  1.000000\n",
       "7     Solo exposto   0.881188  0.956989  0.917526  0.997524\n",
       "8           Sombra   0.944444  1.000000  0.971429  0.999845\n",
       "9   Veg. Arbustiva   1.000000  0.999774  0.999887  0.999845\n",
       "10   Veg. Herbácea   0.999065  0.989805  0.994413  0.998143"
      ]
     },
     "execution_count": 31,
     "metadata": {},
     "output_type": "execute_result"
    }
   ],
   "source": [
    "classe = []\n",
    "Accuracy = []\n",
    "Precision = []\n",
    "Recall = []\n",
    "F1_Score = []\n",
    "\n",
    "for i in range(mc.shape[0]):\n",
    "    TP = mc.iloc[i,i]\n",
    "    FP = mc.iloc[i,:].sum() - TP\n",
    "    FN = mc.iloc[:,i].sum() - TP\n",
    "    TN = mc.sum().sum()-TP-FP-FN\n",
    "    \n",
    "    classe.append(mc.index[i]) \n",
    "    Accuracy.append((TP+TN)/mc.sum().sum())\n",
    "    Precision.append(TP/(TP+FP))\n",
    "    Recall.append(TP/(TP+FN))\n",
    "    F1_Score.append(((2*Precision[i]*Recall[i])/(Precision[i] + Recall[i])))\n",
    "    \n",
    "\n",
    "avaliacao = {'classe': classe,\n",
    "            'Precision': Precision,\n",
    "             'Recall': Recall,\n",
    "             'F1_Score':F1_Score,\n",
    "             'Acuraccy':Accuracy\n",
    "            }\n",
    "       \n",
    "pd.DataFrame(avaliacao)"
   ]
  },
  {
   "cell_type": "markdown",
   "metadata": {},
   "source": [
    "Inserindo a classificação no csv da base de dados:"
   ]
  },
  {
   "cell_type": "code",
   "execution_count": 32,
   "metadata": {},
   "outputs": [],
   "source": [
    "geom['CLASSIFICACAO'] = modelo.predict(geom.iloc[:,1:-2])"
   ]
  },
  {
   "cell_type": "code",
   "execution_count": 33,
   "metadata": {},
   "outputs": [
    {
     "data": {
      "text/plain": [
       "<AxesSubplot:>"
      ]
     },
     "execution_count": 33,
     "metadata": {},
     "output_type": "execute_result"
    },
    {
     "data": {
      "image/png": "[encoded data removed]",
      "text/plain": [
       "<Figure size 432x288 with 1 Axes>"
      ]
     },
     "metadata": {
      "needs_background": "light"
     },
     "output_type": "display_data"
    }
   ],
   "source": [
    "geom.plot(column ='CLASSIFICACAO', legend=True, cmap = 'tab20', categorical=True, legend_kwds={'loc': 'center left', 'bbox_to_anchor':(1,0.5)})"
   ]
  },
  {
   "cell_type": "markdown",
   "metadata": {},
   "source": [
    "Salvando o CSV com a classificação final:"
   ]
  },
  {
   "cell_type": "code",
   "execution_count": 34,
   "metadata": {},
   "outputs": [
    {
     "name": "stderr",
     "output_type": "stream",
     "text": [
      "<ipython-input-34-abf8ed8c6304>:1: UserWarning: Column names longer than 10 characters will be truncated when saved to ESRI Shapefile.\n",
      "  geom.to_file(\"C:\\\\Users\\\\dias-bruno\\\\Desktop\\\\INPE-SER\\\\DISSERTACAO\\\\SHAPEFILES\\\\classificacao2.shp\")\n"
     ]
    }
   ],
   "source": [
    "geom.to_file(\"C:\\\\Users\\\\dias-bruno\\\\Desktop\\\\INPE-SER\\\\DISSERTACAO\\\\SHAPEFILES\\\\classificacao2.shp\")"
   ]
  }
 ],
 "metadata": {
  "colab": {
   "collapsed_sections": [],
   "name": "Cópia de MLP - IA - CAP - 2022.ipynb",
   "provenance": []
  },
  "kernelspec": {
   "display_name": "Python 3",
   "language": "python",
   "name": "python3"
  },
  "language_info": {
   "codemirror_mode": {
    "name": "ipython",
    "version": 3
   },
   "file_extension": ".py",
   "mimetype": "text/x-python",
   "name": "python",
   "nbconvert_exporter": "python",
   "pygments_lexer": "ipython3",
   "version": "3.8.5"
  }
 },
 "nbformat": 4,
 "nbformat_minor": 1
}
