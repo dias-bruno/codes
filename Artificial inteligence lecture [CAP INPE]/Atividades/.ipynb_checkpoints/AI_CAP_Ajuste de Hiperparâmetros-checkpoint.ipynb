{
 "cells": [
  {
   "cell_type": "markdown",
   "metadata": {
    "id": "1i9n4mmcVybX"
   },
   "source": [
    "# <center> Ajuste de Hiperparâmetros </center>\n",
    "\n",
    "<br/>\n",
    "\n",
    "<div style=\"text-align: center;font-size: 90%;\">\n",
    "    Bruno Dias dos Santos<sup><a href=\"https://orcid.org/0000-0001-6181-2158\"><i class=\"fab fa-lg fa-orcid\" style=\"color: #a6ce39\"></i></a></sup><sup><a href=\"https://orcid.org/0000-0002-0082-9498\"><i class=\"fab fa-lg fa-orcid\" style=\"color: #a6ce39\"></i></a></sup><i class=\"fab fa-lg fa-orcid\" style=\"color: #a6ce39\"></i></a></sup>\n",
    "    <br/><br/>\n",
    "    Programa de Pós-Graduação em Computação Aplicada, Instituto Nacional de Pesquisas Espaciais (INPE)\n",
    "    <br/>\n",
    "    Avenida dos Astronautas, 1758, Jardim da Granja, São José dos Campos, SP 12227-010, Brasil\n",
    "    <br/><br/>\n",
    "    Contato: <div><a href=\"mailto:bruno.santos@inpe.br\">bruno.santos@inpe.br</a></div>\n",
    "    <br/><br/>\n",
    "    Última atualização: 29 de Abril de 2022\n",
    "</div>\n",
    "<br/>\n",
    "\n",
    "<div style=\"text-align: justify;  margin-left: 25%; margin-right: 25%;\">\n",
    "<b>Resumo.</b> Este Notebook apresenta uma metodologia para selecionar hiperparâmetros do algoritmo de classificação <i>Random Forest</i>. Dado uma tabela de atributos (.csv) contendo uma variável com as classes amostrais,  será testado o melhor modelo possível gerado pelo <i>Random Forest </i>, dado um conjunto de hiperparametros. Os hiperparâmetros são escolhidos utilizando a técnica <i>GridSearchCV</i>, adotando um <i>K-Fold</i> com 5 grupos e medindo o desempenho de cada combinação com o <i> F1-Score </i>.     \n",
    "</div>    \n",
    "\n",
    "<br/>\n"
   ]
  },
  {
   "cell_type": "markdown",
   "metadata": {
    "id": "JhTjzKKv-tfU"
   },
   "source": [
    "Chamando as Bibliotecas:"
   ]
  },
  {
   "cell_type": "code",
   "execution_count": 67,
   "metadata": {
    "id": "QQoSlJ0MbLXr"
   },
   "outputs": [],
   "source": [
    "import pandas as pd\n",
    "import numpy as np\n",
    "from sklearn.metrics import classification_report, confusion_matrix\n",
    "from sklearn.model_selection import train_test_split\n",
    "from sklearn.model_selection import GridSearchCV\n",
    "from sklearn.ensemble import RandomForestClassifier\n",
    "from sklearn.metrics import f1_score, accuracy_score,ConfusionMatrixDisplay\n",
    "import matplotlib.pyplot as plt \n",
    "import seaborn as sns\n"
   ]
  },
  {
   "cell_type": "markdown",
   "metadata": {
    "id": "uFE-RdapAWmW"
   },
   "source": [
    "Carregando a base de dados já tratada anteriormente:"
   ]
  },
  {
   "cell_type": "code",
   "execution_count": 2,
   "metadata": {
    "id": "C31a73lIuxYK"
   },
   "outputs": [],
   "source": [
    "obj =  pd.read_csv(\"C:\\\\Users\\\\dias-bruno\\\\Desktop\\\\INPE-SER\\\\4PERIODO\\\\AI\\\\DADOS_ATV1\\\\dados_tratados_selecionados.csv\", index_col=0)"
   ]
  },
  {
   "cell_type": "code",
   "execution_count": 3,
   "metadata": {
    "colab": {
     "base_uri": "https://localhost:8080/",
     "height": 488
    },
    "id": "1jr8-0cndlEQ",
    "outputId": "c50c59f9-111c-49d4-c620-d57a4161a596",
    "scrolled": true
   },
   "outputs": [
    {
     "data": {
      "text/html": [
       "<div>\n",
       "<style scoped>\n",
       "    .dataframe tbody tr th:only-of-type {\n",
       "        vertical-align: middle;\n",
       "    }\n",
       "\n",
       "    .dataframe tbody tr th {\n",
       "        vertical-align: top;\n",
       "    }\n",
       "\n",
       "    .dataframe thead th {\n",
       "        text-align: right;\n",
       "    }\n",
       "</style>\n",
       "<table border=\"1\" class=\"dataframe\">\n",
       "  <thead>\n",
       "    <tr style=\"text-align: right;\">\n",
       "      <th></th>\n",
       "      <th>20201008_S2_B11_mean</th>\n",
       "      <th>20201008_S2_B12_max</th>\n",
       "      <th>20200531_S2_B12_mean</th>\n",
       "      <th>20201008_S2_B5_majority</th>\n",
       "      <th>20201008_S2_B10_median</th>\n",
       "      <th>20201008_S2_B5_minority</th>\n",
       "      <th>20200531_S2_B4_mean</th>\n",
       "      <th>20201008_S2_B4_min</th>\n",
       "      <th>20201007_S1_VH_mean</th>\n",
       "      <th>20200531_S2_B12_majority</th>\n",
       "      <th>...</th>\n",
       "      <th>20201007_S1_VH_max</th>\n",
       "      <th>20200531_S2_B1_min</th>\n",
       "      <th>20200531_S2_B11_max</th>\n",
       "      <th>20200531_S2_B1_max</th>\n",
       "      <th>20201007_S1_VV_majority</th>\n",
       "      <th>S1_20200528_VHmean</th>\n",
       "      <th>S1_20200528_VV_mean</th>\n",
       "      <th>20201007_S1_VV_stdev</th>\n",
       "      <th>fid</th>\n",
       "      <th>DN</th>\n",
       "    </tr>\n",
       "  </thead>\n",
       "  <tbody>\n",
       "    <tr>\n",
       "      <th>0</th>\n",
       "      <td>0.419469</td>\n",
       "      <td>0.423236</td>\n",
       "      <td>0.247904</td>\n",
       "      <td>0.226024</td>\n",
       "      <td>0.40</td>\n",
       "      <td>0.275920</td>\n",
       "      <td>0.105412</td>\n",
       "      <td>0.146552</td>\n",
       "      <td>0.394988</td>\n",
       "      <td>0.196212</td>\n",
       "      <td>...</td>\n",
       "      <td>0.369723</td>\n",
       "      <td>0.268371</td>\n",
       "      <td>0.380654</td>\n",
       "      <td>0.281481</td>\n",
       "      <td>0.197917</td>\n",
       "      <td>0.393686</td>\n",
       "      <td>0.421034</td>\n",
       "      <td>0.188101</td>\n",
       "      <td>1250</td>\n",
       "      <td>3</td>\n",
       "    </tr>\n",
       "    <tr>\n",
       "      <th>1</th>\n",
       "      <td>0.296152</td>\n",
       "      <td>0.201192</td>\n",
       "      <td>0.139092</td>\n",
       "      <td>0.252944</td>\n",
       "      <td>0.25</td>\n",
       "      <td>0.279264</td>\n",
       "      <td>0.035455</td>\n",
       "      <td>0.129310</td>\n",
       "      <td>0.334186</td>\n",
       "      <td>0.121904</td>\n",
       "      <td>...</td>\n",
       "      <td>0.301426</td>\n",
       "      <td>0.172524</td>\n",
       "      <td>0.267042</td>\n",
       "      <td>0.125926</td>\n",
       "      <td>0.111943</td>\n",
       "      <td>0.326893</td>\n",
       "      <td>0.230921</td>\n",
       "      <td>0.110371</td>\n",
       "      <td>1251</td>\n",
       "      <td>33</td>\n",
       "    </tr>\n",
       "    <tr>\n",
       "      <th>2</th>\n",
       "      <td>0.423887</td>\n",
       "      <td>0.308203</td>\n",
       "      <td>0.274843</td>\n",
       "      <td>0.358946</td>\n",
       "      <td>0.40</td>\n",
       "      <td>0.399666</td>\n",
       "      <td>0.136741</td>\n",
       "      <td>0.198276</td>\n",
       "      <td>0.424347</td>\n",
       "      <td>0.277319</td>\n",
       "      <td>...</td>\n",
       "      <td>0.323103</td>\n",
       "      <td>0.316294</td>\n",
       "      <td>0.403376</td>\n",
       "      <td>0.229630</td>\n",
       "      <td>0.194163</td>\n",
       "      <td>0.358458</td>\n",
       "      <td>0.281174</td>\n",
       "      <td>0.107923</td>\n",
       "      <td>1274</td>\n",
       "      <td>3</td>\n",
       "    </tr>\n",
       "    <tr>\n",
       "      <th>3</th>\n",
       "      <td>0.530454</td>\n",
       "      <td>0.519248</td>\n",
       "      <td>0.330135</td>\n",
       "      <td>0.347168</td>\n",
       "      <td>0.65</td>\n",
       "      <td>0.396321</td>\n",
       "      <td>0.292352</td>\n",
       "      <td>0.275862</td>\n",
       "      <td>0.223831</td>\n",
       "      <td>0.288975</td>\n",
       "      <td>...</td>\n",
       "      <td>0.176187</td>\n",
       "      <td>0.591054</td>\n",
       "      <td>0.473707</td>\n",
       "      <td>0.444444</td>\n",
       "      <td>0.195322</td>\n",
       "      <td>0.365473</td>\n",
       "      <td>0.282117</td>\n",
       "      <td>0.069787</td>\n",
       "      <td>1282</td>\n",
       "      <td>4</td>\n",
       "    </tr>\n",
       "    <tr>\n",
       "      <th>4</th>\n",
       "      <td>0.137580</td>\n",
       "      <td>0.062328</td>\n",
       "      <td>0.126111</td>\n",
       "      <td>0.188446</td>\n",
       "      <td>0.05</td>\n",
       "      <td>0.238573</td>\n",
       "      <td>0.050830</td>\n",
       "      <td>0.137931</td>\n",
       "      <td>0.470425</td>\n",
       "      <td>0.126275</td>\n",
       "      <td>...</td>\n",
       "      <td>0.173302</td>\n",
       "      <td>0.287540</td>\n",
       "      <td>0.203636</td>\n",
       "      <td>0.200000</td>\n",
       "      <td>0.388160</td>\n",
       "      <td>0.393190</td>\n",
       "      <td>0.249103</td>\n",
       "      <td>0.041181</td>\n",
       "      <td>1283</td>\n",
       "      <td>33</td>\n",
       "    </tr>\n",
       "    <tr>\n",
       "      <th>...</th>\n",
       "      <td>...</td>\n",
       "      <td>...</td>\n",
       "      <td>...</td>\n",
       "      <td>...</td>\n",
       "      <td>...</td>\n",
       "      <td>...</td>\n",
       "      <td>...</td>\n",
       "      <td>...</td>\n",
       "      <td>...</td>\n",
       "      <td>...</td>\n",
       "      <td>...</td>\n",
       "      <td>...</td>\n",
       "      <td>...</td>\n",
       "      <td>...</td>\n",
       "      <td>...</td>\n",
       "      <td>...</td>\n",
       "      <td>...</td>\n",
       "      <td>...</td>\n",
       "      <td>...</td>\n",
       "      <td>...</td>\n",
       "      <td>...</td>\n",
       "    </tr>\n",
       "    <tr>\n",
       "      <th>90005</th>\n",
       "      <td>0.238217</td>\n",
       "      <td>0.654445</td>\n",
       "      <td>0.187919</td>\n",
       "      <td>0.284352</td>\n",
       "      <td>0.20</td>\n",
       "      <td>0.266444</td>\n",
       "      <td>0.089542</td>\n",
       "      <td>0.146552</td>\n",
       "      <td>0.579480</td>\n",
       "      <td>0.206411</td>\n",
       "      <td>...</td>\n",
       "      <td>0.245864</td>\n",
       "      <td>0.233227</td>\n",
       "      <td>0.574118</td>\n",
       "      <td>0.365432</td>\n",
       "      <td>0.845466</td>\n",
       "      <td>0.549968</td>\n",
       "      <td>0.461547</td>\n",
       "      <td>0.218372</td>\n",
       "      <td>98176</td>\n",
       "      <td>3</td>\n",
       "    </tr>\n",
       "    <tr>\n",
       "      <th>90006</th>\n",
       "      <td>0.818185</td>\n",
       "      <td>0.670715</td>\n",
       "      <td>0.276151</td>\n",
       "      <td>0.831744</td>\n",
       "      <td>0.90</td>\n",
       "      <td>0.387960</td>\n",
       "      <td>0.183673</td>\n",
       "      <td>0.275862</td>\n",
       "      <td>0.099226</td>\n",
       "      <td>0.313259</td>\n",
       "      <td>...</td>\n",
       "      <td>0.414178</td>\n",
       "      <td>0.418530</td>\n",
       "      <td>0.595542</td>\n",
       "      <td>0.466667</td>\n",
       "      <td>0.043809</td>\n",
       "      <td>0.588103</td>\n",
       "      <td>0.661593</td>\n",
       "      <td>0.050271</td>\n",
       "      <td>98177</td>\n",
       "      <td>39</td>\n",
       "    </tr>\n",
       "    <tr>\n",
       "      <th>90007</th>\n",
       "      <td>0.855023</td>\n",
       "      <td>0.754125</td>\n",
       "      <td>0.604766</td>\n",
       "      <td>0.896242</td>\n",
       "      <td>0.90</td>\n",
       "      <td>0.445931</td>\n",
       "      <td>0.471311</td>\n",
       "      <td>0.232759</td>\n",
       "      <td>0.087814</td>\n",
       "      <td>0.677028</td>\n",
       "      <td>...</td>\n",
       "      <td>0.436211</td>\n",
       "      <td>0.431310</td>\n",
       "      <td>0.633629</td>\n",
       "      <td>0.417284</td>\n",
       "      <td>0.045781</td>\n",
       "      <td>0.264713</td>\n",
       "      <td>0.291962</td>\n",
       "      <td>0.043450</td>\n",
       "      <td>98196</td>\n",
       "      <td>39</td>\n",
       "    </tr>\n",
       "    <tr>\n",
       "      <th>90008</th>\n",
       "      <td>0.248475</td>\n",
       "      <td>0.722273</td>\n",
       "      <td>0.204276</td>\n",
       "      <td>0.268087</td>\n",
       "      <td>0.20</td>\n",
       "      <td>0.113155</td>\n",
       "      <td>0.098964</td>\n",
       "      <td>0.103448</td>\n",
       "      <td>0.548512</td>\n",
       "      <td>0.219038</td>\n",
       "      <td>...</td>\n",
       "      <td>0.245864</td>\n",
       "      <td>0.329073</td>\n",
       "      <td>0.858256</td>\n",
       "      <td>0.797531</td>\n",
       "      <td>0.508005</td>\n",
       "      <td>0.524900</td>\n",
       "      <td>0.410112</td>\n",
       "      <td>0.198525</td>\n",
       "      <td>98213</td>\n",
       "      <td>3</td>\n",
       "    </tr>\n",
       "    <tr>\n",
       "      <th>90009</th>\n",
       "      <td>0.869589</td>\n",
       "      <td>0.810266</td>\n",
       "      <td>0.621308</td>\n",
       "      <td>0.930454</td>\n",
       "      <td>0.90</td>\n",
       "      <td>0.249721</td>\n",
       "      <td>0.544877</td>\n",
       "      <td>0.163793</td>\n",
       "      <td>0.035551</td>\n",
       "      <td>0.796989</td>\n",
       "      <td>...</td>\n",
       "      <td>0.883217</td>\n",
       "      <td>0.303514</td>\n",
       "      <td>0.464367</td>\n",
       "      <td>0.377755</td>\n",
       "      <td>0.051796</td>\n",
       "      <td>0.217311</td>\n",
       "      <td>0.224456</td>\n",
       "      <td>0.047448</td>\n",
       "      <td>98228</td>\n",
       "      <td>39</td>\n",
       "    </tr>\n",
       "  </tbody>\n",
       "</table>\n",
       "<p>90010 rows × 41 columns</p>\n",
       "</div>"
      ],
      "text/plain": [
       "       20201008_S2_B11_mean  20201008_S2_B12_max  20200531_S2_B12_mean  \\\n",
       "0                  0.419469             0.423236              0.247904   \n",
       "1                  0.296152             0.201192              0.139092   \n",
       "2                  0.423887             0.308203              0.274843   \n",
       "3                  0.530454             0.519248              0.330135   \n",
       "4                  0.137580             0.062328              0.126111   \n",
       "...                     ...                  ...                   ...   \n",
       "90005              0.238217             0.654445              0.187919   \n",
       "90006              0.818185             0.670715              0.276151   \n",
       "90007              0.855023             0.754125              0.604766   \n",
       "90008              0.248475             0.722273              0.204276   \n",
       "90009              0.869589             0.810266              0.621308   \n",
       "\n",
       "       20201008_S2_B5_majority  20201008_S2_B10_median  \\\n",
       "0                     0.226024                    0.40   \n",
       "1                     0.252944                    0.25   \n",
       "2                     0.358946                    0.40   \n",
       "3                     0.347168                    0.65   \n",
       "4                     0.188446                    0.05   \n",
       "...                        ...                     ...   \n",
       "90005                 0.284352                    0.20   \n",
       "90006                 0.831744                    0.90   \n",
       "90007                 0.896242                    0.90   \n",
       "90008                 0.268087                    0.20   \n",
       "90009                 0.930454                    0.90   \n",
       "\n",
       "       20201008_S2_B5_minority  20200531_S2_B4_mean  20201008_S2_B4_min  \\\n",
       "0                     0.275920             0.105412            0.146552   \n",
       "1                     0.279264             0.035455            0.129310   \n",
       "2                     0.399666             0.136741            0.198276   \n",
       "3                     0.396321             0.292352            0.275862   \n",
       "4                     0.238573             0.050830            0.137931   \n",
       "...                        ...                  ...                 ...   \n",
       "90005                 0.266444             0.089542            0.146552   \n",
       "90006                 0.387960             0.183673            0.275862   \n",
       "90007                 0.445931             0.471311            0.232759   \n",
       "90008                 0.113155             0.098964            0.103448   \n",
       "90009                 0.249721             0.544877            0.163793   \n",
       "\n",
       "       20201007_S1_VH_mean  20200531_S2_B12_majority  ...  20201007_S1_VH_max  \\\n",
       "0                 0.394988                  0.196212  ...            0.369723   \n",
       "1                 0.334186                  0.121904  ...            0.301426   \n",
       "2                 0.424347                  0.277319  ...            0.323103   \n",
       "3                 0.223831                  0.288975  ...            0.176187   \n",
       "4                 0.470425                  0.126275  ...            0.173302   \n",
       "...                    ...                       ...  ...                 ...   \n",
       "90005             0.579480                  0.206411  ...            0.245864   \n",
       "90006             0.099226                  0.313259  ...            0.414178   \n",
       "90007             0.087814                  0.677028  ...            0.436211   \n",
       "90008             0.548512                  0.219038  ...            0.245864   \n",
       "90009             0.035551                  0.796989  ...            0.883217   \n",
       "\n",
       "       20200531_S2_B1_min  20200531_S2_B11_max  20200531_S2_B1_max  \\\n",
       "0                0.268371             0.380654            0.281481   \n",
       "1                0.172524             0.267042            0.125926   \n",
       "2                0.316294             0.403376            0.229630   \n",
       "3                0.591054             0.473707            0.444444   \n",
       "4                0.287540             0.203636            0.200000   \n",
       "...                   ...                  ...                 ...   \n",
       "90005            0.233227             0.574118            0.365432   \n",
       "90006            0.418530             0.595542            0.466667   \n",
       "90007            0.431310             0.633629            0.417284   \n",
       "90008            0.329073             0.858256            0.797531   \n",
       "90009            0.303514             0.464367            0.377755   \n",
       "\n",
       "       20201007_S1_VV_majority  S1_20200528_VHmean  S1_20200528_VV_mean  \\\n",
       "0                     0.197917            0.393686             0.421034   \n",
       "1                     0.111943            0.326893             0.230921   \n",
       "2                     0.194163            0.358458             0.281174   \n",
       "3                     0.195322            0.365473             0.282117   \n",
       "4                     0.388160            0.393190             0.249103   \n",
       "...                        ...                 ...                  ...   \n",
       "90005                 0.845466            0.549968             0.461547   \n",
       "90006                 0.043809            0.588103             0.661593   \n",
       "90007                 0.045781            0.264713             0.291962   \n",
       "90008                 0.508005            0.524900             0.410112   \n",
       "90009                 0.051796            0.217311             0.224456   \n",
       "\n",
       "       20201007_S1_VV_stdev    fid  DN  \n",
       "0                  0.188101   1250   3  \n",
       "1                  0.110371   1251  33  \n",
       "2                  0.107923   1274   3  \n",
       "3                  0.069787   1282   4  \n",
       "4                  0.041181   1283  33  \n",
       "...                     ...    ...  ..  \n",
       "90005              0.218372  98176   3  \n",
       "90006              0.050271  98177  39  \n",
       "90007              0.043450  98196  39  \n",
       "90008              0.198525  98213   3  \n",
       "90009              0.047448  98228  39  \n",
       "\n",
       "[90010 rows x 41 columns]"
      ]
     },
     "execution_count": 3,
     "metadata": {},
     "output_type": "execute_result"
    }
   ],
   "source": [
    "obj"
   ]
  },
  {
   "cell_type": "markdown",
   "metadata": {},
   "source": [
    "Visualizando estatísticas descritivas da base de dados já tratada:"
   ]
  },
  {
   "cell_type": "code",
   "execution_count": null,
   "metadata": {
    "colab": {
     "base_uri": "https://localhost:8080/",
     "height": 394
    },
    "id": "0aqIUDGIu_ep",
    "outputId": "aff6ccb4-0eb5-4755-db74-074ccc4c69ff"
   },
   "outputs": [],
   "source": [
    "obj.describe()"
   ]
  },
  {
   "cell_type": "markdown",
   "metadata": {},
   "source": [
    "Definicação da variável identificadora de cada feição e da variável com as classes amostrais:"
   ]
  },
  {
   "cell_type": "code",
   "execution_count": 5,
   "metadata": {
    "id": "akeueeQBvWRG"
   },
   "outputs": [],
   "source": [
    "indice = 'fid'\n",
    "TARGET = 'DN'"
   ]
  },
  {
   "cell_type": "markdown",
   "metadata": {},
   "source": [
    "Separandos os dados de treinamento e teste:"
   ]
  },
  {
   "cell_type": "code",
   "execution_count": 6,
   "metadata": {
    "id": "Yei6Xu5wa7PR"
   },
   "outputs": [],
   "source": [
    "x_train, x_test, y_train, y_test = train_test_split(obj.iloc[:,:-2], obj[TARGET], test_size = 0.3, stratify=obj[TARGET], random_state=42)"
   ]
  },
  {
   "cell_type": "code",
   "execution_count": 7,
   "metadata": {
    "colab": {
     "base_uri": "https://localhost:8080/"
    },
    "id": "Fnq9fB_Fegc4",
    "outputId": "44dfa591-6e8d-4215-86b7-54d1afde9342"
   },
   "outputs": [
    {
     "data": {
      "text/plain": [
       "(63007, 39)"
      ]
     },
     "execution_count": 7,
     "metadata": {},
     "output_type": "execute_result"
    }
   ],
   "source": [
    "x_train.shape"
   ]
  },
  {
   "cell_type": "code",
   "execution_count": 8,
   "metadata": {
    "colab": {
     "base_uri": "https://localhost:8080/"
    },
    "id": "RZHg-ypbezV0",
    "outputId": "52dbdf7a-bec5-4f3f-ddb3-04cf278d17a3"
   },
   "outputs": [
    {
     "data": {
      "text/plain": [
       "(27003, 39)"
      ]
     },
     "execution_count": 8,
     "metadata": {},
     "output_type": "execute_result"
    }
   ],
   "source": [
    "x_test.shape"
   ]
  },
  {
   "cell_type": "markdown",
   "metadata": {},
   "source": [
    "Visualizando as classes amostrais:"
   ]
  },
  {
   "cell_type": "code",
   "execution_count": 81,
   "metadata": {
    "colab": {
     "base_uri": "https://localhost:8080/"
    },
    "id": "geuM_UQlZT4R",
    "outputId": "80510fca-3c85-45ed-aa08-fee85956156a"
   },
   "outputs": [
    {
     "data": {
      "text/plain": [
       "array([ 3, 33,  4, 12, 15, 41, 39, 11, 24], dtype=int64)"
      ]
     },
     "execution_count": 81,
     "metadata": {},
     "output_type": "execute_result"
    }
   ],
   "source": [
    "obj[TARGET].unique()"
   ]
  },
  {
   "cell_type": "code",
   "execution_count": 82,
   "metadata": {},
   "outputs": [
    {
     "data": {
      "text/plain": [
       "DN\n",
       "3     10027\n",
       "4      2017\n",
       "11      608\n",
       "12     4892\n",
       "15    42470\n",
       "24       25\n",
       "33     1681\n",
       "39     2838\n",
       "41    25452\n",
       "Name: fid, dtype: int64"
      ]
     },
     "execution_count": 82,
     "metadata": {},
     "output_type": "execute_result"
    }
   ],
   "source": [
    "obj.groupby(TARGET)[indice].nunique()"
   ]
  },
  {
   "cell_type": "markdown",
   "metadata": {},
   "source": [
    "Seleção os hiperparametros e dos valores a serem testados no método GridSearchCV:"
   ]
  },
  {
   "cell_type": "code",
   "execution_count": 12,
   "metadata": {},
   "outputs": [],
   "source": [
    "parametros = {'n_estimators':[1,50,100,500],\n",
    "              'criterion':['gini','entropy'],\n",
    "              'max_depth':[5,10,20, None]}"
   ]
  },
  {
   "cell_type": "markdown",
   "metadata": {},
   "source": [
    "Definindo o GridSearchCV:"
   ]
  },
  {
   "cell_type": "code",
   "execution_count": 13,
   "metadata": {},
   "outputs": [],
   "source": [
    "modelo = GridSearchCV(estimator = RandomForestClassifier(), verbose=2, param_grid = parametros, scoring='f1_macro', n_jobs=-1, cv=5)"
   ]
  },
  {
   "cell_type": "markdown",
   "metadata": {},
   "source": [
    "Gerando o modelo de classificação Random Forest:"
   ]
  },
  {
   "cell_type": "code",
   "execution_count": 14,
   "metadata": {},
   "outputs": [
    {
     "name": "stdout",
     "output_type": "stream",
     "text": [
      "Fitting 5 folds for each of 32 candidates, totalling 160 fits\n"
     ]
    },
    {
     "name": "stderr",
     "output_type": "stream",
     "text": [
      "[Parallel(n_jobs=-1)]: Using backend LokyBackend with 4 concurrent workers.\n",
      "[Parallel(n_jobs=-1)]: Done  33 tasks      | elapsed:  4.0min\n",
      "[Parallel(n_jobs=-1)]: Done 160 out of 160 | elapsed: 167.0min finished\n"
     ]
    },
    {
     "data": {
      "text/plain": [
       "GridSearchCV(cv=5, estimator=RandomForestClassifier(), n_jobs=-1,\n",
       "             param_grid={'criterion': ['gini', 'entropy'],\n",
       "                         'max_depth': [5, 10, 20, None],\n",
       "                         'n_estimators': [1, 50, 100, 500]},\n",
       "             scoring='f1_macro', verbose=2)"
      ]
     },
     "execution_count": 14,
     "metadata": {},
     "output_type": "execute_result"
    }
   ],
   "source": [
    "modelo.fit(x_train, y_train)"
   ]
  },
  {
   "cell_type": "markdown",
   "metadata": {},
   "source": [
    "Visualizando a melhor combinação de hiperparâmetros:"
   ]
  },
  {
   "cell_type": "code",
   "execution_count": 17,
   "metadata": {},
   "outputs": [
    {
     "data": {
      "text/plain": [
       "{'criterion': 'entropy', 'max_depth': None, 'n_estimators': 50}"
      ]
     },
     "execution_count": 17,
     "metadata": {},
     "output_type": "execute_result"
    }
   ],
   "source": [
    "modelo.best_params_"
   ]
  },
  {
   "cell_type": "markdown",
   "metadata": {},
   "source": [
    "Melhor combinação de parâmetros: {'criterion': 'entropy', 'max_depth': None, 'n_estimators': 50}"
   ]
  },
  {
   "cell_type": "code",
   "execution_count": 22,
   "metadata": {},
   "outputs": [
    {
     "data": {
      "text/plain": [
       "GridSearchCV(cv=5, estimator=RandomForestClassifier(), n_jobs=-1,\n",
       "             param_grid={'criterion': ['gini', 'entropy'],\n",
       "                         'max_depth': [5, 10, 20, None],\n",
       "                         'n_estimators': [1, 50, 100, 500]},\n",
       "             scoring='f1_macro', verbose=2)"
      ]
     },
     "execution_count": 22,
     "metadata": {},
     "output_type": "execute_result"
    }
   ],
   "source": [
    "modelo"
   ]
  },
  {
   "cell_type": "markdown",
   "metadata": {},
   "source": [
    "Criando uma cópia com o melhor modelo para extrair métricas de desempenho:"
   ]
  },
  {
   "cell_type": "code",
   "execution_count": 51,
   "metadata": {},
   "outputs": [
    {
     "data": {
      "text/plain": [
       "RandomForestClassifier(criterion='entropy', n_estimators=50)"
      ]
     },
     "execution_count": 51,
     "metadata": {},
     "output_type": "execute_result"
    }
   ],
   "source": [
    "melhor_modelo = RandomForestClassifier(criterion = 'entropy', max_depth = None, n_estimators = 50)\n",
    "melhor_modelo.fit(x_train, y_train)"
   ]
  },
  {
   "cell_type": "markdown",
   "metadata": {},
   "source": [
    "Utilizando o modelo treinado para prever a base de dados de teste:"
   ]
  },
  {
   "cell_type": "code",
   "execution_count": 52,
   "metadata": {},
   "outputs": [],
   "source": [
    "y_pred = melhor_modelo.predict(x_test)"
   ]
  },
  {
   "cell_type": "markdown",
   "metadata": {},
   "source": [
    "Visualizando as variáveis mais utilizadas no modelo Random Forest:"
   ]
  },
  {
   "cell_type": "code",
   "execution_count": 69,
   "metadata": {},
   "outputs": [
    {
     "data": {
      "text/plain": [
       "<Figure size 720x720 with 0 Axes>"
      ]
     },
     "execution_count": 69,
     "metadata": {},
     "output_type": "execute_result"
    },
    {
     "data": {
      "image/png": "[encoded data removed]",
      "text/plain": [
       "<Figure size 3600x720 with 1 Axes>"
      ]
     },
     "metadata": {
      "needs_background": "light"
     },
     "output_type": "display_data"
    },
    {
     "data": {
      "text/plain": [
       "<Figure size 720x720 with 0 Axes>"
      ]
     },
     "metadata": {},
     "output_type": "display_data"
    }
   ],
   "source": [
    "plt.barh(x_test.columns, melhor_modelo.feature_importances_)"
   ]
  },
  {
   "cell_type": "markdown",
   "metadata": {},
   "source": [
    "Visualizando métricas de desempenho do modelo de classificação na base de teste:"
   ]
  },
  {
   "cell_type": "code",
   "execution_count": 64,
   "metadata": {},
   "outputs": [
    {
     "data": {
      "text/html": [
       "<div>\n",
       "<style scoped>\n",
       "    .dataframe tbody tr th:only-of-type {\n",
       "        vertical-align: middle;\n",
       "    }\n",
       "\n",
       "    .dataframe tbody tr th {\n",
       "        vertical-align: top;\n",
       "    }\n",
       "\n",
       "    .dataframe thead th {\n",
       "        text-align: right;\n",
       "    }\n",
       "</style>\n",
       "<table border=\"1\" class=\"dataframe\">\n",
       "  <thead>\n",
       "    <tr style=\"text-align: right;\">\n",
       "      <th></th>\n",
       "      <th>Métricas</th>\n",
       "    </tr>\n",
       "  </thead>\n",
       "  <tbody>\n",
       "    <tr>\n",
       "      <th>F1_Score_Macro</th>\n",
       "      <td>0.370682</td>\n",
       "    </tr>\n",
       "    <tr>\n",
       "      <th>F1_Score_Weighted</th>\n",
       "      <td>0.632652</td>\n",
       "    </tr>\n",
       "    <tr>\n",
       "      <th>Global Acuraccy</th>\n",
       "      <td>0.657557</td>\n",
       "    </tr>\n",
       "  </tbody>\n",
       "</table>\n",
       "</div>"
      ],
      "text/plain": [
       "                   Métricas\n",
       "F1_Score_Macro     0.370682\n",
       "F1_Score_Weighted  0.632652\n",
       "Global Acuraccy    0.657557"
      ]
     },
     "execution_count": 64,
     "metadata": {},
     "output_type": "execute_result"
    }
   ],
   "source": [
    "macro = f1_score(y_test, y_pred, average = 'macro')\n",
    "wei = f1_score(y_test, y_pred, average = 'weighted')\n",
    "accuracy = accuracy_score(y_test, y_pred)\n",
    "\n",
    "results = {'F1_Score_Macro': macro,\n",
    "             'F1_Score_Weighted': wei,\n",
    "             'Global Acuraccy': accuracy \n",
    "            }\n",
    "\n",
    "pd.DataFrame.from_dict(results, orient='index', dtype=None, columns=['Métricas'])"
   ]
  },
  {
   "cell_type": "markdown",
   "metadata": {},
   "source": [
    "Matriz de confusão aplicado sobre a base de teste:"
   ]
  },
  {
   "cell_type": "code",
   "execution_count": 65,
   "metadata": {},
   "outputs": [
    {
     "name": "stdout",
     "output_type": "stream",
     "text": [
      "[[ 1050    13     0   110  1745     0    44     1    45]\n",
      " [   69   101     5    43   359     0    17     0    11]\n",
      " [   31    11     7    20    85     0    19     0     9]\n",
      " [  122    31     6   344   760     0    58     1   146]\n",
      " [  323    20     0    72 10309     0    48    21  1948]\n",
      " [    0     0     0     0     2     0     0     0     6]\n",
      " [   27     5     3    50   109     0   285     0    25]\n",
      " [    1     0     0     0   115     0     0   117   618]\n",
      " [   15     1     0     3  2038     0     8    28  5543]]\n",
      "              precision    recall  f1-score   support\n",
      "\n",
      "           3       0.64      0.35      0.45      3008\n",
      "           4       0.55      0.17      0.26       605\n",
      "          11       0.33      0.04      0.07       182\n",
      "          12       0.54      0.23      0.33      1468\n",
      "          15       0.66      0.81      0.73     12741\n",
      "          24       0.00      0.00      0.00         8\n",
      "          33       0.59      0.57      0.58       504\n",
      "          39       0.70      0.14      0.23       851\n",
      "          41       0.66      0.73      0.69      7636\n",
      "\n",
      "    accuracy                           0.66     27003\n",
      "   macro avg       0.52      0.34      0.37     27003\n",
      "weighted avg       0.65      0.66      0.63     27003\n",
      "\n"
     ]
    },
    {
     "name": "stderr",
     "output_type": "stream",
     "text": [
      "C:\\Users\\dias-bruno\\anaconda3\\lib\\site-packages\\sklearn\\metrics\\_classification.py:1221: UndefinedMetricWarning: Precision and F-score are ill-defined and being set to 0.0 in labels with no predicted samples. Use `zero_division` parameter to control this behavior.\n",
      "  _warn_prf(average, modifier, msg_start, len(result))\n"
     ]
    }
   ],
   "source": [
    "print(confusion_matrix(y_test, y_pred))\n",
    "print(classification_report(y_test, y_pred))"
   ]
  },
  {
   "cell_type": "code",
   "execution_count": 70,
   "metadata": {},
   "outputs": [
    {
     "data": {
      "image/png": "[encoded data removed]",
      "text/plain": [
       "<Figure size 576x576 with 2 Axes>"
      ]
     },
     "metadata": {
      "needs_background": "light"
     },
     "output_type": "display_data"
    }
   ],
   "source": [
    "data = {'Reference': y_test, 'Predicted': y_pred}\n",
    "df= pd.DataFrame(data, columns = ['Reference','Predicted'])\n",
    "mc = pd.crosstab(df['Reference'], df['Predicted'], rownames=['Reference'], colnames=['Predicted'])\n",
    "\n",
    "plt.figure(figsize=(8,8))\n",
    "sns.heatmap(mc, annot=True,fmt='g',  cmap = 'YlGnBu',linewidths=.5)\n",
    "plt.title('Matriz de Confusão', fontweight='bold', fontsize=14)\n",
    "plt.xlabel('Classificação', fontsize=12)\n",
    "plt.ylabel('Referência',fontsize=12)\n",
    "plt.show()"
   ]
  },
  {
   "cell_type": "markdown",
   "metadata": {},
   "source": [
    "Inserindo a classificação no csv da base de dados:"
   ]
  },
  {
   "cell_type": "code",
   "execution_count": 83,
   "metadata": {},
   "outputs": [],
   "source": [
    "obj['CLASSIFICACAO'] = melhor_modelo.predict(obj.iloc[:,:-2])"
   ]
  },
  {
   "cell_type": "markdown",
   "metadata": {},
   "source": [
    "Salvando o CSV com a classificação final:"
   ]
  },
  {
   "cell_type": "code",
   "execution_count": 84,
   "metadata": {},
   "outputs": [],
   "source": [
    "obj.to_csv(\"C:\\\\Users\\\\dias-bruno\\\\Desktop\\\\INPE-SER\\\\4PERIODO\\\\AI\\\\classificacao.csv\")"
   ]
  }
 ],
 "metadata": {
  "colab": {
   "collapsed_sections": [],
   "name": "Cópia de MLP - IA - CAP - 2022.ipynb",
   "provenance": []
  },
  "kernelspec": {
   "display_name": "Python 3",
   "language": "python",
   "name": "python3"
  },
  "language_info": {
   "codemirror_mode": {
    "name": "ipython",
    "version": 3
   },
   "file_extension": ".py",
   "mimetype": "text/x-python",
   "name": "python",
   "nbconvert_exporter": "python",
   "pygments_lexer": "ipython3",
   "version": "3.8.5"
  }
 },
 "nbformat": 4,
 "nbformat_minor": 1
}
